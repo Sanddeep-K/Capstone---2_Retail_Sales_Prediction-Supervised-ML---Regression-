{
  "nbformat": 4,
  "nbformat_minor": 0,
  "metadata": {
    "colab": {
      "provenance": [],
      "collapsed_sections": [
        "mDgbUHAGgjLW",
        "bKJF3rekwFvQ",
        "MSa1f5Uengrz",
        "GF8Ens_Soomf",
        "0wOQAZs5pc--",
        "K5QZ13OEpz2H",
        "lQ7QKXXCp7Bj",
        "448CDAPjqfQr",
        "KSlN3yHqYklG",
        "t6dVpIINYklI",
        "ijmpgYnKYklI",
        "-JiQyfWJYklI",
        "EM7whBJCYoAo",
        "fge-S5ZAYoAp",
        "85gYPyotYoAp",
        "RoGjAbkUYoAp",
        "4Of9eVA-YrdM",
        "iky9q4vBYrdO",
        "F6T5p64dYrdO",
        "y-Ehk30pYrdP",
        "bamQiAODYuh1",
        "QHF8YVU7Yuh3",
        "GwzvFGzlYuh3",
        "qYpmQ266Yuh3",
        "OH-pJp9IphqM",
        "bbFf2-_FphqN",
        "_ouA3fa0phqN",
        "Seke61FWphqN",
        "PIIx-8_IphqN",
        "t27r6nlMphqO",
        "r2jJGEOYphqO",
        "b0JNsNcRphqO",
        "BZR9WyysphqO",
        "jj7wYXLtphqO",
        "eZrbJ2SmphqO",
        "rFu4xreNphqO",
        "YJ55k-q6phqO",
        "gCFgpxoyphqP",
        "OVtJsKN_phqQ",
        "lssrdh5qphqQ",
        "U2RJ9gkRphqQ",
        "1M8mcRywphqQ",
        "tgIPom80phqQ",
        "JMzcOPDDphqR",
        "x-EpHcCOp1ci",
        "X_VqEhTip1ck",
        "8zGJKyg5p1ck",
        "PVzmfK_Ep1ck",
        "n3dbpmDWp1ck",
        "ylSl6qgtp1ck",
        "ZWILFDl5p1ck",
        "M7G43BXep1ck",
        "Ag9LCva-p1cl",
        "E6MkPsBcp1cl",
        "2cELzS2fp1cl",
        "3MPXvC8up1cl",
        "NC_X3p0fY2L0",
        "UV0SzAkaZNRQ",
        "YPEH6qLeZNRQ",
        "q29F0dvdveiT",
        "EXh0U9oCveiU",
        "22aHeOlLveiV",
        "g-ATYxFrGrvw",
        "Yfr_Vlr8HBkt",
        "8yEUt7NnHlrM",
        "tEA2Xm5dHt1r",
        "I79__PHVH19G",
        "Ou-I18pAyIpj",
        "fF3858GYyt-u",
        "4_0_7-oCpUZd",
        "hwyV_J3ipUZe",
        "3yB-zSqbpUZe",
        "dEUvejAfpUZe",
        "Fd15vwWVpUZf",
        "bn_IUdTipZyH",
        "49K5P_iCpZyH",
        "Nff-vKELpZyI",
        "kLW572S8pZyI",
        "dWbDXHzopZyI",
        "yLjJCtPM0KBk",
        "xiyOF9F70UgQ",
        "7wuGOrhz0itI",
        "id1riN9m0vUs",
        "578E2V7j08f6",
        "89xtkJwZ18nB",
        "67NQN5KX2AMe",
        "Iwf50b-R2tYG",
        "GMQiZwjn3iu7",
        "WVIkgGqN3qsr",
        "XkPnILGE3zoT",
        "Hlsf0x5436Go",
        "mT9DMSJo4nBL",
        "c49ITxTc407N",
        "OeJFEK0N496M",
        "9ExmJH0g5HBk",
        "cJNqERVU536h",
        "k5UmGsbsOxih",
        "T0VqWOYE6DLQ",
        "qBMux9mC6MCf",
        "-oLEiFgy-5Pf",
        "C74aWNz2AliB",
        "2DejudWSA-a0",
        "pEMng2IbBLp7",
        "rAdphbQ9Bhjc",
        "TNVZ9zx19K6k",
        "nqoHp30x9hH9",
        "rMDnDkt2B6du",
        "yiiVWRdJDDil",
        "1UUpS68QDMuG",
        "kexQrXU-DjzY",
        "T5CmagL3EC8N",
        "BhH2vgX9EjGr",
        "qjKvONjwE8ra",
        "P1XJ9OREExlT",
        "VFOzZv6IFROw",
        "TIqpNgepFxVj",
        "VfCC591jGiD4",
        "OB4l2ZhMeS1U",
        "ArJBuiUVfxKd",
        "4qY1EAkEfxKe",
        "PiV4Ypx8fxKe",
        "TfvqoZmBfxKf",
        "dJ2tPlVmpsJ0",
        "JWYfwnehpsJ1",
        "-jK_YjpMpsJ2",
        "HAih1iBOpsJ2",
        "zVGeBEFhpsJ2",
        "bmKjuQ-FpsJ3",
        "Fze-IPXLpx6K",
        "7AN1z2sKpx6M",
        "9PIHJqyupx6M",
        "_-qAgymDpx6N",
        "Z-hykwinpx6N",
        "h_CCil-SKHpo",
        "cBFFvTBNJzUa",
        "HvGl1hHyA_VK",
        "EyNgTHvd2WFk",
        "KH5McJBi2d8v",
        "iW_Lq9qf2h6X",
        "-Kee-DAl2viO",
        "gCX9965dhzqZ",
        "gIfDvo9L0UH2"
      ],
      "include_colab_link": true
    },
    "kernelspec": {
      "name": "python3",
      "display_name": "Python 3"
    },
    "language_info": {
      "name": "python"
    },
    "gpuClass": "standard",
    "accelerator": "GPU"
  },
  "cells": [
    {
      "cell_type": "markdown",
      "metadata": {
        "id": "view-in-github",
        "colab_type": "text"
      },
      "source": [
        "<a href=\"https://colab.research.google.com/github/Sanddeep-K/Capstone-2_Retail_Sales_Prediction/blob/main/Capstone_2_Retail_Sales_Prediction.ipynb\" target=\"_parent\"><img src=\"https://colab.research.google.com/assets/colab-badge.svg\" alt=\"Open In Colab\"/></a>"
      ]
    },
    {
      "cell_type": "markdown",
      "source": [
        "# **Project Name**    - Retail Sales Prediction\n",
        "-----\n",
        "-----\n",
        "\n"
      ],
      "metadata": {
        "id": "vncDsAP0Gaoa"
      }
    },
    {
      "cell_type": "markdown",
      "source": [
        "##### **Project Type**    - Regression\n",
        "##### **Contribution**    - Individual"
      ],
      "metadata": {
        "id": "beRrZCGUAJYm"
      }
    },
    {
      "cell_type": "markdown",
      "source": [
        "# **Project Summary -**\n",
        "\n",
        "------"
      ],
      "metadata": {
        "id": "FJNUwmbgGyua"
      }
    },
    {
      "cell_type": "markdown",
      "source": [
        "### Rossmann operates over 3,000 drug stores in 7 European countries. Currently, Rossmann store managers are tasked with predicting their daily sales for up to six weeks in advance. Store sales are influenced by many factors, including promotions, competition, school and state holidays, seasonality, and locality. With thousands of individual managers predicting sales based on their unique circumstances, the accuracy of results can be quite varied.\n",
        "\n",
        "### You are provided with historical sales data for 1,115 Rossmann stores. The task is to forecast the \"Sales\" column for the test set. Note that some stores in the dataset were temporarily closed for refurbishment.\n",
        "\n",
        "## Problem Statement :\n",
        "\n",
        "-----\n",
        "\n",
        "Rossmann operates over 3,000 drug stores in 7 European countries. being a Data Analyst for Rossman, I have been asked to perform below activities,\n",
        "\n",
        "1. Predicting their daily sales for up to six weeks in advance\n",
        "2. identify factors influencing sales like promotions / competitions / school & state holidays / seasonality and locality\n",
        "3. forecast the most accurate sales column for the given test set"
      ],
      "metadata": {
        "id": "F6v_1wHtG2nS"
      }
    },
    {
      "cell_type": "markdown",
      "source": [
        "# **GitHub Link -**"
      ],
      "metadata": {
        "id": "w6K7xa23Elo4"
      }
    },
    {
      "cell_type": "markdown",
      "source": [
        "Provide your GitHub Link here."
      ],
      "metadata": {
        "id": "h1o69JH3Eqqn"
      }
    },
    {
      "cell_type": "markdown",
      "source": [
        "# **Problem Statement**\n"
      ],
      "metadata": {
        "id": "yQaldy8SH6Dl"
      }
    },
    {
      "cell_type": "markdown",
      "source": [
        "**Write Problem Statement Here.**"
      ],
      "metadata": {
        "id": "DpeJGUA3kjGy"
      }
    },
    {
      "cell_type": "markdown",
      "source": [
        "# **General Guidelines** : -  "
      ],
      "metadata": {
        "id": "mDgbUHAGgjLW"
      }
    },
    {
      "cell_type": "markdown",
      "source": [
        "1.   Well-structured, formatted, and commented code is required. \n",
        "2.   Exception Handling, Production Grade Code & Deployment Ready Code will be a plus. Those students will be awarded some additional credits. \n",
        "     \n",
        "     The additional credits will have advantages over other students during Star Student selection.\n",
        "       \n",
        "             [ Note: - Deployment Ready Code is defined as, the whole .ipynb notebook should be executable in one go\n",
        "                       without a single error logged. ]\n",
        "\n",
        "3.   Each and every logic should have proper comments.\n",
        "4. You may add as many number of charts you want. Make Sure for each and every chart the following format should be answered.\n",
        "        \n",
        "\n",
        "```\n",
        "# Chart visualization code\n",
        "```\n",
        "            \n",
        "\n",
        "*   Why did you pick the specific chart?\n",
        "*   What is/are the insight(s) found from the chart?\n",
        "* Will the gained insights help creating a positive business impact? \n",
        "Are there any insights that lead to negative growth? Justify with specific reason.\n",
        "\n",
        "5. You have to create at least 15 logical & meaningful charts having important insights.\n",
        "\n",
        "\n",
        "[ Hints : - Do the Vizualization in  a structured way while following \"UBM\" Rule. \n",
        "\n",
        "U - Univariate Analysis,\n",
        "\n",
        "B - Bivariate Analysis (Numerical - Categorical, Numerical - Numerical, Categorical - Categorical)\n",
        "\n",
        "M - Multivariate Analysis\n",
        " ]\n",
        "\n",
        "\n",
        "\n",
        "\n",
        "\n",
        "6. You may add more ml algorithms for model creation. Make sure for each and every algorithm, the following format should be answered.\n",
        "\n",
        "\n",
        "*   Explain the ML Model used and it's performance using Evaluation metric Score Chart.\n",
        "\n",
        "\n",
        "*   Cross- Validation & Hyperparameter Tuning\n",
        "\n",
        "*   Have you seen any improvement? Note down the improvement with updates Evaluation metric Score Chart.\n",
        "\n",
        "*   Explain each evaluation metric's indication towards business and the business impact pf the ML model used.\n",
        "\n",
        "\n",
        "\n",
        "\n",
        "\n",
        "\n",
        "\n",
        "\n",
        "\n",
        "\n",
        "\n",
        "\n",
        "\n",
        "\n",
        "\n",
        "\n",
        "\n",
        "\n"
      ],
      "metadata": {
        "id": "ZrxVaUj-hHfC"
      }
    },
    {
      "cell_type": "markdown",
      "source": [
        "# ***Let's Begin !***\n",
        "\n",
        "------\n",
        "------"
      ],
      "metadata": {
        "id": "O_i_v8NEhb9l"
      }
    },
    {
      "cell_type": "markdown",
      "source": [
        "## ***1. Know Your Data***\n",
        "\n",
        "-----"
      ],
      "metadata": {
        "id": "HhfV-JJviCcP"
      }
    },
    {
      "cell_type": "markdown",
      "source": [
        "### Import Libraries\n",
        "\n",
        "-----"
      ],
      "metadata": {
        "id": "Y3lxredqlCYt"
      }
    },
    {
      "cell_type": "code",
      "source": [
        "# Importing necessary libraries \n",
        "\n",
        "import numpy as np\n",
        "import pandas as pd\n",
        "import matplotlib.pyplot as plt\n",
        "%matplotlib inline\n",
        "import seaborn as sns\n",
        "import missingno as msno\n",
        "\n",
        "import pylab\n",
        "from scipy import stats\n",
        "from statsmodels.stats.outliers_influence import variance_inflation_factor\n",
        "from scipy.stats import zscore\n",
        "from sklearn.linear_model import Lasso, Ridge\n",
        "from sklearn.model_selection import train_test_split\n",
        "from sklearn.preprocessing import StandardScaler\n",
        "from sklearn.linear_model import LinearRegression\n",
        "from sklearn.pipeline import Pipeline\n",
        "from sklearn.tree import DecisionTreeRegressor\n",
        "\n",
        "from sklearn import metrics\n",
        "from sklearn.metrics import r2_score\n",
        "from sklearn.metrics import mean_squared_error\n",
        "from sklearn.metrics import accuracy_score\n",
        "from sklearn.metrics import mean_absolute_error\n",
        "from sklearn.metrics import log_loss\n",
        "import math\n",
        "from sklearn.ensemble import RandomForestRegressor\n",
        "!pip install scikit-optimize\n",
        "from skopt.space import Real, Categorical, Integer\n",
        "from skopt import BayesSearchCV\n",
        "from sklearn import ensemble\n",
        "\n",
        "\n",
        "from sklearn.metrics import confusion_matrix,classification_report\n",
        "import warnings\n",
        "warnings.filterwarnings('ignore')"
      ],
      "metadata": {
        "id": "M8Vqi-pPk-HR",
        "colab": {
          "base_uri": "https://localhost:8080/"
        },
        "outputId": "b23487c8-fc74-4eb9-ed42-162b5ec0061b"
      },
      "execution_count": null,
      "outputs": [
        {
          "output_type": "stream",
          "name": "stdout",
          "text": [
            "Looking in indexes: https://pypi.org/simple, https://us-python.pkg.dev/colab-wheels/public/simple/\n",
            "Requirement already satisfied: scikit-optimize in /usr/local/lib/python3.8/dist-packages (0.9.0)\n",
            "Requirement already satisfied: joblib>=0.11 in /usr/local/lib/python3.8/dist-packages (from scikit-optimize) (1.2.0)\n",
            "Requirement already satisfied: scikit-learn>=0.20.0 in /usr/local/lib/python3.8/dist-packages (from scikit-optimize) (1.0.2)\n",
            "Requirement already satisfied: scipy>=0.19.1 in /usr/local/lib/python3.8/dist-packages (from scikit-optimize) (1.7.3)\n",
            "Requirement already satisfied: numpy>=1.13.3 in /usr/local/lib/python3.8/dist-packages (from scikit-optimize) (1.21.6)\n",
            "Requirement already satisfied: pyaml>=16.9 in /usr/local/lib/python3.8/dist-packages (from scikit-optimize) (21.10.1)\n",
            "Requirement already satisfied: PyYAML in /usr/local/lib/python3.8/dist-packages (from pyaml>=16.9->scikit-optimize) (6.0)\n",
            "Requirement already satisfied: threadpoolctl>=2.0.0 in /usr/local/lib/python3.8/dist-packages (from scikit-learn>=0.20.0->scikit-optimize) (3.1.0)\n"
          ]
        }
      ]
    },
    {
      "cell_type": "markdown",
      "source": [
        "### Dataset Loading\n",
        "\n",
        "-----"
      ],
      "metadata": {
        "id": "3RnN4peoiCZX"
      }
    },
    {
      "cell_type": "markdown",
      "source": [
        "**Mounted Google Drive**"
      ],
      "metadata": {
        "id": "BD237ca2cP90"
      }
    },
    {
      "cell_type": "code",
      "source": [
        "# --------------------------------------------------------------------------------------------------------------------------\n",
        "\n",
        "# Let's mount Google Drive first i.e. depository of datasets\n",
        "\n",
        "from google.colab import drive\n",
        "drive.mount('/content/drive/', force_remount=True)\n",
        "\n",
        "# --------------------------------------------------------------------------------------------------------------------------"
      ],
      "metadata": {
        "id": "4CkvbW_SlZ_R",
        "colab": {
          "base_uri": "https://localhost:8080/"
        },
        "outputId": "ee89e4a0-8cbb-460f-e91c-52be61437a7b"
      },
      "execution_count": null,
      "outputs": [
        {
          "output_type": "stream",
          "name": "stdout",
          "text": [
            "Mounted at /content/drive/\n"
          ]
        }
      ]
    },
    {
      "cell_type": "markdown",
      "source": [
        "**Imported Datasets**"
      ],
      "metadata": {
        "id": "zAnjYCnncZqp"
      }
    },
    {
      "cell_type": "code",
      "source": [
        "# --------------------------------------------------------------------------------------------------------------------------\n",
        "\n",
        "# Importing the file path and datasets for analysis.\n",
        "\n",
        "store_data = ('/content/drive/MyDrive/Colab Notebooks/Retail Sales Prediction/Datasets/store.csv')\n",
        "ross_data = ('/content/drive/MyDrive/Colab Notebooks/Retail Sales Prediction/Datasets/Rossmann Stores Data.csv')\n",
        "\n",
        "store_df = pd.read_csv(store_data)                                              # Dataset 1 - Other Stores Data\n",
        "ross_df = pd.read_csv(ross_data)                                                # Dataset 2 - Rossmann Stores Data\n",
        "\n",
        "# --------------------------------------------------------------------------------------------------------------------------"
      ],
      "metadata": {
        "id": "ww_-BbNtccVq"
      },
      "execution_count": null,
      "outputs": []
    },
    {
      "cell_type": "markdown",
      "source": [
        "### Dataset First View\n",
        "\n",
        "-----"
      ],
      "metadata": {
        "id": "x71ZqKXriCWQ"
      }
    },
    {
      "cell_type": "markdown",
      "source": [
        "### **Dataset - 1** : Let's check \"Store\" Dataset\n",
        "\n",
        "----------"
      ],
      "metadata": {
        "id": "cOUE6K5UckvD"
      }
    },
    {
      "cell_type": "markdown",
      "source": [
        "![Data First View.png](data:image/png;base64,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)"
      ],
      "metadata": {
        "id": "-Px-0rjmcq-Z"
      }
    },
    {
      "cell_type": "code",
      "source": [
        "store_df.head()"
      ],
      "metadata": {
        "id": "LWNFOSvLl09H",
        "colab": {
          "base_uri": "https://localhost:8080/",
          "height": 206
        },
        "outputId": "04eb7079-c903-40b0-afbe-37763d52447a"
      },
      "execution_count": null,
      "outputs": [
        {
          "output_type": "execute_result",
          "data": {
            "text/plain": [
              "   Store StoreType Assortment  CompetitionDistance  CompetitionOpenSinceMonth  \\\n",
              "0      1         c          a               1270.0                        9.0   \n",
              "1      2         a          a                570.0                       11.0   \n",
              "2      3         a          a              14130.0                       12.0   \n",
              "3      4         c          c                620.0                        9.0   \n",
              "4      5         a          a              29910.0                        4.0   \n",
              "\n",
              "   CompetitionOpenSinceYear  Promo2  Promo2SinceWeek  Promo2SinceYear  \\\n",
              "0                    2008.0       0              NaN              NaN   \n",
              "1                    2007.0       1             13.0           2010.0   \n",
              "2                    2006.0       1             14.0           2011.0   \n",
              "3                    2009.0       0              NaN              NaN   \n",
              "4                    2015.0       0              NaN              NaN   \n",
              "\n",
              "     PromoInterval  \n",
              "0              NaN  \n",
              "1  Jan,Apr,Jul,Oct  \n",
              "2  Jan,Apr,Jul,Oct  \n",
              "3              NaN  \n",
              "4              NaN  "
            ],
            "text/html": [
              "\n",
              "  <div id=\"df-c2c4325b-cb5b-4f9a-9b37-e52cbca1cad0\">\n",
              "    <div class=\"colab-df-container\">\n",
              "      <div>\n",
              "<style scoped>\n",
              "    .dataframe tbody tr th:only-of-type {\n",
              "        vertical-align: middle;\n",
              "    }\n",
              "\n",
              "    .dataframe tbody tr th {\n",
              "        vertical-align: top;\n",
              "    }\n",
              "\n",
              "    .dataframe thead th {\n",
              "        text-align: right;\n",
              "    }\n",
              "</style>\n",
              "<table border=\"1\" class=\"dataframe\">\n",
              "  <thead>\n",
              "    <tr style=\"text-align: right;\">\n",
              "      <th></th>\n",
              "      <th>Store</th>\n",
              "      <th>StoreType</th>\n",
              "      <th>Assortment</th>\n",
              "      <th>CompetitionDistance</th>\n",
              "      <th>CompetitionOpenSinceMonth</th>\n",
              "      <th>CompetitionOpenSinceYear</th>\n",
              "      <th>Promo2</th>\n",
              "      <th>Promo2SinceWeek</th>\n",
              "      <th>Promo2SinceYear</th>\n",
              "      <th>PromoInterval</th>\n",
              "    </tr>\n",
              "  </thead>\n",
              "  <tbody>\n",
              "    <tr>\n",
              "      <th>0</th>\n",
              "      <td>1</td>\n",
              "      <td>c</td>\n",
              "      <td>a</td>\n",
              "      <td>1270.0</td>\n",
              "      <td>9.0</td>\n",
              "      <td>2008.0</td>\n",
              "      <td>0</td>\n",
              "      <td>NaN</td>\n",
              "      <td>NaN</td>\n",
              "      <td>NaN</td>\n",
              "    </tr>\n",
              "    <tr>\n",
              "      <th>1</th>\n",
              "      <td>2</td>\n",
              "      <td>a</td>\n",
              "      <td>a</td>\n",
              "      <td>570.0</td>\n",
              "      <td>11.0</td>\n",
              "      <td>2007.0</td>\n",
              "      <td>1</td>\n",
              "      <td>13.0</td>\n",
              "      <td>2010.0</td>\n",
              "      <td>Jan,Apr,Jul,Oct</td>\n",
              "    </tr>\n",
              "    <tr>\n",
              "      <th>2</th>\n",
              "      <td>3</td>\n",
              "      <td>a</td>\n",
              "      <td>a</td>\n",
              "      <td>14130.0</td>\n",
              "      <td>12.0</td>\n",
              "      <td>2006.0</td>\n",
              "      <td>1</td>\n",
              "      <td>14.0</td>\n",
              "      <td>2011.0</td>\n",
              "      <td>Jan,Apr,Jul,Oct</td>\n",
              "    </tr>\n",
              "    <tr>\n",
              "      <th>3</th>\n",
              "      <td>4</td>\n",
              "      <td>c</td>\n",
              "      <td>c</td>\n",
              "      <td>620.0</td>\n",
              "      <td>9.0</td>\n",
              "      <td>2009.0</td>\n",
              "      <td>0</td>\n",
              "      <td>NaN</td>\n",
              "      <td>NaN</td>\n",
              "      <td>NaN</td>\n",
              "    </tr>\n",
              "    <tr>\n",
              "      <th>4</th>\n",
              "      <td>5</td>\n",
              "      <td>a</td>\n",
              "      <td>a</td>\n",
              "      <td>29910.0</td>\n",
              "      <td>4.0</td>\n",
              "      <td>2015.0</td>\n",
              "      <td>0</td>\n",
              "      <td>NaN</td>\n",
              "      <td>NaN</td>\n",
              "      <td>NaN</td>\n",
              "    </tr>\n",
              "  </tbody>\n",
              "</table>\n",
              "</div>\n",
              "      <button class=\"colab-df-convert\" onclick=\"convertToInteractive('df-c2c4325b-cb5b-4f9a-9b37-e52cbca1cad0')\"\n",
              "              title=\"Convert this dataframe to an interactive table.\"\n",
              "              style=\"display:none;\">\n",
              "        \n",
              "  <svg xmlns=\"http://www.w3.org/2000/svg\" height=\"24px\"viewBox=\"0 0 24 24\"\n",
              "       width=\"24px\">\n",
              "    <path d=\"M0 0h24v24H0V0z\" fill=\"none\"/>\n",
              "    <path d=\"M18.56 5.44l.94 2.06.94-2.06 2.06-.94-2.06-.94-.94-2.06-.94 2.06-2.06.94zm-11 1L8.5 8.5l.94-2.06 2.06-.94-2.06-.94L8.5 2.5l-.94 2.06-2.06.94zm10 10l.94 2.06.94-2.06 2.06-.94-2.06-.94-.94-2.06-.94 2.06-2.06.94z\"/><path d=\"M17.41 7.96l-1.37-1.37c-.4-.4-.92-.59-1.43-.59-.52 0-1.04.2-1.43.59L10.3 9.45l-7.72 7.72c-.78.78-.78 2.05 0 2.83L4 21.41c.39.39.9.59 1.41.59.51 0 1.02-.2 1.41-.59l7.78-7.78 2.81-2.81c.8-.78.8-2.07 0-2.86zM5.41 20L4 18.59l7.72-7.72 1.47 1.35L5.41 20z\"/>\n",
              "  </svg>\n",
              "      </button>\n",
              "      \n",
              "  <style>\n",
              "    .colab-df-container {\n",
              "      display:flex;\n",
              "      flex-wrap:wrap;\n",
              "      gap: 12px;\n",
              "    }\n",
              "\n",
              "    .colab-df-convert {\n",
              "      background-color: #E8F0FE;\n",
              "      border: none;\n",
              "      border-radius: 50%;\n",
              "      cursor: pointer;\n",
              "      display: none;\n",
              "      fill: #1967D2;\n",
              "      height: 32px;\n",
              "      padding: 0 0 0 0;\n",
              "      width: 32px;\n",
              "    }\n",
              "\n",
              "    .colab-df-convert:hover {\n",
              "      background-color: #E2EBFA;\n",
              "      box-shadow: 0px 1px 2px rgba(60, 64, 67, 0.3), 0px 1px 3px 1px rgba(60, 64, 67, 0.15);\n",
              "      fill: #174EA6;\n",
              "    }\n",
              "\n",
              "    [theme=dark] .colab-df-convert {\n",
              "      background-color: #3B4455;\n",
              "      fill: #D2E3FC;\n",
              "    }\n",
              "\n",
              "    [theme=dark] .colab-df-convert:hover {\n",
              "      background-color: #434B5C;\n",
              "      box-shadow: 0px 1px 3px 1px rgba(0, 0, 0, 0.15);\n",
              "      filter: drop-shadow(0px 1px 2px rgba(0, 0, 0, 0.3));\n",
              "      fill: #FFFFFF;\n",
              "    }\n",
              "  </style>\n",
              "\n",
              "      <script>\n",
              "        const buttonEl =\n",
              "          document.querySelector('#df-c2c4325b-cb5b-4f9a-9b37-e52cbca1cad0 button.colab-df-convert');\n",
              "        buttonEl.style.display =\n",
              "          google.colab.kernel.accessAllowed ? 'block' : 'none';\n",
              "\n",
              "        async function convertToInteractive(key) {\n",
              "          const element = document.querySelector('#df-c2c4325b-cb5b-4f9a-9b37-e52cbca1cad0');\n",
              "          const dataTable =\n",
              "            await google.colab.kernel.invokeFunction('convertToInteractive',\n",
              "                                                     [key], {});\n",
              "          if (!dataTable) return;\n",
              "\n",
              "          const docLinkHtml = 'Like what you see? Visit the ' +\n",
              "            '<a target=\"_blank\" href=https://colab.research.google.com/notebooks/data_table.ipynb>data table notebook</a>'\n",
              "            + ' to learn more about interactive tables.';\n",
              "          element.innerHTML = '';\n",
              "          dataTable['output_type'] = 'display_data';\n",
              "          await google.colab.output.renderOutput(dataTable, element);\n",
              "          const docLink = document.createElement('div');\n",
              "          docLink.innerHTML = docLinkHtml;\n",
              "          element.appendChild(docLink);\n",
              "        }\n",
              "      </script>\n",
              "    </div>\n",
              "  </div>\n",
              "  "
            ]
          },
          "metadata": {},
          "execution_count": 101
        }
      ]
    },
    {
      "cell_type": "code",
      "source": [
        "store_df.tail()"
      ],
      "metadata": {
        "colab": {
          "base_uri": "https://localhost:8080/",
          "height": 206
        },
        "id": "LTYkGnt-dVb8",
        "outputId": "b21a9d89-9b08-46fd-f165-71dea078317e"
      },
      "execution_count": null,
      "outputs": [
        {
          "output_type": "execute_result",
          "data": {
            "text/plain": [
              "      Store StoreType Assortment  CompetitionDistance  \\\n",
              "1110   1111         a          a               1900.0   \n",
              "1111   1112         c          c               1880.0   \n",
              "1112   1113         a          c               9260.0   \n",
              "1113   1114         a          c                870.0   \n",
              "1114   1115         d          c               5350.0   \n",
              "\n",
              "      CompetitionOpenSinceMonth  CompetitionOpenSinceYear  Promo2  \\\n",
              "1110                        6.0                    2014.0       1   \n",
              "1111                        4.0                    2006.0       0   \n",
              "1112                        NaN                       NaN       0   \n",
              "1113                        NaN                       NaN       0   \n",
              "1114                        NaN                       NaN       1   \n",
              "\n",
              "      Promo2SinceWeek  Promo2SinceYear     PromoInterval  \n",
              "1110             31.0           2013.0   Jan,Apr,Jul,Oct  \n",
              "1111              NaN              NaN               NaN  \n",
              "1112              NaN              NaN               NaN  \n",
              "1113              NaN              NaN               NaN  \n",
              "1114             22.0           2012.0  Mar,Jun,Sept,Dec  "
            ],
            "text/html": [
              "\n",
              "  <div id=\"df-6d1ee333-afd3-4fa4-8f7b-efdc60487e69\">\n",
              "    <div class=\"colab-df-container\">\n",
              "      <div>\n",
              "<style scoped>\n",
              "    .dataframe tbody tr th:only-of-type {\n",
              "        vertical-align: middle;\n",
              "    }\n",
              "\n",
              "    .dataframe tbody tr th {\n",
              "        vertical-align: top;\n",
              "    }\n",
              "\n",
              "    .dataframe thead th {\n",
              "        text-align: right;\n",
              "    }\n",
              "</style>\n",
              "<table border=\"1\" class=\"dataframe\">\n",
              "  <thead>\n",
              "    <tr style=\"text-align: right;\">\n",
              "      <th></th>\n",
              "      <th>Store</th>\n",
              "      <th>StoreType</th>\n",
              "      <th>Assortment</th>\n",
              "      <th>CompetitionDistance</th>\n",
              "      <th>CompetitionOpenSinceMonth</th>\n",
              "      <th>CompetitionOpenSinceYear</th>\n",
              "      <th>Promo2</th>\n",
              "      <th>Promo2SinceWeek</th>\n",
              "      <th>Promo2SinceYear</th>\n",
              "      <th>PromoInterval</th>\n",
              "    </tr>\n",
              "  </thead>\n",
              "  <tbody>\n",
              "    <tr>\n",
              "      <th>1110</th>\n",
              "      <td>1111</td>\n",
              "      <td>a</td>\n",
              "      <td>a</td>\n",
              "      <td>1900.0</td>\n",
              "      <td>6.0</td>\n",
              "      <td>2014.0</td>\n",
              "      <td>1</td>\n",
              "      <td>31.0</td>\n",
              "      <td>2013.0</td>\n",
              "      <td>Jan,Apr,Jul,Oct</td>\n",
              "    </tr>\n",
              "    <tr>\n",
              "      <th>1111</th>\n",
              "      <td>1112</td>\n",
              "      <td>c</td>\n",
              "      <td>c</td>\n",
              "      <td>1880.0</td>\n",
              "      <td>4.0</td>\n",
              "      <td>2006.0</td>\n",
              "      <td>0</td>\n",
              "      <td>NaN</td>\n",
              "      <td>NaN</td>\n",
              "      <td>NaN</td>\n",
              "    </tr>\n",
              "    <tr>\n",
              "      <th>1112</th>\n",
              "      <td>1113</td>\n",
              "      <td>a</td>\n",
              "      <td>c</td>\n",
              "      <td>9260.0</td>\n",
              "      <td>NaN</td>\n",
              "      <td>NaN</td>\n",
              "      <td>0</td>\n",
              "      <td>NaN</td>\n",
              "      <td>NaN</td>\n",
              "      <td>NaN</td>\n",
              "    </tr>\n",
              "    <tr>\n",
              "      <th>1113</th>\n",
              "      <td>1114</td>\n",
              "      <td>a</td>\n",
              "      <td>c</td>\n",
              "      <td>870.0</td>\n",
              "      <td>NaN</td>\n",
              "      <td>NaN</td>\n",
              "      <td>0</td>\n",
              "      <td>NaN</td>\n",
              "      <td>NaN</td>\n",
              "      <td>NaN</td>\n",
              "    </tr>\n",
              "    <tr>\n",
              "      <th>1114</th>\n",
              "      <td>1115</td>\n",
              "      <td>d</td>\n",
              "      <td>c</td>\n",
              "      <td>5350.0</td>\n",
              "      <td>NaN</td>\n",
              "      <td>NaN</td>\n",
              "      <td>1</td>\n",
              "      <td>22.0</td>\n",
              "      <td>2012.0</td>\n",
              "      <td>Mar,Jun,Sept,Dec</td>\n",
              "    </tr>\n",
              "  </tbody>\n",
              "</table>\n",
              "</div>\n",
              "      <button class=\"colab-df-convert\" onclick=\"convertToInteractive('df-6d1ee333-afd3-4fa4-8f7b-efdc60487e69')\"\n",
              "              title=\"Convert this dataframe to an interactive table.\"\n",
              "              style=\"display:none;\">\n",
              "        \n",
              "  <svg xmlns=\"http://www.w3.org/2000/svg\" height=\"24px\"viewBox=\"0 0 24 24\"\n",
              "       width=\"24px\">\n",
              "    <path d=\"M0 0h24v24H0V0z\" fill=\"none\"/>\n",
              "    <path d=\"M18.56 5.44l.94 2.06.94-2.06 2.06-.94-2.06-.94-.94-2.06-.94 2.06-2.06.94zm-11 1L8.5 8.5l.94-2.06 2.06-.94-2.06-.94L8.5 2.5l-.94 2.06-2.06.94zm10 10l.94 2.06.94-2.06 2.06-.94-2.06-.94-.94-2.06-.94 2.06-2.06.94z\"/><path d=\"M17.41 7.96l-1.37-1.37c-.4-.4-.92-.59-1.43-.59-.52 0-1.04.2-1.43.59L10.3 9.45l-7.72 7.72c-.78.78-.78 2.05 0 2.83L4 21.41c.39.39.9.59 1.41.59.51 0 1.02-.2 1.41-.59l7.78-7.78 2.81-2.81c.8-.78.8-2.07 0-2.86zM5.41 20L4 18.59l7.72-7.72 1.47 1.35L5.41 20z\"/>\n",
              "  </svg>\n",
              "      </button>\n",
              "      \n",
              "  <style>\n",
              "    .colab-df-container {\n",
              "      display:flex;\n",
              "      flex-wrap:wrap;\n",
              "      gap: 12px;\n",
              "    }\n",
              "\n",
              "    .colab-df-convert {\n",
              "      background-color: #E8F0FE;\n",
              "      border: none;\n",
              "      border-radius: 50%;\n",
              "      cursor: pointer;\n",
              "      display: none;\n",
              "      fill: #1967D2;\n",
              "      height: 32px;\n",
              "      padding: 0 0 0 0;\n",
              "      width: 32px;\n",
              "    }\n",
              "\n",
              "    .colab-df-convert:hover {\n",
              "      background-color: #E2EBFA;\n",
              "      box-shadow: 0px 1px 2px rgba(60, 64, 67, 0.3), 0px 1px 3px 1px rgba(60, 64, 67, 0.15);\n",
              "      fill: #174EA6;\n",
              "    }\n",
              "\n",
              "    [theme=dark] .colab-df-convert {\n",
              "      background-color: #3B4455;\n",
              "      fill: #D2E3FC;\n",
              "    }\n",
              "\n",
              "    [theme=dark] .colab-df-convert:hover {\n",
              "      background-color: #434B5C;\n",
              "      box-shadow: 0px 1px 3px 1px rgba(0, 0, 0, 0.15);\n",
              "      filter: drop-shadow(0px 1px 2px rgba(0, 0, 0, 0.3));\n",
              "      fill: #FFFFFF;\n",
              "    }\n",
              "  </style>\n",
              "\n",
              "      <script>\n",
              "        const buttonEl =\n",
              "          document.querySelector('#df-6d1ee333-afd3-4fa4-8f7b-efdc60487e69 button.colab-df-convert');\n",
              "        buttonEl.style.display =\n",
              "          google.colab.kernel.accessAllowed ? 'block' : 'none';\n",
              "\n",
              "        async function convertToInteractive(key) {\n",
              "          const element = document.querySelector('#df-6d1ee333-afd3-4fa4-8f7b-efdc60487e69');\n",
              "          const dataTable =\n",
              "            await google.colab.kernel.invokeFunction('convertToInteractive',\n",
              "                                                     [key], {});\n",
              "          if (!dataTable) return;\n",
              "\n",
              "          const docLinkHtml = 'Like what you see? Visit the ' +\n",
              "            '<a target=\"_blank\" href=https://colab.research.google.com/notebooks/data_table.ipynb>data table notebook</a>'\n",
              "            + ' to learn more about interactive tables.';\n",
              "          element.innerHTML = '';\n",
              "          dataTable['output_type'] = 'display_data';\n",
              "          await google.colab.output.renderOutput(dataTable, element);\n",
              "          const docLink = document.createElement('div');\n",
              "          docLink.innerHTML = docLinkHtml;\n",
              "          element.appendChild(docLink);\n",
              "        }\n",
              "      </script>\n",
              "    </div>\n",
              "  </div>\n",
              "  "
            ]
          },
          "metadata": {},
          "execution_count": 102
        }
      ]
    },
    {
      "cell_type": "markdown",
      "source": [
        "**Random View of Dataset**\n",
        "\n",
        "-----"
      ],
      "metadata": {
        "id": "A4G6els2dawP"
      }
    },
    {
      "cell_type": "code",
      "source": [
        "store_df.sample(5)"
      ],
      "metadata": {
        "colab": {
          "base_uri": "https://localhost:8080/",
          "height": 206
        },
        "id": "f5WzKlJ6dfHh",
        "outputId": "36f923bb-d8a3-42d3-aecf-8440db6aae96"
      },
      "execution_count": null,
      "outputs": [
        {
          "output_type": "execute_result",
          "data": {
            "text/plain": [
              "     Store StoreType Assortment  CompetitionDistance  \\\n",
              "55      56         d          c               6620.0   \n",
              "474    475         a          a                140.0   \n",
              "776    777         d          c               8250.0   \n",
              "545    546         a          a                580.0   \n",
              "417    418         a          a               1060.0   \n",
              "\n",
              "     CompetitionOpenSinceMonth  CompetitionOpenSinceYear  Promo2  \\\n",
              "55                         3.0                    2012.0       1   \n",
              "474                        9.0                    2005.0       0   \n",
              "776                       10.0                    2004.0       1   \n",
              "545                        1.0                    2005.0       0   \n",
              "417                        5.0                    2009.0       1   \n",
              "\n",
              "     Promo2SinceWeek  Promo2SinceYear     PromoInterval  \n",
              "55              10.0           2014.0  Mar,Jun,Sept,Dec  \n",
              "474              NaN              NaN               NaN  \n",
              "776             10.0           2013.0  Mar,Jun,Sept,Dec  \n",
              "545              NaN              NaN               NaN  \n",
              "417             27.0           2011.0   Feb,May,Aug,Nov  "
            ],
            "text/html": [
              "\n",
              "  <div id=\"df-de0bfee9-f68c-4953-b81e-d83f578bc7ea\">\n",
              "    <div class=\"colab-df-container\">\n",
              "      <div>\n",
              "<style scoped>\n",
              "    .dataframe tbody tr th:only-of-type {\n",
              "        vertical-align: middle;\n",
              "    }\n",
              "\n",
              "    .dataframe tbody tr th {\n",
              "        vertical-align: top;\n",
              "    }\n",
              "\n",
              "    .dataframe thead th {\n",
              "        text-align: right;\n",
              "    }\n",
              "</style>\n",
              "<table border=\"1\" class=\"dataframe\">\n",
              "  <thead>\n",
              "    <tr style=\"text-align: right;\">\n",
              "      <th></th>\n",
              "      <th>Store</th>\n",
              "      <th>StoreType</th>\n",
              "      <th>Assortment</th>\n",
              "      <th>CompetitionDistance</th>\n",
              "      <th>CompetitionOpenSinceMonth</th>\n",
              "      <th>CompetitionOpenSinceYear</th>\n",
              "      <th>Promo2</th>\n",
              "      <th>Promo2SinceWeek</th>\n",
              "      <th>Promo2SinceYear</th>\n",
              "      <th>PromoInterval</th>\n",
              "    </tr>\n",
              "  </thead>\n",
              "  <tbody>\n",
              "    <tr>\n",
              "      <th>55</th>\n",
              "      <td>56</td>\n",
              "      <td>d</td>\n",
              "      <td>c</td>\n",
              "      <td>6620.0</td>\n",
              "      <td>3.0</td>\n",
              "      <td>2012.0</td>\n",
              "      <td>1</td>\n",
              "      <td>10.0</td>\n",
              "      <td>2014.0</td>\n",
              "      <td>Mar,Jun,Sept,Dec</td>\n",
              "    </tr>\n",
              "    <tr>\n",
              "      <th>474</th>\n",
              "      <td>475</td>\n",
              "      <td>a</td>\n",
              "      <td>a</td>\n",
              "      <td>140.0</td>\n",
              "      <td>9.0</td>\n",
              "      <td>2005.0</td>\n",
              "      <td>0</td>\n",
              "      <td>NaN</td>\n",
              "      <td>NaN</td>\n",
              "      <td>NaN</td>\n",
              "    </tr>\n",
              "    <tr>\n",
              "      <th>776</th>\n",
              "      <td>777</td>\n",
              "      <td>d</td>\n",
              "      <td>c</td>\n",
              "      <td>8250.0</td>\n",
              "      <td>10.0</td>\n",
              "      <td>2004.0</td>\n",
              "      <td>1</td>\n",
              "      <td>10.0</td>\n",
              "      <td>2013.0</td>\n",
              "      <td>Mar,Jun,Sept,Dec</td>\n",
              "    </tr>\n",
              "    <tr>\n",
              "      <th>545</th>\n",
              "      <td>546</td>\n",
              "      <td>a</td>\n",
              "      <td>a</td>\n",
              "      <td>580.0</td>\n",
              "      <td>1.0</td>\n",
              "      <td>2005.0</td>\n",
              "      <td>0</td>\n",
              "      <td>NaN</td>\n",
              "      <td>NaN</td>\n",
              "      <td>NaN</td>\n",
              "    </tr>\n",
              "    <tr>\n",
              "      <th>417</th>\n",
              "      <td>418</td>\n",
              "      <td>a</td>\n",
              "      <td>a</td>\n",
              "      <td>1060.0</td>\n",
              "      <td>5.0</td>\n",
              "      <td>2009.0</td>\n",
              "      <td>1</td>\n",
              "      <td>27.0</td>\n",
              "      <td>2011.0</td>\n",
              "      <td>Feb,May,Aug,Nov</td>\n",
              "    </tr>\n",
              "  </tbody>\n",
              "</table>\n",
              "</div>\n",
              "      <button class=\"colab-df-convert\" onclick=\"convertToInteractive('df-de0bfee9-f68c-4953-b81e-d83f578bc7ea')\"\n",
              "              title=\"Convert this dataframe to an interactive table.\"\n",
              "              style=\"display:none;\">\n",
              "        \n",
              "  <svg xmlns=\"http://www.w3.org/2000/svg\" height=\"24px\"viewBox=\"0 0 24 24\"\n",
              "       width=\"24px\">\n",
              "    <path d=\"M0 0h24v24H0V0z\" fill=\"none\"/>\n",
              "    <path d=\"M18.56 5.44l.94 2.06.94-2.06 2.06-.94-2.06-.94-.94-2.06-.94 2.06-2.06.94zm-11 1L8.5 8.5l.94-2.06 2.06-.94-2.06-.94L8.5 2.5l-.94 2.06-2.06.94zm10 10l.94 2.06.94-2.06 2.06-.94-2.06-.94-.94-2.06-.94 2.06-2.06.94z\"/><path d=\"M17.41 7.96l-1.37-1.37c-.4-.4-.92-.59-1.43-.59-.52 0-1.04.2-1.43.59L10.3 9.45l-7.72 7.72c-.78.78-.78 2.05 0 2.83L4 21.41c.39.39.9.59 1.41.59.51 0 1.02-.2 1.41-.59l7.78-7.78 2.81-2.81c.8-.78.8-2.07 0-2.86zM5.41 20L4 18.59l7.72-7.72 1.47 1.35L5.41 20z\"/>\n",
              "  </svg>\n",
              "      </button>\n",
              "      \n",
              "  <style>\n",
              "    .colab-df-container {\n",
              "      display:flex;\n",
              "      flex-wrap:wrap;\n",
              "      gap: 12px;\n",
              "    }\n",
              "\n",
              "    .colab-df-convert {\n",
              "      background-color: #E8F0FE;\n",
              "      border: none;\n",
              "      border-radius: 50%;\n",
              "      cursor: pointer;\n",
              "      display: none;\n",
              "      fill: #1967D2;\n",
              "      height: 32px;\n",
              "      padding: 0 0 0 0;\n",
              "      width: 32px;\n",
              "    }\n",
              "\n",
              "    .colab-df-convert:hover {\n",
              "      background-color: #E2EBFA;\n",
              "      box-shadow: 0px 1px 2px rgba(60, 64, 67, 0.3), 0px 1px 3px 1px rgba(60, 64, 67, 0.15);\n",
              "      fill: #174EA6;\n",
              "    }\n",
              "\n",
              "    [theme=dark] .colab-df-convert {\n",
              "      background-color: #3B4455;\n",
              "      fill: #D2E3FC;\n",
              "    }\n",
              "\n",
              "    [theme=dark] .colab-df-convert:hover {\n",
              "      background-color: #434B5C;\n",
              "      box-shadow: 0px 1px 3px 1px rgba(0, 0, 0, 0.15);\n",
              "      filter: drop-shadow(0px 1px 2px rgba(0, 0, 0, 0.3));\n",
              "      fill: #FFFFFF;\n",
              "    }\n",
              "  </style>\n",
              "\n",
              "      <script>\n",
              "        const buttonEl =\n",
              "          document.querySelector('#df-de0bfee9-f68c-4953-b81e-d83f578bc7ea button.colab-df-convert');\n",
              "        buttonEl.style.display =\n",
              "          google.colab.kernel.accessAllowed ? 'block' : 'none';\n",
              "\n",
              "        async function convertToInteractive(key) {\n",
              "          const element = document.querySelector('#df-de0bfee9-f68c-4953-b81e-d83f578bc7ea');\n",
              "          const dataTable =\n",
              "            await google.colab.kernel.invokeFunction('convertToInteractive',\n",
              "                                                     [key], {});\n",
              "          if (!dataTable) return;\n",
              "\n",
              "          const docLinkHtml = 'Like what you see? Visit the ' +\n",
              "            '<a target=\"_blank\" href=https://colab.research.google.com/notebooks/data_table.ipynb>data table notebook</a>'\n",
              "            + ' to learn more about interactive tables.';\n",
              "          element.innerHTML = '';\n",
              "          dataTable['output_type'] = 'display_data';\n",
              "          await google.colab.output.renderOutput(dataTable, element);\n",
              "          const docLink = document.createElement('div');\n",
              "          docLink.innerHTML = docLinkHtml;\n",
              "          element.appendChild(docLink);\n",
              "        }\n",
              "      </script>\n",
              "    </div>\n",
              "  </div>\n",
              "  "
            ]
          },
          "metadata": {},
          "execution_count": 103
        }
      ]
    },
    {
      "cell_type": "markdown",
      "source": [
        "### Dataset Rows & Columns count\n",
        "\n",
        "------"
      ],
      "metadata": {
        "id": "7hBIi_osiCS2"
      }
    },
    {
      "cell_type": "code",
      "source": [
        "store_df.shape"
      ],
      "metadata": {
        "id": "Kllu7SJgmLij",
        "colab": {
          "base_uri": "https://localhost:8080/"
        },
        "outputId": "151ca8e8-75cc-44ff-d52d-36ea61dcb814"
      },
      "execution_count": null,
      "outputs": [
        {
          "output_type": "execute_result",
          "data": {
            "text/plain": [
              "(1115, 10)"
            ]
          },
          "metadata": {},
          "execution_count": 104
        }
      ]
    },
    {
      "cell_type": "markdown",
      "source": [
        "### Dataset Information\n",
        "\n",
        "-----"
      ],
      "metadata": {
        "id": "JlHwYmJAmNHm"
      }
    },
    {
      "cell_type": "code",
      "source": [
        "store_df.info()"
      ],
      "metadata": {
        "id": "e9hRXRi6meOf",
        "colab": {
          "base_uri": "https://localhost:8080/"
        },
        "outputId": "22e111b0-1466-4f62-c3f2-37e0fb1f1d68"
      },
      "execution_count": null,
      "outputs": [
        {
          "output_type": "stream",
          "name": "stdout",
          "text": [
            "<class 'pandas.core.frame.DataFrame'>\n",
            "RangeIndex: 1115 entries, 0 to 1114\n",
            "Data columns (total 10 columns):\n",
            " #   Column                     Non-Null Count  Dtype  \n",
            "---  ------                     --------------  -----  \n",
            " 0   Store                      1115 non-null   int64  \n",
            " 1   StoreType                  1115 non-null   object \n",
            " 2   Assortment                 1115 non-null   object \n",
            " 3   CompetitionDistance        1112 non-null   float64\n",
            " 4   CompetitionOpenSinceMonth  761 non-null    float64\n",
            " 5   CompetitionOpenSinceYear   761 non-null    float64\n",
            " 6   Promo2                     1115 non-null   int64  \n",
            " 7   Promo2SinceWeek            571 non-null    float64\n",
            " 8   Promo2SinceYear            571 non-null    float64\n",
            " 9   PromoInterval              571 non-null    object \n",
            "dtypes: float64(5), int64(2), object(3)\n",
            "memory usage: 87.2+ KB\n"
          ]
        }
      ]
    },
    {
      "cell_type": "markdown",
      "source": [
        "**Mathematical View of Data**\n",
        "\n",
        "-----"
      ],
      "metadata": {
        "id": "5_TEjF_zd2vb"
      }
    },
    {
      "cell_type": "code",
      "source": [
        "store_df.describe()"
      ],
      "metadata": {
        "colab": {
          "base_uri": "https://localhost:8080/",
          "height": 300
        },
        "id": "OMCTrvVzd5Ak",
        "outputId": "fa413e3e-2101-422d-c29f-1cab83c1daad"
      },
      "execution_count": null,
      "outputs": [
        {
          "output_type": "execute_result",
          "data": {
            "text/plain": [
              "            Store  CompetitionDistance  CompetitionOpenSinceMonth  \\\n",
              "count  1115.00000          1112.000000                 761.000000   \n",
              "mean    558.00000          5404.901079                   7.224704   \n",
              "std     322.01708          7663.174720                   3.212348   \n",
              "min       1.00000            20.000000                   1.000000   \n",
              "25%     279.50000           717.500000                   4.000000   \n",
              "50%     558.00000          2325.000000                   8.000000   \n",
              "75%     836.50000          6882.500000                  10.000000   \n",
              "max    1115.00000         75860.000000                  12.000000   \n",
              "\n",
              "       CompetitionOpenSinceYear       Promo2  Promo2SinceWeek  Promo2SinceYear  \n",
              "count                761.000000  1115.000000       571.000000       571.000000  \n",
              "mean                2008.668857     0.512108        23.595447      2011.763573  \n",
              "std                    6.195983     0.500078        14.141984         1.674935  \n",
              "min                 1900.000000     0.000000         1.000000      2009.000000  \n",
              "25%                 2006.000000     0.000000        13.000000      2011.000000  \n",
              "50%                 2010.000000     1.000000        22.000000      2012.000000  \n",
              "75%                 2013.000000     1.000000        37.000000      2013.000000  \n",
              "max                 2015.000000     1.000000        50.000000      2015.000000  "
            ],
            "text/html": [
              "\n",
              "  <div id=\"df-5eea930b-0b2f-4988-b260-59c9ec8872f6\">\n",
              "    <div class=\"colab-df-container\">\n",
              "      <div>\n",
              "<style scoped>\n",
              "    .dataframe tbody tr th:only-of-type {\n",
              "        vertical-align: middle;\n",
              "    }\n",
              "\n",
              "    .dataframe tbody tr th {\n",
              "        vertical-align: top;\n",
              "    }\n",
              "\n",
              "    .dataframe thead th {\n",
              "        text-align: right;\n",
              "    }\n",
              "</style>\n",
              "<table border=\"1\" class=\"dataframe\">\n",
              "  <thead>\n",
              "    <tr style=\"text-align: right;\">\n",
              "      <th></th>\n",
              "      <th>Store</th>\n",
              "      <th>CompetitionDistance</th>\n",
              "      <th>CompetitionOpenSinceMonth</th>\n",
              "      <th>CompetitionOpenSinceYear</th>\n",
              "      <th>Promo2</th>\n",
              "      <th>Promo2SinceWeek</th>\n",
              "      <th>Promo2SinceYear</th>\n",
              "    </tr>\n",
              "  </thead>\n",
              "  <tbody>\n",
              "    <tr>\n",
              "      <th>count</th>\n",
              "      <td>1115.00000</td>\n",
              "      <td>1112.000000</td>\n",
              "      <td>761.000000</td>\n",
              "      <td>761.000000</td>\n",
              "      <td>1115.000000</td>\n",
              "      <td>571.000000</td>\n",
              "      <td>571.000000</td>\n",
              "    </tr>\n",
              "    <tr>\n",
              "      <th>mean</th>\n",
              "      <td>558.00000</td>\n",
              "      <td>5404.901079</td>\n",
              "      <td>7.224704</td>\n",
              "      <td>2008.668857</td>\n",
              "      <td>0.512108</td>\n",
              "      <td>23.595447</td>\n",
              "      <td>2011.763573</td>\n",
              "    </tr>\n",
              "    <tr>\n",
              "      <th>std</th>\n",
              "      <td>322.01708</td>\n",
              "      <td>7663.174720</td>\n",
              "      <td>3.212348</td>\n",
              "      <td>6.195983</td>\n",
              "      <td>0.500078</td>\n",
              "      <td>14.141984</td>\n",
              "      <td>1.674935</td>\n",
              "    </tr>\n",
              "    <tr>\n",
              "      <th>min</th>\n",
              "      <td>1.00000</td>\n",
              "      <td>20.000000</td>\n",
              "      <td>1.000000</td>\n",
              "      <td>1900.000000</td>\n",
              "      <td>0.000000</td>\n",
              "      <td>1.000000</td>\n",
              "      <td>2009.000000</td>\n",
              "    </tr>\n",
              "    <tr>\n",
              "      <th>25%</th>\n",
              "      <td>279.50000</td>\n",
              "      <td>717.500000</td>\n",
              "      <td>4.000000</td>\n",
              "      <td>2006.000000</td>\n",
              "      <td>0.000000</td>\n",
              "      <td>13.000000</td>\n",
              "      <td>2011.000000</td>\n",
              "    </tr>\n",
              "    <tr>\n",
              "      <th>50%</th>\n",
              "      <td>558.00000</td>\n",
              "      <td>2325.000000</td>\n",
              "      <td>8.000000</td>\n",
              "      <td>2010.000000</td>\n",
              "      <td>1.000000</td>\n",
              "      <td>22.000000</td>\n",
              "      <td>2012.000000</td>\n",
              "    </tr>\n",
              "    <tr>\n",
              "      <th>75%</th>\n",
              "      <td>836.50000</td>\n",
              "      <td>6882.500000</td>\n",
              "      <td>10.000000</td>\n",
              "      <td>2013.000000</td>\n",
              "      <td>1.000000</td>\n",
              "      <td>37.000000</td>\n",
              "      <td>2013.000000</td>\n",
              "    </tr>\n",
              "    <tr>\n",
              "      <th>max</th>\n",
              "      <td>1115.00000</td>\n",
              "      <td>75860.000000</td>\n",
              "      <td>12.000000</td>\n",
              "      <td>2015.000000</td>\n",
              "      <td>1.000000</td>\n",
              "      <td>50.000000</td>\n",
              "      <td>2015.000000</td>\n",
              "    </tr>\n",
              "  </tbody>\n",
              "</table>\n",
              "</div>\n",
              "      <button class=\"colab-df-convert\" onclick=\"convertToInteractive('df-5eea930b-0b2f-4988-b260-59c9ec8872f6')\"\n",
              "              title=\"Convert this dataframe to an interactive table.\"\n",
              "              style=\"display:none;\">\n",
              "        \n",
              "  <svg xmlns=\"http://www.w3.org/2000/svg\" height=\"24px\"viewBox=\"0 0 24 24\"\n",
              "       width=\"24px\">\n",
              "    <path d=\"M0 0h24v24H0V0z\" fill=\"none\"/>\n",
              "    <path d=\"M18.56 5.44l.94 2.06.94-2.06 2.06-.94-2.06-.94-.94-2.06-.94 2.06-2.06.94zm-11 1L8.5 8.5l.94-2.06 2.06-.94-2.06-.94L8.5 2.5l-.94 2.06-2.06.94zm10 10l.94 2.06.94-2.06 2.06-.94-2.06-.94-.94-2.06-.94 2.06-2.06.94z\"/><path d=\"M17.41 7.96l-1.37-1.37c-.4-.4-.92-.59-1.43-.59-.52 0-1.04.2-1.43.59L10.3 9.45l-7.72 7.72c-.78.78-.78 2.05 0 2.83L4 21.41c.39.39.9.59 1.41.59.51 0 1.02-.2 1.41-.59l7.78-7.78 2.81-2.81c.8-.78.8-2.07 0-2.86zM5.41 20L4 18.59l7.72-7.72 1.47 1.35L5.41 20z\"/>\n",
              "  </svg>\n",
              "      </button>\n",
              "      \n",
              "  <style>\n",
              "    .colab-df-container {\n",
              "      display:flex;\n",
              "      flex-wrap:wrap;\n",
              "      gap: 12px;\n",
              "    }\n",
              "\n",
              "    .colab-df-convert {\n",
              "      background-color: #E8F0FE;\n",
              "      border: none;\n",
              "      border-radius: 50%;\n",
              "      cursor: pointer;\n",
              "      display: none;\n",
              "      fill: #1967D2;\n",
              "      height: 32px;\n",
              "      padding: 0 0 0 0;\n",
              "      width: 32px;\n",
              "    }\n",
              "\n",
              "    .colab-df-convert:hover {\n",
              "      background-color: #E2EBFA;\n",
              "      box-shadow: 0px 1px 2px rgba(60, 64, 67, 0.3), 0px 1px 3px 1px rgba(60, 64, 67, 0.15);\n",
              "      fill: #174EA6;\n",
              "    }\n",
              "\n",
              "    [theme=dark] .colab-df-convert {\n",
              "      background-color: #3B4455;\n",
              "      fill: #D2E3FC;\n",
              "    }\n",
              "\n",
              "    [theme=dark] .colab-df-convert:hover {\n",
              "      background-color: #434B5C;\n",
              "      box-shadow: 0px 1px 3px 1px rgba(0, 0, 0, 0.15);\n",
              "      filter: drop-shadow(0px 1px 2px rgba(0, 0, 0, 0.3));\n",
              "      fill: #FFFFFF;\n",
              "    }\n",
              "  </style>\n",
              "\n",
              "      <script>\n",
              "        const buttonEl =\n",
              "          document.querySelector('#df-5eea930b-0b2f-4988-b260-59c9ec8872f6 button.colab-df-convert');\n",
              "        buttonEl.style.display =\n",
              "          google.colab.kernel.accessAllowed ? 'block' : 'none';\n",
              "\n",
              "        async function convertToInteractive(key) {\n",
              "          const element = document.querySelector('#df-5eea930b-0b2f-4988-b260-59c9ec8872f6');\n",
              "          const dataTable =\n",
              "            await google.colab.kernel.invokeFunction('convertToInteractive',\n",
              "                                                     [key], {});\n",
              "          if (!dataTable) return;\n",
              "\n",
              "          const docLinkHtml = 'Like what you see? Visit the ' +\n",
              "            '<a target=\"_blank\" href=https://colab.research.google.com/notebooks/data_table.ipynb>data table notebook</a>'\n",
              "            + ' to learn more about interactive tables.';\n",
              "          element.innerHTML = '';\n",
              "          dataTable['output_type'] = 'display_data';\n",
              "          await google.colab.output.renderOutput(dataTable, element);\n",
              "          const docLink = document.createElement('div');\n",
              "          docLink.innerHTML = docLinkHtml;\n",
              "          element.appendChild(docLink);\n",
              "        }\n",
              "      </script>\n",
              "    </div>\n",
              "  </div>\n",
              "  "
            ]
          },
          "metadata": {},
          "execution_count": 106
        }
      ]
    },
    {
      "cell_type": "markdown",
      "source": [
        "#### Duplicate Values\n",
        "\n",
        "-----"
      ],
      "metadata": {
        "id": "35m5QtbWiB9F"
      }
    },
    {
      "cell_type": "code",
      "source": [
        "# Let's check : Critical Information of the dataset in summary format\n",
        "\n",
        "print(f'The below dataframe gives us feature wise data type, unique values, total count, missing count(NaN).')\n",
        "print('\\n')\n",
        "def store_1():\n",
        "  temp = pd.DataFrame(index =store_df.columns)\n",
        "  temp['Data_Type'] = store_df.dtypes\n",
        "  temp['Duplicate_Count'] = store_df.duplicated().sum()\n",
        "  return temp\n",
        "store_1()"
      ],
      "metadata": {
        "id": "1sLdpKYkmox0",
        "colab": {
          "base_uri": "https://localhost:8080/",
          "height": 415
        },
        "outputId": "50f2aa7b-0c53-43ca-ceed-9d6e1acd0e17"
      },
      "execution_count": null,
      "outputs": [
        {
          "output_type": "stream",
          "name": "stdout",
          "text": [
            "The below dataframe gives us feature wise data type, unique values, total count, missing count(NaN).\n",
            "\n",
            "\n"
          ]
        },
        {
          "output_type": "execute_result",
          "data": {
            "text/plain": [
              "                          Data_Type  Duplicate_Count\n",
              "Store                         int64                0\n",
              "StoreType                    object                0\n",
              "Assortment                   object                0\n",
              "CompetitionDistance         float64                0\n",
              "CompetitionOpenSinceMonth   float64                0\n",
              "CompetitionOpenSinceYear    float64                0\n",
              "Promo2                        int64                0\n",
              "Promo2SinceWeek             float64                0\n",
              "Promo2SinceYear             float64                0\n",
              "PromoInterval                object                0"
            ],
            "text/html": [
              "\n",
              "  <div id=\"df-f9f821fd-636f-42cb-b43f-ce518dfa3eb3\">\n",
              "    <div class=\"colab-df-container\">\n",
              "      <div>\n",
              "<style scoped>\n",
              "    .dataframe tbody tr th:only-of-type {\n",
              "        vertical-align: middle;\n",
              "    }\n",
              "\n",
              "    .dataframe tbody tr th {\n",
              "        vertical-align: top;\n",
              "    }\n",
              "\n",
              "    .dataframe thead th {\n",
              "        text-align: right;\n",
              "    }\n",
              "</style>\n",
              "<table border=\"1\" class=\"dataframe\">\n",
              "  <thead>\n",
              "    <tr style=\"text-align: right;\">\n",
              "      <th></th>\n",
              "      <th>Data_Type</th>\n",
              "      <th>Duplicate_Count</th>\n",
              "    </tr>\n",
              "  </thead>\n",
              "  <tbody>\n",
              "    <tr>\n",
              "      <th>Store</th>\n",
              "      <td>int64</td>\n",
              "      <td>0</td>\n",
              "    </tr>\n",
              "    <tr>\n",
              "      <th>StoreType</th>\n",
              "      <td>object</td>\n",
              "      <td>0</td>\n",
              "    </tr>\n",
              "    <tr>\n",
              "      <th>Assortment</th>\n",
              "      <td>object</td>\n",
              "      <td>0</td>\n",
              "    </tr>\n",
              "    <tr>\n",
              "      <th>CompetitionDistance</th>\n",
              "      <td>float64</td>\n",
              "      <td>0</td>\n",
              "    </tr>\n",
              "    <tr>\n",
              "      <th>CompetitionOpenSinceMonth</th>\n",
              "      <td>float64</td>\n",
              "      <td>0</td>\n",
              "    </tr>\n",
              "    <tr>\n",
              "      <th>CompetitionOpenSinceYear</th>\n",
              "      <td>float64</td>\n",
              "      <td>0</td>\n",
              "    </tr>\n",
              "    <tr>\n",
              "      <th>Promo2</th>\n",
              "      <td>int64</td>\n",
              "      <td>0</td>\n",
              "    </tr>\n",
              "    <tr>\n",
              "      <th>Promo2SinceWeek</th>\n",
              "      <td>float64</td>\n",
              "      <td>0</td>\n",
              "    </tr>\n",
              "    <tr>\n",
              "      <th>Promo2SinceYear</th>\n",
              "      <td>float64</td>\n",
              "      <td>0</td>\n",
              "    </tr>\n",
              "    <tr>\n",
              "      <th>PromoInterval</th>\n",
              "      <td>object</td>\n",
              "      <td>0</td>\n",
              "    </tr>\n",
              "  </tbody>\n",
              "</table>\n",
              "</div>\n",
              "      <button class=\"colab-df-convert\" onclick=\"convertToInteractive('df-f9f821fd-636f-42cb-b43f-ce518dfa3eb3')\"\n",
              "              title=\"Convert this dataframe to an interactive table.\"\n",
              "              style=\"display:none;\">\n",
              "        \n",
              "  <svg xmlns=\"http://www.w3.org/2000/svg\" height=\"24px\"viewBox=\"0 0 24 24\"\n",
              "       width=\"24px\">\n",
              "    <path d=\"M0 0h24v24H0V0z\" fill=\"none\"/>\n",
              "    <path d=\"M18.56 5.44l.94 2.06.94-2.06 2.06-.94-2.06-.94-.94-2.06-.94 2.06-2.06.94zm-11 1L8.5 8.5l.94-2.06 2.06-.94-2.06-.94L8.5 2.5l-.94 2.06-2.06.94zm10 10l.94 2.06.94-2.06 2.06-.94-2.06-.94-.94-2.06-.94 2.06-2.06.94z\"/><path d=\"M17.41 7.96l-1.37-1.37c-.4-.4-.92-.59-1.43-.59-.52 0-1.04.2-1.43.59L10.3 9.45l-7.72 7.72c-.78.78-.78 2.05 0 2.83L4 21.41c.39.39.9.59 1.41.59.51 0 1.02-.2 1.41-.59l7.78-7.78 2.81-2.81c.8-.78.8-2.07 0-2.86zM5.41 20L4 18.59l7.72-7.72 1.47 1.35L5.41 20z\"/>\n",
              "  </svg>\n",
              "      </button>\n",
              "      \n",
              "  <style>\n",
              "    .colab-df-container {\n",
              "      display:flex;\n",
              "      flex-wrap:wrap;\n",
              "      gap: 12px;\n",
              "    }\n",
              "\n",
              "    .colab-df-convert {\n",
              "      background-color: #E8F0FE;\n",
              "      border: none;\n",
              "      border-radius: 50%;\n",
              "      cursor: pointer;\n",
              "      display: none;\n",
              "      fill: #1967D2;\n",
              "      height: 32px;\n",
              "      padding: 0 0 0 0;\n",
              "      width: 32px;\n",
              "    }\n",
              "\n",
              "    .colab-df-convert:hover {\n",
              "      background-color: #E2EBFA;\n",
              "      box-shadow: 0px 1px 2px rgba(60, 64, 67, 0.3), 0px 1px 3px 1px rgba(60, 64, 67, 0.15);\n",
              "      fill: #174EA6;\n",
              "    }\n",
              "\n",
              "    [theme=dark] .colab-df-convert {\n",
              "      background-color: #3B4455;\n",
              "      fill: #D2E3FC;\n",
              "    }\n",
              "\n",
              "    [theme=dark] .colab-df-convert:hover {\n",
              "      background-color: #434B5C;\n",
              "      box-shadow: 0px 1px 3px 1px rgba(0, 0, 0, 0.15);\n",
              "      filter: drop-shadow(0px 1px 2px rgba(0, 0, 0, 0.3));\n",
              "      fill: #FFFFFF;\n",
              "    }\n",
              "  </style>\n",
              "\n",
              "      <script>\n",
              "        const buttonEl =\n",
              "          document.querySelector('#df-f9f821fd-636f-42cb-b43f-ce518dfa3eb3 button.colab-df-convert');\n",
              "        buttonEl.style.display =\n",
              "          google.colab.kernel.accessAllowed ? 'block' : 'none';\n",
              "\n",
              "        async function convertToInteractive(key) {\n",
              "          const element = document.querySelector('#df-f9f821fd-636f-42cb-b43f-ce518dfa3eb3');\n",
              "          const dataTable =\n",
              "            await google.colab.kernel.invokeFunction('convertToInteractive',\n",
              "                                                     [key], {});\n",
              "          if (!dataTable) return;\n",
              "\n",
              "          const docLinkHtml = 'Like what you see? Visit the ' +\n",
              "            '<a target=\"_blank\" href=https://colab.research.google.com/notebooks/data_table.ipynb>data table notebook</a>'\n",
              "            + ' to learn more about interactive tables.';\n",
              "          element.innerHTML = '';\n",
              "          dataTable['output_type'] = 'display_data';\n",
              "          await google.colab.output.renderOutput(dataTable, element);\n",
              "          const docLink = document.createElement('div');\n",
              "          docLink.innerHTML = docLinkHtml;\n",
              "          element.appendChild(docLink);\n",
              "        }\n",
              "      </script>\n",
              "    </div>\n",
              "  </div>\n",
              "  "
            ]
          },
          "metadata": {},
          "execution_count": 107
        }
      ]
    },
    {
      "cell_type": "markdown",
      "source": [
        "#### Missing Values/Null Values\n",
        "\n",
        "-----"
      ],
      "metadata": {
        "id": "PoPl-ycgm1ru"
      }
    },
    {
      "cell_type": "code",
      "source": [
        "# Let's check : Critical Information of the dataset in summary format\n",
        "\n",
        "print(f'The below dataframe gives us feature wise data type, unique values, total count, missing count(NaN).')\n",
        "print('\\n')\n",
        "def store_1():\n",
        "  temp = pd.DataFrame(index =store_df.columns)\n",
        "  temp['Data_Type'] = store_df.dtypes\n",
        "  temp['Unique_Count'] = store_df.nunique()\n",
        "  temp['Count']= store_df.isnull().count()\n",
        "  temp['Missing_Count'] = store_df.isnull().sum()\n",
        "  temp['Missing_percentage']= round( temp['Missing_Count'] / temp['Count'] * 100, 2)\n",
        "  return temp\n",
        "store_1()"
      ],
      "metadata": {
        "id": "GgHWkxvamxVg",
        "colab": {
          "base_uri": "https://localhost:8080/",
          "height": 415
        },
        "outputId": "c488b94c-ca0f-4669-c1c3-877e301f5c95"
      },
      "execution_count": null,
      "outputs": [
        {
          "output_type": "stream",
          "name": "stdout",
          "text": [
            "The below dataframe gives us feature wise data type, unique values, total count, missing count(NaN).\n",
            "\n",
            "\n"
          ]
        },
        {
          "output_type": "execute_result",
          "data": {
            "text/plain": [
              "                          Data_Type  Unique_Count  Count  Missing_Count  \\\n",
              "Store                         int64          1115   1115              0   \n",
              "StoreType                    object             4   1115              0   \n",
              "Assortment                   object             3   1115              0   \n",
              "CompetitionDistance         float64           654   1115              3   \n",
              "CompetitionOpenSinceMonth   float64            12   1115            354   \n",
              "CompetitionOpenSinceYear    float64            23   1115            354   \n",
              "Promo2                        int64             2   1115              0   \n",
              "Promo2SinceWeek             float64            24   1115            544   \n",
              "Promo2SinceYear             float64             7   1115            544   \n",
              "PromoInterval                object             3   1115            544   \n",
              "\n",
              "                           Missing_percentage  \n",
              "Store                                    0.00  \n",
              "StoreType                                0.00  \n",
              "Assortment                               0.00  \n",
              "CompetitionDistance                      0.27  \n",
              "CompetitionOpenSinceMonth               31.75  \n",
              "CompetitionOpenSinceYear                31.75  \n",
              "Promo2                                   0.00  \n",
              "Promo2SinceWeek                         48.79  \n",
              "Promo2SinceYear                         48.79  \n",
              "PromoInterval                           48.79  "
            ],
            "text/html": [
              "\n",
              "  <div id=\"df-9250e7c4-bd02-4b5a-b493-e25282e0ffb2\">\n",
              "    <div class=\"colab-df-container\">\n",
              "      <div>\n",
              "<style scoped>\n",
              "    .dataframe tbody tr th:only-of-type {\n",
              "        vertical-align: middle;\n",
              "    }\n",
              "\n",
              "    .dataframe tbody tr th {\n",
              "        vertical-align: top;\n",
              "    }\n",
              "\n",
              "    .dataframe thead th {\n",
              "        text-align: right;\n",
              "    }\n",
              "</style>\n",
              "<table border=\"1\" class=\"dataframe\">\n",
              "  <thead>\n",
              "    <tr style=\"text-align: right;\">\n",
              "      <th></th>\n",
              "      <th>Data_Type</th>\n",
              "      <th>Unique_Count</th>\n",
              "      <th>Count</th>\n",
              "      <th>Missing_Count</th>\n",
              "      <th>Missing_percentage</th>\n",
              "    </tr>\n",
              "  </thead>\n",
              "  <tbody>\n",
              "    <tr>\n",
              "      <th>Store</th>\n",
              "      <td>int64</td>\n",
              "      <td>1115</td>\n",
              "      <td>1115</td>\n",
              "      <td>0</td>\n",
              "      <td>0.00</td>\n",
              "    </tr>\n",
              "    <tr>\n",
              "      <th>StoreType</th>\n",
              "      <td>object</td>\n",
              "      <td>4</td>\n",
              "      <td>1115</td>\n",
              "      <td>0</td>\n",
              "      <td>0.00</td>\n",
              "    </tr>\n",
              "    <tr>\n",
              "      <th>Assortment</th>\n",
              "      <td>object</td>\n",
              "      <td>3</td>\n",
              "      <td>1115</td>\n",
              "      <td>0</td>\n",
              "      <td>0.00</td>\n",
              "    </tr>\n",
              "    <tr>\n",
              "      <th>CompetitionDistance</th>\n",
              "      <td>float64</td>\n",
              "      <td>654</td>\n",
              "      <td>1115</td>\n",
              "      <td>3</td>\n",
              "      <td>0.27</td>\n",
              "    </tr>\n",
              "    <tr>\n",
              "      <th>CompetitionOpenSinceMonth</th>\n",
              "      <td>float64</td>\n",
              "      <td>12</td>\n",
              "      <td>1115</td>\n",
              "      <td>354</td>\n",
              "      <td>31.75</td>\n",
              "    </tr>\n",
              "    <tr>\n",
              "      <th>CompetitionOpenSinceYear</th>\n",
              "      <td>float64</td>\n",
              "      <td>23</td>\n",
              "      <td>1115</td>\n",
              "      <td>354</td>\n",
              "      <td>31.75</td>\n",
              "    </tr>\n",
              "    <tr>\n",
              "      <th>Promo2</th>\n",
              "      <td>int64</td>\n",
              "      <td>2</td>\n",
              "      <td>1115</td>\n",
              "      <td>0</td>\n",
              "      <td>0.00</td>\n",
              "    </tr>\n",
              "    <tr>\n",
              "      <th>Promo2SinceWeek</th>\n",
              "      <td>float64</td>\n",
              "      <td>24</td>\n",
              "      <td>1115</td>\n",
              "      <td>544</td>\n",
              "      <td>48.79</td>\n",
              "    </tr>\n",
              "    <tr>\n",
              "      <th>Promo2SinceYear</th>\n",
              "      <td>float64</td>\n",
              "      <td>7</td>\n",
              "      <td>1115</td>\n",
              "      <td>544</td>\n",
              "      <td>48.79</td>\n",
              "    </tr>\n",
              "    <tr>\n",
              "      <th>PromoInterval</th>\n",
              "      <td>object</td>\n",
              "      <td>3</td>\n",
              "      <td>1115</td>\n",
              "      <td>544</td>\n",
              "      <td>48.79</td>\n",
              "    </tr>\n",
              "  </tbody>\n",
              "</table>\n",
              "</div>\n",
              "      <button class=\"colab-df-convert\" onclick=\"convertToInteractive('df-9250e7c4-bd02-4b5a-b493-e25282e0ffb2')\"\n",
              "              title=\"Convert this dataframe to an interactive table.\"\n",
              "              style=\"display:none;\">\n",
              "        \n",
              "  <svg xmlns=\"http://www.w3.org/2000/svg\" height=\"24px\"viewBox=\"0 0 24 24\"\n",
              "       width=\"24px\">\n",
              "    <path d=\"M0 0h24v24H0V0z\" fill=\"none\"/>\n",
              "    <path d=\"M18.56 5.44l.94 2.06.94-2.06 2.06-.94-2.06-.94-.94-2.06-.94 2.06-2.06.94zm-11 1L8.5 8.5l.94-2.06 2.06-.94-2.06-.94L8.5 2.5l-.94 2.06-2.06.94zm10 10l.94 2.06.94-2.06 2.06-.94-2.06-.94-.94-2.06-.94 2.06-2.06.94z\"/><path d=\"M17.41 7.96l-1.37-1.37c-.4-.4-.92-.59-1.43-.59-.52 0-1.04.2-1.43.59L10.3 9.45l-7.72 7.72c-.78.78-.78 2.05 0 2.83L4 21.41c.39.39.9.59 1.41.59.51 0 1.02-.2 1.41-.59l7.78-7.78 2.81-2.81c.8-.78.8-2.07 0-2.86zM5.41 20L4 18.59l7.72-7.72 1.47 1.35L5.41 20z\"/>\n",
              "  </svg>\n",
              "      </button>\n",
              "      \n",
              "  <style>\n",
              "    .colab-df-container {\n",
              "      display:flex;\n",
              "      flex-wrap:wrap;\n",
              "      gap: 12px;\n",
              "    }\n",
              "\n",
              "    .colab-df-convert {\n",
              "      background-color: #E8F0FE;\n",
              "      border: none;\n",
              "      border-radius: 50%;\n",
              "      cursor: pointer;\n",
              "      display: none;\n",
              "      fill: #1967D2;\n",
              "      height: 32px;\n",
              "      padding: 0 0 0 0;\n",
              "      width: 32px;\n",
              "    }\n",
              "\n",
              "    .colab-df-convert:hover {\n",
              "      background-color: #E2EBFA;\n",
              "      box-shadow: 0px 1px 2px rgba(60, 64, 67, 0.3), 0px 1px 3px 1px rgba(60, 64, 67, 0.15);\n",
              "      fill: #174EA6;\n",
              "    }\n",
              "\n",
              "    [theme=dark] .colab-df-convert {\n",
              "      background-color: #3B4455;\n",
              "      fill: #D2E3FC;\n",
              "    }\n",
              "\n",
              "    [theme=dark] .colab-df-convert:hover {\n",
              "      background-color: #434B5C;\n",
              "      box-shadow: 0px 1px 3px 1px rgba(0, 0, 0, 0.15);\n",
              "      filter: drop-shadow(0px 1px 2px rgba(0, 0, 0, 0.3));\n",
              "      fill: #FFFFFF;\n",
              "    }\n",
              "  </style>\n",
              "\n",
              "      <script>\n",
              "        const buttonEl =\n",
              "          document.querySelector('#df-9250e7c4-bd02-4b5a-b493-e25282e0ffb2 button.colab-df-convert');\n",
              "        buttonEl.style.display =\n",
              "          google.colab.kernel.accessAllowed ? 'block' : 'none';\n",
              "\n",
              "        async function convertToInteractive(key) {\n",
              "          const element = document.querySelector('#df-9250e7c4-bd02-4b5a-b493-e25282e0ffb2');\n",
              "          const dataTable =\n",
              "            await google.colab.kernel.invokeFunction('convertToInteractive',\n",
              "                                                     [key], {});\n",
              "          if (!dataTable) return;\n",
              "\n",
              "          const docLinkHtml = 'Like what you see? Visit the ' +\n",
              "            '<a target=\"_blank\" href=https://colab.research.google.com/notebooks/data_table.ipynb>data table notebook</a>'\n",
              "            + ' to learn more about interactive tables.';\n",
              "          element.innerHTML = '';\n",
              "          dataTable['output_type'] = 'display_data';\n",
              "          await google.colab.output.renderOutput(dataTable, element);\n",
              "          const docLink = document.createElement('div');\n",
              "          docLink.innerHTML = docLinkHtml;\n",
              "          element.appendChild(docLink);\n",
              "        }\n",
              "      </script>\n",
              "    </div>\n",
              "  </div>\n",
              "  "
            ]
          },
          "metadata": {},
          "execution_count": 108
        }
      ]
    },
    {
      "cell_type": "code",
      "source": [
        "# Visualizing the missing values\n",
        "\n",
        "msno.matrix(store_df,figsize=(16,6), color=(1, 0.38, 0.27), fontsize=10)"
      ],
      "metadata": {
        "id": "3q5wnI3om9sJ",
        "colab": {
          "base_uri": "https://localhost:8080/",
          "height": 499
        },
        "outputId": "2325ae1b-6133-4a73-e7a1-f277e36b86e8"
      },
      "execution_count": null,
      "outputs": [
        {
          "output_type": "execute_result",
          "data": {
            "text/plain": [
              "<matplotlib.axes._subplots.AxesSubplot at 0x7fa165d49bb0>"
            ]
          },
          "metadata": {},
          "execution_count": 109
        },
        {
          "output_type": "display_data",
          "data": {
            "text/plain": [
              "<Figure size 1152x432 with 2 Axes>"
            ],
            "image/png": "[encoded data removed]"
          },
          "metadata": {
            "needs_background": "light"
          }
        }
      ]
    },
    {
      "cell_type": "markdown",
      "source": [
        "-----\n",
        "\n",
        "**Observation** - Below 6 columns shows missing values heavily,\n",
        "\n",
        "1. CompetitionOpenSinceMonth\n",
        "2. CompetitionOpenSinceYear\n",
        "3. Promo2SinceWeek\n",
        "4. Promo2SinceYear\n",
        "5. PromoInterval\n",
        "6. CompetitionDistance\n",
        "**Let's check their quantum with the help of Bar graph,**\n",
        "\n",
        "-----"
      ],
      "metadata": {
        "id": "8UT6eInAerhY"
      }
    },
    {
      "cell_type": "code",
      "source": [
        "msno.bar(store_df,figsize=(16,5), color=\"tab:green\", fontsize=10)"
      ],
      "metadata": {
        "colab": {
          "base_uri": "https://localhost:8080/",
          "height": 469
        },
        "id": "LiONcx3se4u1",
        "outputId": "8af30dc2-8e61-43d5-a672-dbd1f84bdc6f"
      },
      "execution_count": null,
      "outputs": [
        {
          "output_type": "execute_result",
          "data": {
            "text/plain": [
              "<matplotlib.axes._subplots.AxesSubplot at 0x7fa165d0b790>"
            ]
          },
          "metadata": {},
          "execution_count": 110
        },
        {
          "output_type": "display_data",
          "data": {
            "text/plain": [
              "<Figure size 1152x360 with 3 Axes>"
            ],
            "image/png": "[encoded data removed]"
          },
          "metadata": {
            "needs_background": "light"
          }
        }
      ]
    },
    {
      "cell_type": "markdown",
      "source": [
        "### What did you know about your dataset?\n",
        "\n",
        "-----"
      ],
      "metadata": {
        "id": "H0kj-8xxnORC"
      }
    },
    {
      "cell_type": "markdown",
      "source": [
        "![Store_Data_1.png](data:image/png;base64,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)"
      ],
      "metadata": {
        "id": "gfoNAAC-nUe_"
      }
    },
    {
      "cell_type": "markdown",
      "source": [
        "![Store_Data_2.png](data:image/png;base64,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)"
      ],
      "metadata": {
        "id": "jTtj2KZgfrbW"
      }
    },
    {
      "cell_type": "markdown",
      "source": [
        "-----\n",
        "\n",
        "###**Dataset - 2**:    Let's check \"Rossmann\" Dataset\n",
        "\n",
        "----------"
      ],
      "metadata": {
        "id": "XL18-u5ngwov"
      }
    },
    {
      "cell_type": "markdown",
      "source": [
        "![Data First View.png](data:image/png;base64,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)"
      ],
      "metadata": {
        "id": "cWw9Kk2Zg23o"
      }
    },
    {
      "cell_type": "code",
      "source": [
        "ross_df.head()"
      ],
      "metadata": {
        "colab": {
          "base_uri": "https://localhost:8080/",
          "height": 206
        },
        "id": "TepwfCpnhOca",
        "outputId": "9b13ee94-434c-4d2d-8b6c-b4d812fbdb95"
      },
      "execution_count": null,
      "outputs": [
        {
          "output_type": "execute_result",
          "data": {
            "text/plain": [
              "   Store  DayOfWeek        Date  Sales  Customers  Open  Promo StateHoliday  \\\n",
              "0      1          5  31-07-2015   5263        555     1      1            0   \n",
              "1      2          5  31-07-2015   6064        625     1      1            0   \n",
              "2      3          5  31-07-2015   8314        821     1      1            0   \n",
              "3      4          5  31-07-2015  13995       1498     1      1            0   \n",
              "4      5          5  31-07-2015   4822        559     1      1            0   \n",
              "\n",
              "   SchoolHoliday  \n",
              "0              1  \n",
              "1              1  \n",
              "2              1  \n",
              "3              1  \n",
              "4              1  "
            ],
            "text/html": [
              "\n",
              "  <div id=\"df-8a99cf2e-b52b-470e-bae0-5bae9de9b90d\">\n",
              "    <div class=\"colab-df-container\">\n",
              "      <div>\n",
              "<style scoped>\n",
              "    .dataframe tbody tr th:only-of-type {\n",
              "        vertical-align: middle;\n",
              "    }\n",
              "\n",
              "    .dataframe tbody tr th {\n",
              "        vertical-align: top;\n",
              "    }\n",
              "\n",
              "    .dataframe thead th {\n",
              "        text-align: right;\n",
              "    }\n",
              "</style>\n",
              "<table border=\"1\" class=\"dataframe\">\n",
              "  <thead>\n",
              "    <tr style=\"text-align: right;\">\n",
              "      <th></th>\n",
              "      <th>Store</th>\n",
              "      <th>DayOfWeek</th>\n",
              "      <th>Date</th>\n",
              "      <th>Sales</th>\n",
              "      <th>Customers</th>\n",
              "      <th>Open</th>\n",
              "      <th>Promo</th>\n",
              "      <th>StateHoliday</th>\n",
              "      <th>SchoolHoliday</th>\n",
              "    </tr>\n",
              "  </thead>\n",
              "  <tbody>\n",
              "    <tr>\n",
              "      <th>0</th>\n",
              "      <td>1</td>\n",
              "      <td>5</td>\n",
              "      <td>31-07-2015</td>\n",
              "      <td>5263</td>\n",
              "      <td>555</td>\n",
              "      <td>1</td>\n",
              "      <td>1</td>\n",
              "      <td>0</td>\n",
              "      <td>1</td>\n",
              "    </tr>\n",
              "    <tr>\n",
              "      <th>1</th>\n",
              "      <td>2</td>\n",
              "      <td>5</td>\n",
              "      <td>31-07-2015</td>\n",
              "      <td>6064</td>\n",
              "      <td>625</td>\n",
              "      <td>1</td>\n",
              "      <td>1</td>\n",
              "      <td>0</td>\n",
              "      <td>1</td>\n",
              "    </tr>\n",
              "    <tr>\n",
              "      <th>2</th>\n",
              "      <td>3</td>\n",
              "      <td>5</td>\n",
              "      <td>31-07-2015</td>\n",
              "      <td>8314</td>\n",
              "      <td>821</td>\n",
              "      <td>1</td>\n",
              "      <td>1</td>\n",
              "      <td>0</td>\n",
              "      <td>1</td>\n",
              "    </tr>\n",
              "    <tr>\n",
              "      <th>3</th>\n",
              "      <td>4</td>\n",
              "      <td>5</td>\n",
              "      <td>31-07-2015</td>\n",
              "      <td>13995</td>\n",
              "      <td>1498</td>\n",
              "      <td>1</td>\n",
              "      <td>1</td>\n",
              "      <td>0</td>\n",
              "      <td>1</td>\n",
              "    </tr>\n",
              "    <tr>\n",
              "      <th>4</th>\n",
              "      <td>5</td>\n",
              "      <td>5</td>\n",
              "      <td>31-07-2015</td>\n",
              "      <td>4822</td>\n",
              "      <td>559</td>\n",
              "      <td>1</td>\n",
              "      <td>1</td>\n",
              "      <td>0</td>\n",
              "      <td>1</td>\n",
              "    </tr>\n",
              "  </tbody>\n",
              "</table>\n",
              "</div>\n",
              "      <button class=\"colab-df-convert\" onclick=\"convertToInteractive('df-8a99cf2e-b52b-470e-bae0-5bae9de9b90d')\"\n",
              "              title=\"Convert this dataframe to an interactive table.\"\n",
              "              style=\"display:none;\">\n",
              "        \n",
              "  <svg xmlns=\"http://www.w3.org/2000/svg\" height=\"24px\"viewBox=\"0 0 24 24\"\n",
              "       width=\"24px\">\n",
              "    <path d=\"M0 0h24v24H0V0z\" fill=\"none\"/>\n",
              "    <path d=\"M18.56 5.44l.94 2.06.94-2.06 2.06-.94-2.06-.94-.94-2.06-.94 2.06-2.06.94zm-11 1L8.5 8.5l.94-2.06 2.06-.94-2.06-.94L8.5 2.5l-.94 2.06-2.06.94zm10 10l.94 2.06.94-2.06 2.06-.94-2.06-.94-.94-2.06-.94 2.06-2.06.94z\"/><path d=\"M17.41 7.96l-1.37-1.37c-.4-.4-.92-.59-1.43-.59-.52 0-1.04.2-1.43.59L10.3 9.45l-7.72 7.72c-.78.78-.78 2.05 0 2.83L4 21.41c.39.39.9.59 1.41.59.51 0 1.02-.2 1.41-.59l7.78-7.78 2.81-2.81c.8-.78.8-2.07 0-2.86zM5.41 20L4 18.59l7.72-7.72 1.47 1.35L5.41 20z\"/>\n",
              "  </svg>\n",
              "      </button>\n",
              "      \n",
              "  <style>\n",
              "    .colab-df-container {\n",
              "      display:flex;\n",
              "      flex-wrap:wrap;\n",
              "      gap: 12px;\n",
              "    }\n",
              "\n",
              "    .colab-df-convert {\n",
              "      background-color: #E8F0FE;\n",
              "      border: none;\n",
              "      border-radius: 50%;\n",
              "      cursor: pointer;\n",
              "      display: none;\n",
              "      fill: #1967D2;\n",
              "      height: 32px;\n",
              "      padding: 0 0 0 0;\n",
              "      width: 32px;\n",
              "    }\n",
              "\n",
              "    .colab-df-convert:hover {\n",
              "      background-color: #E2EBFA;\n",
              "      box-shadow: 0px 1px 2px rgba(60, 64, 67, 0.3), 0px 1px 3px 1px rgba(60, 64, 67, 0.15);\n",
              "      fill: #174EA6;\n",
              "    }\n",
              "\n",
              "    [theme=dark] .colab-df-convert {\n",
              "      background-color: #3B4455;\n",
              "      fill: #D2E3FC;\n",
              "    }\n",
              "\n",
              "    [theme=dark] .colab-df-convert:hover {\n",
              "      background-color: #434B5C;\n",
              "      box-shadow: 0px 1px 3px 1px rgba(0, 0, 0, 0.15);\n",
              "      filter: drop-shadow(0px 1px 2px rgba(0, 0, 0, 0.3));\n",
              "      fill: #FFFFFF;\n",
              "    }\n",
              "  </style>\n",
              "\n",
              "      <script>\n",
              "        const buttonEl =\n",
              "          document.querySelector('#df-8a99cf2e-b52b-470e-bae0-5bae9de9b90d button.colab-df-convert');\n",
              "        buttonEl.style.display =\n",
              "          google.colab.kernel.accessAllowed ? 'block' : 'none';\n",
              "\n",
              "        async function convertToInteractive(key) {\n",
              "          const element = document.querySelector('#df-8a99cf2e-b52b-470e-bae0-5bae9de9b90d');\n",
              "          const dataTable =\n",
              "            await google.colab.kernel.invokeFunction('convertToInteractive',\n",
              "                                                     [key], {});\n",
              "          if (!dataTable) return;\n",
              "\n",
              "          const docLinkHtml = 'Like what you see? Visit the ' +\n",
              "            '<a target=\"_blank\" href=https://colab.research.google.com/notebooks/data_table.ipynb>data table notebook</a>'\n",
              "            + ' to learn more about interactive tables.';\n",
              "          element.innerHTML = '';\n",
              "          dataTable['output_type'] = 'display_data';\n",
              "          await google.colab.output.renderOutput(dataTable, element);\n",
              "          const docLink = document.createElement('div');\n",
              "          docLink.innerHTML = docLinkHtml;\n",
              "          element.appendChild(docLink);\n",
              "        }\n",
              "      </script>\n",
              "    </div>\n",
              "  </div>\n",
              "  "
            ]
          },
          "metadata": {},
          "execution_count": 111
        }
      ]
    },
    {
      "cell_type": "code",
      "source": [
        "ross_df.tail()"
      ],
      "metadata": {
        "colab": {
          "base_uri": "https://localhost:8080/",
          "height": 206
        },
        "id": "CFFM6QGahQmu",
        "outputId": "84eecabf-5cb7-49d9-bbeb-ce92072d4c83"
      },
      "execution_count": null,
      "outputs": [
        {
          "output_type": "execute_result",
          "data": {
            "text/plain": [
              "         Store  DayOfWeek        Date  Sales  Customers  Open  Promo  \\\n",
              "1017204   1111          2  01-01-2013      0          0     0      0   \n",
              "1017205   1112          2  01-01-2013      0          0     0      0   \n",
              "1017206   1113          2  01-01-2013      0          0     0      0   \n",
              "1017207   1114          2  01-01-2013      0          0     0      0   \n",
              "1017208   1115          2  01-01-2013      0          0     0      0   \n",
              "\n",
              "        StateHoliday  SchoolHoliday  \n",
              "1017204            a              1  \n",
              "1017205            a              1  \n",
              "1017206            a              1  \n",
              "1017207            a              1  \n",
              "1017208            a              1  "
            ],
            "text/html": [
              "\n",
              "  <div id=\"df-daa9a94f-f880-4b94-81cd-91939354bade\">\n",
              "    <div class=\"colab-df-container\">\n",
              "      <div>\n",
              "<style scoped>\n",
              "    .dataframe tbody tr th:only-of-type {\n",
              "        vertical-align: middle;\n",
              "    }\n",
              "\n",
              "    .dataframe tbody tr th {\n",
              "        vertical-align: top;\n",
              "    }\n",
              "\n",
              "    .dataframe thead th {\n",
              "        text-align: right;\n",
              "    }\n",
              "</style>\n",
              "<table border=\"1\" class=\"dataframe\">\n",
              "  <thead>\n",
              "    <tr style=\"text-align: right;\">\n",
              "      <th></th>\n",
              "      <th>Store</th>\n",
              "      <th>DayOfWeek</th>\n",
              "      <th>Date</th>\n",
              "      <th>Sales</th>\n",
              "      <th>Customers</th>\n",
              "      <th>Open</th>\n",
              "      <th>Promo</th>\n",
              "      <th>StateHoliday</th>\n",
              "      <th>SchoolHoliday</th>\n",
              "    </tr>\n",
              "  </thead>\n",
              "  <tbody>\n",
              "    <tr>\n",
              "      <th>1017204</th>\n",
              "      <td>1111</td>\n",
              "      <td>2</td>\n",
              "      <td>01-01-2013</td>\n",
              "      <td>0</td>\n",
              "      <td>0</td>\n",
              "      <td>0</td>\n",
              "      <td>0</td>\n",
              "      <td>a</td>\n",
              "      <td>1</td>\n",
              "    </tr>\n",
              "    <tr>\n",
              "      <th>1017205</th>\n",
              "      <td>1112</td>\n",
              "      <td>2</td>\n",
              "      <td>01-01-2013</td>\n",
              "      <td>0</td>\n",
              "      <td>0</td>\n",
              "      <td>0</td>\n",
              "      <td>0</td>\n",
              "      <td>a</td>\n",
              "      <td>1</td>\n",
              "    </tr>\n",
              "    <tr>\n",
              "      <th>1017206</th>\n",
              "      <td>1113</td>\n",
              "      <td>2</td>\n",
              "      <td>01-01-2013</td>\n",
              "      <td>0</td>\n",
              "      <td>0</td>\n",
              "      <td>0</td>\n",
              "      <td>0</td>\n",
              "      <td>a</td>\n",
              "      <td>1</td>\n",
              "    </tr>\n",
              "    <tr>\n",
              "      <th>1017207</th>\n",
              "      <td>1114</td>\n",
              "      <td>2</td>\n",
              "      <td>01-01-2013</td>\n",
              "      <td>0</td>\n",
              "      <td>0</td>\n",
              "      <td>0</td>\n",
              "      <td>0</td>\n",
              "      <td>a</td>\n",
              "      <td>1</td>\n",
              "    </tr>\n",
              "    <tr>\n",
              "      <th>1017208</th>\n",
              "      <td>1115</td>\n",
              "      <td>2</td>\n",
              "      <td>01-01-2013</td>\n",
              "      <td>0</td>\n",
              "      <td>0</td>\n",
              "      <td>0</td>\n",
              "      <td>0</td>\n",
              "      <td>a</td>\n",
              "      <td>1</td>\n",
              "    </tr>\n",
              "  </tbody>\n",
              "</table>\n",
              "</div>\n",
              "      <button class=\"colab-df-convert\" onclick=\"convertToInteractive('df-daa9a94f-f880-4b94-81cd-91939354bade')\"\n",
              "              title=\"Convert this dataframe to an interactive table.\"\n",
              "              style=\"display:none;\">\n",
              "        \n",
              "  <svg xmlns=\"http://www.w3.org/2000/svg\" height=\"24px\"viewBox=\"0 0 24 24\"\n",
              "       width=\"24px\">\n",
              "    <path d=\"M0 0h24v24H0V0z\" fill=\"none\"/>\n",
              "    <path d=\"M18.56 5.44l.94 2.06.94-2.06 2.06-.94-2.06-.94-.94-2.06-.94 2.06-2.06.94zm-11 1L8.5 8.5l.94-2.06 2.06-.94-2.06-.94L8.5 2.5l-.94 2.06-2.06.94zm10 10l.94 2.06.94-2.06 2.06-.94-2.06-.94-.94-2.06-.94 2.06-2.06.94z\"/><path d=\"M17.41 7.96l-1.37-1.37c-.4-.4-.92-.59-1.43-.59-.52 0-1.04.2-1.43.59L10.3 9.45l-7.72 7.72c-.78.78-.78 2.05 0 2.83L4 21.41c.39.39.9.59 1.41.59.51 0 1.02-.2 1.41-.59l7.78-7.78 2.81-2.81c.8-.78.8-2.07 0-2.86zM5.41 20L4 18.59l7.72-7.72 1.47 1.35L5.41 20z\"/>\n",
              "  </svg>\n",
              "      </button>\n",
              "      \n",
              "  <style>\n",
              "    .colab-df-container {\n",
              "      display:flex;\n",
              "      flex-wrap:wrap;\n",
              "      gap: 12px;\n",
              "    }\n",
              "\n",
              "    .colab-df-convert {\n",
              "      background-color: #E8F0FE;\n",
              "      border: none;\n",
              "      border-radius: 50%;\n",
              "      cursor: pointer;\n",
              "      display: none;\n",
              "      fill: #1967D2;\n",
              "      height: 32px;\n",
              "      padding: 0 0 0 0;\n",
              "      width: 32px;\n",
              "    }\n",
              "\n",
              "    .colab-df-convert:hover {\n",
              "      background-color: #E2EBFA;\n",
              "      box-shadow: 0px 1px 2px rgba(60, 64, 67, 0.3), 0px 1px 3px 1px rgba(60, 64, 67, 0.15);\n",
              "      fill: #174EA6;\n",
              "    }\n",
              "\n",
              "    [theme=dark] .colab-df-convert {\n",
              "      background-color: #3B4455;\n",
              "      fill: #D2E3FC;\n",
              "    }\n",
              "\n",
              "    [theme=dark] .colab-df-convert:hover {\n",
              "      background-color: #434B5C;\n",
              "      box-shadow: 0px 1px 3px 1px rgba(0, 0, 0, 0.15);\n",
              "      filter: drop-shadow(0px 1px 2px rgba(0, 0, 0, 0.3));\n",
              "      fill: #FFFFFF;\n",
              "    }\n",
              "  </style>\n",
              "\n",
              "      <script>\n",
              "        const buttonEl =\n",
              "          document.querySelector('#df-daa9a94f-f880-4b94-81cd-91939354bade button.colab-df-convert');\n",
              "        buttonEl.style.display =\n",
              "          google.colab.kernel.accessAllowed ? 'block' : 'none';\n",
              "\n",
              "        async function convertToInteractive(key) {\n",
              "          const element = document.querySelector('#df-daa9a94f-f880-4b94-81cd-91939354bade');\n",
              "          const dataTable =\n",
              "            await google.colab.kernel.invokeFunction('convertToInteractive',\n",
              "                                                     [key], {});\n",
              "          if (!dataTable) return;\n",
              "\n",
              "          const docLinkHtml = 'Like what you see? Visit the ' +\n",
              "            '<a target=\"_blank\" href=https://colab.research.google.com/notebooks/data_table.ipynb>data table notebook</a>'\n",
              "            + ' to learn more about interactive tables.';\n",
              "          element.innerHTML = '';\n",
              "          dataTable['output_type'] = 'display_data';\n",
              "          await google.colab.output.renderOutput(dataTable, element);\n",
              "          const docLink = document.createElement('div');\n",
              "          docLink.innerHTML = docLinkHtml;\n",
              "          element.appendChild(docLink);\n",
              "        }\n",
              "      </script>\n",
              "    </div>\n",
              "  </div>\n",
              "  "
            ]
          },
          "metadata": {},
          "execution_count": 112
        }
      ]
    },
    {
      "cell_type": "markdown",
      "source": [
        "**Random View of Dataset**\n",
        "\n",
        "-----"
      ],
      "metadata": {
        "id": "N4shOh2xhT15"
      }
    },
    {
      "cell_type": "code",
      "source": [
        "ross_df.sample(5)"
      ],
      "metadata": {
        "colab": {
          "base_uri": "https://localhost:8080/",
          "height": 206
        },
        "id": "MxAQnCHnhWBZ",
        "outputId": "53ba3f36-df33-4330-9dd7-a05a1739f56f"
      },
      "execution_count": null,
      "outputs": [
        {
          "output_type": "execute_result",
          "data": {
            "text/plain": [
              "        Store  DayOfWeek        Date  Sales  Customers  Open  Promo  \\\n",
              "870981    952          7  12-05-2013      0          0     0      0   \n",
              "904564   1085          5  12-04-2013   9405        922     1      1   \n",
              "784910    736          7  28-07-2013      0          0     0      0   \n",
              "978269     85          1  04-02-2013   8018       1066     1      1   \n",
              "656089    140          3  20-11-2013   7884        983     1      1   \n",
              "\n",
              "       StateHoliday  SchoolHoliday  \n",
              "870981            0              0  \n",
              "904564            0              0  \n",
              "784910            0              0  \n",
              "978269            0              1  \n",
              "656089            0              0  "
            ],
            "text/html": [
              "\n",
              "  <div id=\"df-1b57a5c0-f551-4878-b774-5e206bfea10b\">\n",
              "    <div class=\"colab-df-container\">\n",
              "      <div>\n",
              "<style scoped>\n",
              "    .dataframe tbody tr th:only-of-type {\n",
              "        vertical-align: middle;\n",
              "    }\n",
              "\n",
              "    .dataframe tbody tr th {\n",
              "        vertical-align: top;\n",
              "    }\n",
              "\n",
              "    .dataframe thead th {\n",
              "        text-align: right;\n",
              "    }\n",
              "</style>\n",
              "<table border=\"1\" class=\"dataframe\">\n",
              "  <thead>\n",
              "    <tr style=\"text-align: right;\">\n",
              "      <th></th>\n",
              "      <th>Store</th>\n",
              "      <th>DayOfWeek</th>\n",
              "      <th>Date</th>\n",
              "      <th>Sales</th>\n",
              "      <th>Customers</th>\n",
              "      <th>Open</th>\n",
              "      <th>Promo</th>\n",
              "      <th>StateHoliday</th>\n",
              "      <th>SchoolHoliday</th>\n",
              "    </tr>\n",
              "  </thead>\n",
              "  <tbody>\n",
              "    <tr>\n",
              "      <th>870981</th>\n",
              "      <td>952</td>\n",
              "      <td>7</td>\n",
              "      <td>12-05-2013</td>\n",
              "      <td>0</td>\n",
              "      <td>0</td>\n",
              "      <td>0</td>\n",
              "      <td>0</td>\n",
              "      <td>0</td>\n",
              "      <td>0</td>\n",
              "    </tr>\n",
              "    <tr>\n",
              "      <th>904564</th>\n",
              "      <td>1085</td>\n",
              "      <td>5</td>\n",
              "      <td>12-04-2013</td>\n",
              "      <td>9405</td>\n",
              "      <td>922</td>\n",
              "      <td>1</td>\n",
              "      <td>1</td>\n",
              "      <td>0</td>\n",
              "      <td>0</td>\n",
              "    </tr>\n",
              "    <tr>\n",
              "      <th>784910</th>\n",
              "      <td>736</td>\n",
              "      <td>7</td>\n",
              "      <td>28-07-2013</td>\n",
              "      <td>0</td>\n",
              "      <td>0</td>\n",
              "      <td>0</td>\n",
              "      <td>0</td>\n",
              "      <td>0</td>\n",
              "      <td>0</td>\n",
              "    </tr>\n",
              "    <tr>\n",
              "      <th>978269</th>\n",
              "      <td>85</td>\n",
              "      <td>1</td>\n",
              "      <td>04-02-2013</td>\n",
              "      <td>8018</td>\n",
              "      <td>1066</td>\n",
              "      <td>1</td>\n",
              "      <td>1</td>\n",
              "      <td>0</td>\n",
              "      <td>1</td>\n",
              "    </tr>\n",
              "    <tr>\n",
              "      <th>656089</th>\n",
              "      <td>140</td>\n",
              "      <td>3</td>\n",
              "      <td>20-11-2013</td>\n",
              "      <td>7884</td>\n",
              "      <td>983</td>\n",
              "      <td>1</td>\n",
              "      <td>1</td>\n",
              "      <td>0</td>\n",
              "      <td>0</td>\n",
              "    </tr>\n",
              "  </tbody>\n",
              "</table>\n",
              "</div>\n",
              "      <button class=\"colab-df-convert\" onclick=\"convertToInteractive('df-1b57a5c0-f551-4878-b774-5e206bfea10b')\"\n",
              "              title=\"Convert this dataframe to an interactive table.\"\n",
              "              style=\"display:none;\">\n",
              "        \n",
              "  <svg xmlns=\"http://www.w3.org/2000/svg\" height=\"24px\"viewBox=\"0 0 24 24\"\n",
              "       width=\"24px\">\n",
              "    <path d=\"M0 0h24v24H0V0z\" fill=\"none\"/>\n",
              "    <path d=\"M18.56 5.44l.94 2.06.94-2.06 2.06-.94-2.06-.94-.94-2.06-.94 2.06-2.06.94zm-11 1L8.5 8.5l.94-2.06 2.06-.94-2.06-.94L8.5 2.5l-.94 2.06-2.06.94zm10 10l.94 2.06.94-2.06 2.06-.94-2.06-.94-.94-2.06-.94 2.06-2.06.94z\"/><path d=\"M17.41 7.96l-1.37-1.37c-.4-.4-.92-.59-1.43-.59-.52 0-1.04.2-1.43.59L10.3 9.45l-7.72 7.72c-.78.78-.78 2.05 0 2.83L4 21.41c.39.39.9.59 1.41.59.51 0 1.02-.2 1.41-.59l7.78-7.78 2.81-2.81c.8-.78.8-2.07 0-2.86zM5.41 20L4 18.59l7.72-7.72 1.47 1.35L5.41 20z\"/>\n",
              "  </svg>\n",
              "      </button>\n",
              "      \n",
              "  <style>\n",
              "    .colab-df-container {\n",
              "      display:flex;\n",
              "      flex-wrap:wrap;\n",
              "      gap: 12px;\n",
              "    }\n",
              "\n",
              "    .colab-df-convert {\n",
              "      background-color: #E8F0FE;\n",
              "      border: none;\n",
              "      border-radius: 50%;\n",
              "      cursor: pointer;\n",
              "      display: none;\n",
              "      fill: #1967D2;\n",
              "      height: 32px;\n",
              "      padding: 0 0 0 0;\n",
              "      width: 32px;\n",
              "    }\n",
              "\n",
              "    .colab-df-convert:hover {\n",
              "      background-color: #E2EBFA;\n",
              "      box-shadow: 0px 1px 2px rgba(60, 64, 67, 0.3), 0px 1px 3px 1px rgba(60, 64, 67, 0.15);\n",
              "      fill: #174EA6;\n",
              "    }\n",
              "\n",
              "    [theme=dark] .colab-df-convert {\n",
              "      background-color: #3B4455;\n",
              "      fill: #D2E3FC;\n",
              "    }\n",
              "\n",
              "    [theme=dark] .colab-df-convert:hover {\n",
              "      background-color: #434B5C;\n",
              "      box-shadow: 0px 1px 3px 1px rgba(0, 0, 0, 0.15);\n",
              "      filter: drop-shadow(0px 1px 2px rgba(0, 0, 0, 0.3));\n",
              "      fill: #FFFFFF;\n",
              "    }\n",
              "  </style>\n",
              "\n",
              "      <script>\n",
              "        const buttonEl =\n",
              "          document.querySelector('#df-1b57a5c0-f551-4878-b774-5e206bfea10b button.colab-df-convert');\n",
              "        buttonEl.style.display =\n",
              "          google.colab.kernel.accessAllowed ? 'block' : 'none';\n",
              "\n",
              "        async function convertToInteractive(key) {\n",
              "          const element = document.querySelector('#df-1b57a5c0-f551-4878-b774-5e206bfea10b');\n",
              "          const dataTable =\n",
              "            await google.colab.kernel.invokeFunction('convertToInteractive',\n",
              "                                                     [key], {});\n",
              "          if (!dataTable) return;\n",
              "\n",
              "          const docLinkHtml = 'Like what you see? Visit the ' +\n",
              "            '<a target=\"_blank\" href=https://colab.research.google.com/notebooks/data_table.ipynb>data table notebook</a>'\n",
              "            + ' to learn more about interactive tables.';\n",
              "          element.innerHTML = '';\n",
              "          dataTable['output_type'] = 'display_data';\n",
              "          await google.colab.output.renderOutput(dataTable, element);\n",
              "          const docLink = document.createElement('div');\n",
              "          docLink.innerHTML = docLinkHtml;\n",
              "          element.appendChild(docLink);\n",
              "        }\n",
              "      </script>\n",
              "    </div>\n",
              "  </div>\n",
              "  "
            ]
          },
          "metadata": {},
          "execution_count": 113
        }
      ]
    },
    {
      "cell_type": "markdown",
      "source": [
        "### Dataset Rows & Columns count\n",
        "\n",
        "------"
      ],
      "metadata": {
        "id": "WG3dChPug3rs"
      }
    },
    {
      "cell_type": "code",
      "source": [
        "ross_df.shape"
      ],
      "metadata": {
        "colab": {
          "base_uri": "https://localhost:8080/"
        },
        "id": "_7BUbeW1hedP",
        "outputId": "01adb2a6-b4a6-404d-9b31-6172fc066a00"
      },
      "execution_count": null,
      "outputs": [
        {
          "output_type": "execute_result",
          "data": {
            "text/plain": [
              "(1017209, 9)"
            ]
          },
          "metadata": {},
          "execution_count": 114
        }
      ]
    },
    {
      "cell_type": "markdown",
      "source": [
        "### Dataset Information\n",
        "\n",
        "-----"
      ],
      "metadata": {
        "id": "u6u53TB7hiVJ"
      }
    },
    {
      "cell_type": "code",
      "source": [
        "ross_df.info()"
      ],
      "metadata": {
        "colab": {
          "base_uri": "https://localhost:8080/"
        },
        "id": "jJuENlm7hpcg",
        "outputId": "4b19cefa-263e-438e-da7f-ada073143b70"
      },
      "execution_count": null,
      "outputs": [
        {
          "output_type": "stream",
          "name": "stdout",
          "text": [
            "<class 'pandas.core.frame.DataFrame'>\n",
            "RangeIndex: 1017209 entries, 0 to 1017208\n",
            "Data columns (total 9 columns):\n",
            " #   Column         Non-Null Count    Dtype \n",
            "---  ------         --------------    ----- \n",
            " 0   Store          1017209 non-null  int64 \n",
            " 1   DayOfWeek      1017209 non-null  int64 \n",
            " 2   Date           1017209 non-null  object\n",
            " 3   Sales          1017209 non-null  int64 \n",
            " 4   Customers      1017209 non-null  int64 \n",
            " 5   Open           1017209 non-null  int64 \n",
            " 6   Promo          1017209 non-null  int64 \n",
            " 7   StateHoliday   1017209 non-null  object\n",
            " 8   SchoolHoliday  1017209 non-null  int64 \n",
            "dtypes: int64(7), object(2)\n",
            "memory usage: 69.8+ MB\n"
          ]
        }
      ]
    },
    {
      "cell_type": "markdown",
      "source": [
        "**Mathematical View of Data**\n",
        "\n",
        "-----"
      ],
      "metadata": {
        "id": "cEKFRvQshtED"
      }
    },
    {
      "cell_type": "code",
      "source": [
        "ross_df.describe()"
      ],
      "metadata": {
        "colab": {
          "base_uri": "https://localhost:8080/",
          "height": 300
        },
        "id": "BpO4awW2hwey",
        "outputId": "3ac6cd1c-f015-4e21-c204-77a2599496fe"
      },
      "execution_count": null,
      "outputs": [
        {
          "output_type": "execute_result",
          "data": {
            "text/plain": [
              "              Store     DayOfWeek         Sales     Customers          Open  \\\n",
              "count  1.017209e+06  1.017209e+06  1.017209e+06  1.017209e+06  1.017209e+06   \n",
              "mean   5.584297e+02  3.998341e+00  5.773819e+03  6.331459e+02  8.301067e-01   \n",
              "std    3.219087e+02  1.997391e+00  3.849926e+03  4.644117e+02  3.755392e-01   \n",
              "min    1.000000e+00  1.000000e+00  0.000000e+00  0.000000e+00  0.000000e+00   \n",
              "25%    2.800000e+02  2.000000e+00  3.727000e+03  4.050000e+02  1.000000e+00   \n",
              "50%    5.580000e+02  4.000000e+00  5.744000e+03  6.090000e+02  1.000000e+00   \n",
              "75%    8.380000e+02  6.000000e+00  7.856000e+03  8.370000e+02  1.000000e+00   \n",
              "max    1.115000e+03  7.000000e+00  4.155100e+04  7.388000e+03  1.000000e+00   \n",
              "\n",
              "              Promo  SchoolHoliday  \n",
              "count  1.017209e+06   1.017209e+06  \n",
              "mean   3.815145e-01   1.786467e-01  \n",
              "std    4.857586e-01   3.830564e-01  \n",
              "min    0.000000e+00   0.000000e+00  \n",
              "25%    0.000000e+00   0.000000e+00  \n",
              "50%    0.000000e+00   0.000000e+00  \n",
              "75%    1.000000e+00   0.000000e+00  \n",
              "max    1.000000e+00   1.000000e+00  "
            ],
            "text/html": [
              "\n",
              "  <div id=\"df-4f2340df-cf3c-4c7c-a500-6ea9f2a9fb4b\">\n",
              "    <div class=\"colab-df-container\">\n",
              "      <div>\n",
              "<style scoped>\n",
              "    .dataframe tbody tr th:only-of-type {\n",
              "        vertical-align: middle;\n",
              "    }\n",
              "\n",
              "    .dataframe tbody tr th {\n",
              "        vertical-align: top;\n",
              "    }\n",
              "\n",
              "    .dataframe thead th {\n",
              "        text-align: right;\n",
              "    }\n",
              "</style>\n",
              "<table border=\"1\" class=\"dataframe\">\n",
              "  <thead>\n",
              "    <tr style=\"text-align: right;\">\n",
              "      <th></th>\n",
              "      <th>Store</th>\n",
              "      <th>DayOfWeek</th>\n",
              "      <th>Sales</th>\n",
              "      <th>Customers</th>\n",
              "      <th>Open</th>\n",
              "      <th>Promo</th>\n",
              "      <th>SchoolHoliday</th>\n",
              "    </tr>\n",
              "  </thead>\n",
              "  <tbody>\n",
              "    <tr>\n",
              "      <th>count</th>\n",
              "      <td>1.017209e+06</td>\n",
              "      <td>1.017209e+06</td>\n",
              "      <td>1.017209e+06</td>\n",
              "      <td>1.017209e+06</td>\n",
              "      <td>1.017209e+06</td>\n",
              "      <td>1.017209e+06</td>\n",
              "      <td>1.017209e+06</td>\n",
              "    </tr>\n",
              "    <tr>\n",
              "      <th>mean</th>\n",
              "      <td>5.584297e+02</td>\n",
              "      <td>3.998341e+00</td>\n",
              "      <td>5.773819e+03</td>\n",
              "      <td>6.331459e+02</td>\n",
              "      <td>8.301067e-01</td>\n",
              "      <td>3.815145e-01</td>\n",
              "      <td>1.786467e-01</td>\n",
              "    </tr>\n",
              "    <tr>\n",
              "      <th>std</th>\n",
              "      <td>3.219087e+02</td>\n",
              "      <td>1.997391e+00</td>\n",
              "      <td>3.849926e+03</td>\n",
              "      <td>4.644117e+02</td>\n",
              "      <td>3.755392e-01</td>\n",
              "      <td>4.857586e-01</td>\n",
              "      <td>3.830564e-01</td>\n",
              "    </tr>\n",
              "    <tr>\n",
              "      <th>min</th>\n",
              "      <td>1.000000e+00</td>\n",
              "      <td>1.000000e+00</td>\n",
              "      <td>0.000000e+00</td>\n",
              "      <td>0.000000e+00</td>\n",
              "      <td>0.000000e+00</td>\n",
              "      <td>0.000000e+00</td>\n",
              "      <td>0.000000e+00</td>\n",
              "    </tr>\n",
              "    <tr>\n",
              "      <th>25%</th>\n",
              "      <td>2.800000e+02</td>\n",
              "      <td>2.000000e+00</td>\n",
              "      <td>3.727000e+03</td>\n",
              "      <td>4.050000e+02</td>\n",
              "      <td>1.000000e+00</td>\n",
              "      <td>0.000000e+00</td>\n",
              "      <td>0.000000e+00</td>\n",
              "    </tr>\n",
              "    <tr>\n",
              "      <th>50%</th>\n",
              "      <td>5.580000e+02</td>\n",
              "      <td>4.000000e+00</td>\n",
              "      <td>5.744000e+03</td>\n",
              "      <td>6.090000e+02</td>\n",
              "      <td>1.000000e+00</td>\n",
              "      <td>0.000000e+00</td>\n",
              "      <td>0.000000e+00</td>\n",
              "    </tr>\n",
              "    <tr>\n",
              "      <th>75%</th>\n",
              "      <td>8.380000e+02</td>\n",
              "      <td>6.000000e+00</td>\n",
              "      <td>7.856000e+03</td>\n",
              "      <td>8.370000e+02</td>\n",
              "      <td>1.000000e+00</td>\n",
              "      <td>1.000000e+00</td>\n",
              "      <td>0.000000e+00</td>\n",
              "    </tr>\n",
              "    <tr>\n",
              "      <th>max</th>\n",
              "      <td>1.115000e+03</td>\n",
              "      <td>7.000000e+00</td>\n",
              "      <td>4.155100e+04</td>\n",
              "      <td>7.388000e+03</td>\n",
              "      <td>1.000000e+00</td>\n",
              "      <td>1.000000e+00</td>\n",
              "      <td>1.000000e+00</td>\n",
              "    </tr>\n",
              "  </tbody>\n",
              "</table>\n",
              "</div>\n",
              "      <button class=\"colab-df-convert\" onclick=\"convertToInteractive('df-4f2340df-cf3c-4c7c-a500-6ea9f2a9fb4b')\"\n",
              "              title=\"Convert this dataframe to an interactive table.\"\n",
              "              style=\"display:none;\">\n",
              "        \n",
              "  <svg xmlns=\"http://www.w3.org/2000/svg\" height=\"24px\"viewBox=\"0 0 24 24\"\n",
              "       width=\"24px\">\n",
              "    <path d=\"M0 0h24v24H0V0z\" fill=\"none\"/>\n",
              "    <path d=\"M18.56 5.44l.94 2.06.94-2.06 2.06-.94-2.06-.94-.94-2.06-.94 2.06-2.06.94zm-11 1L8.5 8.5l.94-2.06 2.06-.94-2.06-.94L8.5 2.5l-.94 2.06-2.06.94zm10 10l.94 2.06.94-2.06 2.06-.94-2.06-.94-.94-2.06-.94 2.06-2.06.94z\"/><path d=\"M17.41 7.96l-1.37-1.37c-.4-.4-.92-.59-1.43-.59-.52 0-1.04.2-1.43.59L10.3 9.45l-7.72 7.72c-.78.78-.78 2.05 0 2.83L4 21.41c.39.39.9.59 1.41.59.51 0 1.02-.2 1.41-.59l7.78-7.78 2.81-2.81c.8-.78.8-2.07 0-2.86zM5.41 20L4 18.59l7.72-7.72 1.47 1.35L5.41 20z\"/>\n",
              "  </svg>\n",
              "      </button>\n",
              "      \n",
              "  <style>\n",
              "    .colab-df-container {\n",
              "      display:flex;\n",
              "      flex-wrap:wrap;\n",
              "      gap: 12px;\n",
              "    }\n",
              "\n",
              "    .colab-df-convert {\n",
              "      background-color: #E8F0FE;\n",
              "      border: none;\n",
              "      border-radius: 50%;\n",
              "      cursor: pointer;\n",
              "      display: none;\n",
              "      fill: #1967D2;\n",
              "      height: 32px;\n",
              "      padding: 0 0 0 0;\n",
              "      width: 32px;\n",
              "    }\n",
              "\n",
              "    .colab-df-convert:hover {\n",
              "      background-color: #E2EBFA;\n",
              "      box-shadow: 0px 1px 2px rgba(60, 64, 67, 0.3), 0px 1px 3px 1px rgba(60, 64, 67, 0.15);\n",
              "      fill: #174EA6;\n",
              "    }\n",
              "\n",
              "    [theme=dark] .colab-df-convert {\n",
              "      background-color: #3B4455;\n",
              "      fill: #D2E3FC;\n",
              "    }\n",
              "\n",
              "    [theme=dark] .colab-df-convert:hover {\n",
              "      background-color: #434B5C;\n",
              "      box-shadow: 0px 1px 3px 1px rgba(0, 0, 0, 0.15);\n",
              "      filter: drop-shadow(0px 1px 2px rgba(0, 0, 0, 0.3));\n",
              "      fill: #FFFFFF;\n",
              "    }\n",
              "  </style>\n",
              "\n",
              "      <script>\n",
              "        const buttonEl =\n",
              "          document.querySelector('#df-4f2340df-cf3c-4c7c-a500-6ea9f2a9fb4b button.colab-df-convert');\n",
              "        buttonEl.style.display =\n",
              "          google.colab.kernel.accessAllowed ? 'block' : 'none';\n",
              "\n",
              "        async function convertToInteractive(key) {\n",
              "          const element = document.querySelector('#df-4f2340df-cf3c-4c7c-a500-6ea9f2a9fb4b');\n",
              "          const dataTable =\n",
              "            await google.colab.kernel.invokeFunction('convertToInteractive',\n",
              "                                                     [key], {});\n",
              "          if (!dataTable) return;\n",
              "\n",
              "          const docLinkHtml = 'Like what you see? Visit the ' +\n",
              "            '<a target=\"_blank\" href=https://colab.research.google.com/notebooks/data_table.ipynb>data table notebook</a>'\n",
              "            + ' to learn more about interactive tables.';\n",
              "          element.innerHTML = '';\n",
              "          dataTable['output_type'] = 'display_data';\n",
              "          await google.colab.output.renderOutput(dataTable, element);\n",
              "          const docLink = document.createElement('div');\n",
              "          docLink.innerHTML = docLinkHtml;\n",
              "          element.appendChild(docLink);\n",
              "        }\n",
              "      </script>\n",
              "    </div>\n",
              "  </div>\n",
              "  "
            ]
          },
          "metadata": {},
          "execution_count": 116
        }
      ]
    },
    {
      "cell_type": "markdown",
      "source": [
        "#### Duplicate Values\n",
        "\n",
        "-----"
      ],
      "metadata": {
        "id": "cElA_WMrh1VP"
      }
    },
    {
      "cell_type": "code",
      "source": [
        "# Let's check : Critical Information of the dataset in summary format\n",
        "\n",
        "print(f'The below dataframe gives us feature wise data type, unique values, total count, missing count(NaN).')\n",
        "print('\\n')\n",
        "def ross_1():\n",
        "  temp = pd.DataFrame(index =store_df.columns)\n",
        "  temp['Data_Type'] = ross_df.dtypes\n",
        "  temp['Duplicate_Count'] = ross_df.duplicated().sum()\n",
        "  return temp\n",
        "ross_1()"
      ],
      "metadata": {
        "colab": {
          "base_uri": "https://localhost:8080/",
          "height": 415
        },
        "id": "uo0T1Mvfh51z",
        "outputId": "f5571afa-3599-4cd2-8355-fc3c6310a80d"
      },
      "execution_count": null,
      "outputs": [
        {
          "output_type": "stream",
          "name": "stdout",
          "text": [
            "The below dataframe gives us feature wise data type, unique values, total count, missing count(NaN).\n",
            "\n",
            "\n"
          ]
        },
        {
          "output_type": "execute_result",
          "data": {
            "text/plain": [
              "                          Data_Type  Duplicate_Count\n",
              "Store                         int64                0\n",
              "StoreType                       NaN                0\n",
              "Assortment                      NaN                0\n",
              "CompetitionDistance             NaN                0\n",
              "CompetitionOpenSinceMonth       NaN                0\n",
              "CompetitionOpenSinceYear        NaN                0\n",
              "Promo2                          NaN                0\n",
              "Promo2SinceWeek                 NaN                0\n",
              "Promo2SinceYear                 NaN                0\n",
              "PromoInterval                   NaN                0"
            ],
            "text/html": [
              "\n",
              "  <div id=\"df-eaec2a34-d9a7-4e64-844d-939766a39865\">\n",
              "    <div class=\"colab-df-container\">\n",
              "      <div>\n",
              "<style scoped>\n",
              "    .dataframe tbody tr th:only-of-type {\n",
              "        vertical-align: middle;\n",
              "    }\n",
              "\n",
              "    .dataframe tbody tr th {\n",
              "        vertical-align: top;\n",
              "    }\n",
              "\n",
              "    .dataframe thead th {\n",
              "        text-align: right;\n",
              "    }\n",
              "</style>\n",
              "<table border=\"1\" class=\"dataframe\">\n",
              "  <thead>\n",
              "    <tr style=\"text-align: right;\">\n",
              "      <th></th>\n",
              "      <th>Data_Type</th>\n",
              "      <th>Duplicate_Count</th>\n",
              "    </tr>\n",
              "  </thead>\n",
              "  <tbody>\n",
              "    <tr>\n",
              "      <th>Store</th>\n",
              "      <td>int64</td>\n",
              "      <td>0</td>\n",
              "    </tr>\n",
              "    <tr>\n",
              "      <th>StoreType</th>\n",
              "      <td>NaN</td>\n",
              "      <td>0</td>\n",
              "    </tr>\n",
              "    <tr>\n",
              "      <th>Assortment</th>\n",
              "      <td>NaN</td>\n",
              "      <td>0</td>\n",
              "    </tr>\n",
              "    <tr>\n",
              "      <th>CompetitionDistance</th>\n",
              "      <td>NaN</td>\n",
              "      <td>0</td>\n",
              "    </tr>\n",
              "    <tr>\n",
              "      <th>CompetitionOpenSinceMonth</th>\n",
              "      <td>NaN</td>\n",
              "      <td>0</td>\n",
              "    </tr>\n",
              "    <tr>\n",
              "      <th>CompetitionOpenSinceYear</th>\n",
              "      <td>NaN</td>\n",
              "      <td>0</td>\n",
              "    </tr>\n",
              "    <tr>\n",
              "      <th>Promo2</th>\n",
              "      <td>NaN</td>\n",
              "      <td>0</td>\n",
              "    </tr>\n",
              "    <tr>\n",
              "      <th>Promo2SinceWeek</th>\n",
              "      <td>NaN</td>\n",
              "      <td>0</td>\n",
              "    </tr>\n",
              "    <tr>\n",
              "      <th>Promo2SinceYear</th>\n",
              "      <td>NaN</td>\n",
              "      <td>0</td>\n",
              "    </tr>\n",
              "    <tr>\n",
              "      <th>PromoInterval</th>\n",
              "      <td>NaN</td>\n",
              "      <td>0</td>\n",
              "    </tr>\n",
              "  </tbody>\n",
              "</table>\n",
              "</div>\n",
              "      <button class=\"colab-df-convert\" onclick=\"convertToInteractive('df-eaec2a34-d9a7-4e64-844d-939766a39865')\"\n",
              "              title=\"Convert this dataframe to an interactive table.\"\n",
              "              style=\"display:none;\">\n",
              "        \n",
              "  <svg xmlns=\"http://www.w3.org/2000/svg\" height=\"24px\"viewBox=\"0 0 24 24\"\n",
              "       width=\"24px\">\n",
              "    <path d=\"M0 0h24v24H0V0z\" fill=\"none\"/>\n",
              "    <path d=\"M18.56 5.44l.94 2.06.94-2.06 2.06-.94-2.06-.94-.94-2.06-.94 2.06-2.06.94zm-11 1L8.5 8.5l.94-2.06 2.06-.94-2.06-.94L8.5 2.5l-.94 2.06-2.06.94zm10 10l.94 2.06.94-2.06 2.06-.94-2.06-.94-.94-2.06-.94 2.06-2.06.94z\"/><path d=\"M17.41 7.96l-1.37-1.37c-.4-.4-.92-.59-1.43-.59-.52 0-1.04.2-1.43.59L10.3 9.45l-7.72 7.72c-.78.78-.78 2.05 0 2.83L4 21.41c.39.39.9.59 1.41.59.51 0 1.02-.2 1.41-.59l7.78-7.78 2.81-2.81c.8-.78.8-2.07 0-2.86zM5.41 20L4 18.59l7.72-7.72 1.47 1.35L5.41 20z\"/>\n",
              "  </svg>\n",
              "      </button>\n",
              "      \n",
              "  <style>\n",
              "    .colab-df-container {\n",
              "      display:flex;\n",
              "      flex-wrap:wrap;\n",
              "      gap: 12px;\n",
              "    }\n",
              "\n",
              "    .colab-df-convert {\n",
              "      background-color: #E8F0FE;\n",
              "      border: none;\n",
              "      border-radius: 50%;\n",
              "      cursor: pointer;\n",
              "      display: none;\n",
              "      fill: #1967D2;\n",
              "      height: 32px;\n",
              "      padding: 0 0 0 0;\n",
              "      width: 32px;\n",
              "    }\n",
              "\n",
              "    .colab-df-convert:hover {\n",
              "      background-color: #E2EBFA;\n",
              "      box-shadow: 0px 1px 2px rgba(60, 64, 67, 0.3), 0px 1px 3px 1px rgba(60, 64, 67, 0.15);\n",
              "      fill: #174EA6;\n",
              "    }\n",
              "\n",
              "    [theme=dark] .colab-df-convert {\n",
              "      background-color: #3B4455;\n",
              "      fill: #D2E3FC;\n",
              "    }\n",
              "\n",
              "    [theme=dark] .colab-df-convert:hover {\n",
              "      background-color: #434B5C;\n",
              "      box-shadow: 0px 1px 3px 1px rgba(0, 0, 0, 0.15);\n",
              "      filter: drop-shadow(0px 1px 2px rgba(0, 0, 0, 0.3));\n",
              "      fill: #FFFFFF;\n",
              "    }\n",
              "  </style>\n",
              "\n",
              "      <script>\n",
              "        const buttonEl =\n",
              "          document.querySelector('#df-eaec2a34-d9a7-4e64-844d-939766a39865 button.colab-df-convert');\n",
              "        buttonEl.style.display =\n",
              "          google.colab.kernel.accessAllowed ? 'block' : 'none';\n",
              "\n",
              "        async function convertToInteractive(key) {\n",
              "          const element = document.querySelector('#df-eaec2a34-d9a7-4e64-844d-939766a39865');\n",
              "          const dataTable =\n",
              "            await google.colab.kernel.invokeFunction('convertToInteractive',\n",
              "                                                     [key], {});\n",
              "          if (!dataTable) return;\n",
              "\n",
              "          const docLinkHtml = 'Like what you see? Visit the ' +\n",
              "            '<a target=\"_blank\" href=https://colab.research.google.com/notebooks/data_table.ipynb>data table notebook</a>'\n",
              "            + ' to learn more about interactive tables.';\n",
              "          element.innerHTML = '';\n",
              "          dataTable['output_type'] = 'display_data';\n",
              "          await google.colab.output.renderOutput(dataTable, element);\n",
              "          const docLink = document.createElement('div');\n",
              "          docLink.innerHTML = docLinkHtml;\n",
              "          element.appendChild(docLink);\n",
              "        }\n",
              "      </script>\n",
              "    </div>\n",
              "  </div>\n",
              "  "
            ]
          },
          "metadata": {},
          "execution_count": 117
        }
      ]
    },
    {
      "cell_type": "markdown",
      "source": [
        "#### Missing Values/Null Values\n",
        "\n",
        "-----"
      ],
      "metadata": {
        "id": "1hvODIBHiB3q"
      }
    },
    {
      "cell_type": "code",
      "source": [
        "# Let's check : Critical Information of the dataset in summary format\n",
        "\n",
        "print(f'The below dataframe gives us feature wise data type, unique values, total count, missing count(NaN).')\n",
        "print('\\n')\n",
        "def ross_1():\n",
        "  temp = pd.DataFrame(index =ross_df.columns)\n",
        "  temp['Data_Type'] = ross_df.dtypes\n",
        "  temp['Unique_Count'] = ross_df.nunique()\n",
        "  temp['Count']= ross_df.isnull().count()\n",
        "  temp['Missing_Count'] = ross_df.isnull().sum()\n",
        "  temp['Missing_percentage']= round( temp['Missing_Count'] / temp['Count'] * 100, 2)\n",
        "  return temp\n",
        "ross_1()"
      ],
      "metadata": {
        "colab": {
          "base_uri": "https://localhost:8080/",
          "height": 383
        },
        "id": "YE1Llm4LiEVT",
        "outputId": "cf8d0b6b-b5e6-4172-8241-04fa9ce815b8"
      },
      "execution_count": null,
      "outputs": [
        {
          "output_type": "stream",
          "name": "stdout",
          "text": [
            "The below dataframe gives us feature wise data type, unique values, total count, missing count(NaN).\n",
            "\n",
            "\n"
          ]
        },
        {
          "output_type": "execute_result",
          "data": {
            "text/plain": [
              "              Data_Type  Unique_Count    Count  Missing_Count  \\\n",
              "Store             int64          1115  1017209              0   \n",
              "DayOfWeek         int64             7  1017209              0   \n",
              "Date             object           942  1017209              0   \n",
              "Sales             int64         21734  1017209              0   \n",
              "Customers         int64          4086  1017209              0   \n",
              "Open              int64             2  1017209              0   \n",
              "Promo             int64             2  1017209              0   \n",
              "StateHoliday     object             5  1017209              0   \n",
              "SchoolHoliday     int64             2  1017209              0   \n",
              "\n",
              "               Missing_percentage  \n",
              "Store                         0.0  \n",
              "DayOfWeek                     0.0  \n",
              "Date                          0.0  \n",
              "Sales                         0.0  \n",
              "Customers                     0.0  \n",
              "Open                          0.0  \n",
              "Promo                         0.0  \n",
              "StateHoliday                  0.0  \n",
              "SchoolHoliday                 0.0  "
            ],
            "text/html": [
              "\n",
              "  <div id=\"df-48102de2-4843-46b5-a51c-c2f85d20eb63\">\n",
              "    <div class=\"colab-df-container\">\n",
              "      <div>\n",
              "<style scoped>\n",
              "    .dataframe tbody tr th:only-of-type {\n",
              "        vertical-align: middle;\n",
              "    }\n",
              "\n",
              "    .dataframe tbody tr th {\n",
              "        vertical-align: top;\n",
              "    }\n",
              "\n",
              "    .dataframe thead th {\n",
              "        text-align: right;\n",
              "    }\n",
              "</style>\n",
              "<table border=\"1\" class=\"dataframe\">\n",
              "  <thead>\n",
              "    <tr style=\"text-align: right;\">\n",
              "      <th></th>\n",
              "      <th>Data_Type</th>\n",
              "      <th>Unique_Count</th>\n",
              "      <th>Count</th>\n",
              "      <th>Missing_Count</th>\n",
              "      <th>Missing_percentage</th>\n",
              "    </tr>\n",
              "  </thead>\n",
              "  <tbody>\n",
              "    <tr>\n",
              "      <th>Store</th>\n",
              "      <td>int64</td>\n",
              "      <td>1115</td>\n",
              "      <td>1017209</td>\n",
              "      <td>0</td>\n",
              "      <td>0.0</td>\n",
              "    </tr>\n",
              "    <tr>\n",
              "      <th>DayOfWeek</th>\n",
              "      <td>int64</td>\n",
              "      <td>7</td>\n",
              "      <td>1017209</td>\n",
              "      <td>0</td>\n",
              "      <td>0.0</td>\n",
              "    </tr>\n",
              "    <tr>\n",
              "      <th>Date</th>\n",
              "      <td>object</td>\n",
              "      <td>942</td>\n",
              "      <td>1017209</td>\n",
              "      <td>0</td>\n",
              "      <td>0.0</td>\n",
              "    </tr>\n",
              "    <tr>\n",
              "      <th>Sales</th>\n",
              "      <td>int64</td>\n",
              "      <td>21734</td>\n",
              "      <td>1017209</td>\n",
              "      <td>0</td>\n",
              "      <td>0.0</td>\n",
              "    </tr>\n",
              "    <tr>\n",
              "      <th>Customers</th>\n",
              "      <td>int64</td>\n",
              "      <td>4086</td>\n",
              "      <td>1017209</td>\n",
              "      <td>0</td>\n",
              "      <td>0.0</td>\n",
              "    </tr>\n",
              "    <tr>\n",
              "      <th>Open</th>\n",
              "      <td>int64</td>\n",
              "      <td>2</td>\n",
              "      <td>1017209</td>\n",
              "      <td>0</td>\n",
              "      <td>0.0</td>\n",
              "    </tr>\n",
              "    <tr>\n",
              "      <th>Promo</th>\n",
              "      <td>int64</td>\n",
              "      <td>2</td>\n",
              "      <td>1017209</td>\n",
              "      <td>0</td>\n",
              "      <td>0.0</td>\n",
              "    </tr>\n",
              "    <tr>\n",
              "      <th>StateHoliday</th>\n",
              "      <td>object</td>\n",
              "      <td>5</td>\n",
              "      <td>1017209</td>\n",
              "      <td>0</td>\n",
              "      <td>0.0</td>\n",
              "    </tr>\n",
              "    <tr>\n",
              "      <th>SchoolHoliday</th>\n",
              "      <td>int64</td>\n",
              "      <td>2</td>\n",
              "      <td>1017209</td>\n",
              "      <td>0</td>\n",
              "      <td>0.0</td>\n",
              "    </tr>\n",
              "  </tbody>\n",
              "</table>\n",
              "</div>\n",
              "      <button class=\"colab-df-convert\" onclick=\"convertToInteractive('df-48102de2-4843-46b5-a51c-c2f85d20eb63')\"\n",
              "              title=\"Convert this dataframe to an interactive table.\"\n",
              "              style=\"display:none;\">\n",
              "        \n",
              "  <svg xmlns=\"http://www.w3.org/2000/svg\" height=\"24px\"viewBox=\"0 0 24 24\"\n",
              "       width=\"24px\">\n",
              "    <path d=\"M0 0h24v24H0V0z\" fill=\"none\"/>\n",
              "    <path d=\"M18.56 5.44l.94 2.06.94-2.06 2.06-.94-2.06-.94-.94-2.06-.94 2.06-2.06.94zm-11 1L8.5 8.5l.94-2.06 2.06-.94-2.06-.94L8.5 2.5l-.94 2.06-2.06.94zm10 10l.94 2.06.94-2.06 2.06-.94-2.06-.94-.94-2.06-.94 2.06-2.06.94z\"/><path d=\"M17.41 7.96l-1.37-1.37c-.4-.4-.92-.59-1.43-.59-.52 0-1.04.2-1.43.59L10.3 9.45l-7.72 7.72c-.78.78-.78 2.05 0 2.83L4 21.41c.39.39.9.59 1.41.59.51 0 1.02-.2 1.41-.59l7.78-7.78 2.81-2.81c.8-.78.8-2.07 0-2.86zM5.41 20L4 18.59l7.72-7.72 1.47 1.35L5.41 20z\"/>\n",
              "  </svg>\n",
              "      </button>\n",
              "      \n",
              "  <style>\n",
              "    .colab-df-container {\n",
              "      display:flex;\n",
              "      flex-wrap:wrap;\n",
              "      gap: 12px;\n",
              "    }\n",
              "\n",
              "    .colab-df-convert {\n",
              "      background-color: #E8F0FE;\n",
              "      border: none;\n",
              "      border-radius: 50%;\n",
              "      cursor: pointer;\n",
              "      display: none;\n",
              "      fill: #1967D2;\n",
              "      height: 32px;\n",
              "      padding: 0 0 0 0;\n",
              "      width: 32px;\n",
              "    }\n",
              "\n",
              "    .colab-df-convert:hover {\n",
              "      background-color: #E2EBFA;\n",
              "      box-shadow: 0px 1px 2px rgba(60, 64, 67, 0.3), 0px 1px 3px 1px rgba(60, 64, 67, 0.15);\n",
              "      fill: #174EA6;\n",
              "    }\n",
              "\n",
              "    [theme=dark] .colab-df-convert {\n",
              "      background-color: #3B4455;\n",
              "      fill: #D2E3FC;\n",
              "    }\n",
              "\n",
              "    [theme=dark] .colab-df-convert:hover {\n",
              "      background-color: #434B5C;\n",
              "      box-shadow: 0px 1px 3px 1px rgba(0, 0, 0, 0.15);\n",
              "      filter: drop-shadow(0px 1px 2px rgba(0, 0, 0, 0.3));\n",
              "      fill: #FFFFFF;\n",
              "    }\n",
              "  </style>\n",
              "\n",
              "      <script>\n",
              "        const buttonEl =\n",
              "          document.querySelector('#df-48102de2-4843-46b5-a51c-c2f85d20eb63 button.colab-df-convert');\n",
              "        buttonEl.style.display =\n",
              "          google.colab.kernel.accessAllowed ? 'block' : 'none';\n",
              "\n",
              "        async function convertToInteractive(key) {\n",
              "          const element = document.querySelector('#df-48102de2-4843-46b5-a51c-c2f85d20eb63');\n",
              "          const dataTable =\n",
              "            await google.colab.kernel.invokeFunction('convertToInteractive',\n",
              "                                                     [key], {});\n",
              "          if (!dataTable) return;\n",
              "\n",
              "          const docLinkHtml = 'Like what you see? Visit the ' +\n",
              "            '<a target=\"_blank\" href=https://colab.research.google.com/notebooks/data_table.ipynb>data table notebook</a>'\n",
              "            + ' to learn more about interactive tables.';\n",
              "          element.innerHTML = '';\n",
              "          dataTable['output_type'] = 'display_data';\n",
              "          await google.colab.output.renderOutput(dataTable, element);\n",
              "          const docLink = document.createElement('div');\n",
              "          docLink.innerHTML = docLinkHtml;\n",
              "          element.appendChild(docLink);\n",
              "        }\n",
              "      </script>\n",
              "    </div>\n",
              "  </div>\n",
              "  "
            ]
          },
          "metadata": {},
          "execution_count": 118
        }
      ]
    },
    {
      "cell_type": "code",
      "source": [
        "# Visualizing the missing values\n",
        "\n",
        "msno.matrix(ross_df,figsize=(12,5), color=(1, 0.38, 0.27), fontsize=10)"
      ],
      "metadata": {
        "colab": {
          "base_uri": "https://localhost:8080/",
          "height": 392
        },
        "id": "SGzcm1jjiPZy",
        "outputId": "b07fa81a-2831-49fc-90e2-0fd9675aea5d"
      },
      "execution_count": null,
      "outputs": [
        {
          "output_type": "execute_result",
          "data": {
            "text/plain": [
              "<matplotlib.axes._subplots.AxesSubplot at 0x7fa165bd9dc0>"
            ]
          },
          "metadata": {},
          "execution_count": 119
        },
        {
          "output_type": "display_data",
          "data": {
            "text/plain": [
              "<Figure size 864x360 with 2 Axes>"
            ],
            "image/png": "[encoded data removed]"
          },
          "metadata": {
            "needs_background": "light"
          }
        }
      ]
    },
    {
      "cell_type": "markdown",
      "source": [
        "--------\n",
        "\n",
        "**Observation** - No missing values visible in Rossmann Sales Data, still just to confirm let's check it in numbers with the help of Bar Graph\n",
        "\n",
        "--------"
      ],
      "metadata": {
        "id": "VrBIdg-LiS8l"
      }
    },
    {
      "cell_type": "code",
      "source": [
        "msno.bar(ross_df,figsize=(12,5), color=\"tab:green\", fontsize=10)"
      ],
      "metadata": {
        "colab": {
          "base_uri": "https://localhost:8080/",
          "height": 429
        },
        "id": "nrArolWbiV52",
        "outputId": "78b89f36-ea71-4f9a-cfc3-e522099ff937"
      },
      "execution_count": null,
      "outputs": [
        {
          "output_type": "execute_result",
          "data": {
            "text/plain": [
              "<matplotlib.axes._subplots.AxesSubplot at 0x7fa165dcc4f0>"
            ]
          },
          "metadata": {},
          "execution_count": 120
        },
        {
          "output_type": "display_data",
          "data": {
            "text/plain": [
              "<Figure size 864x360 with 3 Axes>"
            ],
            "image/png": "[encoded data removed]"
          },
          "metadata": {
            "needs_background": "light"
          }
        }
      ]
    },
    {
      "cell_type": "markdown",
      "source": [
        "-------\n",
        "\n",
        "**Observation** - No missing values found in Rossmann Sales Data\n",
        "\n",
        "\n",
        "------"
      ],
      "metadata": {
        "id": "-jlvCjqViZug"
      }
    },
    {
      "cell_type": "markdown",
      "source": [
        "### What did you know about your dataset?\n",
        "\n",
        "------"
      ],
      "metadata": {
        "id": "1tiXxDcsiNft"
      }
    },
    {
      "cell_type": "markdown",
      "source": [
        "![Rossmann_Data_1.png](data:image/png;base64,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)"
      ],
      "metadata": {
        "id": "I14pxtdHigaV"
      }
    },
    {
      "cell_type": "markdown",
      "source": [
        "![Rossmann_Data_2.png](data:image/png;base64,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)"
      ],
      "metadata": {
        "id": "9WAiiA3Hihgu"
      }
    },
    {
      "cell_type": "markdown",
      "source": [
        "## ***2. Understanding Your Variables***\n",
        "\n",
        "------"
      ],
      "metadata": {
        "id": "nA9Y7ga8ng1Z"
      }
    },
    {
      "cell_type": "code",
      "source": [
        "# Dataset Columns\n",
        "\n",
        "store_df.columns"
      ],
      "metadata": {
        "colab": {
          "base_uri": "https://localhost:8080/"
        },
        "id": "xDIi9LaThl1R",
        "outputId": "92691519-cca2-435f-85cf-e974d7fc3ac8"
      },
      "execution_count": null,
      "outputs": [
        {
          "output_type": "execute_result",
          "data": {
            "text/plain": [
              "Index(['Store', 'StoreType', 'Assortment', 'CompetitionDistance',\n",
              "       'CompetitionOpenSinceMonth', 'CompetitionOpenSinceYear', 'Promo2',\n",
              "       'Promo2SinceWeek', 'Promo2SinceYear', 'PromoInterval'],\n",
              "      dtype='object')"
            ]
          },
          "metadata": {},
          "execution_count": 121
        }
      ]
    },
    {
      "cell_type": "code",
      "source": [
        "# Dataset Columns\n",
        "\n",
        "ross_df.columns"
      ],
      "metadata": {
        "colab": {
          "base_uri": "https://localhost:8080/"
        },
        "id": "9Ix64kbfkLRL",
        "outputId": "aed8324d-6888-40de-bddc-627782dd7774"
      },
      "execution_count": null,
      "outputs": [
        {
          "output_type": "execute_result",
          "data": {
            "text/plain": [
              "Index(['Store', 'DayOfWeek', 'Date', 'Sales', 'Customers', 'Open', 'Promo',\n",
              "       'StateHoliday', 'SchoolHoliday'],\n",
              "      dtype='object')"
            ]
          },
          "metadata": {},
          "execution_count": 122
        }
      ]
    },
    {
      "cell_type": "code",
      "source": [
        "# Dataset Describe\n",
        "\n",
        "store_df.describe()"
      ],
      "metadata": {
        "id": "j7xfkqrt5Ag5",
        "colab": {
          "base_uri": "https://localhost:8080/",
          "height": 300
        },
        "outputId": "0bc996bd-fa51-40ae-9409-5bc289dc994c"
      },
      "execution_count": null,
      "outputs": [
        {
          "output_type": "execute_result",
          "data": {
            "text/plain": [
              "            Store  CompetitionDistance  CompetitionOpenSinceMonth  \\\n",
              "count  1115.00000          1112.000000                 761.000000   \n",
              "mean    558.00000          5404.901079                   7.224704   \n",
              "std     322.01708          7663.174720                   3.212348   \n",
              "min       1.00000            20.000000                   1.000000   \n",
              "25%     279.50000           717.500000                   4.000000   \n",
              "50%     558.00000          2325.000000                   8.000000   \n",
              "75%     836.50000          6882.500000                  10.000000   \n",
              "max    1115.00000         75860.000000                  12.000000   \n",
              "\n",
              "       CompetitionOpenSinceYear       Promo2  Promo2SinceWeek  Promo2SinceYear  \n",
              "count                761.000000  1115.000000       571.000000       571.000000  \n",
              "mean                2008.668857     0.512108        23.595447      2011.763573  \n",
              "std                    6.195983     0.500078        14.141984         1.674935  \n",
              "min                 1900.000000     0.000000         1.000000      2009.000000  \n",
              "25%                 2006.000000     0.000000        13.000000      2011.000000  \n",
              "50%                 2010.000000     1.000000        22.000000      2012.000000  \n",
              "75%                 2013.000000     1.000000        37.000000      2013.000000  \n",
              "max                 2015.000000     1.000000        50.000000      2015.000000  "
            ],
            "text/html": [
              "\n",
              "  <div id=\"df-153c9bd8-5a0c-4182-918b-4344fd7d1afd\">\n",
              "    <div class=\"colab-df-container\">\n",
              "      <div>\n",
              "<style scoped>\n",
              "    .dataframe tbody tr th:only-of-type {\n",
              "        vertical-align: middle;\n",
              "    }\n",
              "\n",
              "    .dataframe tbody tr th {\n",
              "        vertical-align: top;\n",
              "    }\n",
              "\n",
              "    .dataframe thead th {\n",
              "        text-align: right;\n",
              "    }\n",
              "</style>\n",
              "<table border=\"1\" class=\"dataframe\">\n",
              "  <thead>\n",
              "    <tr style=\"text-align: right;\">\n",
              "      <th></th>\n",
              "      <th>Store</th>\n",
              "      <th>CompetitionDistance</th>\n",
              "      <th>CompetitionOpenSinceMonth</th>\n",
              "      <th>CompetitionOpenSinceYear</th>\n",
              "      <th>Promo2</th>\n",
              "      <th>Promo2SinceWeek</th>\n",
              "      <th>Promo2SinceYear</th>\n",
              "    </tr>\n",
              "  </thead>\n",
              "  <tbody>\n",
              "    <tr>\n",
              "      <th>count</th>\n",
              "      <td>1115.00000</td>\n",
              "      <td>1112.000000</td>\n",
              "      <td>761.000000</td>\n",
              "      <td>761.000000</td>\n",
              "      <td>1115.000000</td>\n",
              "      <td>571.000000</td>\n",
              "      <td>571.000000</td>\n",
              "    </tr>\n",
              "    <tr>\n",
              "      <th>mean</th>\n",
              "      <td>558.00000</td>\n",
              "      <td>5404.901079</td>\n",
              "      <td>7.224704</td>\n",
              "      <td>2008.668857</td>\n",
              "      <td>0.512108</td>\n",
              "      <td>23.595447</td>\n",
              "      <td>2011.763573</td>\n",
              "    </tr>\n",
              "    <tr>\n",
              "      <th>std</th>\n",
              "      <td>322.01708</td>\n",
              "      <td>7663.174720</td>\n",
              "      <td>3.212348</td>\n",
              "      <td>6.195983</td>\n",
              "      <td>0.500078</td>\n",
              "      <td>14.141984</td>\n",
              "      <td>1.674935</td>\n",
              "    </tr>\n",
              "    <tr>\n",
              "      <th>min</th>\n",
              "      <td>1.00000</td>\n",
              "      <td>20.000000</td>\n",
              "      <td>1.000000</td>\n",
              "      <td>1900.000000</td>\n",
              "      <td>0.000000</td>\n",
              "      <td>1.000000</td>\n",
              "      <td>2009.000000</td>\n",
              "    </tr>\n",
              "    <tr>\n",
              "      <th>25%</th>\n",
              "      <td>279.50000</td>\n",
              "      <td>717.500000</td>\n",
              "      <td>4.000000</td>\n",
              "      <td>2006.000000</td>\n",
              "      <td>0.000000</td>\n",
              "      <td>13.000000</td>\n",
              "      <td>2011.000000</td>\n",
              "    </tr>\n",
              "    <tr>\n",
              "      <th>50%</th>\n",
              "      <td>558.00000</td>\n",
              "      <td>2325.000000</td>\n",
              "      <td>8.000000</td>\n",
              "      <td>2010.000000</td>\n",
              "      <td>1.000000</td>\n",
              "      <td>22.000000</td>\n",
              "      <td>2012.000000</td>\n",
              "    </tr>\n",
              "    <tr>\n",
              "      <th>75%</th>\n",
              "      <td>836.50000</td>\n",
              "      <td>6882.500000</td>\n",
              "      <td>10.000000</td>\n",
              "      <td>2013.000000</td>\n",
              "      <td>1.000000</td>\n",
              "      <td>37.000000</td>\n",
              "      <td>2013.000000</td>\n",
              "    </tr>\n",
              "    <tr>\n",
              "      <th>max</th>\n",
              "      <td>1115.00000</td>\n",
              "      <td>75860.000000</td>\n",
              "      <td>12.000000</td>\n",
              "      <td>2015.000000</td>\n",
              "      <td>1.000000</td>\n",
              "      <td>50.000000</td>\n",
              "      <td>2015.000000</td>\n",
              "    </tr>\n",
              "  </tbody>\n",
              "</table>\n",
              "</div>\n",
              "      <button class=\"colab-df-convert\" onclick=\"convertToInteractive('df-153c9bd8-5a0c-4182-918b-4344fd7d1afd')\"\n",
              "              title=\"Convert this dataframe to an interactive table.\"\n",
              "              style=\"display:none;\">\n",
              "        \n",
              "  <svg xmlns=\"http://www.w3.org/2000/svg\" height=\"24px\"viewBox=\"0 0 24 24\"\n",
              "       width=\"24px\">\n",
              "    <path d=\"M0 0h24v24H0V0z\" fill=\"none\"/>\n",
              "    <path d=\"M18.56 5.44l.94 2.06.94-2.06 2.06-.94-2.06-.94-.94-2.06-.94 2.06-2.06.94zm-11 1L8.5 8.5l.94-2.06 2.06-.94-2.06-.94L8.5 2.5l-.94 2.06-2.06.94zm10 10l.94 2.06.94-2.06 2.06-.94-2.06-.94-.94-2.06-.94 2.06-2.06.94z\"/><path d=\"M17.41 7.96l-1.37-1.37c-.4-.4-.92-.59-1.43-.59-.52 0-1.04.2-1.43.59L10.3 9.45l-7.72 7.72c-.78.78-.78 2.05 0 2.83L4 21.41c.39.39.9.59 1.41.59.51 0 1.02-.2 1.41-.59l7.78-7.78 2.81-2.81c.8-.78.8-2.07 0-2.86zM5.41 20L4 18.59l7.72-7.72 1.47 1.35L5.41 20z\"/>\n",
              "  </svg>\n",
              "      </button>\n",
              "      \n",
              "  <style>\n",
              "    .colab-df-container {\n",
              "      display:flex;\n",
              "      flex-wrap:wrap;\n",
              "      gap: 12px;\n",
              "    }\n",
              "\n",
              "    .colab-df-convert {\n",
              "      background-color: #E8F0FE;\n",
              "      border: none;\n",
              "      border-radius: 50%;\n",
              "      cursor: pointer;\n",
              "      display: none;\n",
              "      fill: #1967D2;\n",
              "      height: 32px;\n",
              "      padding: 0 0 0 0;\n",
              "      width: 32px;\n",
              "    }\n",
              "\n",
              "    .colab-df-convert:hover {\n",
              "      background-color: #E2EBFA;\n",
              "      box-shadow: 0px 1px 2px rgba(60, 64, 67, 0.3), 0px 1px 3px 1px rgba(60, 64, 67, 0.15);\n",
              "      fill: #174EA6;\n",
              "    }\n",
              "\n",
              "    [theme=dark] .colab-df-convert {\n",
              "      background-color: #3B4455;\n",
              "      fill: #D2E3FC;\n",
              "    }\n",
              "\n",
              "    [theme=dark] .colab-df-convert:hover {\n",
              "      background-color: #434B5C;\n",
              "      box-shadow: 0px 1px 3px 1px rgba(0, 0, 0, 0.15);\n",
              "      filter: drop-shadow(0px 1px 2px rgba(0, 0, 0, 0.3));\n",
              "      fill: #FFFFFF;\n",
              "    }\n",
              "  </style>\n",
              "\n",
              "      <script>\n",
              "        const buttonEl =\n",
              "          document.querySelector('#df-153c9bd8-5a0c-4182-918b-4344fd7d1afd button.colab-df-convert');\n",
              "        buttonEl.style.display =\n",
              "          google.colab.kernel.accessAllowed ? 'block' : 'none';\n",
              "\n",
              "        async function convertToInteractive(key) {\n",
              "          const element = document.querySelector('#df-153c9bd8-5a0c-4182-918b-4344fd7d1afd');\n",
              "          const dataTable =\n",
              "            await google.colab.kernel.invokeFunction('convertToInteractive',\n",
              "                                                     [key], {});\n",
              "          if (!dataTable) return;\n",
              "\n",
              "          const docLinkHtml = 'Like what you see? Visit the ' +\n",
              "            '<a target=\"_blank\" href=https://colab.research.google.com/notebooks/data_table.ipynb>data table notebook</a>'\n",
              "            + ' to learn more about interactive tables.';\n",
              "          element.innerHTML = '';\n",
              "          dataTable['output_type'] = 'display_data';\n",
              "          await google.colab.output.renderOutput(dataTable, element);\n",
              "          const docLink = document.createElement('div');\n",
              "          docLink.innerHTML = docLinkHtml;\n",
              "          element.appendChild(docLink);\n",
              "        }\n",
              "      </script>\n",
              "    </div>\n",
              "  </div>\n",
              "  "
            ]
          },
          "metadata": {},
          "execution_count": 123
        }
      ]
    },
    {
      "cell_type": "code",
      "source": [
        "ross_df.describe()"
      ],
      "metadata": {
        "id": "DnOaZdaE5Q5t",
        "colab": {
          "base_uri": "https://localhost:8080/",
          "height": 300
        },
        "outputId": "fff6b165-3b62-490a-c598-bef04ec31981"
      },
      "execution_count": null,
      "outputs": [
        {
          "output_type": "execute_result",
          "data": {
            "text/plain": [
              "              Store     DayOfWeek         Sales     Customers          Open  \\\n",
              "count  1.017209e+06  1.017209e+06  1.017209e+06  1.017209e+06  1.017209e+06   \n",
              "mean   5.584297e+02  3.998341e+00  5.773819e+03  6.331459e+02  8.301067e-01   \n",
              "std    3.219087e+02  1.997391e+00  3.849926e+03  4.644117e+02  3.755392e-01   \n",
              "min    1.000000e+00  1.000000e+00  0.000000e+00  0.000000e+00  0.000000e+00   \n",
              "25%    2.800000e+02  2.000000e+00  3.727000e+03  4.050000e+02  1.000000e+00   \n",
              "50%    5.580000e+02  4.000000e+00  5.744000e+03  6.090000e+02  1.000000e+00   \n",
              "75%    8.380000e+02  6.000000e+00  7.856000e+03  8.370000e+02  1.000000e+00   \n",
              "max    1.115000e+03  7.000000e+00  4.155100e+04  7.388000e+03  1.000000e+00   \n",
              "\n",
              "              Promo  SchoolHoliday  \n",
              "count  1.017209e+06   1.017209e+06  \n",
              "mean   3.815145e-01   1.786467e-01  \n",
              "std    4.857586e-01   3.830564e-01  \n",
              "min    0.000000e+00   0.000000e+00  \n",
              "25%    0.000000e+00   0.000000e+00  \n",
              "50%    0.000000e+00   0.000000e+00  \n",
              "75%    1.000000e+00   0.000000e+00  \n",
              "max    1.000000e+00   1.000000e+00  "
            ],
            "text/html": [
              "\n",
              "  <div id=\"df-2233702d-c31d-4c8b-b352-96b3ad11c940\">\n",
              "    <div class=\"colab-df-container\">\n",
              "      <div>\n",
              "<style scoped>\n",
              "    .dataframe tbody tr th:only-of-type {\n",
              "        vertical-align: middle;\n",
              "    }\n",
              "\n",
              "    .dataframe tbody tr th {\n",
              "        vertical-align: top;\n",
              "    }\n",
              "\n",
              "    .dataframe thead th {\n",
              "        text-align: right;\n",
              "    }\n",
              "</style>\n",
              "<table border=\"1\" class=\"dataframe\">\n",
              "  <thead>\n",
              "    <tr style=\"text-align: right;\">\n",
              "      <th></th>\n",
              "      <th>Store</th>\n",
              "      <th>DayOfWeek</th>\n",
              "      <th>Sales</th>\n",
              "      <th>Customers</th>\n",
              "      <th>Open</th>\n",
              "      <th>Promo</th>\n",
              "      <th>SchoolHoliday</th>\n",
              "    </tr>\n",
              "  </thead>\n",
              "  <tbody>\n",
              "    <tr>\n",
              "      <th>count</th>\n",
              "      <td>1.017209e+06</td>\n",
              "      <td>1.017209e+06</td>\n",
              "      <td>1.017209e+06</td>\n",
              "      <td>1.017209e+06</td>\n",
              "      <td>1.017209e+06</td>\n",
              "      <td>1.017209e+06</td>\n",
              "      <td>1.017209e+06</td>\n",
              "    </tr>\n",
              "    <tr>\n",
              "      <th>mean</th>\n",
              "      <td>5.584297e+02</td>\n",
              "      <td>3.998341e+00</td>\n",
              "      <td>5.773819e+03</td>\n",
              "      <td>6.331459e+02</td>\n",
              "      <td>8.301067e-01</td>\n",
              "      <td>3.815145e-01</td>\n",
              "      <td>1.786467e-01</td>\n",
              "    </tr>\n",
              "    <tr>\n",
              "      <th>std</th>\n",
              "      <td>3.219087e+02</td>\n",
              "      <td>1.997391e+00</td>\n",
              "      <td>3.849926e+03</td>\n",
              "      <td>4.644117e+02</td>\n",
              "      <td>3.755392e-01</td>\n",
              "      <td>4.857586e-01</td>\n",
              "      <td>3.830564e-01</td>\n",
              "    </tr>\n",
              "    <tr>\n",
              "      <th>min</th>\n",
              "      <td>1.000000e+00</td>\n",
              "      <td>1.000000e+00</td>\n",
              "      <td>0.000000e+00</td>\n",
              "      <td>0.000000e+00</td>\n",
              "      <td>0.000000e+00</td>\n",
              "      <td>0.000000e+00</td>\n",
              "      <td>0.000000e+00</td>\n",
              "    </tr>\n",
              "    <tr>\n",
              "      <th>25%</th>\n",
              "      <td>2.800000e+02</td>\n",
              "      <td>2.000000e+00</td>\n",
              "      <td>3.727000e+03</td>\n",
              "      <td>4.050000e+02</td>\n",
              "      <td>1.000000e+00</td>\n",
              "      <td>0.000000e+00</td>\n",
              "      <td>0.000000e+00</td>\n",
              "    </tr>\n",
              "    <tr>\n",
              "      <th>50%</th>\n",
              "      <td>5.580000e+02</td>\n",
              "      <td>4.000000e+00</td>\n",
              "      <td>5.744000e+03</td>\n",
              "      <td>6.090000e+02</td>\n",
              "      <td>1.000000e+00</td>\n",
              "      <td>0.000000e+00</td>\n",
              "      <td>0.000000e+00</td>\n",
              "    </tr>\n",
              "    <tr>\n",
              "      <th>75%</th>\n",
              "      <td>8.380000e+02</td>\n",
              "      <td>6.000000e+00</td>\n",
              "      <td>7.856000e+03</td>\n",
              "      <td>8.370000e+02</td>\n",
              "      <td>1.000000e+00</td>\n",
              "      <td>1.000000e+00</td>\n",
              "      <td>0.000000e+00</td>\n",
              "    </tr>\n",
              "    <tr>\n",
              "      <th>max</th>\n",
              "      <td>1.115000e+03</td>\n",
              "      <td>7.000000e+00</td>\n",
              "      <td>4.155100e+04</td>\n",
              "      <td>7.388000e+03</td>\n",
              "      <td>1.000000e+00</td>\n",
              "      <td>1.000000e+00</td>\n",
              "      <td>1.000000e+00</td>\n",
              "    </tr>\n",
              "  </tbody>\n",
              "</table>\n",
              "</div>\n",
              "      <button class=\"colab-df-convert\" onclick=\"convertToInteractive('df-2233702d-c31d-4c8b-b352-96b3ad11c940')\"\n",
              "              title=\"Convert this dataframe to an interactive table.\"\n",
              "              style=\"display:none;\">\n",
              "        \n",
              "  <svg xmlns=\"http://www.w3.org/2000/svg\" height=\"24px\"viewBox=\"0 0 24 24\"\n",
              "       width=\"24px\">\n",
              "    <path d=\"M0 0h24v24H0V0z\" fill=\"none\"/>\n",
              "    <path d=\"M18.56 5.44l.94 2.06.94-2.06 2.06-.94-2.06-.94-.94-2.06-.94 2.06-2.06.94zm-11 1L8.5 8.5l.94-2.06 2.06-.94-2.06-.94L8.5 2.5l-.94 2.06-2.06.94zm10 10l.94 2.06.94-2.06 2.06-.94-2.06-.94-.94-2.06-.94 2.06-2.06.94z\"/><path d=\"M17.41 7.96l-1.37-1.37c-.4-.4-.92-.59-1.43-.59-.52 0-1.04.2-1.43.59L10.3 9.45l-7.72 7.72c-.78.78-.78 2.05 0 2.83L4 21.41c.39.39.9.59 1.41.59.51 0 1.02-.2 1.41-.59l7.78-7.78 2.81-2.81c.8-.78.8-2.07 0-2.86zM5.41 20L4 18.59l7.72-7.72 1.47 1.35L5.41 20z\"/>\n",
              "  </svg>\n",
              "      </button>\n",
              "      \n",
              "  <style>\n",
              "    .colab-df-container {\n",
              "      display:flex;\n",
              "      flex-wrap:wrap;\n",
              "      gap: 12px;\n",
              "    }\n",
              "\n",
              "    .colab-df-convert {\n",
              "      background-color: #E8F0FE;\n",
              "      border: none;\n",
              "      border-radius: 50%;\n",
              "      cursor: pointer;\n",
              "      display: none;\n",
              "      fill: #1967D2;\n",
              "      height: 32px;\n",
              "      padding: 0 0 0 0;\n",
              "      width: 32px;\n",
              "    }\n",
              "\n",
              "    .colab-df-convert:hover {\n",
              "      background-color: #E2EBFA;\n",
              "      box-shadow: 0px 1px 2px rgba(60, 64, 67, 0.3), 0px 1px 3px 1px rgba(60, 64, 67, 0.15);\n",
              "      fill: #174EA6;\n",
              "    }\n",
              "\n",
              "    [theme=dark] .colab-df-convert {\n",
              "      background-color: #3B4455;\n",
              "      fill: #D2E3FC;\n",
              "    }\n",
              "\n",
              "    [theme=dark] .colab-df-convert:hover {\n",
              "      background-color: #434B5C;\n",
              "      box-shadow: 0px 1px 3px 1px rgba(0, 0, 0, 0.15);\n",
              "      filter: drop-shadow(0px 1px 2px rgba(0, 0, 0, 0.3));\n",
              "      fill: #FFFFFF;\n",
              "    }\n",
              "  </style>\n",
              "\n",
              "      <script>\n",
              "        const buttonEl =\n",
              "          document.querySelector('#df-2233702d-c31d-4c8b-b352-96b3ad11c940 button.colab-df-convert');\n",
              "        buttonEl.style.display =\n",
              "          google.colab.kernel.accessAllowed ? 'block' : 'none';\n",
              "\n",
              "        async function convertToInteractive(key) {\n",
              "          const element = document.querySelector('#df-2233702d-c31d-4c8b-b352-96b3ad11c940');\n",
              "          const dataTable =\n",
              "            await google.colab.kernel.invokeFunction('convertToInteractive',\n",
              "                                                     [key], {});\n",
              "          if (!dataTable) return;\n",
              "\n",
              "          const docLinkHtml = 'Like what you see? Visit the ' +\n",
              "            '<a target=\"_blank\" href=https://colab.research.google.com/notebooks/data_table.ipynb>data table notebook</a>'\n",
              "            + ' to learn more about interactive tables.';\n",
              "          element.innerHTML = '';\n",
              "          dataTable['output_type'] = 'display_data';\n",
              "          await google.colab.output.renderOutput(dataTable, element);\n",
              "          const docLink = document.createElement('div');\n",
              "          docLink.innerHTML = docLinkHtml;\n",
              "          element.appendChild(docLink);\n",
              "        }\n",
              "      </script>\n",
              "    </div>\n",
              "  </div>\n",
              "  "
            ]
          },
          "metadata": {},
          "execution_count": 124
        }
      ]
    },
    {
      "cell_type": "markdown",
      "source": [
        "### Variables Description \n",
        "\n",
        "-------"
      ],
      "metadata": {
        "id": "PBTbrJXOngz2"
      }
    },
    {
      "cell_type": "markdown",
      "source": [
        "![Data Description Title.png](data:image/png;base64,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)\n",
        "\n",
        "\n",
        "\n",
        "\n",
        "\n",
        "### <b><u>Data fields</u></b>\n",
        "### Most of the fields are self-explanatory. The following are descriptions for those that aren't.\n",
        "\n",
        "* #### Id - an Id that represents a (Store, Date) duple within the test set\n",
        "* #### Store - a unique Id for each store\n",
        "* #### Sales - the turnover for any given day (this is what you are predicting)\n",
        "* #### Customers - the number of customers on a given day\n",
        "* #### Open - an indicator for whether the store was open: 0 = closed, 1 = open\n",
        "* #### StateHoliday - indicates a state holiday. Normally all stores, with few exceptions, are closed on state holidays. Note that all schools are closed on public holidays and weekends. a = public holiday, b = Easter holiday, c = Christmas, 0 = None\n",
        "* #### SchoolHoliday - indicates if the (Store, Date) was affected by the closure of public schools\n",
        "* #### StoreType - differentiates between 4 different store models: a, b, c, d\n",
        "* #### Assortment - describes an assortment level: a = basic, b = extra, c = extended\n",
        "* #### CompetitionDistance - distance in meters to the nearest competitor store\n",
        "* #### CompetitionOpenSince[Month/Year] - gives the approximate year and month of the time the nearest competitor was opened\n",
        "* #### Promo - indicates whether a store is running a promo on that day\n",
        "* #### Promo2 - Promo2 is a continuing and consecutive promotion for some stores: 0 = store is not participating, 1 = store is participating\n",
        "* #### Promo2Since[Year/Week] - describes the year and calendar week when the store started participating in Promo2\n",
        "* #### PromoInterval - describes the consecutive intervals Promo2 is started, naming the months the promotion is started anew. E.g. \"Feb,May,Aug,Nov\" means each round starts in February, May, August, November of any given year for that store"
      ],
      "metadata": {
        "id": "aJV4KIxSnxay"
      }
    },
    {
      "cell_type": "markdown",
      "source": [
        "### Check Unique Values for each variable.\n",
        "\n",
        "-----"
      ],
      "metadata": {
        "id": "u3PMJOP6ngxN"
      }
    },
    {
      "cell_type": "markdown",
      "source": [
        "**Store Data Variables (Unique Values)**\n",
        "\n",
        "------"
      ],
      "metadata": {
        "id": "1Jypv1Jflcr-"
      }
    },
    {
      "cell_type": "code",
      "source": [
        "# Check Unique Values for each variable.\n",
        "\n",
        "col_store = store_df.columns\n",
        "col_store"
      ],
      "metadata": {
        "id": "zms12Yq5n-jE",
        "colab": {
          "base_uri": "https://localhost:8080/"
        },
        "outputId": "711c094c-5eb3-482e-ab7a-f4a8bec52854"
      },
      "execution_count": null,
      "outputs": [
        {
          "output_type": "execute_result",
          "data": {
            "text/plain": [
              "Index(['Store', 'StoreType', 'Assortment', 'CompetitionDistance',\n",
              "       'CompetitionOpenSinceMonth', 'CompetitionOpenSinceYear', 'Promo2',\n",
              "       'Promo2SinceWeek', 'Promo2SinceYear', 'PromoInterval'],\n",
              "      dtype='object')"
            ]
          },
          "metadata": {},
          "execution_count": 125
        }
      ]
    },
    {
      "cell_type": "code",
      "source": [
        "# Check Unique Values for each variable.\n",
        "\n",
        "#checking the unique values involved and if all the values are in appropriate datatypes\n",
        "for col in col_store:\n",
        "  \n",
        "  print(f'Unique values for {col}: {store_df[col].unique()}')"
      ],
      "metadata": {
        "colab": {
          "base_uri": "https://localhost:8080/"
        },
        "id": "mR7_YhP2lMTf",
        "outputId": "7ce5b4a6-d7a9-4aa0-ccca-17d453872db6"
      },
      "execution_count": null,
      "outputs": [
        {
          "output_type": "stream",
          "name": "stdout",
          "text": [
            "Unique values for Store: [   1    2    3 ... 1113 1114 1115]\n",
            "Unique values for StoreType: ['c' 'a' 'd' 'b']\n",
            "Unique values for Assortment: ['a' 'c' 'b']\n",
            "Unique values for CompetitionDistance: [1.270e+03 5.700e+02 1.413e+04 6.200e+02 2.991e+04 3.100e+02 2.400e+04\n",
            " 7.520e+03 2.030e+03 3.160e+03 9.600e+02 1.070e+03 1.300e+03 4.110e+03\n",
            " 3.270e+03 5.000e+01 1.384e+04 3.240e+03 2.340e+03 5.500e+02 1.040e+03\n",
            " 4.060e+03 4.590e+03 4.300e+02 2.300e+03 6.000e+01 1.200e+03 2.170e+03\n",
            " 4.000e+01 9.800e+03 2.910e+03 1.320e+03 2.240e+03 7.660e+03 5.400e+02\n",
            " 4.230e+03 1.090e+03 2.600e+02 1.800e+02 1.180e+03 2.900e+02 4.880e+03\n",
            " 9.710e+03 2.700e+02 1.060e+03 1.801e+04 6.260e+03 1.057e+04 4.500e+02\n",
            " 3.036e+04 7.170e+03 7.200e+02 6.620e+03 4.200e+02 7.340e+03 2.840e+03\n",
            " 5.540e+03 3.500e+02 2.050e+03 3.700e+03 2.256e+04 4.100e+02 2.500e+02\n",
            " 1.130e+03 4.840e+03 1.750e+04 2.200e+03 1.650e+03 3.300e+02 2.244e+04\n",
            " 1.996e+04 3.510e+03 3.320e+03 7.910e+03 2.370e+03 2.239e+04 2.710e+03\n",
            " 1.181e+04 1.870e+03 4.800e+02 5.600e+02 1.069e+04 2.380e+03 2.410e+03\n",
            " 2.400e+02 1.669e+04 1.462e+04 1.890e+03 8.780e+03 8.980e+03 1.514e+04\n",
            " 1.793e+04 2.440e+03 1.500e+02 5.210e+03 3.900e+02 6.190e+03 1.390e+03\n",
            " 1.930e+03 2.190e+03 3.300e+03 4.659e+04 7.890e+03 1.630e+03 2.093e+04\n",
            " 4.510e+03 5.740e+03 6.800e+02 3.450e+03 3.580e+03 2.100e+03 2.290e+03\n",
            " 3.570e+03 5.826e+04 1.676e+04 1.410e+03 7.600e+02 3.370e+03 1.350e+03\n",
            " 2.000e+03 2.460e+03 9.000e+02 9.200e+02 5.190e+03 1.730e+03 2.536e+04\n",
            " 1.700e+03 1.540e+03 2.930e+03 1.657e+04 2.800e+02 8.050e+03 8.540e+03\n",
            " 2.090e+03 2.610e+03 3.183e+04 4.360e+03 1.780e+03 1.624e+04 1.642e+04\n",
            " 3.050e+03 2.020e+03 2.950e+03 1.184e+04 8.530e+03 1.711e+04 2.970e+03\n",
            " 5.340e+03 1.480e+03 1.160e+03 3.720e+03 1.000e+02 1.400e+02 1.254e+04\n",
            " 9.800e+02 2.640e+03 1.100e+02 1.309e+04 4.130e+03 3.770e+03 1.250e+03\n",
            " 1.710e+03 5.800e+03 1.261e+04 9.670e+03 3.560e+03 1.860e+03 1.936e+04\n",
            " 8.500e+02 5.760e+03 1.470e+03 1.100e+03 2.770e+03 5.200e+02 1.697e+04\n",
            " 2.200e+02 3.850e+03 4.210e+03 6.360e+03 2.026e+04 5.140e+03 4.900e+02\n",
            " 5.630e+03 3.800e+02 6.870e+03 3.000e+02 1.168e+04 9.700e+02 1.505e+04\n",
            " 4.030e+03 8.650e+03 1.900e+02 3.150e+03 6.400e+02 1.640e+03 1.000e+03\n",
            " 1.353e+04 2.920e+03 7.930e+03 1.018e+04 1.080e+04 1.741e+04 6.680e+03\n",
            " 3.840e+03 1.357e+04 4.370e+03 5.710e+03 1.420e+03 3.200e+02 6.100e+02\n",
            " 1.110e+03 7.800e+02 6.880e+03 7.100e+02 1.310e+03 4.660e+03 7.000e+01\n",
            " 3.400e+02 3.520e+03 2.233e+04 4.630e+03 8.000e+01 2.719e+04 2.100e+02\n",
            " 1.534e+04 1.140e+03 4.580e+03 3.600e+02 4.520e+03 1.450e+03 1.618e+04\n",
            " 8.480e+03 3.640e+03 2.960e+03 7.840e+03 9.260e+03 2.320e+03 1.864e+04\n",
            " 6.970e+03 1.220e+03 2.260e+03 1.290e+03 1.460e+03 2.740e+03 8.000e+02\n",
            " 6.540e+03 4.150e+03       nan 9.580e+03 1.984e+04 3.863e+04 1.200e+02\n",
            " 1.543e+04 1.950e+03 2.470e+03 5.100e+03 1.866e+04 8.740e+03 1.130e+04\n",
            " 1.416e+04 3.871e+04 9.000e+03 3.140e+03 3.233e+04 8.140e+03 8.400e+03\n",
            " 1.314e+04 1.007e+04 3.130e+03 3.700e+02 6.700e+02 1.840e+03 4.040e+03\n",
            " 9.000e+01 1.060e+04 1.590e+03 2.280e+03 8.080e+03 1.577e+04 1.865e+04\n",
            " 8.090e+03 9.360e+03 1.649e+04 1.490e+03 8.880e+03 5.290e+03 1.500e+03\n",
            " 9.720e+03 8.970e+03 2.060e+03 2.890e+03 2.040e+03 4.490e+03 1.362e+04\n",
            " 6.470e+03 5.870e+03 8.250e+03 1.970e+03 1.112e+04 1.150e+03 1.571e+04\n",
            " 1.600e+02 2.140e+03 6.630e+03 1.800e+03 2.613e+04 1.300e+02 6.690e+03\n",
            " 1.600e+03 4.600e+02 2.120e+03 4.820e+03 1.085e+04 3.620e+03 2.313e+04\n",
            " 5.360e+03 9.200e+03 5.830e+03 4.970e+03 1.080e+03 8.240e+03 5.890e+03\n",
            " 1.560e+03 8.400e+02 8.460e+03 4.460e+03 6.210e+03 6.910e+03 4.650e+03\n",
            " 1.620e+03 3.530e+03 2.880e+03 1.635e+04 1.287e+04 8.100e+02 3.003e+04\n",
            " 1.302e+04 9.100e+02 3.900e+03 2.530e+03 5.000e+02 1.140e+04 1.510e+03\n",
            " 3.970e+03 5.780e+03 1.850e+03 7.586e+04 2.645e+04 3.390e+03 3.405e+04\n",
            " 1.790e+03 4.432e+04 4.160e+03 1.089e+04 3.110e+03 2.039e+04 5.260e+03\n",
            " 5.300e+03 5.030e+03 1.481e+04 8.300e+03 7.700e+02 1.940e+03 7.470e+03\n",
            " 2.550e+03 2.310e+03 1.430e+04 2.180e+03 1.496e+04 6.600e+02 4.680e+03\n",
            " 1.740e+03 1.260e+03 5.470e+03 2.780e+03 1.610e+03 9.900e+02 1.308e+04\n",
            " 8.200e+02 9.070e+03 1.280e+03 4.740e+03 8.260e+03 5.900e+02 4.000e+02\n",
            " 1.126e+04 2.000e+01 2.249e+04 3.330e+03 2.510e+03 6.900e+03 1.861e+04\n",
            " 7.160e+03 4.086e+04 2.062e+04 1.292e+04 1.816e+04 5.950e+03 4.700e+03\n",
            " 6.000e+02 6.500e+02 7.280e+03 5.020e+03 5.800e+02 8.990e+03 3.760e+03\n",
            " 2.330e+03 4.260e+03 3.040e+03 3.000e+03 3.910e+03 1.910e+03 1.210e+03\n",
            " 7.000e+02 1.010e+03 4.270e+03 1.340e+03 2.110e+03 9.230e+03 1.190e+03\n",
            " 4.400e+03 2.270e+03 1.270e+04 2.097e+04 1.700e+02 7.250e+03 1.360e+03\n",
            " 4.400e+02 1.572e+04 3.340e+03 2.540e+03 3.306e+04 1.734e+04 8.220e+03\n",
            " 1.095e+04 1.031e+04 1.837e+04 2.070e+03 2.490e+03 7.300e+02 8.940e+03\n",
            " 9.910e+03 5.440e+03 3.000e+01 4.080e+03 6.920e+03 1.170e+03 1.074e+04\n",
            " 5.100e+02 1.690e+03 2.870e+03 3.350e+03 1.164e+04 2.753e+04 9.790e+03\n",
            " 1.017e+04 7.780e+03 8.040e+03 5.300e+02 2.300e+02 7.420e+03 2.130e+03\n",
            " 1.457e+04 2.000e+02 6.930e+03 7.860e+03 1.680e+03 2.700e+03 1.708e+04\n",
            " 1.517e+04 3.250e+03 4.140e+03 2.850e+03 2.005e+04 1.876e+04 1.504e+04\n",
            " 3.030e+03 3.780e+03 8.300e+02 8.550e+03 7.830e+03 2.900e+03 1.147e+04\n",
            " 4.870e+03 1.207e+04 3.200e+03 8.190e+03 1.532e+04 3.590e+03 5.650e+03\n",
            " 5.900e+03 1.754e+04 4.054e+04 1.399e+04 1.527e+04 3.528e+04 8.600e+02\n",
            " 1.920e+03 5.980e+03 6.400e+03 1.190e+04 4.380e+03 6.710e+03 1.370e+03\n",
            " 1.765e+04 4.330e+03 4.574e+04 3.410e+03 8.670e+03 1.313e+04 1.978e+04\n",
            " 2.390e+03 3.224e+04 2.649e+04 2.543e+04 9.820e+03 2.630e+03 2.064e+04\n",
            " 1.699e+04 6.300e+02 5.390e+03 1.549e+04 3.210e+03 1.530e+03 9.770e+03\n",
            " 1.728e+04 5.090e+03 7.180e+03 9.560e+03 4.833e+04 1.760e+03 2.477e+04\n",
            " 3.870e+03 1.862e+04 1.277e+04 9.640e+03 2.590e+03 2.453e+04 1.621e+04\n",
            " 1.757e+04 7.980e+03 3.290e+03 6.320e+03 5.070e+03 3.470e+03 2.720e+03\n",
            " 1.460e+04 6.890e+03 2.765e+04 8.860e+03 5.000e+03 1.120e+03 9.400e+02\n",
            " 1.404e+04 4.770e+03 3.440e+03 3.020e+03 6.270e+03 2.177e+04 7.400e+02\n",
            " 2.137e+04 1.020e+03 9.680e+03 2.181e+04 1.062e+04 3.860e+03 2.179e+04\n",
            " 2.919e+04 4.570e+03 7.550e+03 1.243e+04 1.970e+04 4.450e+03 1.867e+04\n",
            " 1.937e+04 1.854e+04 3.920e+03 3.170e+03 7.290e+03 1.980e+03 1.248e+04\n",
            " 3.100e+03 7.240e+03 1.871e+04 2.620e+03 6.420e+03 4.700e+02 5.150e+03\n",
            " 1.570e+04 5.460e+03 2.235e+04 2.810e+03 2.820e+03 6.860e+03 1.802e+04\n",
            " 1.670e+03 2.220e+03 1.430e+03 8.700e+02 6.300e+03 1.983e+04 9.430e+03\n",
            " 2.362e+04 9.630e+03 4.180e+03 3.890e+03 4.420e+03 2.193e+04 2.480e+03\n",
            " 3.460e+03 6.560e+03 5.840e+03 2.230e+03 1.964e+04 6.480e+03 4.610e+03\n",
            " 6.330e+03 1.520e+03 3.740e+03 1.990e+03 3.641e+04 7.680e+03 1.375e+04\n",
            " 2.715e+04 1.729e+04 2.699e+04 2.907e+04 3.750e+03 1.317e+04 5.080e+03\n",
            " 1.319e+04 5.350e+03 3.230e+03 3.380e+03 3.430e+03 8.110e+03 6.250e+03\n",
            " 1.202e+04 5.010e+03 1.805e+04 5.380e+03 1.668e+04 1.154e+04 2.210e+03\n",
            " 4.300e+03 5.220e+03 9.990e+03 1.045e+04 6.900e+02 1.830e+03 5.330e+03\n",
            " 1.400e+03 3.490e+03 1.900e+03 1.880e+03]\n",
            "Unique values for CompetitionOpenSinceMonth: [ 9. 11. 12.  4. 10.  8. nan  3.  6.  5.  1.  2.  7.]\n",
            "Unique values for CompetitionOpenSinceYear: [2008. 2007. 2006. 2009. 2015. 2013. 2014. 2000. 2011.   nan 2010. 2005.\n",
            " 1999. 2003. 2012. 2004. 2002. 1961. 1995. 2001. 1990. 1994. 1900. 1998.]\n",
            "Unique values for Promo2: [0 1]\n",
            "Unique values for Promo2SinceWeek: [nan 13. 14.  1. 45. 40. 26. 22.  5.  6. 10. 31. 37.  9. 39. 27. 18. 35.\n",
            " 23. 48. 36. 50. 44. 49. 28.]\n",
            "Unique values for Promo2SinceYear: [  nan 2010. 2011. 2012. 2009. 2014. 2015. 2013.]\n",
            "Unique values for PromoInterval: [nan 'Jan,Apr,Jul,Oct' 'Feb,May,Aug,Nov' 'Mar,Jun,Sept,Dec']\n"
          ]
        }
      ]
    },
    {
      "cell_type": "markdown",
      "source": [
        "**Rossmann Data Variables (Unique Values)**\n",
        "\n",
        "------"
      ],
      "metadata": {
        "id": "oD6Bq3aWlR_U"
      }
    },
    {
      "cell_type": "code",
      "source": [
        "col_ross = ross_df.columns\n",
        "col_ross"
      ],
      "metadata": {
        "colab": {
          "base_uri": "https://localhost:8080/"
        },
        "id": "M595NK2wlglA",
        "outputId": "1a76ef79-d234-45f4-af77-faf2b817c11b"
      },
      "execution_count": null,
      "outputs": [
        {
          "output_type": "execute_result",
          "data": {
            "text/plain": [
              "Index(['Store', 'DayOfWeek', 'Date', 'Sales', 'Customers', 'Open', 'Promo',\n",
              "       'StateHoliday', 'SchoolHoliday'],\n",
              "      dtype='object')"
            ]
          },
          "metadata": {},
          "execution_count": 127
        }
      ]
    },
    {
      "cell_type": "code",
      "source": [
        "# Check Unique Values for each variable.\n",
        "\n",
        "#checking the unique values involved and if all the values are in appropriate datatypes\n",
        "for col in col_ross:\n",
        "  \n",
        "  print(f'Unique values for {col}: {ross_df[col].unique()}')"
      ],
      "metadata": {
        "colab": {
          "base_uri": "https://localhost:8080/"
        },
        "id": "LaNzd1eWlks_",
        "outputId": "d4d6c661-6f4c-4ccb-8e1e-05330ddd5155"
      },
      "execution_count": null,
      "outputs": [
        {
          "output_type": "stream",
          "name": "stdout",
          "text": [
            "Unique values for Store: [   1    2    3 ... 1113 1114 1115]\n",
            "Unique values for DayOfWeek: [5 4 3 2 1 7 6]\n",
            "Unique values for Date: ['31-07-2015' '30-07-2015' '29-07-2015' '28-07-2015' '27-07-2015'\n",
            " '26-07-2015' '25-07-2015' '24-07-2015' '23-07-2015' '22-07-2015'\n",
            " '21-07-2015' '20-07-2015' '19-07-2015' '18-07-2015' '17-07-2015'\n",
            " '16-07-2015' '15-07-2015' '14-07-2015' '13-07-2015' '12-07-2015'\n",
            " '11-07-2015' '10-07-2015' '09-07-2015' '08-07-2015' '07-07-2015'\n",
            " '06-07-2015' '05-07-2015' '04-07-2015' '03-07-2015' '02-07-2015'\n",
            " '01-07-2015' '30-06-2015' '29-06-2015' '28-06-2015' '27-06-2015'\n",
            " '26-06-2015' '25-06-2015' '24-06-2015' '23-06-2015' '22-06-2015'\n",
            " '21-06-2015' '20-06-2015' '19-06-2015' '18-06-2015' '17-06-2015'\n",
            " '16-06-2015' '15-06-2015' '14-06-2015' '13-06-2015' '12-06-2015'\n",
            " '11-06-2015' '10-06-2015' '09-06-2015' '08-06-2015' '07-06-2015'\n",
            " '06-06-2015' '05-06-2015' '04-06-2015' '03-06-2015' '02-06-2015'\n",
            " '01-06-2015' '31-05-2015' '30-05-2015' '29-05-2015' '28-05-2015'\n",
            " '27-05-2015' '26-05-2015' '25-05-2015' '24-05-2015' '23-05-2015'\n",
            " '22-05-2015' '21-05-2015' '20-05-2015' '19-05-2015' '18-05-2015'\n",
            " '17-05-2015' '16-05-2015' '15-05-2015' '14-05-2015' '13-05-2015'\n",
            " '12-05-2015' '11-05-2015' '10-05-2015' '09-05-2015' '08-05-2015'\n",
            " '07-05-2015' '06-05-2015' '05-05-2015' '04-05-2015' '03-05-2015'\n",
            " '02-05-2015' '01-05-2015' '30-04-2015' '29-04-2015' '28-04-2015'\n",
            " '27-04-2015' '26-04-2015' '25-04-2015' '24-04-2015' '23-04-2015'\n",
            " '22-04-2015' '21-04-2015' '20-04-2015' '19-04-2015' '18-04-2015'\n",
            " '17-04-2015' '16-04-2015' '15-04-2015' '14-04-2015' '13-04-2015'\n",
            " '12-04-2015' '11-04-2015' '10-04-2015' '09-04-2015' '08-04-2015'\n",
            " '07-04-2015' '06-04-2015' '05-04-2015' '04-04-2015' '03-04-2015'\n",
            " '02-04-2015' '01-04-2015' '31-03-2015' '30-03-2015' '29-03-2015'\n",
            " '28-03-2015' '27-03-2015' '26-03-2015' '25-03-2015' '24-03-2015'\n",
            " '23-03-2015' '22-03-2015' '21-03-2015' '20-03-2015' '19-03-2015'\n",
            " '18-03-2015' '17-03-2015' '16-03-2015' '15-03-2015' '14-03-2015'\n",
            " '13-03-2015' '12-03-2015' '11-03-2015' '10-03-2015' '09-03-2015'\n",
            " '08-03-2015' '07-03-2015' '06-03-2015' '05-03-2015' '04-03-2015'\n",
            " '03-03-2015' '02-03-2015' '01-03-2015' '28-02-2015' '27-02-2015'\n",
            " '26-02-2015' '25-02-2015' '24-02-2015' '23-02-2015' '22-02-2015'\n",
            " '21-02-2015' '20-02-2015' '19-02-2015' '18-02-2015' '17-02-2015'\n",
            " '16-02-2015' '15-02-2015' '14-02-2015' '13-02-2015' '12-02-2015'\n",
            " '11-02-2015' '10-02-2015' '09-02-2015' '08-02-2015' '07-02-2015'\n",
            " '06-02-2015' '05-02-2015' '04-02-2015' '03-02-2015' '02-02-2015'\n",
            " '01-02-2015' '31-01-2015' '30-01-2015' '29-01-2015' '28-01-2015'\n",
            " '27-01-2015' '26-01-2015' '25-01-2015' '24-01-2015' '23-01-2015'\n",
            " '22-01-2015' '21-01-2015' '20-01-2015' '19-01-2015' '18-01-2015'\n",
            " '17-01-2015' '16-01-2015' '15-01-2015' '14-01-2015' '13-01-2015'\n",
            " '12-01-2015' '11-01-2015' '10-01-2015' '09-01-2015' '08-01-2015'\n",
            " '07-01-2015' '06-01-2015' '05-01-2015' '04-01-2015' '03-01-2015'\n",
            " '02-01-2015' '01-01-2015' '31-12-2014' '30-12-2014' '29-12-2014'\n",
            " '28-12-2014' '27-12-2014' '26-12-2014' '25-12-2014' '24-12-2014'\n",
            " '23-12-2014' '22-12-2014' '21-12-2014' '20-12-2014' '19-12-2014'\n",
            " '18-12-2014' '17-12-2014' '16-12-2014' '15-12-2014' '14-12-2014'\n",
            " '13-12-2014' '12-12-2014' '11-12-2014' '10-12-2014' '09-12-2014'\n",
            " '08-12-2014' '07-12-2014' '06-12-2014' '05-12-2014' '04-12-2014'\n",
            " '03-12-2014' '02-12-2014' '01-12-2014' '30-11-2014' '29-11-2014'\n",
            " '28-11-2014' '27-11-2014' '26-11-2014' '25-11-2014' '24-11-2014'\n",
            " '23-11-2014' '22-11-2014' '21-11-2014' '20-11-2014' '19-11-2014'\n",
            " '18-11-2014' '17-11-2014' '16-11-2014' '15-11-2014' '14-11-2014'\n",
            " '13-11-2014' '12-11-2014' '11-11-2014' '10-11-2014' '09-11-2014'\n",
            " '08-11-2014' '07-11-2014' '06-11-2014' '05-11-2014' '04-11-2014'\n",
            " '03-11-2014' '02-11-2014' '01-11-2014' '31-10-2014' '30-10-2014'\n",
            " '29-10-2014' '28-10-2014' '27-10-2014' '26-10-2014' '25-10-2014'\n",
            " '24-10-2014' '23-10-2014' '22-10-2014' '21-10-2014' '20-10-2014'\n",
            " '19-10-2014' '18-10-2014' '17-10-2014' '16-10-2014' '15-10-2014'\n",
            " '14-10-2014' '13-10-2014' '12-10-2014' '11-10-2014' '10-10-2014'\n",
            " '09-10-2014' '08-10-2014' '07-10-2014' '06-10-2014' '05-10-2014'\n",
            " '04-10-2014' '03-10-2014' '02-10-2014' '01-10-2014' '30-09-2014'\n",
            " '29-09-2014' '28-09-2014' '27-09-2014' '26-09-2014' '25-09-2014'\n",
            " '24-09-2014' '23-09-2014' '22-09-2014' '21-09-2014' '20-09-2014'\n",
            " '19-09-2014' '18-09-2014' '17-09-2014' '16-09-2014' '15-09-2014'\n",
            " '14-09-2014' '13-09-2014' '12-09-2014' '11-09-2014' '10-09-2014'\n",
            " '09-09-2014' '08-09-2014' '07-09-2014' '06-09-2014' '05-09-2014'\n",
            " '04-09-2014' '03-09-2014' '02-09-2014' '01-09-2014' '31-08-2014'\n",
            " '30-08-2014' '29-08-2014' '28-08-2014' '27-08-2014' '26-08-2014'\n",
            " '25-08-2014' '24-08-2014' '23-08-2014' '22-08-2014' '21-08-2014'\n",
            " '20-08-2014' '19-08-2014' '18-08-2014' '17-08-2014' '16-08-2014'\n",
            " '15-08-2014' '14-08-2014' '13-08-2014' '12-08-2014' '11-08-2014'\n",
            " '10-08-2014' '09-08-2014' '08-08-2014' '07-08-2014' '06-08-2014'\n",
            " '05-08-2014' '04-08-2014' '03-08-2014' '02-08-2014' '01-08-2014'\n",
            " '31-07-2014' '30-07-2014' '29-07-2014' '28-07-2014' '27-07-2014'\n",
            " '26-07-2014' '25-07-2014' '24-07-2014' '23-07-2014' '22-07-2014'\n",
            " '21-07-2014' '20-07-2014' '19-07-2014' '18-07-2014' '17-07-2014'\n",
            " '16-07-2014' '15-07-2014' '14-07-2014' '13-07-2014' '12-07-2014'\n",
            " '11-07-2014' '10-07-2014' '09-07-2014' '08-07-2014' '07-07-2014'\n",
            " '06-07-2014' '05-07-2014' '04-07-2014' '03-07-2014' '02-07-2014'\n",
            " '01-07-2014' '30-06-2014' '29-06-2014' '28-06-2014' '27-06-2014'\n",
            " '26-06-2014' '25-06-2014' '24-06-2014' '23-06-2014' '22-06-2014'\n",
            " '21-06-2014' '20-06-2014' '19-06-2014' '18-06-2014' '17-06-2014'\n",
            " '16-06-2014' '15-06-2014' '14-06-2014' '13-06-2014' '12-06-2014'\n",
            " '11-06-2014' '10-06-2014' '09-06-2014' '08-06-2014' '07-06-2014'\n",
            " '06-06-2014' '05-06-2014' '04-06-2014' '03-06-2014' '02-06-2014'\n",
            " '01-06-2014' '31-05-2014' '30-05-2014' '29-05-2014' '28-05-2014'\n",
            " '27-05-2014' '26-05-2014' '25-05-2014' '24-05-2014' '23-05-2014'\n",
            " '22-05-2014' '21-05-2014' '20-05-2014' '19-05-2014' '18-05-2014'\n",
            " '17-05-2014' '16-05-2014' '15-05-2014' '14-05-2014' '13-05-2014'\n",
            " '12-05-2014' '11-05-2014' '10-05-2014' '09-05-2014' '08-05-2014'\n",
            " '07-05-2014' '06-05-2014' '05-05-2014' '04-05-2014' '03-05-2014'\n",
            " '02-05-2014' '01-05-2014' '30-04-2014' '29-04-2014' '28-04-2014'\n",
            " '27-04-2014' '26-04-2014' '25-04-2014' '24-04-2014' '23-04-2014'\n",
            " '22-04-2014' '21-04-2014' '20-04-2014' '19-04-2014' '18-04-2014'\n",
            " '17-04-2014' '16-04-2014' '15-04-2014' '14-04-2014' '13-04-2014'\n",
            " '12-04-2014' '11-04-2014' '10-04-2014' '09-04-2014' '08-04-2014'\n",
            " '07-04-2014' '06-04-2014' '05-04-2014' '04-04-2014' '03-04-2014'\n",
            " '02-04-2014' '01-04-2014' '31-03-2014' '30-03-2014' '29-03-2014'\n",
            " '28-03-2014' '27-03-2014' '26-03-2014' '25-03-2014' '24-03-2014'\n",
            " '23-03-2014' '22-03-2014' '21-03-2014' '20-03-2014' '19-03-2014'\n",
            " '18-03-2014' '17-03-2014' '16-03-2014' '15-03-2014' '14-03-2014'\n",
            " '13-03-2014' '12-03-2014' '11-03-2014' '10-03-2014' '09-03-2014'\n",
            " '08-03-2014' '07-03-2014' '06-03-2014' '05-03-2014' '04-03-2014'\n",
            " '03-03-2014' '02-03-2014' '01-03-2014' '28-02-2014' '27-02-2014'\n",
            " '26-02-2014' '25-02-2014' '24-02-2014' '23-02-2014' '22-02-2014'\n",
            " '21-02-2014' '20-02-2014' '19-02-2014' '18-02-2014' '17-02-2014'\n",
            " '16-02-2014' '15-02-2014' '14-02-2014' '13-02-2014' '12-02-2014'\n",
            " '11-02-2014' '10-02-2014' '09-02-2014' '08-02-2014' '07-02-2014'\n",
            " '06-02-2014' '05-02-2014' '04-02-2014' '03-02-2014' '02-02-2014'\n",
            " '01-02-2014' '31-01-2014' '30-01-2014' '29-01-2014' '28-01-2014'\n",
            " '27-01-2014' '26-01-2014' '25-01-2014' '24-01-2014' '23-01-2014'\n",
            " '22-01-2014' '21-01-2014' '20-01-2014' '19-01-2014' '18-01-2014'\n",
            " '17-01-2014' '16-01-2014' '15-01-2014' '14-01-2014' '13-01-2014'\n",
            " '12-01-2014' '11-01-2014' '10-01-2014' '09-01-2014' '08-01-2014'\n",
            " '07-01-2014' '06-01-2014' '05-01-2014' '04-01-2014' '03-01-2014'\n",
            " '02-01-2014' '01-01-2014' '31-12-2013' '30-12-2013' '29-12-2013'\n",
            " '28-12-2013' '27-12-2013' '26-12-2013' '25-12-2013' '24-12-2013'\n",
            " '23-12-2013' '22-12-2013' '21-12-2013' '20-12-2013' '19-12-2013'\n",
            " '18-12-2013' '17-12-2013' '16-12-2013' '15-12-2013' '14-12-2013'\n",
            " '13-12-2013' '12-12-2013' '11-12-2013' '10-12-2013' '09-12-2013'\n",
            " '08-12-2013' '07-12-2013' '06-12-2013' '05-12-2013' '04-12-2013'\n",
            " '03-12-2013' '02-12-2013' '01-12-2013' '30-11-2013' '29-11-2013'\n",
            " '28-11-2013' '27-11-2013' '26-11-2013' '25-11-2013' '24-11-2013'\n",
            " '23-11-2013' '22-11-2013' '21-11-2013' '20-11-2013' '19-11-2013'\n",
            " '18-11-2013' '17-11-2013' '16-11-2013' '15-11-2013' '14-11-2013'\n",
            " '13-11-2013' '12-11-2013' '11-11-2013' '10-11-2013' '09-11-2013'\n",
            " '08-11-2013' '07-11-2013' '06-11-2013' '05-11-2013' '04-11-2013'\n",
            " '03-11-2013' '02-11-2013' '01-11-2013' '31-10-2013' '30-10-2013'\n",
            " '29-10-2013' '28-10-2013' '27-10-2013' '26-10-2013' '25-10-2013'\n",
            " '24-10-2013' '23-10-2013' '22-10-2013' '21-10-2013' '20-10-2013'\n",
            " '19-10-2013' '18-10-2013' '17-10-2013' '16-10-2013' '15-10-2013'\n",
            " '14-10-2013' '13-10-2013' '12-10-2013' '11-10-2013' '10-10-2013'\n",
            " '09-10-2013' '08-10-2013' '07-10-2013' '06-10-2013' '05-10-2013'\n",
            " '04-10-2013' '03-10-2013' '02-10-2013' '01-10-2013' '30-09-2013'\n",
            " '29-09-2013' '28-09-2013' '27-09-2013' '26-09-2013' '25-09-2013'\n",
            " '24-09-2013' '23-09-2013' '22-09-2013' '21-09-2013' '20-09-2013'\n",
            " '19-09-2013' '18-09-2013' '17-09-2013' '16-09-2013' '15-09-2013'\n",
            " '14-09-2013' '13-09-2013' '12-09-2013' '11-09-2013' '10-09-2013'\n",
            " '09-09-2013' '08-09-2013' '07-09-2013' '06-09-2013' '05-09-2013'\n",
            " '04-09-2013' '03-09-2013' '02-09-2013' '01-09-2013' '31-08-2013'\n",
            " '30-08-2013' '29-08-2013' '28-08-2013' '27-08-2013' '26-08-2013'\n",
            " '25-08-2013' '24-08-2013' '23-08-2013' '22-08-2013' '21-08-2013'\n",
            " '20-08-2013' '19-08-2013' '18-08-2013' '17-08-2013' '16-08-2013'\n",
            " '15-08-2013' '14-08-2013' '13-08-2013' '12-08-2013' '11-08-2013'\n",
            " '10-08-2013' '09-08-2013' '08-08-2013' '07-08-2013' '06-08-2013'\n",
            " '05-08-2013' '04-08-2013' '03-08-2013' '02-08-2013' '01-08-2013'\n",
            " '31-07-2013' '30-07-2013' '29-07-2013' '28-07-2013' '27-07-2013'\n",
            " '26-07-2013' '25-07-2013' '24-07-2013' '23-07-2013' '22-07-2013'\n",
            " '21-07-2013' '20-07-2013' '19-07-2013' '18-07-2013' '17-07-2013'\n",
            " '16-07-2013' '15-07-2013' '14-07-2013' '13-07-2013' '12-07-2013'\n",
            " '11-07-2013' '10-07-2013' '09-07-2013' '08-07-2013' '07-07-2013'\n",
            " '06-07-2013' '05-07-2013' '04-07-2013' '03-07-2013' '02-07-2013'\n",
            " '01-07-2013' '30-06-2013' '29-06-2013' '28-06-2013' '27-06-2013'\n",
            " '26-06-2013' '25-06-2013' '24-06-2013' '23-06-2013' '22-06-2013'\n",
            " '21-06-2013' '20-06-2013' '19-06-2013' '18-06-2013' '17-06-2013'\n",
            " '16-06-2013' '15-06-2013' '14-06-2013' '13-06-2013' '12-06-2013'\n",
            " '11-06-2013' '10-06-2013' '09-06-2013' '08-06-2013' '07-06-2013'\n",
            " '06-06-2013' '05-06-2013' '04-06-2013' '03-06-2013' '02-06-2013'\n",
            " '01-06-2013' '31-05-2013' '30-05-2013' '29-05-2013' '28-05-2013'\n",
            " '27-05-2013' '26-05-2013' '25-05-2013' '24-05-2013' '23-05-2013'\n",
            " '22-05-2013' '21-05-2013' '20-05-2013' '19-05-2013' '18-05-2013'\n",
            " '17-05-2013' '16-05-2013' '15-05-2013' '14-05-2013' '13-05-2013'\n",
            " '12-05-2013' '11-05-2013' '10-05-2013' '09-05-2013' '08-05-2013'\n",
            " '07-05-2013' '06-05-2013' '05-05-2013' '04-05-2013' '03-05-2013'\n",
            " '02-05-2013' '01-05-2013' '30-04-2013' '29-04-2013' '28-04-2013'\n",
            " '27-04-2013' '26-04-2013' '25-04-2013' '24-04-2013' '23-04-2013'\n",
            " '22-04-2013' '21-04-2013' '20-04-2013' '19-04-2013' '18-04-2013'\n",
            " '17-04-2013' '16-04-2013' '15-04-2013' '14-04-2013' '13-04-2013'\n",
            " '12-04-2013' '11-04-2013' '10-04-2013' '09-04-2013' '08-04-2013'\n",
            " '07-04-2013' '06-04-2013' '05-04-2013' '04-04-2013' '03-04-2013'\n",
            " '02-04-2013' '01-04-2013' '31-03-2013' '30-03-2013' '29-03-2013'\n",
            " '28-03-2013' '27-03-2013' '26-03-2013' '25-03-2013' '24-03-2013'\n",
            " '23-03-2013' '22-03-2013' '21-03-2013' '20-03-2013' '19-03-2013'\n",
            " '18-03-2013' '17-03-2013' '16-03-2013' '15-03-2013' '14-03-2013'\n",
            " '13-03-2013' '12-03-2013' '11-03-2013' '10-03-2013' '09-03-2013'\n",
            " '08-03-2013' '07-03-2013' '06-03-2013' '05-03-2013' '04-03-2013'\n",
            " '03-03-2013' '02-03-2013' '01-03-2013' '28-02-2013' '27-02-2013'\n",
            " '26-02-2013' '25-02-2013' '24-02-2013' '23-02-2013' '22-02-2013'\n",
            " '21-02-2013' '20-02-2013' '19-02-2013' '18-02-2013' '17-02-2013'\n",
            " '16-02-2013' '15-02-2013' '14-02-2013' '13-02-2013' '12-02-2013'\n",
            " '11-02-2013' '10-02-2013' '09-02-2013' '08-02-2013' '07-02-2013'\n",
            " '06-02-2013' '05-02-2013' '04-02-2013' '03-02-2013' '02-02-2013'\n",
            " '01-02-2013' '31-01-2013' '30-01-2013' '29-01-2013' '28-01-2013'\n",
            " '27-01-2013' '26-01-2013' '25-01-2013' '24-01-2013' '23-01-2013'\n",
            " '22-01-2013' '21-01-2013' '20-01-2013' '19-01-2013' '18-01-2013'\n",
            " '17-01-2013' '16-01-2013' '15-01-2013' '14-01-2013' '13-01-2013'\n",
            " '12-01-2013' '11-01-2013' '10-01-2013' '09-01-2013' '08-01-2013'\n",
            " '07-01-2013' '06-01-2013' '05-01-2013' '04-01-2013' '03-01-2013'\n",
            " '02-01-2013' '01-01-2013']\n",
            "Unique values for Sales: [ 5263  6064  8314 ...   660 17815 23303]\n",
            "Unique values for Customers: [ 555  625  821 ... 3900   36 4065]\n",
            "Unique values for Open: [1 0]\n",
            "Unique values for Promo: [1 0]\n",
            "Unique values for StateHoliday: ['0' 'a' 'b' 'c' 0]\n",
            "Unique values for SchoolHoliday: [1 0]\n"
          ]
        }
      ]
    },
    {
      "cell_type": "markdown",
      "source": [
        "## 3. ***Data Wrangling***\n",
        "\n",
        "------"
      ],
      "metadata": {
        "id": "dauF4eBmngu3"
      }
    },
    {
      "cell_type": "markdown",
      "source": [
        "### Data Wrangling Code\n",
        "\n",
        "--------"
      ],
      "metadata": {
        "id": "SGkuGTIPnncw"
      }
    },
    {
      "cell_type": "markdown",
      "source": [
        "![Data Wrangling 1.png](data:image/png;base64,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)\n"
      ],
      "metadata": {
        "id": "yzs5NVxxnqDh"
      }
    },
    {
      "cell_type": "markdown",
      "source": [
        "![Data Wrangling 1.1.png](data:image/png;base64,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)"
      ],
      "metadata": {
        "id": "zs6QbZO7nq73"
      }
    },
    {
      "cell_type": "markdown",
      "source": [
        "  **We have already performed below activities, which consist of Data Exploration part :**\n",
        "\n",
        "  1. First view of Data (Head | Tail | Random)\n",
        "  2. Data Dimensions (Rows and Columns)\n",
        "  3. Data Impurities (Missing values & Duplicates)\n",
        "  4. Mathematical description of Data\n",
        "  5. Description of all Variables"
      ],
      "metadata": {
        "id": "OwvJpHksn9Ar"
      }
    },
    {
      "cell_type": "markdown",
      "source": [
        "![Data Wrangling 2.png](data:image/png;base64,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)"
      ],
      "metadata": {
        "id": "H_VsWmpIoGAS"
      }
    },
    {
      "cell_type": "markdown",
      "source": [
        "-------\n",
        "\n",
        "The handling of missing data is very important during the preprocessing of the dataset as many machine learning algorithms do not support missing values.\n",
        "\n",
        "Another most important reason is data from our dataset as all of it is important, & secondly, dataset size is not very big, and removing some part of it can have a significant impact on the final model.\n",
        "\n",
        "The real-world data often has a lot of missing values. The cause of missing values can be data corruption or failure to record data.\n",
        "\n",
        "There are various methods to treat missing values in the data on the basis of the type of the data like Categorical(Nominal), Categorical (Ordinal), Numerical (Discrete), Numerical (Continuous).\n",
        "\n",
        "\n",
        "**We can check the datatype, importance of the features / record, quantum of the missing values and deal with the missing values in below manner :**\n",
        "\n",
        "1. Deleting Rows with missing values\n",
        "2. Impute missing values for continuous variable\n",
        "3. Impute missing values for categorical variable\n",
        "4. Other Imputation Methods\n",
        "5. Using Algorithms that support missing values \n",
        "6. Prediction of missing values\n",
        "\n",
        "------"
      ],
      "metadata": {
        "id": "POjm-c7eoMVn"
      }
    },
    {
      "cell_type": "code",
      "source": [
        "# Let's check : Critical Information of the dataset in summary format\n",
        "\n",
        "print(f'The below dataframe gives us feature wise data type, unique values, total count, missing count(NaN).')\n",
        "print('\\n')\n",
        "def store_1():\n",
        "  temp = pd.DataFrame(index =store_df.columns)\n",
        "  temp['Data_Type'] = store_df.dtypes\n",
        "  temp['Unique_Count'] = store_df.nunique()\n",
        "  temp['Count']= store_df.isnull().count()\n",
        "  temp['Missing_Count'] = store_df.isnull().sum()\n",
        "  temp['Missing_percentage']= round( temp['Missing_Count'] / temp['Count'] * 100, 2) \n",
        "  return temp\n",
        "store_1()"
      ],
      "metadata": {
        "colab": {
          "base_uri": "https://localhost:8080/",
          "height": 415
        },
        "id": "Q0Tu-lOLoSPx",
        "outputId": "9a53532a-9d58-4701-be9c-4634f401306d"
      },
      "execution_count": null,
      "outputs": [
        {
          "output_type": "stream",
          "name": "stdout",
          "text": [
            "The below dataframe gives us feature wise data type, unique values, total count, missing count(NaN).\n",
            "\n",
            "\n"
          ]
        },
        {
          "output_type": "execute_result",
          "data": {
            "text/plain": [
              "                          Data_Type  Unique_Count  Count  Missing_Count  \\\n",
              "Store                         int64          1115   1115              0   \n",
              "StoreType                    object             4   1115              0   \n",
              "Assortment                   object             3   1115              0   \n",
              "CompetitionDistance         float64           654   1115              3   \n",
              "CompetitionOpenSinceMonth   float64            12   1115            354   \n",
              "CompetitionOpenSinceYear    float64            23   1115            354   \n",
              "Promo2                        int64             2   1115              0   \n",
              "Promo2SinceWeek             float64            24   1115            544   \n",
              "Promo2SinceYear             float64             7   1115            544   \n",
              "PromoInterval                object             3   1115            544   \n",
              "\n",
              "                           Missing_percentage  \n",
              "Store                                    0.00  \n",
              "StoreType                                0.00  \n",
              "Assortment                               0.00  \n",
              "CompetitionDistance                      0.27  \n",
              "CompetitionOpenSinceMonth               31.75  \n",
              "CompetitionOpenSinceYear                31.75  \n",
              "Promo2                                   0.00  \n",
              "Promo2SinceWeek                         48.79  \n",
              "Promo2SinceYear                         48.79  \n",
              "PromoInterval                           48.79  "
            ],
            "text/html": [
              "\n",
              "  <div id=\"df-7d3e5128-b984-4e9d-98ef-46f51a140e4e\">\n",
              "    <div class=\"colab-df-container\">\n",
              "      <div>\n",
              "<style scoped>\n",
              "    .dataframe tbody tr th:only-of-type {\n",
              "        vertical-align: middle;\n",
              "    }\n",
              "\n",
              "    .dataframe tbody tr th {\n",
              "        vertical-align: top;\n",
              "    }\n",
              "\n",
              "    .dataframe thead th {\n",
              "        text-align: right;\n",
              "    }\n",
              "</style>\n",
              "<table border=\"1\" class=\"dataframe\">\n",
              "  <thead>\n",
              "    <tr style=\"text-align: right;\">\n",
              "      <th></th>\n",
              "      <th>Data_Type</th>\n",
              "      <th>Unique_Count</th>\n",
              "      <th>Count</th>\n",
              "      <th>Missing_Count</th>\n",
              "      <th>Missing_percentage</th>\n",
              "    </tr>\n",
              "  </thead>\n",
              "  <tbody>\n",
              "    <tr>\n",
              "      <th>Store</th>\n",
              "      <td>int64</td>\n",
              "      <td>1115</td>\n",
              "      <td>1115</td>\n",
              "      <td>0</td>\n",
              "      <td>0.00</td>\n",
              "    </tr>\n",
              "    <tr>\n",
              "      <th>StoreType</th>\n",
              "      <td>object</td>\n",
              "      <td>4</td>\n",
              "      <td>1115</td>\n",
              "      <td>0</td>\n",
              "      <td>0.00</td>\n",
              "    </tr>\n",
              "    <tr>\n",
              "      <th>Assortment</th>\n",
              "      <td>object</td>\n",
              "      <td>3</td>\n",
              "      <td>1115</td>\n",
              "      <td>0</td>\n",
              "      <td>0.00</td>\n",
              "    </tr>\n",
              "    <tr>\n",
              "      <th>CompetitionDistance</th>\n",
              "      <td>float64</td>\n",
              "      <td>654</td>\n",
              "      <td>1115</td>\n",
              "      <td>3</td>\n",
              "      <td>0.27</td>\n",
              "    </tr>\n",
              "    <tr>\n",
              "      <th>CompetitionOpenSinceMonth</th>\n",
              "      <td>float64</td>\n",
              "      <td>12</td>\n",
              "      <td>1115</td>\n",
              "      <td>354</td>\n",
              "      <td>31.75</td>\n",
              "    </tr>\n",
              "    <tr>\n",
              "      <th>CompetitionOpenSinceYear</th>\n",
              "      <td>float64</td>\n",
              "      <td>23</td>\n",
              "      <td>1115</td>\n",
              "      <td>354</td>\n",
              "      <td>31.75</td>\n",
              "    </tr>\n",
              "    <tr>\n",
              "      <th>Promo2</th>\n",
              "      <td>int64</td>\n",
              "      <td>2</td>\n",
              "      <td>1115</td>\n",
              "      <td>0</td>\n",
              "      <td>0.00</td>\n",
              "    </tr>\n",
              "    <tr>\n",
              "      <th>Promo2SinceWeek</th>\n",
              "      <td>float64</td>\n",
              "      <td>24</td>\n",
              "      <td>1115</td>\n",
              "      <td>544</td>\n",
              "      <td>48.79</td>\n",
              "    </tr>\n",
              "    <tr>\n",
              "      <th>Promo2SinceYear</th>\n",
              "      <td>float64</td>\n",
              "      <td>7</td>\n",
              "      <td>1115</td>\n",
              "      <td>544</td>\n",
              "      <td>48.79</td>\n",
              "    </tr>\n",
              "    <tr>\n",
              "      <th>PromoInterval</th>\n",
              "      <td>object</td>\n",
              "      <td>3</td>\n",
              "      <td>1115</td>\n",
              "      <td>544</td>\n",
              "      <td>48.79</td>\n",
              "    </tr>\n",
              "  </tbody>\n",
              "</table>\n",
              "</div>\n",
              "      <button class=\"colab-df-convert\" onclick=\"convertToInteractive('df-7d3e5128-b984-4e9d-98ef-46f51a140e4e')\"\n",
              "              title=\"Convert this dataframe to an interactive table.\"\n",
              "              style=\"display:none;\">\n",
              "        \n",
              "  <svg xmlns=\"http://www.w3.org/2000/svg\" height=\"24px\"viewBox=\"0 0 24 24\"\n",
              "       width=\"24px\">\n",
              "    <path d=\"M0 0h24v24H0V0z\" fill=\"none\"/>\n",
              "    <path d=\"M18.56 5.44l.94 2.06.94-2.06 2.06-.94-2.06-.94-.94-2.06-.94 2.06-2.06.94zm-11 1L8.5 8.5l.94-2.06 2.06-.94-2.06-.94L8.5 2.5l-.94 2.06-2.06.94zm10 10l.94 2.06.94-2.06 2.06-.94-2.06-.94-.94-2.06-.94 2.06-2.06.94z\"/><path d=\"M17.41 7.96l-1.37-1.37c-.4-.4-.92-.59-1.43-.59-.52 0-1.04.2-1.43.59L10.3 9.45l-7.72 7.72c-.78.78-.78 2.05 0 2.83L4 21.41c.39.39.9.59 1.41.59.51 0 1.02-.2 1.41-.59l7.78-7.78 2.81-2.81c.8-.78.8-2.07 0-2.86zM5.41 20L4 18.59l7.72-7.72 1.47 1.35L5.41 20z\"/>\n",
              "  </svg>\n",
              "      </button>\n",
              "      \n",
              "  <style>\n",
              "    .colab-df-container {\n",
              "      display:flex;\n",
              "      flex-wrap:wrap;\n",
              "      gap: 12px;\n",
              "    }\n",
              "\n",
              "    .colab-df-convert {\n",
              "      background-color: #E8F0FE;\n",
              "      border: none;\n",
              "      border-radius: 50%;\n",
              "      cursor: pointer;\n",
              "      display: none;\n",
              "      fill: #1967D2;\n",
              "      height: 32px;\n",
              "      padding: 0 0 0 0;\n",
              "      width: 32px;\n",
              "    }\n",
              "\n",
              "    .colab-df-convert:hover {\n",
              "      background-color: #E2EBFA;\n",
              "      box-shadow: 0px 1px 2px rgba(60, 64, 67, 0.3), 0px 1px 3px 1px rgba(60, 64, 67, 0.15);\n",
              "      fill: #174EA6;\n",
              "    }\n",
              "\n",
              "    [theme=dark] .colab-df-convert {\n",
              "      background-color: #3B4455;\n",
              "      fill: #D2E3FC;\n",
              "    }\n",
              "\n",
              "    [theme=dark] .colab-df-convert:hover {\n",
              "      background-color: #434B5C;\n",
              "      box-shadow: 0px 1px 3px 1px rgba(0, 0, 0, 0.15);\n",
              "      filter: drop-shadow(0px 1px 2px rgba(0, 0, 0, 0.3));\n",
              "      fill: #FFFFFF;\n",
              "    }\n",
              "  </style>\n",
              "\n",
              "      <script>\n",
              "        const buttonEl =\n",
              "          document.querySelector('#df-7d3e5128-b984-4e9d-98ef-46f51a140e4e button.colab-df-convert');\n",
              "        buttonEl.style.display =\n",
              "          google.colab.kernel.accessAllowed ? 'block' : 'none';\n",
              "\n",
              "        async function convertToInteractive(key) {\n",
              "          const element = document.querySelector('#df-7d3e5128-b984-4e9d-98ef-46f51a140e4e');\n",
              "          const dataTable =\n",
              "            await google.colab.kernel.invokeFunction('convertToInteractive',\n",
              "                                                     [key], {});\n",
              "          if (!dataTable) return;\n",
              "\n",
              "          const docLinkHtml = 'Like what you see? Visit the ' +\n",
              "            '<a target=\"_blank\" href=https://colab.research.google.com/notebooks/data_table.ipynb>data table notebook</a>'\n",
              "            + ' to learn more about interactive tables.';\n",
              "          element.innerHTML = '';\n",
              "          dataTable['output_type'] = 'display_data';\n",
              "          await google.colab.output.renderOutput(dataTable, element);\n",
              "          const docLink = document.createElement('div');\n",
              "          docLink.innerHTML = docLinkHtml;\n",
              "          element.appendChild(docLink);\n",
              "        }\n",
              "      </script>\n",
              "    </div>\n",
              "  </div>\n",
              "  "
            ]
          },
          "metadata": {},
          "execution_count": 129
        }
      ]
    },
    {
      "cell_type": "markdown",
      "source": [
        "Found missing values in below variables,\n",
        "\n",
        "1. CompetitionDistance\n",
        "2. CompetitionOpenSinceMonth\n",
        "3. CompetitionOpenSinceYear\n",
        "4. Promo2SinceWeek\n",
        "5. Promo2SinceYear\n",
        "6. PromoInterval"
      ],
      "metadata": {
        "id": "8eY4v1kYpOyo"
      }
    },
    {
      "cell_type": "markdown",
      "source": [
        "![Handling Missing values - 3.png](data:image/png;base64,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)"
      ],
      "metadata": {
        "id": "-bmQVBmEpSgt"
      }
    },
    {
      "cell_type": "code",
      "source": [
        "import matplotlib.pyplot as plt\n",
        "import scipy.stats as stat\n",
        "import pylab "
      ],
      "metadata": {
        "id": "nE-8npgeq0NL"
      },
      "execution_count": null,
      "outputs": []
    },
    {
      "cell_type": "code",
      "source": [
        "# Let's check distribution plot of competition distance\n",
        "# to check whether feature is guassian or normal distributed\n",
        "# will also check \"Skweness\" of the same for better understanding of data distribution\n",
        "\n",
        "def plot_data(df,feature):\n",
        "    plt.figure(figsize=(20,6))\n",
        "    print(f\"Actual {feature} Distribution\")\n",
        "    plt.subplot(1,2,1)\n",
        "    sns.distplot(df[feature])\n",
        "    plt.title(f'Distribution of {feature}')\n",
        "    plt.subplot(1,2,2)\n",
        "    stat.probplot(df[feature],dist='norm',plot=pylab)\n",
        "    plt.title(f'Q-Q Plot for {feature}')\n",
        "    plt.show()"
      ],
      "metadata": {
        "id": "rYzuzDVVXfOf"
      },
      "execution_count": null,
      "outputs": []
    },
    {
      "cell_type": "code",
      "source": [
        "plot_data(store_df,'CompetitionDistance')"
      ],
      "metadata": {
        "colab": {
          "base_uri": "https://localhost:8080/",
          "height": 421
        },
        "id": "C-mZG8ujqR_4",
        "outputId": "67032f09-a635-479c-d46f-6e44ed0cb15e"
      },
      "execution_count": null,
      "outputs": [
        {
          "output_type": "stream",
          "name": "stdout",
          "text": [
            "Actual CompetitionDistance Distribution\n"
          ]
        },
        {
          "output_type": "display_data",
          "data": {
            "text/plain": [
              "<Figure size 1440x432 with 2 Axes>"
            ],
            "image/png": "[encoded data removed]"
          },
          "metadata": {
            "needs_background": "light"
          }
        }
      ]
    },
    {
      "cell_type": "code",
      "source": [
        "print(f\"Skweness for the variable: CompetitionDistance \")\n",
        "print(store_df['CompetitionDistance'].skew())"
      ],
      "metadata": {
        "colab": {
          "base_uri": "https://localhost:8080/"
        },
        "id": "uG_wA-7wrB-p",
        "outputId": "ddfde151-64cb-46d4-cd5b-07a6549f8e2e"
      },
      "execution_count": null,
      "outputs": [
        {
          "output_type": "stream",
          "name": "stdout",
          "text": [
            "Skweness for the variable: CompetitionDistance \n",
            "2.9292856455312055\n"
          ]
        }
      ]
    },
    {
      "cell_type": "code",
      "source": [
        "# Above plot shows presence of large no of outliers, let's check the same with the help of Boxplot\n",
        "\n",
        "plt.figure(figsize = (15,5))\n",
        "sns.boxplot(store_df['CompetitionDistance'], color='lightgreen')\n",
        "plt.show()"
      ],
      "metadata": {
        "colab": {
          "base_uri": "https://localhost:8080/",
          "height": 334
        },
        "id": "5DYxOIIQyNfX",
        "outputId": "f758c961-ab4c-4a44-db86-a4f09e15ed81"
      },
      "execution_count": null,
      "outputs": [
        {
          "output_type": "display_data",
          "data": {
            "text/plain": [
              "<Figure size 1080x360 with 1 Axes>"
            ],
            "image/png": "[encoded data removed]"
          },
          "metadata": {
            "needs_background": "light"
          }
        }
      ]
    },
    {
      "cell_type": "markdown",
      "source": [
        "-------\n",
        "\n",
        "As per above plots, we can conclude that, \n",
        "\n",
        "1. Skewness of the distribution shows that data is highly skwed towards right.\n",
        "\n",
        "2. There are several or large numbers of data points that act as outliers. Outliers data points will have a significant impact on the mean and hence, in such cases, it is not recommended to use the mean for replacing the missing values. Using mean values for replacing missing values may not create a great model and hence gets ruled out.\n",
        "\n",
        "3. Now, we can impute this numerical data by Median / Mode. As imputation of \"Median\" is more robust to outlier effect and this is a continuous numerical variable, it willl be appropriate to eeplace \"NaN\" values with \"Median\" value of the variable."
      ],
      "metadata": {
        "id": "tI2gRKNhp6cV"
      }
    },
    {
      "cell_type": "code",
      "source": [
        "# Replacing NaN competition distance values with the median value\n",
        "\n",
        "store_df['CompetitionDistance'].median()"
      ],
      "metadata": {
        "colab": {
          "base_uri": "https://localhost:8080/"
        },
        "id": "_TcMnaHip_bh",
        "outputId": "c151b5b9-2e8f-4288-cb3f-0bc0123ff7ff"
      },
      "execution_count": null,
      "outputs": [
        {
          "output_type": "execute_result",
          "data": {
            "text/plain": [
              "2325.0"
            ]
          },
          "metadata": {},
          "execution_count": 135
        }
      ]
    },
    {
      "cell_type": "code",
      "source": [
        "# Replacing NaN competition distance values with the median value\n",
        "store_df['CompetitionDistance'].fillna(store_df['CompetitionDistance'].median(), inplace = True)"
      ],
      "metadata": {
        "id": "E4R4ab6GqEyD"
      },
      "execution_count": null,
      "outputs": []
    },
    {
      "cell_type": "markdown",
      "source": [
        "![Handling Missing values - 1.png](data:image/png;base64,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)"
      ],
      "metadata": {
        "id": "cIFTNAn0pTSs"
      }
    },
    {
      "cell_type": "markdown",
      "source": [
        "------\n",
        "\n",
        "**Around 32% values are missing in below features,**\n",
        "\n",
        "1. CompetitionOpenSinceMonth\n",
        "2. CompetitionOpenSinceYear\n",
        "\n",
        "As observed in feature wise unique values, these are categorical features.\n",
        "\n",
        "Let's check categories within these features.\n",
        "\n",
        "------"
      ],
      "metadata": {
        "id": "v2RZQe3LqXSP"
      }
    },
    {
      "cell_type": "code",
      "source": [
        "# Let's check count of unique categories for variable - \"CompetitionOpenSinceMonth\"\n",
        "\n",
        "store_df['CompetitionOpenSinceMonth'].nunique()"
      ],
      "metadata": {
        "colab": {
          "base_uri": "https://localhost:8080/"
        },
        "id": "avTXWYIk-4Wa",
        "outputId": "0fa767f4-c7ef-4085-a2db-97b1b7c08189"
      },
      "execution_count": null,
      "outputs": [
        {
          "output_type": "execute_result",
          "data": {
            "text/plain": [
              "12"
            ]
          },
          "metadata": {},
          "execution_count": 137
        }
      ]
    },
    {
      "cell_type": "code",
      "source": [
        "# Countplot to check and understand categories of \"CompetitionOpenSinceMonth\" variable\n",
        "\n",
        "plt.figure(figsize = (12,6))\n",
        "sns.countplot(x=store_df[\"CompetitionOpenSinceMonth\"])"
      ],
      "metadata": {
        "colab": {
          "base_uri": "https://localhost:8080/",
          "height": 405
        },
        "id": "2qyXhAb5dJS9",
        "outputId": "923c53aa-5cd1-4c5d-a7de-ead493651cc6"
      },
      "execution_count": null,
      "outputs": [
        {
          "output_type": "execute_result",
          "data": {
            "text/plain": [
              "<matplotlib.axes._subplots.AxesSubplot at 0x7fa16c354730>"
            ]
          },
          "metadata": {},
          "execution_count": 138
        },
        {
          "output_type": "display_data",
          "data": {
            "text/plain": [
              "<Figure size 864x432 with 1 Axes>"
            ],
            "image/png": "[encoded data removed]"
          },
          "metadata": {
            "needs_background": "light"
          }
        }
      ]
    },
    {
      "cell_type": "markdown",
      "source": [
        "-------\n",
        "\n",
        "**As per above plots, we can say that,**\n",
        "\n",
        "1. Other than NaN values, there are 12 categories in the Variable - \"CompetitionOpenSinceMonth\"\n",
        "\n",
        "2. These categories indicates, the no. of the month, when competition got started and these missing values can be considered as 'Missing At Random\" values.\n",
        "\n",
        "**Here we have below 2 imputation methods to treat these missing values appropriately,**\n",
        "\n",
        "1. Most frequent Category imputation\n",
        "2. Impute 'Unknown' category\n",
        "\n",
        "--------"
      ],
      "metadata": {
        "id": "LDxgz6RXd0js"
      }
    },
    {
      "cell_type": "markdown",
      "source": [
        "**1. Most frequent category imputation -**\n",
        "\n",
        "In this approach we can impute categorical feature to replace missing values with the most frequent / common class. But in this case values representing a timeline of start of the competition. \n",
        "\n",
        "Sometimes a categorical feature’s missing-ness itself is valuable information that should be explicitly encoded. \n",
        "\n",
        "If we see this variable as a whole in given plot, missing values looks like a category, which provides a valuebale infomration that, wherever there is a null value, it shows that there were no competition open.\n",
        "\n",
        "If this is the case, most-common-class imputing would cause this information to be lost. Hence imputing most frequent category can be ruled-out.\n",
        "\n",
        "--------"
      ],
      "metadata": {
        "id": "CihGf_j2guBH"
      }
    },
    {
      "cell_type": "markdown",
      "source": [
        "**2. Impute 'Unknown' category -**\n",
        "\n",
        "1. Sometimes a categorical feature’s missing-ness itself is valuable information that should be explicitly encoded. \n",
        "\n",
        "2. If we see this variable as a whole in given plot, missing values looks like a category, which provides a valuebale infomration that, wherever there is a null value, it shows that there were no competition open.\n",
        "\n",
        "3. It is also evident that missing values are huge in count i.e. 32%, that can be coseidered as an equivalent to independent category\n",
        "\n",
        "4. In this approach we can impute a new categorical value / Zero, which can be considered as a kind of encoding for these missing values, which gives an important information of non-existence of competition for any month in given duration.\n",
        "\n",
        "Accordingly, we can have 13 categories here, 12 months and 1 category of non-existence of competition.\n",
        "\n",
        "--------"
      ],
      "metadata": {
        "id": "1Xh8r4Nfi6ck"
      }
    },
    {
      "cell_type": "markdown",
      "source": [
        "**Accordingly, replacing missing / null values of feature \"CompetitionOpenSinceMonth\" with \"0\"**\n",
        "\n",
        "-------\n",
        "\n",
        "We can investigate this feature in further analysis and can drop and convert it into meaningful features while performing feature engineering on merged dataframe.\n"
      ],
      "metadata": {
        "id": "DTnXf1PckXhT"
      }
    },
    {
      "cell_type": "code",
      "source": [
        "# Imputing missing values with new category \"0\"\n",
        "\n",
        "store_df['CompetitionOpenSinceMonth'] = store_df['CompetitionOpenSinceMonth'].fillna(0)"
      ],
      "metadata": {
        "id": "cTe3_bNflA7q"
      },
      "execution_count": null,
      "outputs": []
    },
    {
      "cell_type": "markdown",
      "source": [
        "![Line.png](data:image/png;base64,iVBORw0KGgoAAAANSUhEUgAABt4AAAAiCAYAAADYgq2WAAAAAXNSR0IArs4c6QAAAARnQU1BAACxjwv8YQUAAAAJcEhZcwAAFiUAABYlAUlSJPAAAAFXSURBVHhe7dkxAYBAEMCwA7F4Rs2z4OA6JktF9DrvcwYAAAAAAABYuf8CAAAAAAAAC8YbAAAAAAAABIw3AAAAAAAACBhvAAAAAAAAEDDeAAAAAAAAIGC8AQAAAAAAQMB4AwAAAAAAgIDxBgAAAAAAAAHjDQAAAAAAAALGGwAAAAAAAASMNwAAAAAAAAgYbwAAAAAAABAw3gAAAAAAACBgvAEAAAAAAEDAeAMAAAAAAICA8QYAAAAAAAAB4w0AAAAAAAACxhsAAAAAAAAEjDcAAAAAAAAIGG8AAAAAAAAQMN4AAAAAAAAgYLwBAAAAAABAwHgDAAAAAACAgPEGAAAAAAAAAeMNAAAAAAAAAsYbAAAAAAAABIw3AAAAAAAACBhvAAAAAAAAEDDeAAAAAAAAIGC8AQAAAAAAQMB4AwAAAAAAgIDxBgAAAAAAAAHjDQAAAAAAANZmPi2gA4Feg5Z9AAAAAElFTkSuQmCC)"
      ],
      "metadata": {
        "id": "rqFJyQiXoGb_"
      }
    },
    {
      "cell_type": "code",
      "source": [
        "# Let's check count of unique categories for variable - \"CompetitionOpenSinceYear\"\n",
        "\n",
        "store_df['CompetitionOpenSinceYear'].nunique()"
      ],
      "metadata": {
        "colab": {
          "base_uri": "https://localhost:8080/"
        },
        "id": "E4vrH_wQna9H",
        "outputId": "c2163680-1840-42f6-f109-8e09cc4ea4d0"
      },
      "execution_count": null,
      "outputs": [
        {
          "output_type": "execute_result",
          "data": {
            "text/plain": [
              "23"
            ]
          },
          "metadata": {},
          "execution_count": 140
        }
      ]
    },
    {
      "cell_type": "code",
      "source": [
        "# Countplot to check and understand categories of \"CompetitionOpenSinceYear\" variable\n",
        "\n",
        "plt.figure(figsize = (18,6))\n",
        "sns.countplot(x=store_df[\"CompetitionOpenSinceYear\"])"
      ],
      "metadata": {
        "colab": {
          "base_uri": "https://localhost:8080/",
          "height": 405
        },
        "id": "GaqNxqHPneKa",
        "outputId": "7eff12dc-f69b-4580-c423-84c69e9978d5"
      },
      "execution_count": null,
      "outputs": [
        {
          "output_type": "execute_result",
          "data": {
            "text/plain": [
              "<matplotlib.axes._subplots.AxesSubplot at 0x7fa165c75f40>"
            ]
          },
          "metadata": {},
          "execution_count": 141
        },
        {
          "output_type": "display_data",
          "data": {
            "text/plain": [
              "<Figure size 1296x432 with 1 Axes>"
            ],
            "image/png": "[encoded data removed]"
          },
          "metadata": {
            "needs_background": "light"
          }
        }
      ]
    },
    {
      "cell_type": "markdown",
      "source": [
        "-------\n",
        "\n",
        "**As per above plots, we can say that,**\n",
        "\n",
        "1. Other than NaN values, there are 23 categories (years) in the Variable - \"CompetitionOpenSinceYear\"\n",
        "\n",
        "2. These categories indicates, the year, when competition got started and these missing values can be considered as 'Missing At Random\" values.\n",
        "\n",
        "**Here we have below 2 imputation methods to treat these missing values appropriately,**\n",
        "\n",
        "1. Most frequent Category imputation\n",
        "2. Impute 'Unknown' category\n",
        "\n",
        "--------"
      ],
      "metadata": {
        "id": "EYYh_t0knupf"
      }
    },
    {
      "cell_type": "markdown",
      "source": [
        "**1. Most frequent category imputation -**\n",
        "\n",
        "As per above plot and details, \n",
        "\n",
        "1. Missing value count is huge i.e. 32%\n",
        "\n",
        "2. If we see this variable as a whole in given plot, missing values looks like a category, which provides a valuebale infomration that, wherever there is a null value, it shows that there were no competition open.\n",
        "\n",
        "Like variable \"CompetitionOpenSinceMonth\", most-common-class imputing would cause this information to be lost. Hence imputing most frequent category can be ruled-out.\n",
        "\n",
        "--------"
      ],
      "metadata": {
        "id": "-x6Bj2-1nzbC"
      }
    },
    {
      "cell_type": "markdown",
      "source": [
        "**2. Impute 'Unknown' category -**\n",
        "\n",
        "1. Sometimes a categorical feature’s missing-ness itself is valuable information that should be explicitly encoded. \n",
        "\n",
        "2. If we see this variable as a whole in given plot, missing values looks like a category, which provides a valuebale infomration that, wherever there is a null value, it shows that there were no competition open.\n",
        "\n",
        "3. It is also evident that missing values are huge in count i.e. 32%, that can be coseidered as an equivalent to independent category\n",
        "\n",
        "4. In this approach we can impute a new categorical value / Zero, which can be considered as a kind of encoding for these missing values, which gives an important information of non-existence of competition for any month in given duration.\n",
        "\n",
        "Accordingly, we can have 24 categories here, 23 year values and 1 category of non-existence of competition for any year.\n",
        "\n",
        "--------"
      ],
      "metadata": {
        "id": "KfvlG5Yxn4b3"
      }
    },
    {
      "cell_type": "markdown",
      "source": [
        "**Accordingly, replacing missing / null values of feature \"CompetitionOpenSinceYear\" with \"0\"**\n",
        "\n",
        "-------\n",
        "\n",
        "We can investigate this feature in further analysis and can drop and convert it into meaningful features while performing feature engineering on merged dataframe."
      ],
      "metadata": {
        "id": "PJ4GDm5yn9TO"
      }
    },
    {
      "cell_type": "code",
      "source": [
        "# Imputing missing values with new category \"0\"\n",
        "\n",
        "store_df['CompetitionOpenSinceYear'] = store_df['CompetitionOpenSinceYear'].fillna(0)"
      ],
      "metadata": {
        "id": "fx86p587oBlh"
      },
      "execution_count": null,
      "outputs": []
    },
    {
      "cell_type": "markdown",
      "source": [
        "![Handling Missing values - 2.png](data:image/png;base64,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)"
      ],
      "metadata": {
        "id": "ub0h98KJpduo"
      }
    },
    {
      "cell_type": "markdown",
      "source": [
        "------\n",
        "\n",
        "**Around 49% values are missing in below features,**\n",
        "\n",
        "1. Promo2SinceWeek\n",
        "2. Promo2sinceYear\n",
        "3. PromoInterval\n",
        "\n",
        "As observed in feature wise unique values, these are categorical features.\n",
        "\n",
        "Let's check categories within these features.\n",
        "\n",
        "------"
      ],
      "metadata": {
        "id": "bKSG9mEcrI-V"
      }
    },
    {
      "cell_type": "code",
      "source": [
        "# Let's check count of unique categories for variable - \"CompetitionOpenSinceMonth\"\n",
        "\n",
        "store_df['Promo2SinceWeek'].nunique()"
      ],
      "metadata": {
        "colab": {
          "base_uri": "https://localhost:8080/"
        },
        "id": "Ax1WCWQ4rsL1",
        "outputId": "5bd39f87-e331-42cd-c5b1-c79f52d86eda"
      },
      "execution_count": null,
      "outputs": [
        {
          "output_type": "execute_result",
          "data": {
            "text/plain": [
              "24"
            ]
          },
          "metadata": {},
          "execution_count": 143
        }
      ]
    },
    {
      "cell_type": "code",
      "source": [
        "# Countplot to check and understand categories of \"CompetitionOpenSinceMonth\" variable\n",
        "\n",
        "plt.figure(figsize = (18,6))\n",
        "sns.countplot(x=store_df[\"Promo2SinceWeek\"])"
      ],
      "metadata": {
        "colab": {
          "base_uri": "https://localhost:8080/",
          "height": 405
        },
        "id": "5-Zs4YwXrz-n",
        "outputId": "6551f0fd-d46e-4375-fba2-d21f4303d43c"
      },
      "execution_count": null,
      "outputs": [
        {
          "output_type": "execute_result",
          "data": {
            "text/plain": [
              "<matplotlib.axes._subplots.AxesSubplot at 0x7fa1658dd4c0>"
            ]
          },
          "metadata": {},
          "execution_count": 145
        },
        {
          "output_type": "display_data",
          "data": {
            "text/plain": [
              "<Figure size 1296x432 with 1 Axes>"
            ],
            "image/png": "[encoded data removed]"
          },
          "metadata": {
            "needs_background": "light"
          }
        }
      ]
    },
    {
      "cell_type": "markdown",
      "source": [
        "-------\n",
        "\n",
        "**As per above plots, we can say that,**\n",
        "\n",
        "1. Other than NaN values, there are 23 categories (years) in the Variable - \"CompetitionOpenSinceYear\"\n",
        "\n",
        "2. These categories indicates, the year, when competition got started and these missing values can be considered as 'Missing At Random\" values.\n",
        "\n",
        "**Here we have below 2 imputation methods to treat these missing values appropriately,**\n",
        "\n",
        "1. Most frequent Category imputation\n",
        "2. Impute 'Unknown' category\n",
        "\n",
        "--------"
      ],
      "metadata": {
        "id": "8qJ3wOb8CF2C"
      }
    },
    {
      "cell_type": "markdown",
      "source": [
        "**1. Most frequent category imputation -**\n",
        "\n",
        "As per above plot and details, \n",
        "\n",
        "1. Missing value count is huge i.e. 32%\n",
        "\n",
        "2. If we see this variable as a whole in given plot, missing values looks like a category, which provides a valuebale infomration that, wherever there is a null value, it shows that there were no competition open.\n",
        "\n",
        "Like variable \"CompetitionOpenSinceMonth\", most-common-class imputing would cause this information to be lost. Hence imputing most frequent category can be ruled-out.\n",
        "\n",
        "--------"
      ],
      "metadata": {
        "id": "QKD8h1D5CKxo"
      }
    },
    {
      "cell_type": "markdown",
      "source": [
        "**2. Impute 'Unknown' category -**\n",
        "\n",
        "1. Sometimes a categorical feature’s missing-ness itself is valuable information that should be explicitly encoded. \n",
        "\n",
        "2. If we see this variable as a whole in given plot, missing values looks like a category, which provides a valuebale infomration that, wherever there is a null value, it shows that there were no competition open.\n",
        "\n",
        "3. It is also evident that missing values are huge in count i.e. 32%, that can be coseidered as an equivalent to independent category\n",
        "\n",
        "4. In this approach we can impute a new categorical value / Zero, which can be considered as a kind of encoding for these missing values, which gives an important information of non-existence of competition for any month in given duration.\n",
        "\n",
        "Accordingly, we can have 24 categories here, 23 year values and 1 category of non-existence of competition for any year.\n",
        "\n",
        "--------"
      ],
      "metadata": {
        "id": "jkNwqf6JCQzq"
      }
    },
    {
      "cell_type": "markdown",
      "source": [
        "**Accordingly, replacing missing / null values of feature \"CompetitionOpenSinceYear\" with \"0\"**\n",
        "\n",
        "-------\n",
        "\n",
        "We can investigate this feature in further analysis and can drop and convert it into meaningful features while performing feature engineering on merged dataframe."
      ],
      "metadata": {
        "id": "nnWe-xRACZW9"
      }
    },
    {
      "cell_type": "code",
      "source": [
        "# Let's check count of unique categories for variable - \"PromoInterval\"\n",
        "\n",
        "store_df['PromoInterval'].nunique()"
      ],
      "metadata": {
        "colab": {
          "base_uri": "https://localhost:8080/"
        },
        "id": "DqIMA8Srsgiz",
        "outputId": "92e644fa-178c-4f14-bb12-45024913b28f"
      },
      "execution_count": null,
      "outputs": [
        {
          "output_type": "execute_result",
          "data": {
            "text/plain": [
              "3"
            ]
          },
          "metadata": {},
          "execution_count": 150
        }
      ]
    },
    {
      "cell_type": "code",
      "source": [
        "# Countplot to check and understand categories of \"PromoInterval\" variable\n",
        "\n",
        "plt.figure(figsize= (10,6))\n",
        "store_df[\"PromoInterval\"].value_counts().plot(kind='pie', autopct=\"%.0f%%\", fontsize=14)"
      ],
      "metadata": {
        "colab": {
          "base_uri": "https://localhost:8080/",
          "height": 374
        },
        "id": "-vKMhyY1s4TQ",
        "outputId": "0d95a6d9-e6ba-4a0c-aecf-d729796a8b60"
      },
      "execution_count": null,
      "outputs": [
        {
          "output_type": "execute_result",
          "data": {
            "text/plain": [
              "<matplotlib.axes._subplots.AxesSubplot at 0x7fa1655b0040>"
            ]
          },
          "metadata": {},
          "execution_count": 156
        },
        {
          "output_type": "display_data",
          "data": {
            "text/plain": [
              "<Figure size 720x432 with 1 Axes>"
            ],
            "image/png": "[encoded data removed]"
          },
          "metadata": {}
        }
      ]
    },
    {
      "cell_type": "markdown",
      "source": [
        "-------\n",
        "\n",
        "**As per above plots, we can say that,**\n",
        "\n",
        "1. Other than NaN values, there are 23 categories (years) in the Variable - \"CompetitionOpenSinceYear\"\n",
        "\n",
        "2. These categories indicates, the year, when competition got started and these missing values can be considered as 'Missing At Random\" values.\n",
        "\n",
        "**Here we have below 2 imputation methods to treat these missing values appropriately,**\n",
        "\n",
        "1. Most frequent Category imputation\n",
        "2. Impute 'Unknown' category\n",
        "\n",
        "--------"
      ],
      "metadata": {
        "id": "g2EuHZjlCx41"
      }
    },
    {
      "cell_type": "markdown",
      "source": [
        "**1. Most frequent category imputation -**\n",
        "\n",
        "As per above plot and details, \n",
        "\n",
        "1. Missing value count is huge i.e. 32%\n",
        "\n",
        "2. If we see this variable as a whole in given plot, missing values looks like a category, which provides a valuebale infomration that, wherever there is a null value, it shows that there were no competition open.\n",
        "\n",
        "Like variable \"CompetitionOpenSinceMonth\", most-common-class imputing would cause this information to be lost. Hence imputing most frequent category can be ruled-out.\n",
        "\n",
        "--------"
      ],
      "metadata": {
        "id": "QMrNuV8-C1zL"
      }
    },
    {
      "cell_type": "markdown",
      "source": [
        "**2. Impute 'Unknown' category -**\n",
        "\n",
        "1. Sometimes a categorical feature’s missing-ness itself is valuable information that should be explicitly encoded. \n",
        "\n",
        "2. If we see this variable as a whole in given plot, missing values looks like a category, which provides a valuebale infomration that, wherever there is a null value, it shows that there were no competition open.\n",
        "\n",
        "3. It is also evident that missing values are huge in count i.e. 32%, that can be coseidered as an equivalent to independent category\n",
        "\n",
        "4. In this approach we can impute a new categorical value / Zero, which can be considered as a kind of encoding for these missing values, which gives an important information of non-existence of competition for any month in given duration.\n",
        "\n",
        "Accordingly, we can have 24 categories here, 23 year values and 1 category of non-existence of competition for any year.\n",
        "\n",
        "--------"
      ],
      "metadata": {
        "id": "h3b2tlmQC5t-"
      }
    },
    {
      "cell_type": "markdown",
      "source": [
        "**Accordingly, replacing missing / null values of feature \"CompetitionOpenSinceYear\" with \"0\"**\n",
        "\n",
        "-------\n",
        "\n",
        "We can investigate this feature in further analysis and can drop and convert it into meaningful features while performing feature engineering on merged dataframe."
      ],
      "metadata": {
        "id": "DKv5_FAfC9hG"
      }
    },
    {
      "cell_type": "code",
      "source": [
        "# Let's check count of unique categories for variable - \"CompetitionOpenSinceMonth\"\n",
        "\n",
        "store_df['Promo2SinceYear'].nunique()"
      ],
      "metadata": {
        "colab": {
          "base_uri": "https://localhost:8080/"
        },
        "id": "j_SFdomRsHiI",
        "outputId": "0c7aa7bf-d248-4320-a035-a9b985c8def8"
      },
      "execution_count": null,
      "outputs": [
        {
          "output_type": "execute_result",
          "data": {
            "text/plain": [
              "7"
            ]
          },
          "metadata": {},
          "execution_count": 146
        }
      ]
    },
    {
      "cell_type": "code",
      "source": [
        "# Countplot to check and understand categories of \"CompetitionOpenSinceMonth\" variable\n",
        "\n",
        "plt.figure(figsize = (7,5))\n",
        "sns.countplot(x=store_df[\"Promo2SinceYear\"])"
      ],
      "metadata": {
        "colab": {
          "base_uri": "https://localhost:8080/",
          "height": 351
        },
        "id": "PoMuE5sksIzk",
        "outputId": "407f8a2f-3cdc-435a-f7b5-793955f4988a"
      },
      "execution_count": null,
      "outputs": [
        {
          "output_type": "execute_result",
          "data": {
            "text/plain": [
              "<matplotlib.axes._subplots.AxesSubplot at 0x7fa1657515e0>"
            ]
          },
          "metadata": {},
          "execution_count": 149
        },
        {
          "output_type": "display_data",
          "data": {
            "text/plain": [
              "<Figure size 504x360 with 1 Axes>"
            ],
            "image/png": "[encoded data removed]"
          },
          "metadata": {
            "needs_background": "light"
          }
        }
      ]
    },
    {
      "cell_type": "markdown",
      "source": [
        "-------\n",
        "\n",
        "**As per above plots, we can say that,**\n",
        "\n",
        "1. Other than NaN values, there are 23 categories (years) in the Variable - \"CompetitionOpenSinceYear\"\n",
        "\n",
        "2. These categories indicates, the year, when competition got started and these missing values can be considered as 'Missing At Random\" values.\n",
        "\n",
        "**Here we have below 2 imputation methods to treat these missing values appropriately,**\n",
        "\n",
        "1. Most frequent Category imputation\n",
        "2. Impute 'Unknown' category\n",
        "\n",
        "--------"
      ],
      "metadata": {
        "id": "Eb20JehzDB9T"
      }
    },
    {
      "cell_type": "markdown",
      "source": [
        "**1. Most frequent category imputation -**\n",
        "\n",
        "As per above plot and details, \n",
        "\n",
        "1. Missing value count is huge i.e. 32%\n",
        "\n",
        "2. If we see this variable as a whole in given plot, missing values looks like a category, which provides a valuebale infomration that, wherever there is a null value, it shows that there were no competition open.\n",
        "\n",
        "Like variable \"CompetitionOpenSinceMonth\", most-common-class imputing would cause this information to be lost. Hence imputing most frequent category can be ruled-out.\n",
        "\n",
        "--------"
      ],
      "metadata": {
        "id": "oiBJ93u4DGzB"
      }
    },
    {
      "cell_type": "markdown",
      "source": [
        "**2. Impute 'Unknown' category -**\n",
        "\n",
        "1. Sometimes a categorical feature’s missing-ness itself is valuable information that should be explicitly encoded. \n",
        "\n",
        "2. If we see this variable as a whole in given plot, missing values looks like a category, which provides a valuebale infomration that, wherever there is a null value, it shows that there were no competition open.\n",
        "\n",
        "3. It is also evident that missing values are huge in count i.e. 32%, that can be coseidered as an equivalent to independent category\n",
        "\n",
        "4. In this approach we can impute a new categorical value / Zero, which can be considered as a kind of encoding for these missing values, which gives an important information of non-existence of competition for any month in given duration.\n",
        "\n",
        "Accordingly, we can have 24 categories here, 23 year values and 1 category of non-existence of competition for any year.\n",
        "\n",
        "--------"
      ],
      "metadata": {
        "id": "p3NPC55pDmBv"
      }
    },
    {
      "cell_type": "markdown",
      "source": [
        "**Accordingly, replacing missing / null values of feature \"CompetitionOpenSinceYear\" with \"0\"**\n",
        "\n",
        "-------\n",
        "\n",
        "We can investigate this feature in further analysis and can drop and convert it into meaningful features while performing feature engineering on merged dataframe."
      ],
      "metadata": {
        "id": "W-6qmmGWDqaQ"
      }
    },
    {
      "cell_type": "markdown",
      "source": [
        "### Data Wrangling Code"
      ],
      "metadata": {
        "id": "bKJF3rekwFvQ"
      }
    },
    {
      "cell_type": "code",
      "source": [
        "# Write your code to make your dataset analysis ready."
      ],
      "metadata": {
        "id": "wk-9a2fpoLcV"
      },
      "execution_count": null,
      "outputs": []
    },
    {
      "cell_type": "markdown",
      "source": [
        "### What all manipulations have you done and insights you found?"
      ],
      "metadata": {
        "id": "MSa1f5Uengrz"
      }
    },
    {
      "cell_type": "markdown",
      "source": [
        "Answer Here."
      ],
      "metadata": {
        "id": "LbyXE7I1olp8"
      }
    },
    {
      "cell_type": "markdown",
      "source": [
        "## ***4. Data Vizualization, Storytelling & Experimenting with charts : Understand the relationships between variables***"
      ],
      "metadata": {
        "id": "GF8Ens_Soomf"
      }
    },
    {
      "cell_type": "markdown",
      "source": [
        "#### Chart - 1"
      ],
      "metadata": {
        "id": "0wOQAZs5pc--"
      }
    },
    {
      "cell_type": "code",
      "source": [
        "# Chart - 1 visualization code"
      ],
      "metadata": {
        "id": "7v_ESjsspbW7"
      },
      "execution_count": null,
      "outputs": []
    },
    {
      "cell_type": "markdown",
      "source": [
        "##### 1. Why did you pick the specific chart?"
      ],
      "metadata": {
        "id": "K5QZ13OEpz2H"
      }
    },
    {
      "cell_type": "markdown",
      "source": [
        "Answer Here."
      ],
      "metadata": {
        "id": "XESiWehPqBRc"
      }
    },
    {
      "cell_type": "markdown",
      "source": [
        "##### 2. What is/are the insight(s) found from the chart?"
      ],
      "metadata": {
        "id": "lQ7QKXXCp7Bj"
      }
    },
    {
      "cell_type": "markdown",
      "source": [
        "Answer Here"
      ],
      "metadata": {
        "id": "C_j1G7yiqdRP"
      }
    },
    {
      "cell_type": "markdown",
      "source": [
        "##### 3. Will the gained insights help creating a positive business impact? \n",
        "Are there any insights that lead to negative growth? Justify with specific reason."
      ],
      "metadata": {
        "id": "448CDAPjqfQr"
      }
    },
    {
      "cell_type": "markdown",
      "source": [
        "Answer Here"
      ],
      "metadata": {
        "id": "3cspy4FjqxJW"
      }
    },
    {
      "cell_type": "markdown",
      "source": [
        "#### Chart - 2"
      ],
      "metadata": {
        "id": "KSlN3yHqYklG"
      }
    },
    {
      "cell_type": "code",
      "source": [
        "# Chart - 2 visualization code"
      ],
      "metadata": {
        "id": "R4YgtaqtYklH"
      },
      "execution_count": null,
      "outputs": []
    },
    {
      "cell_type": "markdown",
      "source": [
        "##### 1. Why did you pick the specific chart?"
      ],
      "metadata": {
        "id": "t6dVpIINYklI"
      }
    },
    {
      "cell_type": "markdown",
      "source": [
        "Answer Here."
      ],
      "metadata": {
        "id": "5aaW0BYyYklI"
      }
    },
    {
      "cell_type": "markdown",
      "source": [
        "##### 2. What is/are the insight(s) found from the chart?"
      ],
      "metadata": {
        "id": "ijmpgYnKYklI"
      }
    },
    {
      "cell_type": "markdown",
      "source": [
        "Answer Here"
      ],
      "metadata": {
        "id": "PSx9atu2YklI"
      }
    },
    {
      "cell_type": "markdown",
      "source": [
        "##### 3. Will the gained insights help creating a positive business impact? \n",
        "Are there any insights that lead to negative growth? Justify with specific reason."
      ],
      "metadata": {
        "id": "-JiQyfWJYklI"
      }
    },
    {
      "cell_type": "markdown",
      "source": [
        "Answer Here"
      ],
      "metadata": {
        "id": "BcBbebzrYklV"
      }
    },
    {
      "cell_type": "markdown",
      "source": [
        "#### Chart - 3"
      ],
      "metadata": {
        "id": "EM7whBJCYoAo"
      }
    },
    {
      "cell_type": "code",
      "source": [
        "# Chart - 3 visualization code"
      ],
      "metadata": {
        "id": "t6GMdE67YoAp"
      },
      "execution_count": null,
      "outputs": []
    },
    {
      "cell_type": "markdown",
      "source": [
        "##### 1. Why did you pick the specific chart?"
      ],
      "metadata": {
        "id": "fge-S5ZAYoAp"
      }
    },
    {
      "cell_type": "markdown",
      "source": [
        "Answer Here."
      ],
      "metadata": {
        "id": "5dBItgRVYoAp"
      }
    },
    {
      "cell_type": "markdown",
      "source": [
        "##### 2. What is/are the insight(s) found from the chart?"
      ],
      "metadata": {
        "id": "85gYPyotYoAp"
      }
    },
    {
      "cell_type": "markdown",
      "source": [
        "Answer Here"
      ],
      "metadata": {
        "id": "4jstXR6OYoAp"
      }
    },
    {
      "cell_type": "markdown",
      "source": [
        "##### 3. Will the gained insights help creating a positive business impact? \n",
        "Are there any insights that lead to negative growth? Justify with specific reason."
      ],
      "metadata": {
        "id": "RoGjAbkUYoAp"
      }
    },
    {
      "cell_type": "markdown",
      "source": [
        "Answer Here"
      ],
      "metadata": {
        "id": "zfJ8IqMcYoAp"
      }
    },
    {
      "cell_type": "markdown",
      "source": [
        "#### Chart - 4"
      ],
      "metadata": {
        "id": "4Of9eVA-YrdM"
      }
    },
    {
      "cell_type": "code",
      "source": [
        "# Chart - 4 visualization code"
      ],
      "metadata": {
        "id": "irlUoxc8YrdO"
      },
      "execution_count": null,
      "outputs": []
    },
    {
      "cell_type": "markdown",
      "source": [
        "##### 1. Why did you pick the specific chart?"
      ],
      "metadata": {
        "id": "iky9q4vBYrdO"
      }
    },
    {
      "cell_type": "markdown",
      "source": [
        "Answer Here."
      ],
      "metadata": {
        "id": "aJRCwT6DYrdO"
      }
    },
    {
      "cell_type": "markdown",
      "source": [
        "##### 2. What is/are the insight(s) found from the chart?"
      ],
      "metadata": {
        "id": "F6T5p64dYrdO"
      }
    },
    {
      "cell_type": "markdown",
      "source": [
        "Answer Here"
      ],
      "metadata": {
        "id": "Xx8WAJvtYrdO"
      }
    },
    {
      "cell_type": "markdown",
      "source": [
        "##### 3. Will the gained insights help creating a positive business impact? \n",
        "Are there any insights that lead to negative growth? Justify with specific reason."
      ],
      "metadata": {
        "id": "y-Ehk30pYrdP"
      }
    },
    {
      "cell_type": "markdown",
      "source": [
        "Answer Here"
      ],
      "metadata": {
        "id": "jLNxxz7MYrdP"
      }
    },
    {
      "cell_type": "markdown",
      "source": [
        "#### Chart - 5"
      ],
      "metadata": {
        "id": "bamQiAODYuh1"
      }
    },
    {
      "cell_type": "code",
      "source": [
        "# Chart - 5 visualization code"
      ],
      "metadata": {
        "id": "TIJwrbroYuh3"
      },
      "execution_count": null,
      "outputs": []
    },
    {
      "cell_type": "markdown",
      "source": [
        "##### 1. Why did you pick the specific chart?"
      ],
      "metadata": {
        "id": "QHF8YVU7Yuh3"
      }
    },
    {
      "cell_type": "markdown",
      "source": [
        "Answer Here."
      ],
      "metadata": {
        "id": "dcxuIMRPYuh3"
      }
    },
    {
      "cell_type": "markdown",
      "source": [
        "##### 2. What is/are the insight(s) found from the chart?"
      ],
      "metadata": {
        "id": "GwzvFGzlYuh3"
      }
    },
    {
      "cell_type": "markdown",
      "source": [
        "Answer Here"
      ],
      "metadata": {
        "id": "uyqkiB8YYuh3"
      }
    },
    {
      "cell_type": "markdown",
      "source": [
        "##### 3. Will the gained insights help creating a positive business impact? \n",
        "Are there any insights that lead to negative growth? Justify with specific reason."
      ],
      "metadata": {
        "id": "qYpmQ266Yuh3"
      }
    },
    {
      "cell_type": "markdown",
      "source": [
        "Answer Here"
      ],
      "metadata": {
        "id": "_WtzZ_hCYuh4"
      }
    },
    {
      "cell_type": "markdown",
      "source": [
        "#### Chart - 6"
      ],
      "metadata": {
        "id": "OH-pJp9IphqM"
      }
    },
    {
      "cell_type": "code",
      "source": [
        "# Chart - 6 visualization code"
      ],
      "metadata": {
        "id": "kuRf4wtuphqN"
      },
      "execution_count": null,
      "outputs": []
    },
    {
      "cell_type": "markdown",
      "source": [
        "##### 1. Why did you pick the specific chart?"
      ],
      "metadata": {
        "id": "bbFf2-_FphqN"
      }
    },
    {
      "cell_type": "markdown",
      "source": [
        "Answer Here."
      ],
      "metadata": {
        "id": "loh7H2nzphqN"
      }
    },
    {
      "cell_type": "markdown",
      "source": [
        "##### 2. What is/are the insight(s) found from the chart?"
      ],
      "metadata": {
        "id": "_ouA3fa0phqN"
      }
    },
    {
      "cell_type": "markdown",
      "source": [
        "Answer Here"
      ],
      "metadata": {
        "id": "VECbqPI7phqN"
      }
    },
    {
      "cell_type": "markdown",
      "source": [
        "##### 3. Will the gained insights help creating a positive business impact? \n",
        "Are there any insights that lead to negative growth? Justify with specific reason."
      ],
      "metadata": {
        "id": "Seke61FWphqN"
      }
    },
    {
      "cell_type": "markdown",
      "source": [
        "Answer Here"
      ],
      "metadata": {
        "id": "DW4_bGpfphqN"
      }
    },
    {
      "cell_type": "markdown",
      "source": [
        "#### Chart - 7"
      ],
      "metadata": {
        "id": "PIIx-8_IphqN"
      }
    },
    {
      "cell_type": "code",
      "source": [
        "# Chart - 7 visualization code"
      ],
      "metadata": {
        "id": "lqAIGUfyphqO"
      },
      "execution_count": null,
      "outputs": []
    },
    {
      "cell_type": "markdown",
      "source": [
        "##### 1. Why did you pick the specific chart?"
      ],
      "metadata": {
        "id": "t27r6nlMphqO"
      }
    },
    {
      "cell_type": "markdown",
      "source": [
        "Answer Here."
      ],
      "metadata": {
        "id": "iv6ro40sphqO"
      }
    },
    {
      "cell_type": "markdown",
      "source": [
        "##### 2. What is/are the insight(s) found from the chart?"
      ],
      "metadata": {
        "id": "r2jJGEOYphqO"
      }
    },
    {
      "cell_type": "markdown",
      "source": [
        "Answer Here"
      ],
      "metadata": {
        "id": "Po6ZPi4hphqO"
      }
    },
    {
      "cell_type": "markdown",
      "source": [
        "##### 3. Will the gained insights help creating a positive business impact? \n",
        "Are there any insights that lead to negative growth? Justify with specific reason."
      ],
      "metadata": {
        "id": "b0JNsNcRphqO"
      }
    },
    {
      "cell_type": "markdown",
      "source": [
        "Answer Here"
      ],
      "metadata": {
        "id": "xvSq8iUTphqO"
      }
    },
    {
      "cell_type": "markdown",
      "source": [
        "#### Chart - 8"
      ],
      "metadata": {
        "id": "BZR9WyysphqO"
      }
    },
    {
      "cell_type": "code",
      "source": [
        "# Chart - 8 visualization code"
      ],
      "metadata": {
        "id": "TdPTWpAVphqO"
      },
      "execution_count": null,
      "outputs": []
    },
    {
      "cell_type": "markdown",
      "source": [
        "##### 1. Why did you pick the specific chart?"
      ],
      "metadata": {
        "id": "jj7wYXLtphqO"
      }
    },
    {
      "cell_type": "markdown",
      "source": [
        "Answer Here."
      ],
      "metadata": {
        "id": "Ob8u6rCTphqO"
      }
    },
    {
      "cell_type": "markdown",
      "source": [
        "##### 2. What is/are the insight(s) found from the chart?"
      ],
      "metadata": {
        "id": "eZrbJ2SmphqO"
      }
    },
    {
      "cell_type": "markdown",
      "source": [
        "Answer Here"
      ],
      "metadata": {
        "id": "mZtgC_hjphqO"
      }
    },
    {
      "cell_type": "markdown",
      "source": [
        "##### 3. Will the gained insights help creating a positive business impact? \n",
        "Are there any insights that lead to negative growth? Justify with specific reason."
      ],
      "metadata": {
        "id": "rFu4xreNphqO"
      }
    },
    {
      "cell_type": "markdown",
      "source": [
        "Answer Here"
      ],
      "metadata": {
        "id": "ey_0qi68phqO"
      }
    },
    {
      "cell_type": "markdown",
      "source": [
        "#### Chart - 9"
      ],
      "metadata": {
        "id": "YJ55k-q6phqO"
      }
    },
    {
      "cell_type": "code",
      "source": [
        "# Chart - 9 visualization code"
      ],
      "metadata": {
        "id": "B2aS4O1ophqO"
      },
      "execution_count": null,
      "outputs": []
    },
    {
      "cell_type": "markdown",
      "source": [
        "##### 1. Why did you pick the specific chart?"
      ],
      "metadata": {
        "id": "gCFgpxoyphqP"
      }
    },
    {
      "cell_type": "markdown",
      "source": [
        "Answer Here."
      ],
      "metadata": {
        "id": "TVxDimi2phqP"
      }
    },
    {
      "cell_type": "markdown",
      "source": [
        "##### 2. What is/are the insight(s) found from the chart?"
      ],
      "metadata": {
        "id": "OVtJsKN_phqQ"
      }
    },
    {
      "cell_type": "markdown",
      "source": [
        "Answer Here"
      ],
      "metadata": {
        "id": "ngGi97qjphqQ"
      }
    },
    {
      "cell_type": "markdown",
      "source": [
        "##### 3. Will the gained insights help creating a positive business impact? \n",
        "Are there any insights that lead to negative growth? Justify with specific reason."
      ],
      "metadata": {
        "id": "lssrdh5qphqQ"
      }
    },
    {
      "cell_type": "markdown",
      "source": [
        "Answer Here"
      ],
      "metadata": {
        "id": "tBpY5ekJphqQ"
      }
    },
    {
      "cell_type": "markdown",
      "source": [
        "#### Chart - 10"
      ],
      "metadata": {
        "id": "U2RJ9gkRphqQ"
      }
    },
    {
      "cell_type": "code",
      "source": [
        "# Chart - 10 visualization code"
      ],
      "metadata": {
        "id": "GM7a4YP4phqQ"
      },
      "execution_count": null,
      "outputs": []
    },
    {
      "cell_type": "markdown",
      "source": [
        "##### 1. Why did you pick the specific chart?"
      ],
      "metadata": {
        "id": "1M8mcRywphqQ"
      }
    },
    {
      "cell_type": "markdown",
      "source": [
        "Answer Here."
      ],
      "metadata": {
        "id": "8agQvks0phqQ"
      }
    },
    {
      "cell_type": "markdown",
      "source": [
        "##### 2. What is/are the insight(s) found from the chart?"
      ],
      "metadata": {
        "id": "tgIPom80phqQ"
      }
    },
    {
      "cell_type": "markdown",
      "source": [
        "Answer Here"
      ],
      "metadata": {
        "id": "Qp13pnNzphqQ"
      }
    },
    {
      "cell_type": "markdown",
      "source": [
        "##### 3. Will the gained insights help creating a positive business impact? \n",
        "Are there any insights that lead to negative growth? Justify with specific reason."
      ],
      "metadata": {
        "id": "JMzcOPDDphqR"
      }
    },
    {
      "cell_type": "markdown",
      "source": [
        "Answer Here"
      ],
      "metadata": {
        "id": "R4Ka1PC2phqR"
      }
    },
    {
      "cell_type": "markdown",
      "source": [
        "#### Chart - 11"
      ],
      "metadata": {
        "id": "x-EpHcCOp1ci"
      }
    },
    {
      "cell_type": "code",
      "source": [
        "# Chart - 11 visualization code"
      ],
      "metadata": {
        "id": "mAQTIvtqp1cj"
      },
      "execution_count": null,
      "outputs": []
    },
    {
      "cell_type": "markdown",
      "source": [
        "##### 1. Why did you pick the specific chart?"
      ],
      "metadata": {
        "id": "X_VqEhTip1ck"
      }
    },
    {
      "cell_type": "markdown",
      "source": [
        "Answer Here."
      ],
      "metadata": {
        "id": "-vsMzt_np1ck"
      }
    },
    {
      "cell_type": "markdown",
      "source": [
        "##### 2. What is/are the insight(s) found from the chart?"
      ],
      "metadata": {
        "id": "8zGJKyg5p1ck"
      }
    },
    {
      "cell_type": "markdown",
      "source": [
        "Answer Here"
      ],
      "metadata": {
        "id": "ZYdMsrqVp1ck"
      }
    },
    {
      "cell_type": "markdown",
      "source": [
        "##### 3. Will the gained insights help creating a positive business impact? \n",
        "Are there any insights that lead to negative growth? Justify with specific reason."
      ],
      "metadata": {
        "id": "PVzmfK_Ep1ck"
      }
    },
    {
      "cell_type": "markdown",
      "source": [
        "Answer Here"
      ],
      "metadata": {
        "id": "druuKYZpp1ck"
      }
    },
    {
      "cell_type": "markdown",
      "source": [
        "#### Chart - 12"
      ],
      "metadata": {
        "id": "n3dbpmDWp1ck"
      }
    },
    {
      "cell_type": "code",
      "source": [
        "# Chart - 12 visualization code"
      ],
      "metadata": {
        "id": "bwevp1tKp1ck"
      },
      "execution_count": null,
      "outputs": []
    },
    {
      "cell_type": "markdown",
      "source": [
        "##### 1. Why did you pick the specific chart?"
      ],
      "metadata": {
        "id": "ylSl6qgtp1ck"
      }
    },
    {
      "cell_type": "markdown",
      "source": [
        "Answer Here."
      ],
      "metadata": {
        "id": "m2xqNkiQp1ck"
      }
    },
    {
      "cell_type": "markdown",
      "source": [
        "##### 2. What is/are the insight(s) found from the chart?"
      ],
      "metadata": {
        "id": "ZWILFDl5p1ck"
      }
    },
    {
      "cell_type": "markdown",
      "source": [
        "Answer Here"
      ],
      "metadata": {
        "id": "x-lUsV2mp1ck"
      }
    },
    {
      "cell_type": "markdown",
      "source": [
        "##### 3. Will the gained insights help creating a positive business impact? \n",
        "Are there any insights that lead to negative growth? Justify with specific reason."
      ],
      "metadata": {
        "id": "M7G43BXep1ck"
      }
    },
    {
      "cell_type": "markdown",
      "source": [
        "Answer Here"
      ],
      "metadata": {
        "id": "5wwDJXsLp1cl"
      }
    },
    {
      "cell_type": "markdown",
      "source": [
        "#### Chart - 13"
      ],
      "metadata": {
        "id": "Ag9LCva-p1cl"
      }
    },
    {
      "cell_type": "code",
      "source": [
        "# Chart - 13 visualization code"
      ],
      "metadata": {
        "id": "EUfxeq9-p1cl"
      },
      "execution_count": null,
      "outputs": []
    },
    {
      "cell_type": "markdown",
      "source": [
        "##### 1. Why did you pick the specific chart?"
      ],
      "metadata": {
        "id": "E6MkPsBcp1cl"
      }
    },
    {
      "cell_type": "markdown",
      "source": [
        "Answer Here."
      ],
      "metadata": {
        "id": "V22bRsFWp1cl"
      }
    },
    {
      "cell_type": "markdown",
      "source": [
        "##### 2. What is/are the insight(s) found from the chart?"
      ],
      "metadata": {
        "id": "2cELzS2fp1cl"
      }
    },
    {
      "cell_type": "markdown",
      "source": [
        "Answer Here"
      ],
      "metadata": {
        "id": "ozQPc2_Ip1cl"
      }
    },
    {
      "cell_type": "markdown",
      "source": [
        "##### 3. Will the gained insights help creating a positive business impact? \n",
        "Are there any insights that lead to negative growth? Justify with specific reason."
      ],
      "metadata": {
        "id": "3MPXvC8up1cl"
      }
    },
    {
      "cell_type": "markdown",
      "source": [
        "Answer Here"
      ],
      "metadata": {
        "id": "GL8l1tdLp1cl"
      }
    },
    {
      "cell_type": "markdown",
      "source": [
        "#### Chart - 14 - Correlation Heatmap"
      ],
      "metadata": {
        "id": "NC_X3p0fY2L0"
      }
    },
    {
      "cell_type": "code",
      "source": [
        "# Correlation Heatmap visualization code"
      ],
      "metadata": {
        "id": "xyC9zolEZNRQ"
      },
      "execution_count": null,
      "outputs": []
    },
    {
      "cell_type": "markdown",
      "source": [
        "##### 1. Why did you pick the specific chart?"
      ],
      "metadata": {
        "id": "UV0SzAkaZNRQ"
      }
    },
    {
      "cell_type": "markdown",
      "source": [
        "Answer Here."
      ],
      "metadata": {
        "id": "DVPuT8LYZNRQ"
      }
    },
    {
      "cell_type": "markdown",
      "source": [
        "##### 2. What is/are the insight(s) found from the chart?"
      ],
      "metadata": {
        "id": "YPEH6qLeZNRQ"
      }
    },
    {
      "cell_type": "markdown",
      "source": [
        "Answer Here"
      ],
      "metadata": {
        "id": "bfSqtnDqZNRR"
      }
    },
    {
      "cell_type": "markdown",
      "source": [
        "#### Chart - 15 - Pair Plot "
      ],
      "metadata": {
        "id": "q29F0dvdveiT"
      }
    },
    {
      "cell_type": "code",
      "source": [
        "# Pair Plot visualization code"
      ],
      "metadata": {
        "id": "o58-TEIhveiU"
      },
      "execution_count": null,
      "outputs": []
    },
    {
      "cell_type": "markdown",
      "source": [
        "##### 1. Why did you pick the specific chart?"
      ],
      "metadata": {
        "id": "EXh0U9oCveiU"
      }
    },
    {
      "cell_type": "markdown",
      "source": [
        "Answer Here."
      ],
      "metadata": {
        "id": "eMmPjTByveiU"
      }
    },
    {
      "cell_type": "markdown",
      "source": [
        "##### 2. What is/are the insight(s) found from the chart?"
      ],
      "metadata": {
        "id": "22aHeOlLveiV"
      }
    },
    {
      "cell_type": "markdown",
      "source": [
        "Answer Here"
      ],
      "metadata": {
        "id": "uPQ8RGwHveiV"
      }
    },
    {
      "cell_type": "markdown",
      "source": [
        "## ***5. Hypothesis Testing***"
      ],
      "metadata": {
        "id": "g-ATYxFrGrvw"
      }
    },
    {
      "cell_type": "markdown",
      "source": [
        "### Based on your chart experiments, define three hypothetical statements from the dataset. In the next three questions, perform hypothesis testing to obtain final conclusion about the statements through your code and statistical testing."
      ],
      "metadata": {
        "id": "Yfr_Vlr8HBkt"
      }
    },
    {
      "cell_type": "markdown",
      "source": [
        "Answer Here."
      ],
      "metadata": {
        "id": "-7MS06SUHkB-"
      }
    },
    {
      "cell_type": "markdown",
      "source": [
        "### Hypothetical Statement - 1"
      ],
      "metadata": {
        "id": "8yEUt7NnHlrM"
      }
    },
    {
      "cell_type": "markdown",
      "source": [
        "#### 1. State Your research hypothesis as a null hypothesis and alternate hypothesis."
      ],
      "metadata": {
        "id": "tEA2Xm5dHt1r"
      }
    },
    {
      "cell_type": "markdown",
      "source": [
        "Answer Here."
      ],
      "metadata": {
        "id": "HI9ZP0laH0D-"
      }
    },
    {
      "cell_type": "markdown",
      "source": [
        "#### 2. Perform an appropriate statistical test."
      ],
      "metadata": {
        "id": "I79__PHVH19G"
      }
    },
    {
      "cell_type": "code",
      "source": [
        "# Perform Statistical Test to obtain P-Value"
      ],
      "metadata": {
        "id": "oZrfquKtyian"
      },
      "execution_count": null,
      "outputs": []
    },
    {
      "cell_type": "markdown",
      "source": [
        "##### Which statistical test have you done to obtain P-Value?"
      ],
      "metadata": {
        "id": "Ou-I18pAyIpj"
      }
    },
    {
      "cell_type": "markdown",
      "source": [
        "Answer Here."
      ],
      "metadata": {
        "id": "s2U0kk00ygSB"
      }
    },
    {
      "cell_type": "markdown",
      "source": [
        "##### Why did you choose the specific statistical test?"
      ],
      "metadata": {
        "id": "fF3858GYyt-u"
      }
    },
    {
      "cell_type": "markdown",
      "source": [
        "Answer Here."
      ],
      "metadata": {
        "id": "HO4K0gP5y3B4"
      }
    },
    {
      "cell_type": "markdown",
      "source": [
        "### Hypothetical Statement - 2"
      ],
      "metadata": {
        "id": "4_0_7-oCpUZd"
      }
    },
    {
      "cell_type": "markdown",
      "source": [
        "#### 1. State Your research hypothesis as a null hypothesis and alternate hypothesis."
      ],
      "metadata": {
        "id": "hwyV_J3ipUZe"
      }
    },
    {
      "cell_type": "markdown",
      "source": [
        "Answer Here."
      ],
      "metadata": {
        "id": "FnpLGJ-4pUZe"
      }
    },
    {
      "cell_type": "markdown",
      "source": [
        "#### 2. Perform an appropriate statistical test."
      ],
      "metadata": {
        "id": "3yB-zSqbpUZe"
      }
    },
    {
      "cell_type": "code",
      "source": [
        "# Perform Statistical Test to obtain P-Value"
      ],
      "metadata": {
        "id": "sWxdNTXNpUZe"
      },
      "execution_count": null,
      "outputs": []
    },
    {
      "cell_type": "markdown",
      "source": [
        "##### Which statistical test have you done to obtain P-Value?"
      ],
      "metadata": {
        "id": "dEUvejAfpUZe"
      }
    },
    {
      "cell_type": "markdown",
      "source": [
        "Answer Here."
      ],
      "metadata": {
        "id": "oLDrPz7HpUZf"
      }
    },
    {
      "cell_type": "markdown",
      "source": [
        "##### Why did you choose the specific statistical test?"
      ],
      "metadata": {
        "id": "Fd15vwWVpUZf"
      }
    },
    {
      "cell_type": "markdown",
      "source": [
        "Answer Here."
      ],
      "metadata": {
        "id": "4xOGYyiBpUZf"
      }
    },
    {
      "cell_type": "markdown",
      "source": [
        "### Hypothetical Statement - 3"
      ],
      "metadata": {
        "id": "bn_IUdTipZyH"
      }
    },
    {
      "cell_type": "markdown",
      "source": [
        "#### 1. State Your research hypothesis as a null hypothesis and alternate hypothesis."
      ],
      "metadata": {
        "id": "49K5P_iCpZyH"
      }
    },
    {
      "cell_type": "markdown",
      "source": [
        "Answer Here."
      ],
      "metadata": {
        "id": "7gWI5rT9pZyH"
      }
    },
    {
      "cell_type": "markdown",
      "source": [
        "#### 2. Perform an appropriate statistical test."
      ],
      "metadata": {
        "id": "Nff-vKELpZyI"
      }
    },
    {
      "cell_type": "code",
      "source": [
        "# Perform Statistical Test to obtain P-Value"
      ],
      "metadata": {
        "id": "s6AnJQjtpZyI"
      },
      "execution_count": null,
      "outputs": []
    },
    {
      "cell_type": "markdown",
      "source": [
        "##### Which statistical test have you done to obtain P-Value?"
      ],
      "metadata": {
        "id": "kLW572S8pZyI"
      }
    },
    {
      "cell_type": "markdown",
      "source": [
        "Answer Here."
      ],
      "metadata": {
        "id": "ytWJ8v15pZyI"
      }
    },
    {
      "cell_type": "markdown",
      "source": [
        "##### Why did you choose the specific statistical test?"
      ],
      "metadata": {
        "id": "dWbDXHzopZyI"
      }
    },
    {
      "cell_type": "markdown",
      "source": [
        "Answer Here."
      ],
      "metadata": {
        "id": "M99G98V6pZyI"
      }
    },
    {
      "cell_type": "markdown",
      "source": [
        "## ***6. Feature Engineering & Data Pre-processing***"
      ],
      "metadata": {
        "id": "yLjJCtPM0KBk"
      }
    },
    {
      "cell_type": "markdown",
      "source": [
        "### 1. Handling Missing Values"
      ],
      "metadata": {
        "id": "xiyOF9F70UgQ"
      }
    },
    {
      "cell_type": "code",
      "source": [
        "# Handling Missing Values & Missing Value Imputation"
      ],
      "metadata": {
        "id": "iRsAHk1K0fpS"
      },
      "execution_count": null,
      "outputs": []
    },
    {
      "cell_type": "markdown",
      "source": [
        "#### What all missing value imputation techniques have you used and why did you use those techniques?"
      ],
      "metadata": {
        "id": "7wuGOrhz0itI"
      }
    },
    {
      "cell_type": "markdown",
      "source": [
        "Answer Here."
      ],
      "metadata": {
        "id": "1ixusLtI0pqI"
      }
    },
    {
      "cell_type": "markdown",
      "source": [
        "### 2. Handling Outliers"
      ],
      "metadata": {
        "id": "id1riN9m0vUs"
      }
    },
    {
      "cell_type": "code",
      "source": [
        "# Handling Outliers & Outlier treatments"
      ],
      "metadata": {
        "id": "M6w2CzZf04JK"
      },
      "execution_count": null,
      "outputs": []
    },
    {
      "cell_type": "markdown",
      "source": [
        "##### What all outlier treatment techniques have you used and why did you use those techniques?"
      ],
      "metadata": {
        "id": "578E2V7j08f6"
      }
    },
    {
      "cell_type": "markdown",
      "source": [
        "Answer Here."
      ],
      "metadata": {
        "id": "uGZz5OrT1HH-"
      }
    },
    {
      "cell_type": "markdown",
      "source": [
        "### 3. Categorical Encoding"
      ],
      "metadata": {
        "id": "89xtkJwZ18nB"
      }
    },
    {
      "cell_type": "code",
      "source": [
        "# Encode your categorical columns"
      ],
      "metadata": {
        "id": "21JmIYMG2hEo"
      },
      "execution_count": null,
      "outputs": []
    },
    {
      "cell_type": "markdown",
      "source": [
        "#### What all categorical encoding techniques have you used & why did you use those techniques?"
      ],
      "metadata": {
        "id": "67NQN5KX2AMe"
      }
    },
    {
      "cell_type": "markdown",
      "source": [
        "Answer Here."
      ],
      "metadata": {
        "id": "UDaue5h32n_G"
      }
    },
    {
      "cell_type": "markdown",
      "source": [
        "### 4. Textual Data Preprocessing \n",
        "(It's mandatory for textual dataset i.e., NLP, Sentiment Analysis, Text Clustering etc.)"
      ],
      "metadata": {
        "id": "Iwf50b-R2tYG"
      }
    },
    {
      "cell_type": "markdown",
      "source": [
        "#### 1. Expand Contraction"
      ],
      "metadata": {
        "id": "GMQiZwjn3iu7"
      }
    },
    {
      "cell_type": "code",
      "source": [
        "# Expand Contraction"
      ],
      "metadata": {
        "id": "PTouz10C3oNN"
      },
      "execution_count": null,
      "outputs": []
    },
    {
      "cell_type": "markdown",
      "source": [
        "#### 2. Lower Casing"
      ],
      "metadata": {
        "id": "WVIkgGqN3qsr"
      }
    },
    {
      "cell_type": "code",
      "source": [
        "# Lower Casing"
      ],
      "metadata": {
        "id": "88JnJ1jN3w7j"
      },
      "execution_count": null,
      "outputs": []
    },
    {
      "cell_type": "markdown",
      "source": [
        "#### 3. Removing Punctuations"
      ],
      "metadata": {
        "id": "XkPnILGE3zoT"
      }
    },
    {
      "cell_type": "code",
      "source": [
        "# Remove Punctuations"
      ],
      "metadata": {
        "id": "vqbBqNaA33c0"
      },
      "execution_count": null,
      "outputs": []
    },
    {
      "cell_type": "markdown",
      "source": [
        "#### 4. Removing URLs & Removing words and digits contain digits."
      ],
      "metadata": {
        "id": "Hlsf0x5436Go"
      }
    },
    {
      "cell_type": "code",
      "source": [
        "# Remove URLs & Remove words and digits contain digits"
      ],
      "metadata": {
        "id": "2sxKgKxu4Ip3"
      },
      "execution_count": null,
      "outputs": []
    },
    {
      "cell_type": "markdown",
      "source": [
        "#### 5. Removing Stopwords & Removing White spaces"
      ],
      "metadata": {
        "id": "mT9DMSJo4nBL"
      }
    },
    {
      "cell_type": "code",
      "source": [
        "# Remove Stopwords"
      ],
      "metadata": {
        "id": "T2LSJh154s8W"
      },
      "execution_count": null,
      "outputs": []
    },
    {
      "cell_type": "code",
      "source": [
        "# Remove White spaces"
      ],
      "metadata": {
        "id": "EgLJGffy4vm0"
      },
      "execution_count": null,
      "outputs": []
    },
    {
      "cell_type": "markdown",
      "source": [
        "#### 6. Rephrase Text"
      ],
      "metadata": {
        "id": "c49ITxTc407N"
      }
    },
    {
      "cell_type": "code",
      "source": [
        "# Rephrase Text"
      ],
      "metadata": {
        "id": "foqY80Qu48N2"
      },
      "execution_count": null,
      "outputs": []
    },
    {
      "cell_type": "markdown",
      "source": [
        "#### 7. Tokenization"
      ],
      "metadata": {
        "id": "OeJFEK0N496M"
      }
    },
    {
      "cell_type": "code",
      "source": [
        "# Tokenization"
      ],
      "metadata": {
        "id": "ijx1rUOS5CUU"
      },
      "execution_count": null,
      "outputs": []
    },
    {
      "cell_type": "markdown",
      "source": [
        "#### 8. Text Normalization"
      ],
      "metadata": {
        "id": "9ExmJH0g5HBk"
      }
    },
    {
      "cell_type": "code",
      "source": [
        "# Normalizing Text (i.e., Stemming, Lemmatization etc.)"
      ],
      "metadata": {
        "id": "AIJ1a-Zc5PY8"
      },
      "execution_count": null,
      "outputs": []
    },
    {
      "cell_type": "markdown",
      "source": [
        "##### Which text normalization technique have you used and why?"
      ],
      "metadata": {
        "id": "cJNqERVU536h"
      }
    },
    {
      "cell_type": "markdown",
      "source": [
        "Answer Here."
      ],
      "metadata": {
        "id": "Z9jKVxE06BC1"
      }
    },
    {
      "cell_type": "markdown",
      "source": [
        "#### 9. Part of speech tagging"
      ],
      "metadata": {
        "id": "k5UmGsbsOxih"
      }
    },
    {
      "cell_type": "code",
      "source": [
        "# POS Taging"
      ],
      "metadata": {
        "id": "btT3ZJBAO6Ik"
      },
      "execution_count": null,
      "outputs": []
    },
    {
      "cell_type": "markdown",
      "source": [
        "#### 10. Text Vectorization"
      ],
      "metadata": {
        "id": "T0VqWOYE6DLQ"
      }
    },
    {
      "cell_type": "code",
      "source": [
        "# Vectorizing Text"
      ],
      "metadata": {
        "id": "yBRtdhth6JDE"
      },
      "execution_count": null,
      "outputs": []
    },
    {
      "cell_type": "markdown",
      "source": [
        "##### Which text vectorization technique have you used and why?"
      ],
      "metadata": {
        "id": "qBMux9mC6MCf"
      }
    },
    {
      "cell_type": "markdown",
      "source": [
        "Answer Here."
      ],
      "metadata": {
        "id": "su2EnbCh6UKQ"
      }
    },
    {
      "cell_type": "markdown",
      "source": [
        "### 4. Feature Manipulation & Selection"
      ],
      "metadata": {
        "id": "-oLEiFgy-5Pf"
      }
    },
    {
      "cell_type": "markdown",
      "source": [
        "#### 1. Feature Manipulation"
      ],
      "metadata": {
        "id": "C74aWNz2AliB"
      }
    },
    {
      "cell_type": "code",
      "source": [
        "# Manipulate Features to minimize feature correlation and create new features"
      ],
      "metadata": {
        "id": "h1qC4yhBApWC"
      },
      "execution_count": null,
      "outputs": []
    },
    {
      "cell_type": "markdown",
      "source": [
        "#### 2. Feature Selection"
      ],
      "metadata": {
        "id": "2DejudWSA-a0"
      }
    },
    {
      "cell_type": "code",
      "source": [
        "# Select your features wisely to avoid overfitting"
      ],
      "metadata": {
        "id": "YLhe8UmaBCEE"
      },
      "execution_count": null,
      "outputs": []
    },
    {
      "cell_type": "markdown",
      "source": [
        "##### What all feature selection methods have you used  and why?"
      ],
      "metadata": {
        "id": "pEMng2IbBLp7"
      }
    },
    {
      "cell_type": "markdown",
      "source": [
        "Answer Here."
      ],
      "metadata": {
        "id": "rb2Lh6Z8BgGs"
      }
    },
    {
      "cell_type": "markdown",
      "source": [
        "##### Which all features you found important and why?"
      ],
      "metadata": {
        "id": "rAdphbQ9Bhjc"
      }
    },
    {
      "cell_type": "markdown",
      "source": [
        "Answer Here."
      ],
      "metadata": {
        "id": "fGgaEstsBnaf"
      }
    },
    {
      "cell_type": "markdown",
      "source": [
        "### 5. Data Transformation"
      ],
      "metadata": {
        "id": "TNVZ9zx19K6k"
      }
    },
    {
      "cell_type": "markdown",
      "source": [
        "#### Do you think that your data needs to be transformed? If yes, which transformation have you used. Explain Why?"
      ],
      "metadata": {
        "id": "nqoHp30x9hH9"
      }
    },
    {
      "cell_type": "code",
      "source": [
        "# Transform Your data"
      ],
      "metadata": {
        "id": "I6quWQ1T9rtH"
      },
      "execution_count": null,
      "outputs": []
    },
    {
      "cell_type": "markdown",
      "source": [
        "### 6. Data Scaling"
      ],
      "metadata": {
        "id": "rMDnDkt2B6du"
      }
    },
    {
      "cell_type": "code",
      "source": [
        "# Scaling your data"
      ],
      "metadata": {
        "id": "dL9LWpySC6x_"
      },
      "execution_count": null,
      "outputs": []
    },
    {
      "cell_type": "markdown",
      "source": [
        "##### Which method have you used to scale you data and why?"
      ],
      "metadata": {
        "id": "yiiVWRdJDDil"
      }
    },
    {
      "cell_type": "markdown",
      "source": [
        "### 7. Dimesionality Reduction"
      ],
      "metadata": {
        "id": "1UUpS68QDMuG"
      }
    },
    {
      "cell_type": "markdown",
      "source": [
        "##### Do you think that dimensionality reduction is needed? Explain Why?"
      ],
      "metadata": {
        "id": "kexQrXU-DjzY"
      }
    },
    {
      "cell_type": "markdown",
      "source": [
        "Answer Here."
      ],
      "metadata": {
        "id": "GGRlBsSGDtTQ"
      }
    },
    {
      "cell_type": "code",
      "source": [
        "# DImensionality Reduction (If needed)"
      ],
      "metadata": {
        "id": "kQfvxBBHDvCa"
      },
      "execution_count": null,
      "outputs": []
    },
    {
      "cell_type": "markdown",
      "source": [
        "##### Which dimensionality reduction technique have you used and why? (If dimensionality reduction done on dataset.)"
      ],
      "metadata": {
        "id": "T5CmagL3EC8N"
      }
    },
    {
      "cell_type": "markdown",
      "source": [
        "Answer Here."
      ],
      "metadata": {
        "id": "ZKr75IDuEM7t"
      }
    },
    {
      "cell_type": "markdown",
      "source": [
        "### 8. Data Splitting"
      ],
      "metadata": {
        "id": "BhH2vgX9EjGr"
      }
    },
    {
      "cell_type": "code",
      "source": [
        "# Split your data to train and test. Choose Splitting ratio wisely."
      ],
      "metadata": {
        "id": "0CTyd2UwEyNM"
      },
      "execution_count": null,
      "outputs": []
    },
    {
      "cell_type": "markdown",
      "source": [
        "##### What data splitting ratio have you used and why? "
      ],
      "metadata": {
        "id": "qjKvONjwE8ra"
      }
    },
    {
      "cell_type": "markdown",
      "source": [
        "Answer Here."
      ],
      "metadata": {
        "id": "Y2lJ8cobFDb_"
      }
    },
    {
      "cell_type": "markdown",
      "source": [
        "### 9. Handling Imbalanced Dataset"
      ],
      "metadata": {
        "id": "P1XJ9OREExlT"
      }
    },
    {
      "cell_type": "markdown",
      "source": [
        "##### Do you think the dataset is imbalanced? Explain Why."
      ],
      "metadata": {
        "id": "VFOzZv6IFROw"
      }
    },
    {
      "cell_type": "markdown",
      "source": [
        "Answer Here."
      ],
      "metadata": {
        "id": "GeKDIv7pFgcC"
      }
    },
    {
      "cell_type": "code",
      "source": [
        "# Handling Imbalanced Dataset (If needed)"
      ],
      "metadata": {
        "id": "nQsRhhZLFiDs"
      },
      "execution_count": null,
      "outputs": []
    },
    {
      "cell_type": "markdown",
      "source": [
        "##### What technique did you use to handle the imbalance dataset and why? (If needed to be balanced)"
      ],
      "metadata": {
        "id": "TIqpNgepFxVj"
      }
    },
    {
      "cell_type": "markdown",
      "source": [
        "Answer Here."
      ],
      "metadata": {
        "id": "qbet1HwdGDTz"
      }
    },
    {
      "cell_type": "markdown",
      "source": [
        "## ***7. ML Model Implementation***"
      ],
      "metadata": {
        "id": "VfCC591jGiD4"
      }
    },
    {
      "cell_type": "markdown",
      "source": [
        "### ML Model - 1"
      ],
      "metadata": {
        "id": "OB4l2ZhMeS1U"
      }
    },
    {
      "cell_type": "code",
      "source": [
        "# ML Model - 1 Implementation\n",
        "\n",
        "# Fit the Algorithm\n",
        "\n",
        "# Predict on the model"
      ],
      "metadata": {
        "id": "7ebyywQieS1U"
      },
      "execution_count": null,
      "outputs": []
    },
    {
      "cell_type": "markdown",
      "source": [
        "#### 1. Explain the ML Model used and it's performance using Evaluation metric Score Chart."
      ],
      "metadata": {
        "id": "ArJBuiUVfxKd"
      }
    },
    {
      "cell_type": "code",
      "source": [
        "# Visualizing evaluation Metric Score chart"
      ],
      "metadata": {
        "id": "rqD5ZohzfxKe"
      },
      "execution_count": null,
      "outputs": []
    },
    {
      "cell_type": "markdown",
      "source": [
        "#### 2. Cross- Validation & Hyperparameter Tuning"
      ],
      "metadata": {
        "id": "4qY1EAkEfxKe"
      }
    },
    {
      "cell_type": "code",
      "source": [
        "# ML Model - 1 Implementation with hyperparameter optimization techniques (i.e., GridSearch CV, RandomSearch CV, Bayesian Optimization etc.)\n",
        "\n",
        "# Fit the Algorithm\n",
        "\n",
        "# Predict on the model"
      ],
      "metadata": {
        "id": "Dy61ujd6fxKe"
      },
      "execution_count": null,
      "outputs": []
    },
    {
      "cell_type": "markdown",
      "source": [
        "##### Which hyperparameter optimization technique have you used and why?"
      ],
      "metadata": {
        "id": "PiV4Ypx8fxKe"
      }
    },
    {
      "cell_type": "markdown",
      "source": [
        "Answer Here."
      ],
      "metadata": {
        "id": "negyGRa7fxKf"
      }
    },
    {
      "cell_type": "markdown",
      "source": [
        "##### Have you seen any improvement? Note down the improvement with updates Evaluation metric Score Chart."
      ],
      "metadata": {
        "id": "TfvqoZmBfxKf"
      }
    },
    {
      "cell_type": "markdown",
      "source": [
        "Answer Here."
      ],
      "metadata": {
        "id": "OaLui8CcfxKf"
      }
    },
    {
      "cell_type": "markdown",
      "source": [
        "### ML Model - 2"
      ],
      "metadata": {
        "id": "dJ2tPlVmpsJ0"
      }
    },
    {
      "cell_type": "markdown",
      "source": [
        "#### 1. Explain the ML Model used and it's performance using Evaluation metric Score Chart."
      ],
      "metadata": {
        "id": "JWYfwnehpsJ1"
      }
    },
    {
      "cell_type": "code",
      "source": [
        "# Visualizing evaluation Metric Score chart"
      ],
      "metadata": {
        "id": "yEl-hgQWpsJ1"
      },
      "execution_count": null,
      "outputs": []
    },
    {
      "cell_type": "markdown",
      "source": [
        "#### 2. Cross- Validation & Hyperparameter Tuning"
      ],
      "metadata": {
        "id": "-jK_YjpMpsJ2"
      }
    },
    {
      "cell_type": "code",
      "source": [
        "# ML Model - 1 Implementation with hyperparameter optimization techniques (i.e., GridSearch CV, RandomSearch CV, Bayesian Optimization etc.)\n",
        "\n",
        "# Fit the Algorithm\n",
        "\n",
        "# Predict on the model"
      ],
      "metadata": {
        "id": "Dn0EOfS6psJ2"
      },
      "execution_count": null,
      "outputs": []
    },
    {
      "cell_type": "markdown",
      "source": [
        "##### Which hyperparameter optimization technique have you used and why?"
      ],
      "metadata": {
        "id": "HAih1iBOpsJ2"
      }
    },
    {
      "cell_type": "markdown",
      "source": [
        "Answer Here."
      ],
      "metadata": {
        "id": "9kBgjYcdpsJ2"
      }
    },
    {
      "cell_type": "markdown",
      "source": [
        "##### Have you seen any improvement? Note down the improvement with updates Evaluation metric Score Chart."
      ],
      "metadata": {
        "id": "zVGeBEFhpsJ2"
      }
    },
    {
      "cell_type": "markdown",
      "source": [
        "Answer Here."
      ],
      "metadata": {
        "id": "74yRdG6UpsJ3"
      }
    },
    {
      "cell_type": "markdown",
      "source": [
        "#### 3. Explain each evaluation metric's indication towards business and the business impact pf the ML model used."
      ],
      "metadata": {
        "id": "bmKjuQ-FpsJ3"
      }
    },
    {
      "cell_type": "markdown",
      "source": [
        "Answer Here."
      ],
      "metadata": {
        "id": "BDKtOrBQpsJ3"
      }
    },
    {
      "cell_type": "markdown",
      "source": [
        "### ML Model - 3"
      ],
      "metadata": {
        "id": "Fze-IPXLpx6K"
      }
    },
    {
      "cell_type": "code",
      "source": [
        "# ML Model - 3 Implementation\n",
        "\n",
        "# Fit the Algorithm\n",
        "\n",
        "# Predict on the model"
      ],
      "metadata": {
        "id": "FFrSXAtrpx6M"
      },
      "execution_count": null,
      "outputs": []
    },
    {
      "cell_type": "markdown",
      "source": [
        "#### 1. Explain the ML Model used and it's performance using Evaluation metric Score Chart."
      ],
      "metadata": {
        "id": "7AN1z2sKpx6M"
      }
    },
    {
      "cell_type": "code",
      "source": [
        "# Visualizing evaluation Metric Score chart"
      ],
      "metadata": {
        "id": "xIY4lxxGpx6M"
      },
      "execution_count": null,
      "outputs": []
    },
    {
      "cell_type": "markdown",
      "source": [
        "#### 2. Cross- Validation & Hyperparameter Tuning"
      ],
      "metadata": {
        "id": "9PIHJqyupx6M"
      }
    },
    {
      "cell_type": "code",
      "source": [
        "# ML Model - 3 Implementation with hyperparameter optimization techniques (i.e., GridSearch CV, RandomSearch CV, Bayesian Optimization etc.)\n",
        "\n",
        "# Fit the Algorithm\n",
        "\n",
        "# Predict on the model"
      ],
      "metadata": {
        "id": "eSVXuaSKpx6M"
      },
      "execution_count": null,
      "outputs": []
    },
    {
      "cell_type": "markdown",
      "source": [
        "##### Which hyperparameter optimization technique have you used and why?"
      ],
      "metadata": {
        "id": "_-qAgymDpx6N"
      }
    },
    {
      "cell_type": "markdown",
      "source": [
        "Answer Here."
      ],
      "metadata": {
        "id": "lQMffxkwpx6N"
      }
    },
    {
      "cell_type": "markdown",
      "source": [
        "##### Have you seen any improvement? Note down the improvement with updates Evaluation metric Score Chart."
      ],
      "metadata": {
        "id": "Z-hykwinpx6N"
      }
    },
    {
      "cell_type": "markdown",
      "source": [
        "Answer Here."
      ],
      "metadata": {
        "id": "MzVzZC6opx6N"
      }
    },
    {
      "cell_type": "markdown",
      "source": [
        "### 1. Which Evaluation metrics did you consider for a positive business impact and why?"
      ],
      "metadata": {
        "id": "h_CCil-SKHpo"
      }
    },
    {
      "cell_type": "markdown",
      "source": [
        "Answer Here."
      ],
      "metadata": {
        "id": "jHVz9hHDKFms"
      }
    },
    {
      "cell_type": "markdown",
      "source": [
        "### 2. Which ML model did you choose from the above created models as your final prediction model and why?"
      ],
      "metadata": {
        "id": "cBFFvTBNJzUa"
      }
    },
    {
      "cell_type": "markdown",
      "source": [
        "Answer Here."
      ],
      "metadata": {
        "id": "6ksF5Q1LKTVm"
      }
    },
    {
      "cell_type": "markdown",
      "source": [
        "### 3. Explain the model which you have used and the feature importance using any model explainability tool?"
      ],
      "metadata": {
        "id": "HvGl1hHyA_VK"
      }
    },
    {
      "cell_type": "markdown",
      "source": [
        "Answer Here."
      ],
      "metadata": {
        "id": "YnvVTiIxBL-C"
      }
    },
    {
      "cell_type": "markdown",
      "source": [
        "## ***8.*** ***Future Work (Optional)***"
      ],
      "metadata": {
        "id": "EyNgTHvd2WFk"
      }
    },
    {
      "cell_type": "markdown",
      "source": [
        "### 1. Save the best performing ml model in a pickle file or joblib file format for deployment process.\n"
      ],
      "metadata": {
        "id": "KH5McJBi2d8v"
      }
    },
    {
      "cell_type": "code",
      "source": [
        "# Save the File"
      ],
      "metadata": {
        "id": "bQIANRl32f4J"
      },
      "execution_count": null,
      "outputs": []
    },
    {
      "cell_type": "markdown",
      "source": [
        "### 2. Again Load the saved model file and try to predict unseen data for a sanity check.\n"
      ],
      "metadata": {
        "id": "iW_Lq9qf2h6X"
      }
    },
    {
      "cell_type": "code",
      "source": [
        "# Load the File and predict unseen data."
      ],
      "metadata": {
        "id": "oEXk9ydD2nVC"
      },
      "execution_count": null,
      "outputs": []
    },
    {
      "cell_type": "markdown",
      "source": [
        "### ***Congrats! Your model is successfully created and ready for deployment on a live server for a real user interaction !!!***"
      ],
      "metadata": {
        "id": "-Kee-DAl2viO"
      }
    },
    {
      "cell_type": "markdown",
      "source": [
        "# **Conclusion**"
      ],
      "metadata": {
        "id": "gCX9965dhzqZ"
      }
    },
    {
      "cell_type": "markdown",
      "source": [
        "Write the conclusion here."
      ],
      "metadata": {
        "id": "Fjb1IsQkh3yE"
      }
    },
    {
      "cell_type": "markdown",
      "source": [
        "### ***Hurrah! You have successfully completed your Machine Learning Capstone Project !!!***"
      ],
      "metadata": {
        "id": "gIfDvo9L0UH2"
      }
    }
  ]
}