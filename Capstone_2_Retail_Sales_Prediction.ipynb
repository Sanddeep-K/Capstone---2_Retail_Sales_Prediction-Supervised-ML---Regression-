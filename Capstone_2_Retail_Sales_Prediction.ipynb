{
  "nbformat": 4,
  "nbformat_minor": 0,
  "metadata": {
    "colab": {
      "provenance": [],
      "collapsed_sections": [
        "mDgbUHAGgjLW",
        "nA9Y7ga8ng1Z",
        "PBTbrJXOngz2",
        "u3PMJOP6ngxN",
        "dauF4eBmngu3",
        "bKJF3rekwFvQ",
        "MSa1f5Uengrz",
        "GF8Ens_Soomf",
        "0wOQAZs5pc--",
        "K5QZ13OEpz2H",
        "lQ7QKXXCp7Bj",
        "448CDAPjqfQr",
        "KSlN3yHqYklG",
        "t6dVpIINYklI",
        "ijmpgYnKYklI",
        "-JiQyfWJYklI",
        "EM7whBJCYoAo",
        "fge-S5ZAYoAp",
        "85gYPyotYoAp",
        "RoGjAbkUYoAp",
        "4Of9eVA-YrdM",
        "iky9q4vBYrdO",
        "F6T5p64dYrdO",
        "y-Ehk30pYrdP",
        "bamQiAODYuh1",
        "QHF8YVU7Yuh3",
        "GwzvFGzlYuh3",
        "qYpmQ266Yuh3",
        "OH-pJp9IphqM",
        "bbFf2-_FphqN",
        "_ouA3fa0phqN",
        "Seke61FWphqN",
        "PIIx-8_IphqN",
        "t27r6nlMphqO",
        "r2jJGEOYphqO",
        "b0JNsNcRphqO",
        "BZR9WyysphqO",
        "jj7wYXLtphqO",
        "eZrbJ2SmphqO",
        "rFu4xreNphqO",
        "YJ55k-q6phqO",
        "gCFgpxoyphqP",
        "OVtJsKN_phqQ",
        "lssrdh5qphqQ",
        "U2RJ9gkRphqQ",
        "1M8mcRywphqQ",
        "tgIPom80phqQ",
        "JMzcOPDDphqR",
        "x-EpHcCOp1ci",
        "X_VqEhTip1ck",
        "8zGJKyg5p1ck",
        "PVzmfK_Ep1ck",
        "n3dbpmDWp1ck",
        "ylSl6qgtp1ck",
        "ZWILFDl5p1ck",
        "M7G43BXep1ck",
        "Ag9LCva-p1cl",
        "E6MkPsBcp1cl",
        "2cELzS2fp1cl",
        "3MPXvC8up1cl",
        "NC_X3p0fY2L0",
        "UV0SzAkaZNRQ",
        "YPEH6qLeZNRQ",
        "q29F0dvdveiT",
        "EXh0U9oCveiU",
        "22aHeOlLveiV",
        "g-ATYxFrGrvw",
        "Yfr_Vlr8HBkt",
        "8yEUt7NnHlrM",
        "tEA2Xm5dHt1r",
        "I79__PHVH19G",
        "Ou-I18pAyIpj",
        "fF3858GYyt-u",
        "4_0_7-oCpUZd",
        "hwyV_J3ipUZe",
        "3yB-zSqbpUZe",
        "dEUvejAfpUZe",
        "Fd15vwWVpUZf",
        "bn_IUdTipZyH",
        "49K5P_iCpZyH",
        "Nff-vKELpZyI",
        "kLW572S8pZyI",
        "dWbDXHzopZyI",
        "yLjJCtPM0KBk",
        "xiyOF9F70UgQ",
        "7wuGOrhz0itI",
        "id1riN9m0vUs",
        "578E2V7j08f6",
        "89xtkJwZ18nB",
        "67NQN5KX2AMe",
        "Iwf50b-R2tYG",
        "GMQiZwjn3iu7",
        "WVIkgGqN3qsr",
        "XkPnILGE3zoT",
        "Hlsf0x5436Go",
        "mT9DMSJo4nBL",
        "c49ITxTc407N",
        "OeJFEK0N496M",
        "9ExmJH0g5HBk",
        "cJNqERVU536h",
        "k5UmGsbsOxih",
        "T0VqWOYE6DLQ",
        "qBMux9mC6MCf",
        "-oLEiFgy-5Pf",
        "C74aWNz2AliB",
        "2DejudWSA-a0",
        "pEMng2IbBLp7",
        "rAdphbQ9Bhjc",
        "TNVZ9zx19K6k",
        "nqoHp30x9hH9",
        "rMDnDkt2B6du",
        "yiiVWRdJDDil",
        "1UUpS68QDMuG",
        "kexQrXU-DjzY",
        "T5CmagL3EC8N",
        "BhH2vgX9EjGr",
        "qjKvONjwE8ra",
        "P1XJ9OREExlT",
        "VFOzZv6IFROw",
        "TIqpNgepFxVj",
        "VfCC591jGiD4",
        "OB4l2ZhMeS1U",
        "ArJBuiUVfxKd",
        "4qY1EAkEfxKe",
        "PiV4Ypx8fxKe",
        "TfvqoZmBfxKf",
        "dJ2tPlVmpsJ0",
        "JWYfwnehpsJ1",
        "-jK_YjpMpsJ2",
        "HAih1iBOpsJ2",
        "zVGeBEFhpsJ2",
        "bmKjuQ-FpsJ3",
        "Fze-IPXLpx6K",
        "7AN1z2sKpx6M",
        "9PIHJqyupx6M",
        "_-qAgymDpx6N",
        "Z-hykwinpx6N",
        "h_CCil-SKHpo",
        "cBFFvTBNJzUa",
        "HvGl1hHyA_VK",
        "EyNgTHvd2WFk",
        "KH5McJBi2d8v",
        "iW_Lq9qf2h6X",
        "-Kee-DAl2viO",
        "gCX9965dhzqZ",
        "gIfDvo9L0UH2"
      ],
      "include_colab_link": true
    },
    "kernelspec": {
      "name": "python3",
      "display_name": "Python 3"
    },
    "language_info": {
      "name": "python"
    },
    "gpuClass": "standard",
    "accelerator": "GPU"
  },
  "cells": [
    {
      "cell_type": "markdown",
      "metadata": {
        "id": "view-in-github",
        "colab_type": "text"
      },
      "source": [
        "<a href=\"https://colab.research.google.com/github/Sanddeep-K/Capstone-2_Retail_Sales_Prediction/blob/main/Capstone_2_Retail_Sales_Prediction.ipynb\" target=\"_parent\"><img src=\"https://colab.research.google.com/assets/colab-badge.svg\" alt=\"Open In Colab\"/></a>"
      ]
    },
    {
      "cell_type": "markdown",
      "source": [
        "# **Project Name**    - Retail Sales Prediction\n",
        "-----\n",
        "-----\n",
        "\n"
      ],
      "metadata": {
        "id": "vncDsAP0Gaoa"
      }
    },
    {
      "cell_type": "markdown",
      "source": [
        "##### **Project Type**    - Regression\n",
        "##### **Contribution**    - Individual"
      ],
      "metadata": {
        "id": "beRrZCGUAJYm"
      }
    },
    {
      "cell_type": "markdown",
      "source": [
        "# **Project Summary -**\n",
        "\n",
        "------"
      ],
      "metadata": {
        "id": "FJNUwmbgGyua"
      }
    },
    {
      "cell_type": "markdown",
      "source": [
        "### Rossmann operates over 3,000 drug stores in 7 European countries. Currently, Rossmann store managers are tasked with predicting their daily sales for up to six weeks in advance. Store sales are influenced by many factors, including promotions, competition, school and state holidays, seasonality, and locality. With thousands of individual managers predicting sales based on their unique circumstances, the accuracy of results can be quite varied.\n",
        "\n",
        "### You are provided with historical sales data for 1,115 Rossmann stores. The task is to forecast the \"Sales\" column for the test set. Note that some stores in the dataset were temporarily closed for refurbishment.\n",
        "\n",
        "## Problem Statement :\n",
        "\n",
        "-----\n",
        "\n",
        "Rossmann operates over 3,000 drug stores in 7 European countries. being a Data Analyst for Rossman, I have been asked to perform below activities,\n",
        "\n",
        "1. Predicting their daily sales for up to six weeks in advance\n",
        "2. identify factors influencing sales like promotions / competitions / school & state holidays / seasonality and locality\n",
        "3. forecast the most accurate sales column for the given test set"
      ],
      "metadata": {
        "id": "F6v_1wHtG2nS"
      }
    },
    {
      "cell_type": "markdown",
      "source": [
        "# **GitHub Link -**"
      ],
      "metadata": {
        "id": "w6K7xa23Elo4"
      }
    },
    {
      "cell_type": "markdown",
      "source": [
        "Provide your GitHub Link here."
      ],
      "metadata": {
        "id": "h1o69JH3Eqqn"
      }
    },
    {
      "cell_type": "markdown",
      "source": [
        "# **Problem Statement**\n"
      ],
      "metadata": {
        "id": "yQaldy8SH6Dl"
      }
    },
    {
      "cell_type": "markdown",
      "source": [
        "**Write Problem Statement Here.**"
      ],
      "metadata": {
        "id": "DpeJGUA3kjGy"
      }
    },
    {
      "cell_type": "markdown",
      "source": [
        "# **General Guidelines** : -  "
      ],
      "metadata": {
        "id": "mDgbUHAGgjLW"
      }
    },
    {
      "cell_type": "markdown",
      "source": [
        "1.   Well-structured, formatted, and commented code is required. \n",
        "2.   Exception Handling, Production Grade Code & Deployment Ready Code will be a plus. Those students will be awarded some additional credits. \n",
        "     \n",
        "     The additional credits will have advantages over other students during Star Student selection.\n",
        "       \n",
        "             [ Note: - Deployment Ready Code is defined as, the whole .ipynb notebook should be executable in one go\n",
        "                       without a single error logged. ]\n",
        "\n",
        "3.   Each and every logic should have proper comments.\n",
        "4. You may add as many number of charts you want. Make Sure for each and every chart the following format should be answered.\n",
        "        \n",
        "\n",
        "```\n",
        "# Chart visualization code\n",
        "```\n",
        "            \n",
        "\n",
        "*   Why did you pick the specific chart?\n",
        "*   What is/are the insight(s) found from the chart?\n",
        "* Will the gained insights help creating a positive business impact? \n",
        "Are there any insights that lead to negative growth? Justify with specific reason.\n",
        "\n",
        "5. You have to create at least 15 logical & meaningful charts having important insights.\n",
        "\n",
        "\n",
        "[ Hints : - Do the Vizualization in  a structured way while following \"UBM\" Rule. \n",
        "\n",
        "U - Univariate Analysis,\n",
        "\n",
        "B - Bivariate Analysis (Numerical - Categorical, Numerical - Numerical, Categorical - Categorical)\n",
        "\n",
        "M - Multivariate Analysis\n",
        " ]\n",
        "\n",
        "\n",
        "\n",
        "\n",
        "\n",
        "6. You may add more ml algorithms for model creation. Make sure for each and every algorithm, the following format should be answered.\n",
        "\n",
        "\n",
        "*   Explain the ML Model used and it's performance using Evaluation metric Score Chart.\n",
        "\n",
        "\n",
        "*   Cross- Validation & Hyperparameter Tuning\n",
        "\n",
        "*   Have you seen any improvement? Note down the improvement with updates Evaluation metric Score Chart.\n",
        "\n",
        "*   Explain each evaluation metric's indication towards business and the business impact pf the ML model used.\n",
        "\n",
        "\n",
        "\n",
        "\n",
        "\n",
        "\n",
        "\n",
        "\n",
        "\n",
        "\n",
        "\n",
        "\n",
        "\n",
        "\n",
        "\n",
        "\n",
        "\n",
        "\n"
      ],
      "metadata": {
        "id": "ZrxVaUj-hHfC"
      }
    },
    {
      "cell_type": "markdown",
      "source": [
        "# ***Let's Begin !***\n",
        "\n",
        "------\n",
        "------"
      ],
      "metadata": {
        "id": "O_i_v8NEhb9l"
      }
    },
    {
      "cell_type": "markdown",
      "source": [
        "## ***1. Know Your Data***\n",
        "\n",
        "-----"
      ],
      "metadata": {
        "id": "HhfV-JJviCcP"
      }
    },
    {
      "cell_type": "markdown",
      "source": [
        "### Import Libraries\n",
        "\n",
        "-----"
      ],
      "metadata": {
        "id": "Y3lxredqlCYt"
      }
    },
    {
      "cell_type": "code",
      "source": [
        "# Importing necessary libraries \n",
        "\n",
        "import numpy as np\n",
        "import pandas as pd\n",
        "import matplotlib.pyplot as plt\n",
        "%matplotlib inline\n",
        "import seaborn as sns\n",
        "import missingno as msno\n",
        "\n",
        "import pylab\n",
        "from scipy import stats\n",
        "from statsmodels.stats.outliers_influence import variance_inflation_factor\n",
        "from scipy.stats import zscore\n",
        "from sklearn.linear_model import Lasso, Ridge\n",
        "from sklearn.model_selection import train_test_split\n",
        "from sklearn.preprocessing import StandardScaler\n",
        "from sklearn.linear_model import LinearRegression\n",
        "from sklearn.pipeline import Pipeline\n",
        "from sklearn.tree import DecisionTreeRegressor\n",
        "\n",
        "from sklearn import metrics\n",
        "from sklearn.metrics import r2_score\n",
        "from sklearn.metrics import mean_squared_error\n",
        "from sklearn.metrics import accuracy_score\n",
        "from sklearn.metrics import mean_absolute_error\n",
        "from sklearn.metrics import log_loss\n",
        "import math\n",
        "from sklearn.ensemble import RandomForestRegressor\n",
        "!pip install scikit-optimize\n",
        "from skopt.space import Real, Categorical, Integer\n",
        "from skopt import BayesSearchCV\n",
        "from sklearn import ensemble\n",
        "\n",
        "\n",
        "from sklearn.metrics import confusion_matrix,classification_report\n",
        "import warnings\n",
        "warnings.filterwarnings('ignore')"
      ],
      "metadata": {
        "id": "M8Vqi-pPk-HR",
        "colab": {
          "base_uri": "https://localhost:8080/"
        },
        "outputId": "27806ceb-a4f1-4c4b-bb3b-90d22fcfa6da"
      },
      "execution_count": 15,
      "outputs": [
        {
          "output_type": "stream",
          "name": "stdout",
          "text": [
            "Looking in indexes: https://pypi.org/simple, https://us-python.pkg.dev/colab-wheels/public/simple/\n",
            "Requirement already satisfied: scikit-optimize in /usr/local/lib/python3.8/dist-packages (0.9.0)\n",
            "Requirement already satisfied: joblib>=0.11 in /usr/local/lib/python3.8/dist-packages (from scikit-optimize) (1.2.0)\n",
            "Requirement already satisfied: pyaml>=16.9 in /usr/local/lib/python3.8/dist-packages (from scikit-optimize) (21.10.1)\n",
            "Requirement already satisfied: scipy>=0.19.1 in /usr/local/lib/python3.8/dist-packages (from scikit-optimize) (1.7.3)\n",
            "Requirement already satisfied: scikit-learn>=0.20.0 in /usr/local/lib/python3.8/dist-packages (from scikit-optimize) (1.0.2)\n",
            "Requirement already satisfied: numpy>=1.13.3 in /usr/local/lib/python3.8/dist-packages (from scikit-optimize) (1.21.6)\n",
            "Requirement already satisfied: PyYAML in /usr/local/lib/python3.8/dist-packages (from pyaml>=16.9->scikit-optimize) (6.0)\n",
            "Requirement already satisfied: threadpoolctl>=2.0.0 in /usr/local/lib/python3.8/dist-packages (from scikit-learn>=0.20.0->scikit-optimize) (3.1.0)\n"
          ]
        }
      ]
    },
    {
      "cell_type": "markdown",
      "source": [
        "### Dataset Loading\n",
        "\n",
        "-----"
      ],
      "metadata": {
        "id": "3RnN4peoiCZX"
      }
    },
    {
      "cell_type": "markdown",
      "source": [
        "**Mounted Google Drive**"
      ],
      "metadata": {
        "id": "BD237ca2cP90"
      }
    },
    {
      "cell_type": "code",
      "source": [
        "# --------------------------------------------------------------------------------------------------------------------------\n",
        "\n",
        "# Let's mount Google Drive first i.e. depository of datasets\n",
        "\n",
        "from google.colab import drive\n",
        "drive.mount('/content/drive/', force_remount=True)\n",
        "\n",
        "# --------------------------------------------------------------------------------------------------------------------------"
      ],
      "metadata": {
        "id": "4CkvbW_SlZ_R",
        "colab": {
          "base_uri": "https://localhost:8080/"
        },
        "outputId": "ecbe468c-0df9-457b-c60d-8ece64f10078"
      },
      "execution_count": 16,
      "outputs": [
        {
          "output_type": "stream",
          "name": "stdout",
          "text": [
            "Mounted at /content/drive/\n"
          ]
        }
      ]
    },
    {
      "cell_type": "markdown",
      "source": [
        "**Imported Datasets**"
      ],
      "metadata": {
        "id": "zAnjYCnncZqp"
      }
    },
    {
      "cell_type": "code",
      "source": [
        "# --------------------------------------------------------------------------------------------------------------------------\n",
        "\n",
        "# Importing the file path and datasets for analysis.\n",
        "\n",
        "store_data = ('/content/drive/MyDrive/Colab Notebooks/Retail Sales Prediction/Datasets/store.csv')\n",
        "ross_data = ('/content/drive/MyDrive/Colab Notebooks/Retail Sales Prediction/Datasets/Rossmann Stores Data.csv')\n",
        "\n",
        "store_df = pd.read_csv(store_data)                                              # Dataset 1 - Other Stores Data\n",
        "ross_df = pd.read_csv(ross_data)                                                # Dataset 2 - Rossmann Stores Data\n",
        "\n",
        "# --------------------------------------------------------------------------------------------------------------------------"
      ],
      "metadata": {
        "id": "ww_-BbNtccVq"
      },
      "execution_count": 17,
      "outputs": []
    },
    {
      "cell_type": "markdown",
      "source": [
        "### Dataset First View\n",
        "\n",
        "-----"
      ],
      "metadata": {
        "id": "x71ZqKXriCWQ"
      }
    },
    {
      "cell_type": "markdown",
      "source": [
        "### **Dataset - 1** : Let's check \"Store\" Dataset\n",
        "\n",
        "----------"
      ],
      "metadata": {
        "id": "cOUE6K5UckvD"
      }
    },
    {
      "cell_type": "markdown",
      "source": [
        "![Data First View.png](data:image/png;base64,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)"
      ],
      "metadata": {
        "id": "-Px-0rjmcq-Z"
      }
    },
    {
      "cell_type": "code",
      "source": [
        "store_df.head()"
      ],
      "metadata": {
        "id": "LWNFOSvLl09H",
        "colab": {
          "base_uri": "https://localhost:8080/",
          "height": 206
        },
        "outputId": "e5c5d4c2-6c8b-4882-e5de-9035af1950a1"
      },
      "execution_count": 18,
      "outputs": [
        {
          "output_type": "execute_result",
          "data": {
            "text/plain": [
              "   Store StoreType Assortment  CompetitionDistance  CompetitionOpenSinceMonth  \\\n",
              "0      1         c          a               1270.0                        9.0   \n",
              "1      2         a          a                570.0                       11.0   \n",
              "2      3         a          a              14130.0                       12.0   \n",
              "3      4         c          c                620.0                        9.0   \n",
              "4      5         a          a              29910.0                        4.0   \n",
              "\n",
              "   CompetitionOpenSinceYear  Promo2  Promo2SinceWeek  Promo2SinceYear  \\\n",
              "0                    2008.0       0              NaN              NaN   \n",
              "1                    2007.0       1             13.0           2010.0   \n",
              "2                    2006.0       1             14.0           2011.0   \n",
              "3                    2009.0       0              NaN              NaN   \n",
              "4                    2015.0       0              NaN              NaN   \n",
              "\n",
              "     PromoInterval  \n",
              "0              NaN  \n",
              "1  Jan,Apr,Jul,Oct  \n",
              "2  Jan,Apr,Jul,Oct  \n",
              "3              NaN  \n",
              "4              NaN  "
            ],
            "text/html": [
              "\n",
              "  <div id=\"df-3dabb988-cfb2-40b7-9208-c34d889da031\">\n",
              "    <div class=\"colab-df-container\">\n",
              "      <div>\n",
              "<style scoped>\n",
              "    .dataframe tbody tr th:only-of-type {\n",
              "        vertical-align: middle;\n",
              "    }\n",
              "\n",
              "    .dataframe tbody tr th {\n",
              "        vertical-align: top;\n",
              "    }\n",
              "\n",
              "    .dataframe thead th {\n",
              "        text-align: right;\n",
              "    }\n",
              "</style>\n",
              "<table border=\"1\" class=\"dataframe\">\n",
              "  <thead>\n",
              "    <tr style=\"text-align: right;\">\n",
              "      <th></th>\n",
              "      <th>Store</th>\n",
              "      <th>StoreType</th>\n",
              "      <th>Assortment</th>\n",
              "      <th>CompetitionDistance</th>\n",
              "      <th>CompetitionOpenSinceMonth</th>\n",
              "      <th>CompetitionOpenSinceYear</th>\n",
              "      <th>Promo2</th>\n",
              "      <th>Promo2SinceWeek</th>\n",
              "      <th>Promo2SinceYear</th>\n",
              "      <th>PromoInterval</th>\n",
              "    </tr>\n",
              "  </thead>\n",
              "  <tbody>\n",
              "    <tr>\n",
              "      <th>0</th>\n",
              "      <td>1</td>\n",
              "      <td>c</td>\n",
              "      <td>a</td>\n",
              "      <td>1270.0</td>\n",
              "      <td>9.0</td>\n",
              "      <td>2008.0</td>\n",
              "      <td>0</td>\n",
              "      <td>NaN</td>\n",
              "      <td>NaN</td>\n",
              "      <td>NaN</td>\n",
              "    </tr>\n",
              "    <tr>\n",
              "      <th>1</th>\n",
              "      <td>2</td>\n",
              "      <td>a</td>\n",
              "      <td>a</td>\n",
              "      <td>570.0</td>\n",
              "      <td>11.0</td>\n",
              "      <td>2007.0</td>\n",
              "      <td>1</td>\n",
              "      <td>13.0</td>\n",
              "      <td>2010.0</td>\n",
              "      <td>Jan,Apr,Jul,Oct</td>\n",
              "    </tr>\n",
              "    <tr>\n",
              "      <th>2</th>\n",
              "      <td>3</td>\n",
              "      <td>a</td>\n",
              "      <td>a</td>\n",
              "      <td>14130.0</td>\n",
              "      <td>12.0</td>\n",
              "      <td>2006.0</td>\n",
              "      <td>1</td>\n",
              "      <td>14.0</td>\n",
              "      <td>2011.0</td>\n",
              "      <td>Jan,Apr,Jul,Oct</td>\n",
              "    </tr>\n",
              "    <tr>\n",
              "      <th>3</th>\n",
              "      <td>4</td>\n",
              "      <td>c</td>\n",
              "      <td>c</td>\n",
              "      <td>620.0</td>\n",
              "      <td>9.0</td>\n",
              "      <td>2009.0</td>\n",
              "      <td>0</td>\n",
              "      <td>NaN</td>\n",
              "      <td>NaN</td>\n",
              "      <td>NaN</td>\n",
              "    </tr>\n",
              "    <tr>\n",
              "      <th>4</th>\n",
              "      <td>5</td>\n",
              "      <td>a</td>\n",
              "      <td>a</td>\n",
              "      <td>29910.0</td>\n",
              "      <td>4.0</td>\n",
              "      <td>2015.0</td>\n",
              "      <td>0</td>\n",
              "      <td>NaN</td>\n",
              "      <td>NaN</td>\n",
              "      <td>NaN</td>\n",
              "    </tr>\n",
              "  </tbody>\n",
              "</table>\n",
              "</div>\n",
              "      <button class=\"colab-df-convert\" onclick=\"convertToInteractive('df-3dabb988-cfb2-40b7-9208-c34d889da031')\"\n",
              "              title=\"Convert this dataframe to an interactive table.\"\n",
              "              style=\"display:none;\">\n",
              "        \n",
              "  <svg xmlns=\"http://www.w3.org/2000/svg\" height=\"24px\"viewBox=\"0 0 24 24\"\n",
              "       width=\"24px\">\n",
              "    <path d=\"M0 0h24v24H0V0z\" fill=\"none\"/>\n",
              "    <path d=\"M18.56 5.44l.94 2.06.94-2.06 2.06-.94-2.06-.94-.94-2.06-.94 2.06-2.06.94zm-11 1L8.5 8.5l.94-2.06 2.06-.94-2.06-.94L8.5 2.5l-.94 2.06-2.06.94zm10 10l.94 2.06.94-2.06 2.06-.94-2.06-.94-.94-2.06-.94 2.06-2.06.94z\"/><path d=\"M17.41 7.96l-1.37-1.37c-.4-.4-.92-.59-1.43-.59-.52 0-1.04.2-1.43.59L10.3 9.45l-7.72 7.72c-.78.78-.78 2.05 0 2.83L4 21.41c.39.39.9.59 1.41.59.51 0 1.02-.2 1.41-.59l7.78-7.78 2.81-2.81c.8-.78.8-2.07 0-2.86zM5.41 20L4 18.59l7.72-7.72 1.47 1.35L5.41 20z\"/>\n",
              "  </svg>\n",
              "      </button>\n",
              "      \n",
              "  <style>\n",
              "    .colab-df-container {\n",
              "      display:flex;\n",
              "      flex-wrap:wrap;\n",
              "      gap: 12px;\n",
              "    }\n",
              "\n",
              "    .colab-df-convert {\n",
              "      background-color: #E8F0FE;\n",
              "      border: none;\n",
              "      border-radius: 50%;\n",
              "      cursor: pointer;\n",
              "      display: none;\n",
              "      fill: #1967D2;\n",
              "      height: 32px;\n",
              "      padding: 0 0 0 0;\n",
              "      width: 32px;\n",
              "    }\n",
              "\n",
              "    .colab-df-convert:hover {\n",
              "      background-color: #E2EBFA;\n",
              "      box-shadow: 0px 1px 2px rgba(60, 64, 67, 0.3), 0px 1px 3px 1px rgba(60, 64, 67, 0.15);\n",
              "      fill: #174EA6;\n",
              "    }\n",
              "\n",
              "    [theme=dark] .colab-df-convert {\n",
              "      background-color: #3B4455;\n",
              "      fill: #D2E3FC;\n",
              "    }\n",
              "\n",
              "    [theme=dark] .colab-df-convert:hover {\n",
              "      background-color: #434B5C;\n",
              "      box-shadow: 0px 1px 3px 1px rgba(0, 0, 0, 0.15);\n",
              "      filter: drop-shadow(0px 1px 2px rgba(0, 0, 0, 0.3));\n",
              "      fill: #FFFFFF;\n",
              "    }\n",
              "  </style>\n",
              "\n",
              "      <script>\n",
              "        const buttonEl =\n",
              "          document.querySelector('#df-3dabb988-cfb2-40b7-9208-c34d889da031 button.colab-df-convert');\n",
              "        buttonEl.style.display =\n",
              "          google.colab.kernel.accessAllowed ? 'block' : 'none';\n",
              "\n",
              "        async function convertToInteractive(key) {\n",
              "          const element = document.querySelector('#df-3dabb988-cfb2-40b7-9208-c34d889da031');\n",
              "          const dataTable =\n",
              "            await google.colab.kernel.invokeFunction('convertToInteractive',\n",
              "                                                     [key], {});\n",
              "          if (!dataTable) return;\n",
              "\n",
              "          const docLinkHtml = 'Like what you see? Visit the ' +\n",
              "            '<a target=\"_blank\" href=https://colab.research.google.com/notebooks/data_table.ipynb>data table notebook</a>'\n",
              "            + ' to learn more about interactive tables.';\n",
              "          element.innerHTML = '';\n",
              "          dataTable['output_type'] = 'display_data';\n",
              "          await google.colab.output.renderOutput(dataTable, element);\n",
              "          const docLink = document.createElement('div');\n",
              "          docLink.innerHTML = docLinkHtml;\n",
              "          element.appendChild(docLink);\n",
              "        }\n",
              "      </script>\n",
              "    </div>\n",
              "  </div>\n",
              "  "
            ]
          },
          "metadata": {},
          "execution_count": 18
        }
      ]
    },
    {
      "cell_type": "code",
      "source": [
        "store_df.tail()"
      ],
      "metadata": {
        "colab": {
          "base_uri": "https://localhost:8080/",
          "height": 206
        },
        "id": "LTYkGnt-dVb8",
        "outputId": "f172461e-45fd-4231-97e5-4aaf2ddb8eef"
      },
      "execution_count": 19,
      "outputs": [
        {
          "output_type": "execute_result",
          "data": {
            "text/plain": [
              "      Store StoreType Assortment  CompetitionDistance  \\\n",
              "1110   1111         a          a               1900.0   \n",
              "1111   1112         c          c               1880.0   \n",
              "1112   1113         a          c               9260.0   \n",
              "1113   1114         a          c                870.0   \n",
              "1114   1115         d          c               5350.0   \n",
              "\n",
              "      CompetitionOpenSinceMonth  CompetitionOpenSinceYear  Promo2  \\\n",
              "1110                        6.0                    2014.0       1   \n",
              "1111                        4.0                    2006.0       0   \n",
              "1112                        NaN                       NaN       0   \n",
              "1113                        NaN                       NaN       0   \n",
              "1114                        NaN                       NaN       1   \n",
              "\n",
              "      Promo2SinceWeek  Promo2SinceYear     PromoInterval  \n",
              "1110             31.0           2013.0   Jan,Apr,Jul,Oct  \n",
              "1111              NaN              NaN               NaN  \n",
              "1112              NaN              NaN               NaN  \n",
              "1113              NaN              NaN               NaN  \n",
              "1114             22.0           2012.0  Mar,Jun,Sept,Dec  "
            ],
            "text/html": [
              "\n",
              "  <div id=\"df-8ecda726-afcd-44b4-9875-fba7af9ec00e\">\n",
              "    <div class=\"colab-df-container\">\n",
              "      <div>\n",
              "<style scoped>\n",
              "    .dataframe tbody tr th:only-of-type {\n",
              "        vertical-align: middle;\n",
              "    }\n",
              "\n",
              "    .dataframe tbody tr th {\n",
              "        vertical-align: top;\n",
              "    }\n",
              "\n",
              "    .dataframe thead th {\n",
              "        text-align: right;\n",
              "    }\n",
              "</style>\n",
              "<table border=\"1\" class=\"dataframe\">\n",
              "  <thead>\n",
              "    <tr style=\"text-align: right;\">\n",
              "      <th></th>\n",
              "      <th>Store</th>\n",
              "      <th>StoreType</th>\n",
              "      <th>Assortment</th>\n",
              "      <th>CompetitionDistance</th>\n",
              "      <th>CompetitionOpenSinceMonth</th>\n",
              "      <th>CompetitionOpenSinceYear</th>\n",
              "      <th>Promo2</th>\n",
              "      <th>Promo2SinceWeek</th>\n",
              "      <th>Promo2SinceYear</th>\n",
              "      <th>PromoInterval</th>\n",
              "    </tr>\n",
              "  </thead>\n",
              "  <tbody>\n",
              "    <tr>\n",
              "      <th>1110</th>\n",
              "      <td>1111</td>\n",
              "      <td>a</td>\n",
              "      <td>a</td>\n",
              "      <td>1900.0</td>\n",
              "      <td>6.0</td>\n",
              "      <td>2014.0</td>\n",
              "      <td>1</td>\n",
              "      <td>31.0</td>\n",
              "      <td>2013.0</td>\n",
              "      <td>Jan,Apr,Jul,Oct</td>\n",
              "    </tr>\n",
              "    <tr>\n",
              "      <th>1111</th>\n",
              "      <td>1112</td>\n",
              "      <td>c</td>\n",
              "      <td>c</td>\n",
              "      <td>1880.0</td>\n",
              "      <td>4.0</td>\n",
              "      <td>2006.0</td>\n",
              "      <td>0</td>\n",
              "      <td>NaN</td>\n",
              "      <td>NaN</td>\n",
              "      <td>NaN</td>\n",
              "    </tr>\n",
              "    <tr>\n",
              "      <th>1112</th>\n",
              "      <td>1113</td>\n",
              "      <td>a</td>\n",
              "      <td>c</td>\n",
              "      <td>9260.0</td>\n",
              "      <td>NaN</td>\n",
              "      <td>NaN</td>\n",
              "      <td>0</td>\n",
              "      <td>NaN</td>\n",
              "      <td>NaN</td>\n",
              "      <td>NaN</td>\n",
              "    </tr>\n",
              "    <tr>\n",
              "      <th>1113</th>\n",
              "      <td>1114</td>\n",
              "      <td>a</td>\n",
              "      <td>c</td>\n",
              "      <td>870.0</td>\n",
              "      <td>NaN</td>\n",
              "      <td>NaN</td>\n",
              "      <td>0</td>\n",
              "      <td>NaN</td>\n",
              "      <td>NaN</td>\n",
              "      <td>NaN</td>\n",
              "    </tr>\n",
              "    <tr>\n",
              "      <th>1114</th>\n",
              "      <td>1115</td>\n",
              "      <td>d</td>\n",
              "      <td>c</td>\n",
              "      <td>5350.0</td>\n",
              "      <td>NaN</td>\n",
              "      <td>NaN</td>\n",
              "      <td>1</td>\n",
              "      <td>22.0</td>\n",
              "      <td>2012.0</td>\n",
              "      <td>Mar,Jun,Sept,Dec</td>\n",
              "    </tr>\n",
              "  </tbody>\n",
              "</table>\n",
              "</div>\n",
              "      <button class=\"colab-df-convert\" onclick=\"convertToInteractive('df-8ecda726-afcd-44b4-9875-fba7af9ec00e')\"\n",
              "              title=\"Convert this dataframe to an interactive table.\"\n",
              "              style=\"display:none;\">\n",
              "        \n",
              "  <svg xmlns=\"http://www.w3.org/2000/svg\" height=\"24px\"viewBox=\"0 0 24 24\"\n",
              "       width=\"24px\">\n",
              "    <path d=\"M0 0h24v24H0V0z\" fill=\"none\"/>\n",
              "    <path d=\"M18.56 5.44l.94 2.06.94-2.06 2.06-.94-2.06-.94-.94-2.06-.94 2.06-2.06.94zm-11 1L8.5 8.5l.94-2.06 2.06-.94-2.06-.94L8.5 2.5l-.94 2.06-2.06.94zm10 10l.94 2.06.94-2.06 2.06-.94-2.06-.94-.94-2.06-.94 2.06-2.06.94z\"/><path d=\"M17.41 7.96l-1.37-1.37c-.4-.4-.92-.59-1.43-.59-.52 0-1.04.2-1.43.59L10.3 9.45l-7.72 7.72c-.78.78-.78 2.05 0 2.83L4 21.41c.39.39.9.59 1.41.59.51 0 1.02-.2 1.41-.59l7.78-7.78 2.81-2.81c.8-.78.8-2.07 0-2.86zM5.41 20L4 18.59l7.72-7.72 1.47 1.35L5.41 20z\"/>\n",
              "  </svg>\n",
              "      </button>\n",
              "      \n",
              "  <style>\n",
              "    .colab-df-container {\n",
              "      display:flex;\n",
              "      flex-wrap:wrap;\n",
              "      gap: 12px;\n",
              "    }\n",
              "\n",
              "    .colab-df-convert {\n",
              "      background-color: #E8F0FE;\n",
              "      border: none;\n",
              "      border-radius: 50%;\n",
              "      cursor: pointer;\n",
              "      display: none;\n",
              "      fill: #1967D2;\n",
              "      height: 32px;\n",
              "      padding: 0 0 0 0;\n",
              "      width: 32px;\n",
              "    }\n",
              "\n",
              "    .colab-df-convert:hover {\n",
              "      background-color: #E2EBFA;\n",
              "      box-shadow: 0px 1px 2px rgba(60, 64, 67, 0.3), 0px 1px 3px 1px rgba(60, 64, 67, 0.15);\n",
              "      fill: #174EA6;\n",
              "    }\n",
              "\n",
              "    [theme=dark] .colab-df-convert {\n",
              "      background-color: #3B4455;\n",
              "      fill: #D2E3FC;\n",
              "    }\n",
              "\n",
              "    [theme=dark] .colab-df-convert:hover {\n",
              "      background-color: #434B5C;\n",
              "      box-shadow: 0px 1px 3px 1px rgba(0, 0, 0, 0.15);\n",
              "      filter: drop-shadow(0px 1px 2px rgba(0, 0, 0, 0.3));\n",
              "      fill: #FFFFFF;\n",
              "    }\n",
              "  </style>\n",
              "\n",
              "      <script>\n",
              "        const buttonEl =\n",
              "          document.querySelector('#df-8ecda726-afcd-44b4-9875-fba7af9ec00e button.colab-df-convert');\n",
              "        buttonEl.style.display =\n",
              "          google.colab.kernel.accessAllowed ? 'block' : 'none';\n",
              "\n",
              "        async function convertToInteractive(key) {\n",
              "          const element = document.querySelector('#df-8ecda726-afcd-44b4-9875-fba7af9ec00e');\n",
              "          const dataTable =\n",
              "            await google.colab.kernel.invokeFunction('convertToInteractive',\n",
              "                                                     [key], {});\n",
              "          if (!dataTable) return;\n",
              "\n",
              "          const docLinkHtml = 'Like what you see? Visit the ' +\n",
              "            '<a target=\"_blank\" href=https://colab.research.google.com/notebooks/data_table.ipynb>data table notebook</a>'\n",
              "            + ' to learn more about interactive tables.';\n",
              "          element.innerHTML = '';\n",
              "          dataTable['output_type'] = 'display_data';\n",
              "          await google.colab.output.renderOutput(dataTable, element);\n",
              "          const docLink = document.createElement('div');\n",
              "          docLink.innerHTML = docLinkHtml;\n",
              "          element.appendChild(docLink);\n",
              "        }\n",
              "      </script>\n",
              "    </div>\n",
              "  </div>\n",
              "  "
            ]
          },
          "metadata": {},
          "execution_count": 19
        }
      ]
    },
    {
      "cell_type": "markdown",
      "source": [
        "**Random View of Dataset**\n",
        "\n",
        "-----"
      ],
      "metadata": {
        "id": "A4G6els2dawP"
      }
    },
    {
      "cell_type": "code",
      "source": [
        "store_df.sample(5)"
      ],
      "metadata": {
        "colab": {
          "base_uri": "https://localhost:8080/",
          "height": 206
        },
        "id": "f5WzKlJ6dfHh",
        "outputId": "42a8e427-bf30-4a21-b508-aba490847e76"
      },
      "execution_count": 20,
      "outputs": [
        {
          "output_type": "execute_result",
          "data": {
            "text/plain": [
              "      Store StoreType Assortment  CompetitionDistance  \\\n",
              "62       63         c          c               3700.0   \n",
              "105     106         a          a               1390.0   \n",
              "322     323         d          c               8400.0   \n",
              "607     608         a          c              18370.0   \n",
              "1036   1037         a          c                150.0   \n",
              "\n",
              "      CompetitionOpenSinceMonth  CompetitionOpenSinceYear  Promo2  \\\n",
              "62                          6.0                    2010.0       1   \n",
              "105                         8.0                    2013.0       0   \n",
              "322                         4.0                    2012.0       1   \n",
              "607                         2.0                    2013.0       1   \n",
              "1036                        NaN                       NaN       0   \n",
              "\n",
              "      Promo2SinceWeek  Promo2SinceYear    PromoInterval  \n",
              "62               18.0           2010.0  Feb,May,Aug,Nov  \n",
              "105               NaN              NaN              NaN  \n",
              "322               5.0           2013.0  Feb,May,Aug,Nov  \n",
              "607              14.0           2011.0  Jan,Apr,Jul,Oct  \n",
              "1036              NaN              NaN              NaN  "
            ],
            "text/html": [
              "\n",
              "  <div id=\"df-927d178c-0472-494b-b7c6-40affe6da2f8\">\n",
              "    <div class=\"colab-df-container\">\n",
              "      <div>\n",
              "<style scoped>\n",
              "    .dataframe tbody tr th:only-of-type {\n",
              "        vertical-align: middle;\n",
              "    }\n",
              "\n",
              "    .dataframe tbody tr th {\n",
              "        vertical-align: top;\n",
              "    }\n",
              "\n",
              "    .dataframe thead th {\n",
              "        text-align: right;\n",
              "    }\n",
              "</style>\n",
              "<table border=\"1\" class=\"dataframe\">\n",
              "  <thead>\n",
              "    <tr style=\"text-align: right;\">\n",
              "      <th></th>\n",
              "      <th>Store</th>\n",
              "      <th>StoreType</th>\n",
              "      <th>Assortment</th>\n",
              "      <th>CompetitionDistance</th>\n",
              "      <th>CompetitionOpenSinceMonth</th>\n",
              "      <th>CompetitionOpenSinceYear</th>\n",
              "      <th>Promo2</th>\n",
              "      <th>Promo2SinceWeek</th>\n",
              "      <th>Promo2SinceYear</th>\n",
              "      <th>PromoInterval</th>\n",
              "    </tr>\n",
              "  </thead>\n",
              "  <tbody>\n",
              "    <tr>\n",
              "      <th>62</th>\n",
              "      <td>63</td>\n",
              "      <td>c</td>\n",
              "      <td>c</td>\n",
              "      <td>3700.0</td>\n",
              "      <td>6.0</td>\n",
              "      <td>2010.0</td>\n",
              "      <td>1</td>\n",
              "      <td>18.0</td>\n",
              "      <td>2010.0</td>\n",
              "      <td>Feb,May,Aug,Nov</td>\n",
              "    </tr>\n",
              "    <tr>\n",
              "      <th>105</th>\n",
              "      <td>106</td>\n",
              "      <td>a</td>\n",
              "      <td>a</td>\n",
              "      <td>1390.0</td>\n",
              "      <td>8.0</td>\n",
              "      <td>2013.0</td>\n",
              "      <td>0</td>\n",
              "      <td>NaN</td>\n",
              "      <td>NaN</td>\n",
              "      <td>NaN</td>\n",
              "    </tr>\n",
              "    <tr>\n",
              "      <th>322</th>\n",
              "      <td>323</td>\n",
              "      <td>d</td>\n",
              "      <td>c</td>\n",
              "      <td>8400.0</td>\n",
              "      <td>4.0</td>\n",
              "      <td>2012.0</td>\n",
              "      <td>1</td>\n",
              "      <td>5.0</td>\n",
              "      <td>2013.0</td>\n",
              "      <td>Feb,May,Aug,Nov</td>\n",
              "    </tr>\n",
              "    <tr>\n",
              "      <th>607</th>\n",
              "      <td>608</td>\n",
              "      <td>a</td>\n",
              "      <td>c</td>\n",
              "      <td>18370.0</td>\n",
              "      <td>2.0</td>\n",
              "      <td>2013.0</td>\n",
              "      <td>1</td>\n",
              "      <td>14.0</td>\n",
              "      <td>2011.0</td>\n",
              "      <td>Jan,Apr,Jul,Oct</td>\n",
              "    </tr>\n",
              "    <tr>\n",
              "      <th>1036</th>\n",
              "      <td>1037</td>\n",
              "      <td>a</td>\n",
              "      <td>c</td>\n",
              "      <td>150.0</td>\n",
              "      <td>NaN</td>\n",
              "      <td>NaN</td>\n",
              "      <td>0</td>\n",
              "      <td>NaN</td>\n",
              "      <td>NaN</td>\n",
              "      <td>NaN</td>\n",
              "    </tr>\n",
              "  </tbody>\n",
              "</table>\n",
              "</div>\n",
              "      <button class=\"colab-df-convert\" onclick=\"convertToInteractive('df-927d178c-0472-494b-b7c6-40affe6da2f8')\"\n",
              "              title=\"Convert this dataframe to an interactive table.\"\n",
              "              style=\"display:none;\">\n",
              "        \n",
              "  <svg xmlns=\"http://www.w3.org/2000/svg\" height=\"24px\"viewBox=\"0 0 24 24\"\n",
              "       width=\"24px\">\n",
              "    <path d=\"M0 0h24v24H0V0z\" fill=\"none\"/>\n",
              "    <path d=\"M18.56 5.44l.94 2.06.94-2.06 2.06-.94-2.06-.94-.94-2.06-.94 2.06-2.06.94zm-11 1L8.5 8.5l.94-2.06 2.06-.94-2.06-.94L8.5 2.5l-.94 2.06-2.06.94zm10 10l.94 2.06.94-2.06 2.06-.94-2.06-.94-.94-2.06-.94 2.06-2.06.94z\"/><path d=\"M17.41 7.96l-1.37-1.37c-.4-.4-.92-.59-1.43-.59-.52 0-1.04.2-1.43.59L10.3 9.45l-7.72 7.72c-.78.78-.78 2.05 0 2.83L4 21.41c.39.39.9.59 1.41.59.51 0 1.02-.2 1.41-.59l7.78-7.78 2.81-2.81c.8-.78.8-2.07 0-2.86zM5.41 20L4 18.59l7.72-7.72 1.47 1.35L5.41 20z\"/>\n",
              "  </svg>\n",
              "      </button>\n",
              "      \n",
              "  <style>\n",
              "    .colab-df-container {\n",
              "      display:flex;\n",
              "      flex-wrap:wrap;\n",
              "      gap: 12px;\n",
              "    }\n",
              "\n",
              "    .colab-df-convert {\n",
              "      background-color: #E8F0FE;\n",
              "      border: none;\n",
              "      border-radius: 50%;\n",
              "      cursor: pointer;\n",
              "      display: none;\n",
              "      fill: #1967D2;\n",
              "      height: 32px;\n",
              "      padding: 0 0 0 0;\n",
              "      width: 32px;\n",
              "    }\n",
              "\n",
              "    .colab-df-convert:hover {\n",
              "      background-color: #E2EBFA;\n",
              "      box-shadow: 0px 1px 2px rgba(60, 64, 67, 0.3), 0px 1px 3px 1px rgba(60, 64, 67, 0.15);\n",
              "      fill: #174EA6;\n",
              "    }\n",
              "\n",
              "    [theme=dark] .colab-df-convert {\n",
              "      background-color: #3B4455;\n",
              "      fill: #D2E3FC;\n",
              "    }\n",
              "\n",
              "    [theme=dark] .colab-df-convert:hover {\n",
              "      background-color: #434B5C;\n",
              "      box-shadow: 0px 1px 3px 1px rgba(0, 0, 0, 0.15);\n",
              "      filter: drop-shadow(0px 1px 2px rgba(0, 0, 0, 0.3));\n",
              "      fill: #FFFFFF;\n",
              "    }\n",
              "  </style>\n",
              "\n",
              "      <script>\n",
              "        const buttonEl =\n",
              "          document.querySelector('#df-927d178c-0472-494b-b7c6-40affe6da2f8 button.colab-df-convert');\n",
              "        buttonEl.style.display =\n",
              "          google.colab.kernel.accessAllowed ? 'block' : 'none';\n",
              "\n",
              "        async function convertToInteractive(key) {\n",
              "          const element = document.querySelector('#df-927d178c-0472-494b-b7c6-40affe6da2f8');\n",
              "          const dataTable =\n",
              "            await google.colab.kernel.invokeFunction('convertToInteractive',\n",
              "                                                     [key], {});\n",
              "          if (!dataTable) return;\n",
              "\n",
              "          const docLinkHtml = 'Like what you see? Visit the ' +\n",
              "            '<a target=\"_blank\" href=https://colab.research.google.com/notebooks/data_table.ipynb>data table notebook</a>'\n",
              "            + ' to learn more about interactive tables.';\n",
              "          element.innerHTML = '';\n",
              "          dataTable['output_type'] = 'display_data';\n",
              "          await google.colab.output.renderOutput(dataTable, element);\n",
              "          const docLink = document.createElement('div');\n",
              "          docLink.innerHTML = docLinkHtml;\n",
              "          element.appendChild(docLink);\n",
              "        }\n",
              "      </script>\n",
              "    </div>\n",
              "  </div>\n",
              "  "
            ]
          },
          "metadata": {},
          "execution_count": 20
        }
      ]
    },
    {
      "cell_type": "markdown",
      "source": [
        "### Dataset Rows & Columns count\n",
        "\n",
        "------"
      ],
      "metadata": {
        "id": "7hBIi_osiCS2"
      }
    },
    {
      "cell_type": "code",
      "source": [
        "store_df.shape"
      ],
      "metadata": {
        "id": "Kllu7SJgmLij",
        "colab": {
          "base_uri": "https://localhost:8080/"
        },
        "outputId": "fa2711cd-64b2-439a-d285-137196ea5b73"
      },
      "execution_count": 21,
      "outputs": [
        {
          "output_type": "execute_result",
          "data": {
            "text/plain": [
              "(1115, 10)"
            ]
          },
          "metadata": {},
          "execution_count": 21
        }
      ]
    },
    {
      "cell_type": "markdown",
      "source": [
        "### Dataset Information\n",
        "\n",
        "-----"
      ],
      "metadata": {
        "id": "JlHwYmJAmNHm"
      }
    },
    {
      "cell_type": "code",
      "source": [
        "store_df.info()"
      ],
      "metadata": {
        "id": "e9hRXRi6meOf",
        "colab": {
          "base_uri": "https://localhost:8080/"
        },
        "outputId": "bb8c1f37-139c-4066-8e98-5031ba1241ec"
      },
      "execution_count": 22,
      "outputs": [
        {
          "output_type": "stream",
          "name": "stdout",
          "text": [
            "<class 'pandas.core.frame.DataFrame'>\n",
            "RangeIndex: 1115 entries, 0 to 1114\n",
            "Data columns (total 10 columns):\n",
            " #   Column                     Non-Null Count  Dtype  \n",
            "---  ------                     --------------  -----  \n",
            " 0   Store                      1115 non-null   int64  \n",
            " 1   StoreType                  1115 non-null   object \n",
            " 2   Assortment                 1115 non-null   object \n",
            " 3   CompetitionDistance        1112 non-null   float64\n",
            " 4   CompetitionOpenSinceMonth  761 non-null    float64\n",
            " 5   CompetitionOpenSinceYear   761 non-null    float64\n",
            " 6   Promo2                     1115 non-null   int64  \n",
            " 7   Promo2SinceWeek            571 non-null    float64\n",
            " 8   Promo2SinceYear            571 non-null    float64\n",
            " 9   PromoInterval              571 non-null    object \n",
            "dtypes: float64(5), int64(2), object(3)\n",
            "memory usage: 87.2+ KB\n"
          ]
        }
      ]
    },
    {
      "cell_type": "markdown",
      "source": [
        "**Mathematical View of Data**\n",
        "\n",
        "-----"
      ],
      "metadata": {
        "id": "5_TEjF_zd2vb"
      }
    },
    {
      "cell_type": "code",
      "source": [
        "store_df.describe()"
      ],
      "metadata": {
        "colab": {
          "base_uri": "https://localhost:8080/",
          "height": 300
        },
        "id": "OMCTrvVzd5Ak",
        "outputId": "2ea7679a-ff81-4f44-df4e-e2fda85e364a"
      },
      "execution_count": 23,
      "outputs": [
        {
          "output_type": "execute_result",
          "data": {
            "text/plain": [
              "            Store  CompetitionDistance  CompetitionOpenSinceMonth  \\\n",
              "count  1115.00000          1112.000000                 761.000000   \n",
              "mean    558.00000          5404.901079                   7.224704   \n",
              "std     322.01708          7663.174720                   3.212348   \n",
              "min       1.00000            20.000000                   1.000000   \n",
              "25%     279.50000           717.500000                   4.000000   \n",
              "50%     558.00000          2325.000000                   8.000000   \n",
              "75%     836.50000          6882.500000                  10.000000   \n",
              "max    1115.00000         75860.000000                  12.000000   \n",
              "\n",
              "       CompetitionOpenSinceYear       Promo2  Promo2SinceWeek  Promo2SinceYear  \n",
              "count                761.000000  1115.000000       571.000000       571.000000  \n",
              "mean                2008.668857     0.512108        23.595447      2011.763573  \n",
              "std                    6.195983     0.500078        14.141984         1.674935  \n",
              "min                 1900.000000     0.000000         1.000000      2009.000000  \n",
              "25%                 2006.000000     0.000000        13.000000      2011.000000  \n",
              "50%                 2010.000000     1.000000        22.000000      2012.000000  \n",
              "75%                 2013.000000     1.000000        37.000000      2013.000000  \n",
              "max                 2015.000000     1.000000        50.000000      2015.000000  "
            ],
            "text/html": [
              "\n",
              "  <div id=\"df-12d99064-c560-40a5-895d-cb11460235d2\">\n",
              "    <div class=\"colab-df-container\">\n",
              "      <div>\n",
              "<style scoped>\n",
              "    .dataframe tbody tr th:only-of-type {\n",
              "        vertical-align: middle;\n",
              "    }\n",
              "\n",
              "    .dataframe tbody tr th {\n",
              "        vertical-align: top;\n",
              "    }\n",
              "\n",
              "    .dataframe thead th {\n",
              "        text-align: right;\n",
              "    }\n",
              "</style>\n",
              "<table border=\"1\" class=\"dataframe\">\n",
              "  <thead>\n",
              "    <tr style=\"text-align: right;\">\n",
              "      <th></th>\n",
              "      <th>Store</th>\n",
              "      <th>CompetitionDistance</th>\n",
              "      <th>CompetitionOpenSinceMonth</th>\n",
              "      <th>CompetitionOpenSinceYear</th>\n",
              "      <th>Promo2</th>\n",
              "      <th>Promo2SinceWeek</th>\n",
              "      <th>Promo2SinceYear</th>\n",
              "    </tr>\n",
              "  </thead>\n",
              "  <tbody>\n",
              "    <tr>\n",
              "      <th>count</th>\n",
              "      <td>1115.00000</td>\n",
              "      <td>1112.000000</td>\n",
              "      <td>761.000000</td>\n",
              "      <td>761.000000</td>\n",
              "      <td>1115.000000</td>\n",
              "      <td>571.000000</td>\n",
              "      <td>571.000000</td>\n",
              "    </tr>\n",
              "    <tr>\n",
              "      <th>mean</th>\n",
              "      <td>558.00000</td>\n",
              "      <td>5404.901079</td>\n",
              "      <td>7.224704</td>\n",
              "      <td>2008.668857</td>\n",
              "      <td>0.512108</td>\n",
              "      <td>23.595447</td>\n",
              "      <td>2011.763573</td>\n",
              "    </tr>\n",
              "    <tr>\n",
              "      <th>std</th>\n",
              "      <td>322.01708</td>\n",
              "      <td>7663.174720</td>\n",
              "      <td>3.212348</td>\n",
              "      <td>6.195983</td>\n",
              "      <td>0.500078</td>\n",
              "      <td>14.141984</td>\n",
              "      <td>1.674935</td>\n",
              "    </tr>\n",
              "    <tr>\n",
              "      <th>min</th>\n",
              "      <td>1.00000</td>\n",
              "      <td>20.000000</td>\n",
              "      <td>1.000000</td>\n",
              "      <td>1900.000000</td>\n",
              "      <td>0.000000</td>\n",
              "      <td>1.000000</td>\n",
              "      <td>2009.000000</td>\n",
              "    </tr>\n",
              "    <tr>\n",
              "      <th>25%</th>\n",
              "      <td>279.50000</td>\n",
              "      <td>717.500000</td>\n",
              "      <td>4.000000</td>\n",
              "      <td>2006.000000</td>\n",
              "      <td>0.000000</td>\n",
              "      <td>13.000000</td>\n",
              "      <td>2011.000000</td>\n",
              "    </tr>\n",
              "    <tr>\n",
              "      <th>50%</th>\n",
              "      <td>558.00000</td>\n",
              "      <td>2325.000000</td>\n",
              "      <td>8.000000</td>\n",
              "      <td>2010.000000</td>\n",
              "      <td>1.000000</td>\n",
              "      <td>22.000000</td>\n",
              "      <td>2012.000000</td>\n",
              "    </tr>\n",
              "    <tr>\n",
              "      <th>75%</th>\n",
              "      <td>836.50000</td>\n",
              "      <td>6882.500000</td>\n",
              "      <td>10.000000</td>\n",
              "      <td>2013.000000</td>\n",
              "      <td>1.000000</td>\n",
              "      <td>37.000000</td>\n",
              "      <td>2013.000000</td>\n",
              "    </tr>\n",
              "    <tr>\n",
              "      <th>max</th>\n",
              "      <td>1115.00000</td>\n",
              "      <td>75860.000000</td>\n",
              "      <td>12.000000</td>\n",
              "      <td>2015.000000</td>\n",
              "      <td>1.000000</td>\n",
              "      <td>50.000000</td>\n",
              "      <td>2015.000000</td>\n",
              "    </tr>\n",
              "  </tbody>\n",
              "</table>\n",
              "</div>\n",
              "      <button class=\"colab-df-convert\" onclick=\"convertToInteractive('df-12d99064-c560-40a5-895d-cb11460235d2')\"\n",
              "              title=\"Convert this dataframe to an interactive table.\"\n",
              "              style=\"display:none;\">\n",
              "        \n",
              "  <svg xmlns=\"http://www.w3.org/2000/svg\" height=\"24px\"viewBox=\"0 0 24 24\"\n",
              "       width=\"24px\">\n",
              "    <path d=\"M0 0h24v24H0V0z\" fill=\"none\"/>\n",
              "    <path d=\"M18.56 5.44l.94 2.06.94-2.06 2.06-.94-2.06-.94-.94-2.06-.94 2.06-2.06.94zm-11 1L8.5 8.5l.94-2.06 2.06-.94-2.06-.94L8.5 2.5l-.94 2.06-2.06.94zm10 10l.94 2.06.94-2.06 2.06-.94-2.06-.94-.94-2.06-.94 2.06-2.06.94z\"/><path d=\"M17.41 7.96l-1.37-1.37c-.4-.4-.92-.59-1.43-.59-.52 0-1.04.2-1.43.59L10.3 9.45l-7.72 7.72c-.78.78-.78 2.05 0 2.83L4 21.41c.39.39.9.59 1.41.59.51 0 1.02-.2 1.41-.59l7.78-7.78 2.81-2.81c.8-.78.8-2.07 0-2.86zM5.41 20L4 18.59l7.72-7.72 1.47 1.35L5.41 20z\"/>\n",
              "  </svg>\n",
              "      </button>\n",
              "      \n",
              "  <style>\n",
              "    .colab-df-container {\n",
              "      display:flex;\n",
              "      flex-wrap:wrap;\n",
              "      gap: 12px;\n",
              "    }\n",
              "\n",
              "    .colab-df-convert {\n",
              "      background-color: #E8F0FE;\n",
              "      border: none;\n",
              "      border-radius: 50%;\n",
              "      cursor: pointer;\n",
              "      display: none;\n",
              "      fill: #1967D2;\n",
              "      height: 32px;\n",
              "      padding: 0 0 0 0;\n",
              "      width: 32px;\n",
              "    }\n",
              "\n",
              "    .colab-df-convert:hover {\n",
              "      background-color: #E2EBFA;\n",
              "      box-shadow: 0px 1px 2px rgba(60, 64, 67, 0.3), 0px 1px 3px 1px rgba(60, 64, 67, 0.15);\n",
              "      fill: #174EA6;\n",
              "    }\n",
              "\n",
              "    [theme=dark] .colab-df-convert {\n",
              "      background-color: #3B4455;\n",
              "      fill: #D2E3FC;\n",
              "    }\n",
              "\n",
              "    [theme=dark] .colab-df-convert:hover {\n",
              "      background-color: #434B5C;\n",
              "      box-shadow: 0px 1px 3px 1px rgba(0, 0, 0, 0.15);\n",
              "      filter: drop-shadow(0px 1px 2px rgba(0, 0, 0, 0.3));\n",
              "      fill: #FFFFFF;\n",
              "    }\n",
              "  </style>\n",
              "\n",
              "      <script>\n",
              "        const buttonEl =\n",
              "          document.querySelector('#df-12d99064-c560-40a5-895d-cb11460235d2 button.colab-df-convert');\n",
              "        buttonEl.style.display =\n",
              "          google.colab.kernel.accessAllowed ? 'block' : 'none';\n",
              "\n",
              "        async function convertToInteractive(key) {\n",
              "          const element = document.querySelector('#df-12d99064-c560-40a5-895d-cb11460235d2');\n",
              "          const dataTable =\n",
              "            await google.colab.kernel.invokeFunction('convertToInteractive',\n",
              "                                                     [key], {});\n",
              "          if (!dataTable) return;\n",
              "\n",
              "          const docLinkHtml = 'Like what you see? Visit the ' +\n",
              "            '<a target=\"_blank\" href=https://colab.research.google.com/notebooks/data_table.ipynb>data table notebook</a>'\n",
              "            + ' to learn more about interactive tables.';\n",
              "          element.innerHTML = '';\n",
              "          dataTable['output_type'] = 'display_data';\n",
              "          await google.colab.output.renderOutput(dataTable, element);\n",
              "          const docLink = document.createElement('div');\n",
              "          docLink.innerHTML = docLinkHtml;\n",
              "          element.appendChild(docLink);\n",
              "        }\n",
              "      </script>\n",
              "    </div>\n",
              "  </div>\n",
              "  "
            ]
          },
          "metadata": {},
          "execution_count": 23
        }
      ]
    },
    {
      "cell_type": "markdown",
      "source": [
        "#### Duplicate Values\n",
        "\n",
        "-----"
      ],
      "metadata": {
        "id": "35m5QtbWiB9F"
      }
    },
    {
      "cell_type": "code",
      "source": [
        "# Let's check : Critical Information of the dataset in summary format\n",
        "\n",
        "print(f'The below dataframe gives us feature wise data type, unique values, total count, missing count(NaN).')\n",
        "print('\\n')\n",
        "def store_1():\n",
        "  temp = pd.DataFrame(index =store_df.columns)\n",
        "  temp['Data_Type'] = store_df.dtypes\n",
        "  temp['Duplicate_Count'] = store_df.duplicated().sum()\n",
        "  return temp\n",
        "store_1()"
      ],
      "metadata": {
        "id": "1sLdpKYkmox0",
        "colab": {
          "base_uri": "https://localhost:8080/",
          "height": 415
        },
        "outputId": "1b4cd88b-8d8e-477a-e874-18cfb23f8125"
      },
      "execution_count": 24,
      "outputs": [
        {
          "output_type": "stream",
          "name": "stdout",
          "text": [
            "The below dataframe gives us feature wise data type, unique values, total count, missing count(NaN).\n",
            "\n",
            "\n"
          ]
        },
        {
          "output_type": "execute_result",
          "data": {
            "text/plain": [
              "                          Data_Type  Duplicate_Count\n",
              "Store                         int64                0\n",
              "StoreType                    object                0\n",
              "Assortment                   object                0\n",
              "CompetitionDistance         float64                0\n",
              "CompetitionOpenSinceMonth   float64                0\n",
              "CompetitionOpenSinceYear    float64                0\n",
              "Promo2                        int64                0\n",
              "Promo2SinceWeek             float64                0\n",
              "Promo2SinceYear             float64                0\n",
              "PromoInterval                object                0"
            ],
            "text/html": [
              "\n",
              "  <div id=\"df-421cf70f-f009-4707-b2d3-cf0411c6654a\">\n",
              "    <div class=\"colab-df-container\">\n",
              "      <div>\n",
              "<style scoped>\n",
              "    .dataframe tbody tr th:only-of-type {\n",
              "        vertical-align: middle;\n",
              "    }\n",
              "\n",
              "    .dataframe tbody tr th {\n",
              "        vertical-align: top;\n",
              "    }\n",
              "\n",
              "    .dataframe thead th {\n",
              "        text-align: right;\n",
              "    }\n",
              "</style>\n",
              "<table border=\"1\" class=\"dataframe\">\n",
              "  <thead>\n",
              "    <tr style=\"text-align: right;\">\n",
              "      <th></th>\n",
              "      <th>Data_Type</th>\n",
              "      <th>Duplicate_Count</th>\n",
              "    </tr>\n",
              "  </thead>\n",
              "  <tbody>\n",
              "    <tr>\n",
              "      <th>Store</th>\n",
              "      <td>int64</td>\n",
              "      <td>0</td>\n",
              "    </tr>\n",
              "    <tr>\n",
              "      <th>StoreType</th>\n",
              "      <td>object</td>\n",
              "      <td>0</td>\n",
              "    </tr>\n",
              "    <tr>\n",
              "      <th>Assortment</th>\n",
              "      <td>object</td>\n",
              "      <td>0</td>\n",
              "    </tr>\n",
              "    <tr>\n",
              "      <th>CompetitionDistance</th>\n",
              "      <td>float64</td>\n",
              "      <td>0</td>\n",
              "    </tr>\n",
              "    <tr>\n",
              "      <th>CompetitionOpenSinceMonth</th>\n",
              "      <td>float64</td>\n",
              "      <td>0</td>\n",
              "    </tr>\n",
              "    <tr>\n",
              "      <th>CompetitionOpenSinceYear</th>\n",
              "      <td>float64</td>\n",
              "      <td>0</td>\n",
              "    </tr>\n",
              "    <tr>\n",
              "      <th>Promo2</th>\n",
              "      <td>int64</td>\n",
              "      <td>0</td>\n",
              "    </tr>\n",
              "    <tr>\n",
              "      <th>Promo2SinceWeek</th>\n",
              "      <td>float64</td>\n",
              "      <td>0</td>\n",
              "    </tr>\n",
              "    <tr>\n",
              "      <th>Promo2SinceYear</th>\n",
              "      <td>float64</td>\n",
              "      <td>0</td>\n",
              "    </tr>\n",
              "    <tr>\n",
              "      <th>PromoInterval</th>\n",
              "      <td>object</td>\n",
              "      <td>0</td>\n",
              "    </tr>\n",
              "  </tbody>\n",
              "</table>\n",
              "</div>\n",
              "      <button class=\"colab-df-convert\" onclick=\"convertToInteractive('df-421cf70f-f009-4707-b2d3-cf0411c6654a')\"\n",
              "              title=\"Convert this dataframe to an interactive table.\"\n",
              "              style=\"display:none;\">\n",
              "        \n",
              "  <svg xmlns=\"http://www.w3.org/2000/svg\" height=\"24px\"viewBox=\"0 0 24 24\"\n",
              "       width=\"24px\">\n",
              "    <path d=\"M0 0h24v24H0V0z\" fill=\"none\"/>\n",
              "    <path d=\"M18.56 5.44l.94 2.06.94-2.06 2.06-.94-2.06-.94-.94-2.06-.94 2.06-2.06.94zm-11 1L8.5 8.5l.94-2.06 2.06-.94-2.06-.94L8.5 2.5l-.94 2.06-2.06.94zm10 10l.94 2.06.94-2.06 2.06-.94-2.06-.94-.94-2.06-.94 2.06-2.06.94z\"/><path d=\"M17.41 7.96l-1.37-1.37c-.4-.4-.92-.59-1.43-.59-.52 0-1.04.2-1.43.59L10.3 9.45l-7.72 7.72c-.78.78-.78 2.05 0 2.83L4 21.41c.39.39.9.59 1.41.59.51 0 1.02-.2 1.41-.59l7.78-7.78 2.81-2.81c.8-.78.8-2.07 0-2.86zM5.41 20L4 18.59l7.72-7.72 1.47 1.35L5.41 20z\"/>\n",
              "  </svg>\n",
              "      </button>\n",
              "      \n",
              "  <style>\n",
              "    .colab-df-container {\n",
              "      display:flex;\n",
              "      flex-wrap:wrap;\n",
              "      gap: 12px;\n",
              "    }\n",
              "\n",
              "    .colab-df-convert {\n",
              "      background-color: #E8F0FE;\n",
              "      border: none;\n",
              "      border-radius: 50%;\n",
              "      cursor: pointer;\n",
              "      display: none;\n",
              "      fill: #1967D2;\n",
              "      height: 32px;\n",
              "      padding: 0 0 0 0;\n",
              "      width: 32px;\n",
              "    }\n",
              "\n",
              "    .colab-df-convert:hover {\n",
              "      background-color: #E2EBFA;\n",
              "      box-shadow: 0px 1px 2px rgba(60, 64, 67, 0.3), 0px 1px 3px 1px rgba(60, 64, 67, 0.15);\n",
              "      fill: #174EA6;\n",
              "    }\n",
              "\n",
              "    [theme=dark] .colab-df-convert {\n",
              "      background-color: #3B4455;\n",
              "      fill: #D2E3FC;\n",
              "    }\n",
              "\n",
              "    [theme=dark] .colab-df-convert:hover {\n",
              "      background-color: #434B5C;\n",
              "      box-shadow: 0px 1px 3px 1px rgba(0, 0, 0, 0.15);\n",
              "      filter: drop-shadow(0px 1px 2px rgba(0, 0, 0, 0.3));\n",
              "      fill: #FFFFFF;\n",
              "    }\n",
              "  </style>\n",
              "\n",
              "      <script>\n",
              "        const buttonEl =\n",
              "          document.querySelector('#df-421cf70f-f009-4707-b2d3-cf0411c6654a button.colab-df-convert');\n",
              "        buttonEl.style.display =\n",
              "          google.colab.kernel.accessAllowed ? 'block' : 'none';\n",
              "\n",
              "        async function convertToInteractive(key) {\n",
              "          const element = document.querySelector('#df-421cf70f-f009-4707-b2d3-cf0411c6654a');\n",
              "          const dataTable =\n",
              "            await google.colab.kernel.invokeFunction('convertToInteractive',\n",
              "                                                     [key], {});\n",
              "          if (!dataTable) return;\n",
              "\n",
              "          const docLinkHtml = 'Like what you see? Visit the ' +\n",
              "            '<a target=\"_blank\" href=https://colab.research.google.com/notebooks/data_table.ipynb>data table notebook</a>'\n",
              "            + ' to learn more about interactive tables.';\n",
              "          element.innerHTML = '';\n",
              "          dataTable['output_type'] = 'display_data';\n",
              "          await google.colab.output.renderOutput(dataTable, element);\n",
              "          const docLink = document.createElement('div');\n",
              "          docLink.innerHTML = docLinkHtml;\n",
              "          element.appendChild(docLink);\n",
              "        }\n",
              "      </script>\n",
              "    </div>\n",
              "  </div>\n",
              "  "
            ]
          },
          "metadata": {},
          "execution_count": 24
        }
      ]
    },
    {
      "cell_type": "markdown",
      "source": [
        "#### Missing Values/Null Values\n",
        "\n",
        "-----"
      ],
      "metadata": {
        "id": "PoPl-ycgm1ru"
      }
    },
    {
      "cell_type": "code",
      "source": [
        "# Let's check : Critical Information of the dataset in summary format\n",
        "\n",
        "print(f'The below dataframe gives us feature wise data type, unique values, total count, missing count(NaN).')\n",
        "print('\\n')\n",
        "def store_1():\n",
        "  temp = pd.DataFrame(index =store_df.columns)\n",
        "  temp['Data_Type'] = store_df.dtypes\n",
        "  temp['Unique_Count'] = store_df.nunique()\n",
        "  temp['Count']= store_df.isnull().count()\n",
        "  temp['Missing_Count'] = store_df.isnull().sum()\n",
        "  temp['Missing_percentage']= round( temp['Missing_Count'] / temp['Count'] * 100, 2)\n",
        "  return temp\n",
        "store_1()"
      ],
      "metadata": {
        "id": "GgHWkxvamxVg",
        "colab": {
          "base_uri": "https://localhost:8080/",
          "height": 415
        },
        "outputId": "ccaf5335-5b15-41d7-ccf5-4046abfec93f"
      },
      "execution_count": 25,
      "outputs": [
        {
          "output_type": "stream",
          "name": "stdout",
          "text": [
            "The below dataframe gives us feature wise data type, unique values, total count, missing count(NaN).\n",
            "\n",
            "\n"
          ]
        },
        {
          "output_type": "execute_result",
          "data": {
            "text/plain": [
              "                          Data_Type  Unique_Count  Count  Missing_Count  \\\n",
              "Store                         int64          1115   1115              0   \n",
              "StoreType                    object             4   1115              0   \n",
              "Assortment                   object             3   1115              0   \n",
              "CompetitionDistance         float64           654   1115              3   \n",
              "CompetitionOpenSinceMonth   float64            12   1115            354   \n",
              "CompetitionOpenSinceYear    float64            23   1115            354   \n",
              "Promo2                        int64             2   1115              0   \n",
              "Promo2SinceWeek             float64            24   1115            544   \n",
              "Promo2SinceYear             float64             7   1115            544   \n",
              "PromoInterval                object             3   1115            544   \n",
              "\n",
              "                           Missing_percentage  \n",
              "Store                                    0.00  \n",
              "StoreType                                0.00  \n",
              "Assortment                               0.00  \n",
              "CompetitionDistance                      0.27  \n",
              "CompetitionOpenSinceMonth               31.75  \n",
              "CompetitionOpenSinceYear                31.75  \n",
              "Promo2                                   0.00  \n",
              "Promo2SinceWeek                         48.79  \n",
              "Promo2SinceYear                         48.79  \n",
              "PromoInterval                           48.79  "
            ],
            "text/html": [
              "\n",
              "  <div id=\"df-4d37c975-4d9a-4aa0-96d7-204120c2f7fc\">\n",
              "    <div class=\"colab-df-container\">\n",
              "      <div>\n",
              "<style scoped>\n",
              "    .dataframe tbody tr th:only-of-type {\n",
              "        vertical-align: middle;\n",
              "    }\n",
              "\n",
              "    .dataframe tbody tr th {\n",
              "        vertical-align: top;\n",
              "    }\n",
              "\n",
              "    .dataframe thead th {\n",
              "        text-align: right;\n",
              "    }\n",
              "</style>\n",
              "<table border=\"1\" class=\"dataframe\">\n",
              "  <thead>\n",
              "    <tr style=\"text-align: right;\">\n",
              "      <th></th>\n",
              "      <th>Data_Type</th>\n",
              "      <th>Unique_Count</th>\n",
              "      <th>Count</th>\n",
              "      <th>Missing_Count</th>\n",
              "      <th>Missing_percentage</th>\n",
              "    </tr>\n",
              "  </thead>\n",
              "  <tbody>\n",
              "    <tr>\n",
              "      <th>Store</th>\n",
              "      <td>int64</td>\n",
              "      <td>1115</td>\n",
              "      <td>1115</td>\n",
              "      <td>0</td>\n",
              "      <td>0.00</td>\n",
              "    </tr>\n",
              "    <tr>\n",
              "      <th>StoreType</th>\n",
              "      <td>object</td>\n",
              "      <td>4</td>\n",
              "      <td>1115</td>\n",
              "      <td>0</td>\n",
              "      <td>0.00</td>\n",
              "    </tr>\n",
              "    <tr>\n",
              "      <th>Assortment</th>\n",
              "      <td>object</td>\n",
              "      <td>3</td>\n",
              "      <td>1115</td>\n",
              "      <td>0</td>\n",
              "      <td>0.00</td>\n",
              "    </tr>\n",
              "    <tr>\n",
              "      <th>CompetitionDistance</th>\n",
              "      <td>float64</td>\n",
              "      <td>654</td>\n",
              "      <td>1115</td>\n",
              "      <td>3</td>\n",
              "      <td>0.27</td>\n",
              "    </tr>\n",
              "    <tr>\n",
              "      <th>CompetitionOpenSinceMonth</th>\n",
              "      <td>float64</td>\n",
              "      <td>12</td>\n",
              "      <td>1115</td>\n",
              "      <td>354</td>\n",
              "      <td>31.75</td>\n",
              "    </tr>\n",
              "    <tr>\n",
              "      <th>CompetitionOpenSinceYear</th>\n",
              "      <td>float64</td>\n",
              "      <td>23</td>\n",
              "      <td>1115</td>\n",
              "      <td>354</td>\n",
              "      <td>31.75</td>\n",
              "    </tr>\n",
              "    <tr>\n",
              "      <th>Promo2</th>\n",
              "      <td>int64</td>\n",
              "      <td>2</td>\n",
              "      <td>1115</td>\n",
              "      <td>0</td>\n",
              "      <td>0.00</td>\n",
              "    </tr>\n",
              "    <tr>\n",
              "      <th>Promo2SinceWeek</th>\n",
              "      <td>float64</td>\n",
              "      <td>24</td>\n",
              "      <td>1115</td>\n",
              "      <td>544</td>\n",
              "      <td>48.79</td>\n",
              "    </tr>\n",
              "    <tr>\n",
              "      <th>Promo2SinceYear</th>\n",
              "      <td>float64</td>\n",
              "      <td>7</td>\n",
              "      <td>1115</td>\n",
              "      <td>544</td>\n",
              "      <td>48.79</td>\n",
              "    </tr>\n",
              "    <tr>\n",
              "      <th>PromoInterval</th>\n",
              "      <td>object</td>\n",
              "      <td>3</td>\n",
              "      <td>1115</td>\n",
              "      <td>544</td>\n",
              "      <td>48.79</td>\n",
              "    </tr>\n",
              "  </tbody>\n",
              "</table>\n",
              "</div>\n",
              "      <button class=\"colab-df-convert\" onclick=\"convertToInteractive('df-4d37c975-4d9a-4aa0-96d7-204120c2f7fc')\"\n",
              "              title=\"Convert this dataframe to an interactive table.\"\n",
              "              style=\"display:none;\">\n",
              "        \n",
              "  <svg xmlns=\"http://www.w3.org/2000/svg\" height=\"24px\"viewBox=\"0 0 24 24\"\n",
              "       width=\"24px\">\n",
              "    <path d=\"M0 0h24v24H0V0z\" fill=\"none\"/>\n",
              "    <path d=\"M18.56 5.44l.94 2.06.94-2.06 2.06-.94-2.06-.94-.94-2.06-.94 2.06-2.06.94zm-11 1L8.5 8.5l.94-2.06 2.06-.94-2.06-.94L8.5 2.5l-.94 2.06-2.06.94zm10 10l.94 2.06.94-2.06 2.06-.94-2.06-.94-.94-2.06-.94 2.06-2.06.94z\"/><path d=\"M17.41 7.96l-1.37-1.37c-.4-.4-.92-.59-1.43-.59-.52 0-1.04.2-1.43.59L10.3 9.45l-7.72 7.72c-.78.78-.78 2.05 0 2.83L4 21.41c.39.39.9.59 1.41.59.51 0 1.02-.2 1.41-.59l7.78-7.78 2.81-2.81c.8-.78.8-2.07 0-2.86zM5.41 20L4 18.59l7.72-7.72 1.47 1.35L5.41 20z\"/>\n",
              "  </svg>\n",
              "      </button>\n",
              "      \n",
              "  <style>\n",
              "    .colab-df-container {\n",
              "      display:flex;\n",
              "      flex-wrap:wrap;\n",
              "      gap: 12px;\n",
              "    }\n",
              "\n",
              "    .colab-df-convert {\n",
              "      background-color: #E8F0FE;\n",
              "      border: none;\n",
              "      border-radius: 50%;\n",
              "      cursor: pointer;\n",
              "      display: none;\n",
              "      fill: #1967D2;\n",
              "      height: 32px;\n",
              "      padding: 0 0 0 0;\n",
              "      width: 32px;\n",
              "    }\n",
              "\n",
              "    .colab-df-convert:hover {\n",
              "      background-color: #E2EBFA;\n",
              "      box-shadow: 0px 1px 2px rgba(60, 64, 67, 0.3), 0px 1px 3px 1px rgba(60, 64, 67, 0.15);\n",
              "      fill: #174EA6;\n",
              "    }\n",
              "\n",
              "    [theme=dark] .colab-df-convert {\n",
              "      background-color: #3B4455;\n",
              "      fill: #D2E3FC;\n",
              "    }\n",
              "\n",
              "    [theme=dark] .colab-df-convert:hover {\n",
              "      background-color: #434B5C;\n",
              "      box-shadow: 0px 1px 3px 1px rgba(0, 0, 0, 0.15);\n",
              "      filter: drop-shadow(0px 1px 2px rgba(0, 0, 0, 0.3));\n",
              "      fill: #FFFFFF;\n",
              "    }\n",
              "  </style>\n",
              "\n",
              "      <script>\n",
              "        const buttonEl =\n",
              "          document.querySelector('#df-4d37c975-4d9a-4aa0-96d7-204120c2f7fc button.colab-df-convert');\n",
              "        buttonEl.style.display =\n",
              "          google.colab.kernel.accessAllowed ? 'block' : 'none';\n",
              "\n",
              "        async function convertToInteractive(key) {\n",
              "          const element = document.querySelector('#df-4d37c975-4d9a-4aa0-96d7-204120c2f7fc');\n",
              "          const dataTable =\n",
              "            await google.colab.kernel.invokeFunction('convertToInteractive',\n",
              "                                                     [key], {});\n",
              "          if (!dataTable) return;\n",
              "\n",
              "          const docLinkHtml = 'Like what you see? Visit the ' +\n",
              "            '<a target=\"_blank\" href=https://colab.research.google.com/notebooks/data_table.ipynb>data table notebook</a>'\n",
              "            + ' to learn more about interactive tables.';\n",
              "          element.innerHTML = '';\n",
              "          dataTable['output_type'] = 'display_data';\n",
              "          await google.colab.output.renderOutput(dataTable, element);\n",
              "          const docLink = document.createElement('div');\n",
              "          docLink.innerHTML = docLinkHtml;\n",
              "          element.appendChild(docLink);\n",
              "        }\n",
              "      </script>\n",
              "    </div>\n",
              "  </div>\n",
              "  "
            ]
          },
          "metadata": {},
          "execution_count": 25
        }
      ]
    },
    {
      "cell_type": "code",
      "source": [
        "# Visualizing the missing values\n",
        "\n",
        "msno.matrix(store_df,figsize=(16,6), color=(1, 0.38, 0.27), fontsize=10)"
      ],
      "metadata": {
        "id": "3q5wnI3om9sJ",
        "colab": {
          "base_uri": "https://localhost:8080/",
          "height": 499
        },
        "outputId": "bc0ee213-6c2a-4ae6-ef39-8c07646f0d4b"
      },
      "execution_count": 26,
      "outputs": [
        {
          "output_type": "execute_result",
          "data": {
            "text/plain": [
              "<matplotlib.axes._subplots.AxesSubplot at 0x7f5c93aaff10>"
            ]
          },
          "metadata": {},
          "execution_count": 26
        },
        {
          "output_type": "display_data",
          "data": {
            "text/plain": [
              "<Figure size 1152x432 with 2 Axes>"
            ],
            "image/png": "[encoded data removed]"
          },
          "metadata": {
            "needs_background": "light"
          }
        }
      ]
    },
    {
      "cell_type": "markdown",
      "source": [
        "-----\n",
        "\n",
        "**Observation** - Below 6 columns shows missing values heavily,\n",
        "\n",
        "1. CompetitionOpenSinceMonth\n",
        "2. CompetitionOpenSinceYear\n",
        "3. Promo2SinceWeek\n",
        "4. Promo2SinceYear\n",
        "5. PromoInterval\n",
        "6. CompetitionDistance\n",
        "**Let's check their quantum with the help of Bar graph,**\n",
        "\n",
        "-----"
      ],
      "metadata": {
        "id": "8UT6eInAerhY"
      }
    },
    {
      "cell_type": "code",
      "source": [
        "msno.bar(store_df,figsize=(16,5), color=\"tab:green\", fontsize=10)"
      ],
      "metadata": {
        "colab": {
          "base_uri": "https://localhost:8080/",
          "height": 469
        },
        "id": "LiONcx3se4u1",
        "outputId": "90e93ca1-f06e-4a9f-ea9b-ed505e715763"
      },
      "execution_count": 27,
      "outputs": [
        {
          "output_type": "execute_result",
          "data": {
            "text/plain": [
              "<matplotlib.axes._subplots.AxesSubplot at 0x7f5c93a04af0>"
            ]
          },
          "metadata": {},
          "execution_count": 27
        },
        {
          "output_type": "display_data",
          "data": {
            "text/plain": [
              "<Figure size 1152x360 with 3 Axes>"
            ],
            "image/png": "[encoded data removed]"
          },
          "metadata": {
            "needs_background": "light"
          }
        }
      ]
    },
    {
      "cell_type": "markdown",
      "source": [
        "### What did you know about your dataset?\n",
        "\n",
        "-----"
      ],
      "metadata": {
        "id": "H0kj-8xxnORC"
      }
    },
    {
      "cell_type": "markdown",
      "source": [
        "![Store_Data_1.png](data:image/png;base64,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)"
      ],
      "metadata": {
        "id": "gfoNAAC-nUe_"
      }
    },
    {
      "cell_type": "markdown",
      "source": [
        "![Store_Data_2.png](data:image/png;base64,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)"
      ],
      "metadata": {
        "id": "jTtj2KZgfrbW"
      }
    },
    {
      "cell_type": "markdown",
      "source": [
        "## ***2. Understanding Your Variables***"
      ],
      "metadata": {
        "id": "nA9Y7ga8ng1Z"
      }
    },
    {
      "cell_type": "code",
      "source": [
        "# Dataset Columns"
      ],
      "metadata": {
        "id": "j7xfkqrt5Ag5"
      },
      "execution_count": 28,
      "outputs": []
    },
    {
      "cell_type": "code",
      "source": [
        "# Dataset Describe"
      ],
      "metadata": {
        "id": "DnOaZdaE5Q5t"
      },
      "execution_count": 29,
      "outputs": []
    },
    {
      "cell_type": "markdown",
      "source": [
        "### Variables Description "
      ],
      "metadata": {
        "id": "PBTbrJXOngz2"
      }
    },
    {
      "cell_type": "markdown",
      "source": [
        "Answer Here"
      ],
      "metadata": {
        "id": "aJV4KIxSnxay"
      }
    },
    {
      "cell_type": "markdown",
      "source": [
        "### Check Unique Values for each variable."
      ],
      "metadata": {
        "id": "u3PMJOP6ngxN"
      }
    },
    {
      "cell_type": "code",
      "source": [
        "# Check Unique Values for each variable."
      ],
      "metadata": {
        "id": "zms12Yq5n-jE"
      },
      "execution_count": 30,
      "outputs": []
    },
    {
      "cell_type": "markdown",
      "source": [
        "## 3. ***Data Wrangling***"
      ],
      "metadata": {
        "id": "dauF4eBmngu3"
      }
    },
    {
      "cell_type": "markdown",
      "source": [
        "### Data Wrangling Code"
      ],
      "metadata": {
        "id": "bKJF3rekwFvQ"
      }
    },
    {
      "cell_type": "code",
      "source": [
        "# Write your code to make your dataset analysis ready."
      ],
      "metadata": {
        "id": "wk-9a2fpoLcV"
      },
      "execution_count": 31,
      "outputs": []
    },
    {
      "cell_type": "markdown",
      "source": [
        "### What all manipulations have you done and insights you found?"
      ],
      "metadata": {
        "id": "MSa1f5Uengrz"
      }
    },
    {
      "cell_type": "markdown",
      "source": [
        "Answer Here."
      ],
      "metadata": {
        "id": "LbyXE7I1olp8"
      }
    },
    {
      "cell_type": "markdown",
      "source": [
        "## ***4. Data Vizualization, Storytelling & Experimenting with charts : Understand the relationships between variables***"
      ],
      "metadata": {
        "id": "GF8Ens_Soomf"
      }
    },
    {
      "cell_type": "markdown",
      "source": [
        "#### Chart - 1"
      ],
      "metadata": {
        "id": "0wOQAZs5pc--"
      }
    },
    {
      "cell_type": "code",
      "source": [
        "# Chart - 1 visualization code"
      ],
      "metadata": {
        "id": "7v_ESjsspbW7"
      },
      "execution_count": 32,
      "outputs": []
    },
    {
      "cell_type": "markdown",
      "source": [
        "##### 1. Why did you pick the specific chart?"
      ],
      "metadata": {
        "id": "K5QZ13OEpz2H"
      }
    },
    {
      "cell_type": "markdown",
      "source": [
        "Answer Here."
      ],
      "metadata": {
        "id": "XESiWehPqBRc"
      }
    },
    {
      "cell_type": "markdown",
      "source": [
        "##### 2. What is/are the insight(s) found from the chart?"
      ],
      "metadata": {
        "id": "lQ7QKXXCp7Bj"
      }
    },
    {
      "cell_type": "markdown",
      "source": [
        "Answer Here"
      ],
      "metadata": {
        "id": "C_j1G7yiqdRP"
      }
    },
    {
      "cell_type": "markdown",
      "source": [
        "##### 3. Will the gained insights help creating a positive business impact? \n",
        "Are there any insights that lead to negative growth? Justify with specific reason."
      ],
      "metadata": {
        "id": "448CDAPjqfQr"
      }
    },
    {
      "cell_type": "markdown",
      "source": [
        "Answer Here"
      ],
      "metadata": {
        "id": "3cspy4FjqxJW"
      }
    },
    {
      "cell_type": "markdown",
      "source": [
        "#### Chart - 2"
      ],
      "metadata": {
        "id": "KSlN3yHqYklG"
      }
    },
    {
      "cell_type": "code",
      "source": [
        "# Chart - 2 visualization code"
      ],
      "metadata": {
        "id": "R4YgtaqtYklH"
      },
      "execution_count": 33,
      "outputs": []
    },
    {
      "cell_type": "markdown",
      "source": [
        "##### 1. Why did you pick the specific chart?"
      ],
      "metadata": {
        "id": "t6dVpIINYklI"
      }
    },
    {
      "cell_type": "markdown",
      "source": [
        "Answer Here."
      ],
      "metadata": {
        "id": "5aaW0BYyYklI"
      }
    },
    {
      "cell_type": "markdown",
      "source": [
        "##### 2. What is/are the insight(s) found from the chart?"
      ],
      "metadata": {
        "id": "ijmpgYnKYklI"
      }
    },
    {
      "cell_type": "markdown",
      "source": [
        "Answer Here"
      ],
      "metadata": {
        "id": "PSx9atu2YklI"
      }
    },
    {
      "cell_type": "markdown",
      "source": [
        "##### 3. Will the gained insights help creating a positive business impact? \n",
        "Are there any insights that lead to negative growth? Justify with specific reason."
      ],
      "metadata": {
        "id": "-JiQyfWJYklI"
      }
    },
    {
      "cell_type": "markdown",
      "source": [
        "Answer Here"
      ],
      "metadata": {
        "id": "BcBbebzrYklV"
      }
    },
    {
      "cell_type": "markdown",
      "source": [
        "#### Chart - 3"
      ],
      "metadata": {
        "id": "EM7whBJCYoAo"
      }
    },
    {
      "cell_type": "code",
      "source": [
        "# Chart - 3 visualization code"
      ],
      "metadata": {
        "id": "t6GMdE67YoAp"
      },
      "execution_count": 34,
      "outputs": []
    },
    {
      "cell_type": "markdown",
      "source": [
        "##### 1. Why did you pick the specific chart?"
      ],
      "metadata": {
        "id": "fge-S5ZAYoAp"
      }
    },
    {
      "cell_type": "markdown",
      "source": [
        "Answer Here."
      ],
      "metadata": {
        "id": "5dBItgRVYoAp"
      }
    },
    {
      "cell_type": "markdown",
      "source": [
        "##### 2. What is/are the insight(s) found from the chart?"
      ],
      "metadata": {
        "id": "85gYPyotYoAp"
      }
    },
    {
      "cell_type": "markdown",
      "source": [
        "Answer Here"
      ],
      "metadata": {
        "id": "4jstXR6OYoAp"
      }
    },
    {
      "cell_type": "markdown",
      "source": [
        "##### 3. Will the gained insights help creating a positive business impact? \n",
        "Are there any insights that lead to negative growth? Justify with specific reason."
      ],
      "metadata": {
        "id": "RoGjAbkUYoAp"
      }
    },
    {
      "cell_type": "markdown",
      "source": [
        "Answer Here"
      ],
      "metadata": {
        "id": "zfJ8IqMcYoAp"
      }
    },
    {
      "cell_type": "markdown",
      "source": [
        "#### Chart - 4"
      ],
      "metadata": {
        "id": "4Of9eVA-YrdM"
      }
    },
    {
      "cell_type": "code",
      "source": [
        "# Chart - 4 visualization code"
      ],
      "metadata": {
        "id": "irlUoxc8YrdO"
      },
      "execution_count": 35,
      "outputs": []
    },
    {
      "cell_type": "markdown",
      "source": [
        "##### 1. Why did you pick the specific chart?"
      ],
      "metadata": {
        "id": "iky9q4vBYrdO"
      }
    },
    {
      "cell_type": "markdown",
      "source": [
        "Answer Here."
      ],
      "metadata": {
        "id": "aJRCwT6DYrdO"
      }
    },
    {
      "cell_type": "markdown",
      "source": [
        "##### 2. What is/are the insight(s) found from the chart?"
      ],
      "metadata": {
        "id": "F6T5p64dYrdO"
      }
    },
    {
      "cell_type": "markdown",
      "source": [
        "Answer Here"
      ],
      "metadata": {
        "id": "Xx8WAJvtYrdO"
      }
    },
    {
      "cell_type": "markdown",
      "source": [
        "##### 3. Will the gained insights help creating a positive business impact? \n",
        "Are there any insights that lead to negative growth? Justify with specific reason."
      ],
      "metadata": {
        "id": "y-Ehk30pYrdP"
      }
    },
    {
      "cell_type": "markdown",
      "source": [
        "Answer Here"
      ],
      "metadata": {
        "id": "jLNxxz7MYrdP"
      }
    },
    {
      "cell_type": "markdown",
      "source": [
        "#### Chart - 5"
      ],
      "metadata": {
        "id": "bamQiAODYuh1"
      }
    },
    {
      "cell_type": "code",
      "source": [
        "# Chart - 5 visualization code"
      ],
      "metadata": {
        "id": "TIJwrbroYuh3"
      },
      "execution_count": 36,
      "outputs": []
    },
    {
      "cell_type": "markdown",
      "source": [
        "##### 1. Why did you pick the specific chart?"
      ],
      "metadata": {
        "id": "QHF8YVU7Yuh3"
      }
    },
    {
      "cell_type": "markdown",
      "source": [
        "Answer Here."
      ],
      "metadata": {
        "id": "dcxuIMRPYuh3"
      }
    },
    {
      "cell_type": "markdown",
      "source": [
        "##### 2. What is/are the insight(s) found from the chart?"
      ],
      "metadata": {
        "id": "GwzvFGzlYuh3"
      }
    },
    {
      "cell_type": "markdown",
      "source": [
        "Answer Here"
      ],
      "metadata": {
        "id": "uyqkiB8YYuh3"
      }
    },
    {
      "cell_type": "markdown",
      "source": [
        "##### 3. Will the gained insights help creating a positive business impact? \n",
        "Are there any insights that lead to negative growth? Justify with specific reason."
      ],
      "metadata": {
        "id": "qYpmQ266Yuh3"
      }
    },
    {
      "cell_type": "markdown",
      "source": [
        "Answer Here"
      ],
      "metadata": {
        "id": "_WtzZ_hCYuh4"
      }
    },
    {
      "cell_type": "markdown",
      "source": [
        "#### Chart - 6"
      ],
      "metadata": {
        "id": "OH-pJp9IphqM"
      }
    },
    {
      "cell_type": "code",
      "source": [
        "# Chart - 6 visualization code"
      ],
      "metadata": {
        "id": "kuRf4wtuphqN"
      },
      "execution_count": 37,
      "outputs": []
    },
    {
      "cell_type": "markdown",
      "source": [
        "##### 1. Why did you pick the specific chart?"
      ],
      "metadata": {
        "id": "bbFf2-_FphqN"
      }
    },
    {
      "cell_type": "markdown",
      "source": [
        "Answer Here."
      ],
      "metadata": {
        "id": "loh7H2nzphqN"
      }
    },
    {
      "cell_type": "markdown",
      "source": [
        "##### 2. What is/are the insight(s) found from the chart?"
      ],
      "metadata": {
        "id": "_ouA3fa0phqN"
      }
    },
    {
      "cell_type": "markdown",
      "source": [
        "Answer Here"
      ],
      "metadata": {
        "id": "VECbqPI7phqN"
      }
    },
    {
      "cell_type": "markdown",
      "source": [
        "##### 3. Will the gained insights help creating a positive business impact? \n",
        "Are there any insights that lead to negative growth? Justify with specific reason."
      ],
      "metadata": {
        "id": "Seke61FWphqN"
      }
    },
    {
      "cell_type": "markdown",
      "source": [
        "Answer Here"
      ],
      "metadata": {
        "id": "DW4_bGpfphqN"
      }
    },
    {
      "cell_type": "markdown",
      "source": [
        "#### Chart - 7"
      ],
      "metadata": {
        "id": "PIIx-8_IphqN"
      }
    },
    {
      "cell_type": "code",
      "source": [
        "# Chart - 7 visualization code"
      ],
      "metadata": {
        "id": "lqAIGUfyphqO"
      },
      "execution_count": 38,
      "outputs": []
    },
    {
      "cell_type": "markdown",
      "source": [
        "##### 1. Why did you pick the specific chart?"
      ],
      "metadata": {
        "id": "t27r6nlMphqO"
      }
    },
    {
      "cell_type": "markdown",
      "source": [
        "Answer Here."
      ],
      "metadata": {
        "id": "iv6ro40sphqO"
      }
    },
    {
      "cell_type": "markdown",
      "source": [
        "##### 2. What is/are the insight(s) found from the chart?"
      ],
      "metadata": {
        "id": "r2jJGEOYphqO"
      }
    },
    {
      "cell_type": "markdown",
      "source": [
        "Answer Here"
      ],
      "metadata": {
        "id": "Po6ZPi4hphqO"
      }
    },
    {
      "cell_type": "markdown",
      "source": [
        "##### 3. Will the gained insights help creating a positive business impact? \n",
        "Are there any insights that lead to negative growth? Justify with specific reason."
      ],
      "metadata": {
        "id": "b0JNsNcRphqO"
      }
    },
    {
      "cell_type": "markdown",
      "source": [
        "Answer Here"
      ],
      "metadata": {
        "id": "xvSq8iUTphqO"
      }
    },
    {
      "cell_type": "markdown",
      "source": [
        "#### Chart - 8"
      ],
      "metadata": {
        "id": "BZR9WyysphqO"
      }
    },
    {
      "cell_type": "code",
      "source": [
        "# Chart - 8 visualization code"
      ],
      "metadata": {
        "id": "TdPTWpAVphqO"
      },
      "execution_count": 39,
      "outputs": []
    },
    {
      "cell_type": "markdown",
      "source": [
        "##### 1. Why did you pick the specific chart?"
      ],
      "metadata": {
        "id": "jj7wYXLtphqO"
      }
    },
    {
      "cell_type": "markdown",
      "source": [
        "Answer Here."
      ],
      "metadata": {
        "id": "Ob8u6rCTphqO"
      }
    },
    {
      "cell_type": "markdown",
      "source": [
        "##### 2. What is/are the insight(s) found from the chart?"
      ],
      "metadata": {
        "id": "eZrbJ2SmphqO"
      }
    },
    {
      "cell_type": "markdown",
      "source": [
        "Answer Here"
      ],
      "metadata": {
        "id": "mZtgC_hjphqO"
      }
    },
    {
      "cell_type": "markdown",
      "source": [
        "##### 3. Will the gained insights help creating a positive business impact? \n",
        "Are there any insights that lead to negative growth? Justify with specific reason."
      ],
      "metadata": {
        "id": "rFu4xreNphqO"
      }
    },
    {
      "cell_type": "markdown",
      "source": [
        "Answer Here"
      ],
      "metadata": {
        "id": "ey_0qi68phqO"
      }
    },
    {
      "cell_type": "markdown",
      "source": [
        "#### Chart - 9"
      ],
      "metadata": {
        "id": "YJ55k-q6phqO"
      }
    },
    {
      "cell_type": "code",
      "source": [
        "# Chart - 9 visualization code"
      ],
      "metadata": {
        "id": "B2aS4O1ophqO"
      },
      "execution_count": 40,
      "outputs": []
    },
    {
      "cell_type": "markdown",
      "source": [
        "##### 1. Why did you pick the specific chart?"
      ],
      "metadata": {
        "id": "gCFgpxoyphqP"
      }
    },
    {
      "cell_type": "markdown",
      "source": [
        "Answer Here."
      ],
      "metadata": {
        "id": "TVxDimi2phqP"
      }
    },
    {
      "cell_type": "markdown",
      "source": [
        "##### 2. What is/are the insight(s) found from the chart?"
      ],
      "metadata": {
        "id": "OVtJsKN_phqQ"
      }
    },
    {
      "cell_type": "markdown",
      "source": [
        "Answer Here"
      ],
      "metadata": {
        "id": "ngGi97qjphqQ"
      }
    },
    {
      "cell_type": "markdown",
      "source": [
        "##### 3. Will the gained insights help creating a positive business impact? \n",
        "Are there any insights that lead to negative growth? Justify with specific reason."
      ],
      "metadata": {
        "id": "lssrdh5qphqQ"
      }
    },
    {
      "cell_type": "markdown",
      "source": [
        "Answer Here"
      ],
      "metadata": {
        "id": "tBpY5ekJphqQ"
      }
    },
    {
      "cell_type": "markdown",
      "source": [
        "#### Chart - 10"
      ],
      "metadata": {
        "id": "U2RJ9gkRphqQ"
      }
    },
    {
      "cell_type": "code",
      "source": [
        "# Chart - 10 visualization code"
      ],
      "metadata": {
        "id": "GM7a4YP4phqQ"
      },
      "execution_count": 41,
      "outputs": []
    },
    {
      "cell_type": "markdown",
      "source": [
        "##### 1. Why did you pick the specific chart?"
      ],
      "metadata": {
        "id": "1M8mcRywphqQ"
      }
    },
    {
      "cell_type": "markdown",
      "source": [
        "Answer Here."
      ],
      "metadata": {
        "id": "8agQvks0phqQ"
      }
    },
    {
      "cell_type": "markdown",
      "source": [
        "##### 2. What is/are the insight(s) found from the chart?"
      ],
      "metadata": {
        "id": "tgIPom80phqQ"
      }
    },
    {
      "cell_type": "markdown",
      "source": [
        "Answer Here"
      ],
      "metadata": {
        "id": "Qp13pnNzphqQ"
      }
    },
    {
      "cell_type": "markdown",
      "source": [
        "##### 3. Will the gained insights help creating a positive business impact? \n",
        "Are there any insights that lead to negative growth? Justify with specific reason."
      ],
      "metadata": {
        "id": "JMzcOPDDphqR"
      }
    },
    {
      "cell_type": "markdown",
      "source": [
        "Answer Here"
      ],
      "metadata": {
        "id": "R4Ka1PC2phqR"
      }
    },
    {
      "cell_type": "markdown",
      "source": [
        "#### Chart - 11"
      ],
      "metadata": {
        "id": "x-EpHcCOp1ci"
      }
    },
    {
      "cell_type": "code",
      "source": [
        "# Chart - 11 visualization code"
      ],
      "metadata": {
        "id": "mAQTIvtqp1cj"
      },
      "execution_count": 42,
      "outputs": []
    },
    {
      "cell_type": "markdown",
      "source": [
        "##### 1. Why did you pick the specific chart?"
      ],
      "metadata": {
        "id": "X_VqEhTip1ck"
      }
    },
    {
      "cell_type": "markdown",
      "source": [
        "Answer Here."
      ],
      "metadata": {
        "id": "-vsMzt_np1ck"
      }
    },
    {
      "cell_type": "markdown",
      "source": [
        "##### 2. What is/are the insight(s) found from the chart?"
      ],
      "metadata": {
        "id": "8zGJKyg5p1ck"
      }
    },
    {
      "cell_type": "markdown",
      "source": [
        "Answer Here"
      ],
      "metadata": {
        "id": "ZYdMsrqVp1ck"
      }
    },
    {
      "cell_type": "markdown",
      "source": [
        "##### 3. Will the gained insights help creating a positive business impact? \n",
        "Are there any insights that lead to negative growth? Justify with specific reason."
      ],
      "metadata": {
        "id": "PVzmfK_Ep1ck"
      }
    },
    {
      "cell_type": "markdown",
      "source": [
        "Answer Here"
      ],
      "metadata": {
        "id": "druuKYZpp1ck"
      }
    },
    {
      "cell_type": "markdown",
      "source": [
        "#### Chart - 12"
      ],
      "metadata": {
        "id": "n3dbpmDWp1ck"
      }
    },
    {
      "cell_type": "code",
      "source": [
        "# Chart - 12 visualization code"
      ],
      "metadata": {
        "id": "bwevp1tKp1ck"
      },
      "execution_count": 43,
      "outputs": []
    },
    {
      "cell_type": "markdown",
      "source": [
        "##### 1. Why did you pick the specific chart?"
      ],
      "metadata": {
        "id": "ylSl6qgtp1ck"
      }
    },
    {
      "cell_type": "markdown",
      "source": [
        "Answer Here."
      ],
      "metadata": {
        "id": "m2xqNkiQp1ck"
      }
    },
    {
      "cell_type": "markdown",
      "source": [
        "##### 2. What is/are the insight(s) found from the chart?"
      ],
      "metadata": {
        "id": "ZWILFDl5p1ck"
      }
    },
    {
      "cell_type": "markdown",
      "source": [
        "Answer Here"
      ],
      "metadata": {
        "id": "x-lUsV2mp1ck"
      }
    },
    {
      "cell_type": "markdown",
      "source": [
        "##### 3. Will the gained insights help creating a positive business impact? \n",
        "Are there any insights that lead to negative growth? Justify with specific reason."
      ],
      "metadata": {
        "id": "M7G43BXep1ck"
      }
    },
    {
      "cell_type": "markdown",
      "source": [
        "Answer Here"
      ],
      "metadata": {
        "id": "5wwDJXsLp1cl"
      }
    },
    {
      "cell_type": "markdown",
      "source": [
        "#### Chart - 13"
      ],
      "metadata": {
        "id": "Ag9LCva-p1cl"
      }
    },
    {
      "cell_type": "code",
      "source": [
        "# Chart - 13 visualization code"
      ],
      "metadata": {
        "id": "EUfxeq9-p1cl"
      },
      "execution_count": 44,
      "outputs": []
    },
    {
      "cell_type": "markdown",
      "source": [
        "##### 1. Why did you pick the specific chart?"
      ],
      "metadata": {
        "id": "E6MkPsBcp1cl"
      }
    },
    {
      "cell_type": "markdown",
      "source": [
        "Answer Here."
      ],
      "metadata": {
        "id": "V22bRsFWp1cl"
      }
    },
    {
      "cell_type": "markdown",
      "source": [
        "##### 2. What is/are the insight(s) found from the chart?"
      ],
      "metadata": {
        "id": "2cELzS2fp1cl"
      }
    },
    {
      "cell_type": "markdown",
      "source": [
        "Answer Here"
      ],
      "metadata": {
        "id": "ozQPc2_Ip1cl"
      }
    },
    {
      "cell_type": "markdown",
      "source": [
        "##### 3. Will the gained insights help creating a positive business impact? \n",
        "Are there any insights that lead to negative growth? Justify with specific reason."
      ],
      "metadata": {
        "id": "3MPXvC8up1cl"
      }
    },
    {
      "cell_type": "markdown",
      "source": [
        "Answer Here"
      ],
      "metadata": {
        "id": "GL8l1tdLp1cl"
      }
    },
    {
      "cell_type": "markdown",
      "source": [
        "#### Chart - 14 - Correlation Heatmap"
      ],
      "metadata": {
        "id": "NC_X3p0fY2L0"
      }
    },
    {
      "cell_type": "code",
      "source": [
        "# Correlation Heatmap visualization code"
      ],
      "metadata": {
        "id": "xyC9zolEZNRQ"
      },
      "execution_count": 45,
      "outputs": []
    },
    {
      "cell_type": "markdown",
      "source": [
        "##### 1. Why did you pick the specific chart?"
      ],
      "metadata": {
        "id": "UV0SzAkaZNRQ"
      }
    },
    {
      "cell_type": "markdown",
      "source": [
        "Answer Here."
      ],
      "metadata": {
        "id": "DVPuT8LYZNRQ"
      }
    },
    {
      "cell_type": "markdown",
      "source": [
        "##### 2. What is/are the insight(s) found from the chart?"
      ],
      "metadata": {
        "id": "YPEH6qLeZNRQ"
      }
    },
    {
      "cell_type": "markdown",
      "source": [
        "Answer Here"
      ],
      "metadata": {
        "id": "bfSqtnDqZNRR"
      }
    },
    {
      "cell_type": "markdown",
      "source": [
        "#### Chart - 15 - Pair Plot "
      ],
      "metadata": {
        "id": "q29F0dvdveiT"
      }
    },
    {
      "cell_type": "code",
      "source": [
        "# Pair Plot visualization code"
      ],
      "metadata": {
        "id": "o58-TEIhveiU"
      },
      "execution_count": 46,
      "outputs": []
    },
    {
      "cell_type": "markdown",
      "source": [
        "##### 1. Why did you pick the specific chart?"
      ],
      "metadata": {
        "id": "EXh0U9oCveiU"
      }
    },
    {
      "cell_type": "markdown",
      "source": [
        "Answer Here."
      ],
      "metadata": {
        "id": "eMmPjTByveiU"
      }
    },
    {
      "cell_type": "markdown",
      "source": [
        "##### 2. What is/are the insight(s) found from the chart?"
      ],
      "metadata": {
        "id": "22aHeOlLveiV"
      }
    },
    {
      "cell_type": "markdown",
      "source": [
        "Answer Here"
      ],
      "metadata": {
        "id": "uPQ8RGwHveiV"
      }
    },
    {
      "cell_type": "markdown",
      "source": [
        "## ***5. Hypothesis Testing***"
      ],
      "metadata": {
        "id": "g-ATYxFrGrvw"
      }
    },
    {
      "cell_type": "markdown",
      "source": [
        "### Based on your chart experiments, define three hypothetical statements from the dataset. In the next three questions, perform hypothesis testing to obtain final conclusion about the statements through your code and statistical testing."
      ],
      "metadata": {
        "id": "Yfr_Vlr8HBkt"
      }
    },
    {
      "cell_type": "markdown",
      "source": [
        "Answer Here."
      ],
      "metadata": {
        "id": "-7MS06SUHkB-"
      }
    },
    {
      "cell_type": "markdown",
      "source": [
        "### Hypothetical Statement - 1"
      ],
      "metadata": {
        "id": "8yEUt7NnHlrM"
      }
    },
    {
      "cell_type": "markdown",
      "source": [
        "#### 1. State Your research hypothesis as a null hypothesis and alternate hypothesis."
      ],
      "metadata": {
        "id": "tEA2Xm5dHt1r"
      }
    },
    {
      "cell_type": "markdown",
      "source": [
        "Answer Here."
      ],
      "metadata": {
        "id": "HI9ZP0laH0D-"
      }
    },
    {
      "cell_type": "markdown",
      "source": [
        "#### 2. Perform an appropriate statistical test."
      ],
      "metadata": {
        "id": "I79__PHVH19G"
      }
    },
    {
      "cell_type": "code",
      "source": [
        "# Perform Statistical Test to obtain P-Value"
      ],
      "metadata": {
        "id": "oZrfquKtyian"
      },
      "execution_count": 47,
      "outputs": []
    },
    {
      "cell_type": "markdown",
      "source": [
        "##### Which statistical test have you done to obtain P-Value?"
      ],
      "metadata": {
        "id": "Ou-I18pAyIpj"
      }
    },
    {
      "cell_type": "markdown",
      "source": [
        "Answer Here."
      ],
      "metadata": {
        "id": "s2U0kk00ygSB"
      }
    },
    {
      "cell_type": "markdown",
      "source": [
        "##### Why did you choose the specific statistical test?"
      ],
      "metadata": {
        "id": "fF3858GYyt-u"
      }
    },
    {
      "cell_type": "markdown",
      "source": [
        "Answer Here."
      ],
      "metadata": {
        "id": "HO4K0gP5y3B4"
      }
    },
    {
      "cell_type": "markdown",
      "source": [
        "### Hypothetical Statement - 2"
      ],
      "metadata": {
        "id": "4_0_7-oCpUZd"
      }
    },
    {
      "cell_type": "markdown",
      "source": [
        "#### 1. State Your research hypothesis as a null hypothesis and alternate hypothesis."
      ],
      "metadata": {
        "id": "hwyV_J3ipUZe"
      }
    },
    {
      "cell_type": "markdown",
      "source": [
        "Answer Here."
      ],
      "metadata": {
        "id": "FnpLGJ-4pUZe"
      }
    },
    {
      "cell_type": "markdown",
      "source": [
        "#### 2. Perform an appropriate statistical test."
      ],
      "metadata": {
        "id": "3yB-zSqbpUZe"
      }
    },
    {
      "cell_type": "code",
      "source": [
        "# Perform Statistical Test to obtain P-Value"
      ],
      "metadata": {
        "id": "sWxdNTXNpUZe"
      },
      "execution_count": 48,
      "outputs": []
    },
    {
      "cell_type": "markdown",
      "source": [
        "##### Which statistical test have you done to obtain P-Value?"
      ],
      "metadata": {
        "id": "dEUvejAfpUZe"
      }
    },
    {
      "cell_type": "markdown",
      "source": [
        "Answer Here."
      ],
      "metadata": {
        "id": "oLDrPz7HpUZf"
      }
    },
    {
      "cell_type": "markdown",
      "source": [
        "##### Why did you choose the specific statistical test?"
      ],
      "metadata": {
        "id": "Fd15vwWVpUZf"
      }
    },
    {
      "cell_type": "markdown",
      "source": [
        "Answer Here."
      ],
      "metadata": {
        "id": "4xOGYyiBpUZf"
      }
    },
    {
      "cell_type": "markdown",
      "source": [
        "### Hypothetical Statement - 3"
      ],
      "metadata": {
        "id": "bn_IUdTipZyH"
      }
    },
    {
      "cell_type": "markdown",
      "source": [
        "#### 1. State Your research hypothesis as a null hypothesis and alternate hypothesis."
      ],
      "metadata": {
        "id": "49K5P_iCpZyH"
      }
    },
    {
      "cell_type": "markdown",
      "source": [
        "Answer Here."
      ],
      "metadata": {
        "id": "7gWI5rT9pZyH"
      }
    },
    {
      "cell_type": "markdown",
      "source": [
        "#### 2. Perform an appropriate statistical test."
      ],
      "metadata": {
        "id": "Nff-vKELpZyI"
      }
    },
    {
      "cell_type": "code",
      "source": [
        "# Perform Statistical Test to obtain P-Value"
      ],
      "metadata": {
        "id": "s6AnJQjtpZyI"
      },
      "execution_count": 49,
      "outputs": []
    },
    {
      "cell_type": "markdown",
      "source": [
        "##### Which statistical test have you done to obtain P-Value?"
      ],
      "metadata": {
        "id": "kLW572S8pZyI"
      }
    },
    {
      "cell_type": "markdown",
      "source": [
        "Answer Here."
      ],
      "metadata": {
        "id": "ytWJ8v15pZyI"
      }
    },
    {
      "cell_type": "markdown",
      "source": [
        "##### Why did you choose the specific statistical test?"
      ],
      "metadata": {
        "id": "dWbDXHzopZyI"
      }
    },
    {
      "cell_type": "markdown",
      "source": [
        "Answer Here."
      ],
      "metadata": {
        "id": "M99G98V6pZyI"
      }
    },
    {
      "cell_type": "markdown",
      "source": [
        "## ***6. Feature Engineering & Data Pre-processing***"
      ],
      "metadata": {
        "id": "yLjJCtPM0KBk"
      }
    },
    {
      "cell_type": "markdown",
      "source": [
        "### 1. Handling Missing Values"
      ],
      "metadata": {
        "id": "xiyOF9F70UgQ"
      }
    },
    {
      "cell_type": "code",
      "source": [
        "# Handling Missing Values & Missing Value Imputation"
      ],
      "metadata": {
        "id": "iRsAHk1K0fpS"
      },
      "execution_count": 50,
      "outputs": []
    },
    {
      "cell_type": "markdown",
      "source": [
        "#### What all missing value imputation techniques have you used and why did you use those techniques?"
      ],
      "metadata": {
        "id": "7wuGOrhz0itI"
      }
    },
    {
      "cell_type": "markdown",
      "source": [
        "Answer Here."
      ],
      "metadata": {
        "id": "1ixusLtI0pqI"
      }
    },
    {
      "cell_type": "markdown",
      "source": [
        "### 2. Handling Outliers"
      ],
      "metadata": {
        "id": "id1riN9m0vUs"
      }
    },
    {
      "cell_type": "code",
      "source": [
        "# Handling Outliers & Outlier treatments"
      ],
      "metadata": {
        "id": "M6w2CzZf04JK"
      },
      "execution_count": 51,
      "outputs": []
    },
    {
      "cell_type": "markdown",
      "source": [
        "##### What all outlier treatment techniques have you used and why did you use those techniques?"
      ],
      "metadata": {
        "id": "578E2V7j08f6"
      }
    },
    {
      "cell_type": "markdown",
      "source": [
        "Answer Here."
      ],
      "metadata": {
        "id": "uGZz5OrT1HH-"
      }
    },
    {
      "cell_type": "markdown",
      "source": [
        "### 3. Categorical Encoding"
      ],
      "metadata": {
        "id": "89xtkJwZ18nB"
      }
    },
    {
      "cell_type": "code",
      "source": [
        "# Encode your categorical columns"
      ],
      "metadata": {
        "id": "21JmIYMG2hEo"
      },
      "execution_count": 52,
      "outputs": []
    },
    {
      "cell_type": "markdown",
      "source": [
        "#### What all categorical encoding techniques have you used & why did you use those techniques?"
      ],
      "metadata": {
        "id": "67NQN5KX2AMe"
      }
    },
    {
      "cell_type": "markdown",
      "source": [
        "Answer Here."
      ],
      "metadata": {
        "id": "UDaue5h32n_G"
      }
    },
    {
      "cell_type": "markdown",
      "source": [
        "### 4. Textual Data Preprocessing \n",
        "(It's mandatory for textual dataset i.e., NLP, Sentiment Analysis, Text Clustering etc.)"
      ],
      "metadata": {
        "id": "Iwf50b-R2tYG"
      }
    },
    {
      "cell_type": "markdown",
      "source": [
        "#### 1. Expand Contraction"
      ],
      "metadata": {
        "id": "GMQiZwjn3iu7"
      }
    },
    {
      "cell_type": "code",
      "source": [
        "# Expand Contraction"
      ],
      "metadata": {
        "id": "PTouz10C3oNN"
      },
      "execution_count": 53,
      "outputs": []
    },
    {
      "cell_type": "markdown",
      "source": [
        "#### 2. Lower Casing"
      ],
      "metadata": {
        "id": "WVIkgGqN3qsr"
      }
    },
    {
      "cell_type": "code",
      "source": [
        "# Lower Casing"
      ],
      "metadata": {
        "id": "88JnJ1jN3w7j"
      },
      "execution_count": 54,
      "outputs": []
    },
    {
      "cell_type": "markdown",
      "source": [
        "#### 3. Removing Punctuations"
      ],
      "metadata": {
        "id": "XkPnILGE3zoT"
      }
    },
    {
      "cell_type": "code",
      "source": [
        "# Remove Punctuations"
      ],
      "metadata": {
        "id": "vqbBqNaA33c0"
      },
      "execution_count": 55,
      "outputs": []
    },
    {
      "cell_type": "markdown",
      "source": [
        "#### 4. Removing URLs & Removing words and digits contain digits."
      ],
      "metadata": {
        "id": "Hlsf0x5436Go"
      }
    },
    {
      "cell_type": "code",
      "source": [
        "# Remove URLs & Remove words and digits contain digits"
      ],
      "metadata": {
        "id": "2sxKgKxu4Ip3"
      },
      "execution_count": 56,
      "outputs": []
    },
    {
      "cell_type": "markdown",
      "source": [
        "#### 5. Removing Stopwords & Removing White spaces"
      ],
      "metadata": {
        "id": "mT9DMSJo4nBL"
      }
    },
    {
      "cell_type": "code",
      "source": [
        "# Remove Stopwords"
      ],
      "metadata": {
        "id": "T2LSJh154s8W"
      },
      "execution_count": 57,
      "outputs": []
    },
    {
      "cell_type": "code",
      "source": [
        "# Remove White spaces"
      ],
      "metadata": {
        "id": "EgLJGffy4vm0"
      },
      "execution_count": 58,
      "outputs": []
    },
    {
      "cell_type": "markdown",
      "source": [
        "#### 6. Rephrase Text"
      ],
      "metadata": {
        "id": "c49ITxTc407N"
      }
    },
    {
      "cell_type": "code",
      "source": [
        "# Rephrase Text"
      ],
      "metadata": {
        "id": "foqY80Qu48N2"
      },
      "execution_count": 59,
      "outputs": []
    },
    {
      "cell_type": "markdown",
      "source": [
        "#### 7. Tokenization"
      ],
      "metadata": {
        "id": "OeJFEK0N496M"
      }
    },
    {
      "cell_type": "code",
      "source": [
        "# Tokenization"
      ],
      "metadata": {
        "id": "ijx1rUOS5CUU"
      },
      "execution_count": 60,
      "outputs": []
    },
    {
      "cell_type": "markdown",
      "source": [
        "#### 8. Text Normalization"
      ],
      "metadata": {
        "id": "9ExmJH0g5HBk"
      }
    },
    {
      "cell_type": "code",
      "source": [
        "# Normalizing Text (i.e., Stemming, Lemmatization etc.)"
      ],
      "metadata": {
        "id": "AIJ1a-Zc5PY8"
      },
      "execution_count": 61,
      "outputs": []
    },
    {
      "cell_type": "markdown",
      "source": [
        "##### Which text normalization technique have you used and why?"
      ],
      "metadata": {
        "id": "cJNqERVU536h"
      }
    },
    {
      "cell_type": "markdown",
      "source": [
        "Answer Here."
      ],
      "metadata": {
        "id": "Z9jKVxE06BC1"
      }
    },
    {
      "cell_type": "markdown",
      "source": [
        "#### 9. Part of speech tagging"
      ],
      "metadata": {
        "id": "k5UmGsbsOxih"
      }
    },
    {
      "cell_type": "code",
      "source": [
        "# POS Taging"
      ],
      "metadata": {
        "id": "btT3ZJBAO6Ik"
      },
      "execution_count": 62,
      "outputs": []
    },
    {
      "cell_type": "markdown",
      "source": [
        "#### 10. Text Vectorization"
      ],
      "metadata": {
        "id": "T0VqWOYE6DLQ"
      }
    },
    {
      "cell_type": "code",
      "source": [
        "# Vectorizing Text"
      ],
      "metadata": {
        "id": "yBRtdhth6JDE"
      },
      "execution_count": 63,
      "outputs": []
    },
    {
      "cell_type": "markdown",
      "source": [
        "##### Which text vectorization technique have you used and why?"
      ],
      "metadata": {
        "id": "qBMux9mC6MCf"
      }
    },
    {
      "cell_type": "markdown",
      "source": [
        "Answer Here."
      ],
      "metadata": {
        "id": "su2EnbCh6UKQ"
      }
    },
    {
      "cell_type": "markdown",
      "source": [
        "### 4. Feature Manipulation & Selection"
      ],
      "metadata": {
        "id": "-oLEiFgy-5Pf"
      }
    },
    {
      "cell_type": "markdown",
      "source": [
        "#### 1. Feature Manipulation"
      ],
      "metadata": {
        "id": "C74aWNz2AliB"
      }
    },
    {
      "cell_type": "code",
      "source": [
        "# Manipulate Features to minimize feature correlation and create new features"
      ],
      "metadata": {
        "id": "h1qC4yhBApWC"
      },
      "execution_count": 64,
      "outputs": []
    },
    {
      "cell_type": "markdown",
      "source": [
        "#### 2. Feature Selection"
      ],
      "metadata": {
        "id": "2DejudWSA-a0"
      }
    },
    {
      "cell_type": "code",
      "source": [
        "# Select your features wisely to avoid overfitting"
      ],
      "metadata": {
        "id": "YLhe8UmaBCEE"
      },
      "execution_count": 65,
      "outputs": []
    },
    {
      "cell_type": "markdown",
      "source": [
        "##### What all feature selection methods have you used  and why?"
      ],
      "metadata": {
        "id": "pEMng2IbBLp7"
      }
    },
    {
      "cell_type": "markdown",
      "source": [
        "Answer Here."
      ],
      "metadata": {
        "id": "rb2Lh6Z8BgGs"
      }
    },
    {
      "cell_type": "markdown",
      "source": [
        "##### Which all features you found important and why?"
      ],
      "metadata": {
        "id": "rAdphbQ9Bhjc"
      }
    },
    {
      "cell_type": "markdown",
      "source": [
        "Answer Here."
      ],
      "metadata": {
        "id": "fGgaEstsBnaf"
      }
    },
    {
      "cell_type": "markdown",
      "source": [
        "### 5. Data Transformation"
      ],
      "metadata": {
        "id": "TNVZ9zx19K6k"
      }
    },
    {
      "cell_type": "markdown",
      "source": [
        "#### Do you think that your data needs to be transformed? If yes, which transformation have you used. Explain Why?"
      ],
      "metadata": {
        "id": "nqoHp30x9hH9"
      }
    },
    {
      "cell_type": "code",
      "source": [
        "# Transform Your data"
      ],
      "metadata": {
        "id": "I6quWQ1T9rtH"
      },
      "execution_count": 66,
      "outputs": []
    },
    {
      "cell_type": "markdown",
      "source": [
        "### 6. Data Scaling"
      ],
      "metadata": {
        "id": "rMDnDkt2B6du"
      }
    },
    {
      "cell_type": "code",
      "source": [
        "# Scaling your data"
      ],
      "metadata": {
        "id": "dL9LWpySC6x_"
      },
      "execution_count": 67,
      "outputs": []
    },
    {
      "cell_type": "markdown",
      "source": [
        "##### Which method have you used to scale you data and why?"
      ],
      "metadata": {
        "id": "yiiVWRdJDDil"
      }
    },
    {
      "cell_type": "markdown",
      "source": [
        "### 7. Dimesionality Reduction"
      ],
      "metadata": {
        "id": "1UUpS68QDMuG"
      }
    },
    {
      "cell_type": "markdown",
      "source": [
        "##### Do you think that dimensionality reduction is needed? Explain Why?"
      ],
      "metadata": {
        "id": "kexQrXU-DjzY"
      }
    },
    {
      "cell_type": "markdown",
      "source": [
        "Answer Here."
      ],
      "metadata": {
        "id": "GGRlBsSGDtTQ"
      }
    },
    {
      "cell_type": "code",
      "source": [
        "# DImensionality Reduction (If needed)"
      ],
      "metadata": {
        "id": "kQfvxBBHDvCa"
      },
      "execution_count": 68,
      "outputs": []
    },
    {
      "cell_type": "markdown",
      "source": [
        "##### Which dimensionality reduction technique have you used and why? (If dimensionality reduction done on dataset.)"
      ],
      "metadata": {
        "id": "T5CmagL3EC8N"
      }
    },
    {
      "cell_type": "markdown",
      "source": [
        "Answer Here."
      ],
      "metadata": {
        "id": "ZKr75IDuEM7t"
      }
    },
    {
      "cell_type": "markdown",
      "source": [
        "### 8. Data Splitting"
      ],
      "metadata": {
        "id": "BhH2vgX9EjGr"
      }
    },
    {
      "cell_type": "code",
      "source": [
        "# Split your data to train and test. Choose Splitting ratio wisely."
      ],
      "metadata": {
        "id": "0CTyd2UwEyNM"
      },
      "execution_count": 69,
      "outputs": []
    },
    {
      "cell_type": "markdown",
      "source": [
        "##### What data splitting ratio have you used and why? "
      ],
      "metadata": {
        "id": "qjKvONjwE8ra"
      }
    },
    {
      "cell_type": "markdown",
      "source": [
        "Answer Here."
      ],
      "metadata": {
        "id": "Y2lJ8cobFDb_"
      }
    },
    {
      "cell_type": "markdown",
      "source": [
        "### 9. Handling Imbalanced Dataset"
      ],
      "metadata": {
        "id": "P1XJ9OREExlT"
      }
    },
    {
      "cell_type": "markdown",
      "source": [
        "##### Do you think the dataset is imbalanced? Explain Why."
      ],
      "metadata": {
        "id": "VFOzZv6IFROw"
      }
    },
    {
      "cell_type": "markdown",
      "source": [
        "Answer Here."
      ],
      "metadata": {
        "id": "GeKDIv7pFgcC"
      }
    },
    {
      "cell_type": "code",
      "source": [
        "# Handling Imbalanced Dataset (If needed)"
      ],
      "metadata": {
        "id": "nQsRhhZLFiDs"
      },
      "execution_count": 70,
      "outputs": []
    },
    {
      "cell_type": "markdown",
      "source": [
        "##### What technique did you use to handle the imbalance dataset and why? (If needed to be balanced)"
      ],
      "metadata": {
        "id": "TIqpNgepFxVj"
      }
    },
    {
      "cell_type": "markdown",
      "source": [
        "Answer Here."
      ],
      "metadata": {
        "id": "qbet1HwdGDTz"
      }
    },
    {
      "cell_type": "markdown",
      "source": [
        "## ***7. ML Model Implementation***"
      ],
      "metadata": {
        "id": "VfCC591jGiD4"
      }
    },
    {
      "cell_type": "markdown",
      "source": [
        "### ML Model - 1"
      ],
      "metadata": {
        "id": "OB4l2ZhMeS1U"
      }
    },
    {
      "cell_type": "code",
      "source": [
        "# ML Model - 1 Implementation\n",
        "\n",
        "# Fit the Algorithm\n",
        "\n",
        "# Predict on the model"
      ],
      "metadata": {
        "id": "7ebyywQieS1U"
      },
      "execution_count": 71,
      "outputs": []
    },
    {
      "cell_type": "markdown",
      "source": [
        "#### 1. Explain the ML Model used and it's performance using Evaluation metric Score Chart."
      ],
      "metadata": {
        "id": "ArJBuiUVfxKd"
      }
    },
    {
      "cell_type": "code",
      "source": [
        "# Visualizing evaluation Metric Score chart"
      ],
      "metadata": {
        "id": "rqD5ZohzfxKe"
      },
      "execution_count": 72,
      "outputs": []
    },
    {
      "cell_type": "markdown",
      "source": [
        "#### 2. Cross- Validation & Hyperparameter Tuning"
      ],
      "metadata": {
        "id": "4qY1EAkEfxKe"
      }
    },
    {
      "cell_type": "code",
      "source": [
        "# ML Model - 1 Implementation with hyperparameter optimization techniques (i.e., GridSearch CV, RandomSearch CV, Bayesian Optimization etc.)\n",
        "\n",
        "# Fit the Algorithm\n",
        "\n",
        "# Predict on the model"
      ],
      "metadata": {
        "id": "Dy61ujd6fxKe"
      },
      "execution_count": 73,
      "outputs": []
    },
    {
      "cell_type": "markdown",
      "source": [
        "##### Which hyperparameter optimization technique have you used and why?"
      ],
      "metadata": {
        "id": "PiV4Ypx8fxKe"
      }
    },
    {
      "cell_type": "markdown",
      "source": [
        "Answer Here."
      ],
      "metadata": {
        "id": "negyGRa7fxKf"
      }
    },
    {
      "cell_type": "markdown",
      "source": [
        "##### Have you seen any improvement? Note down the improvement with updates Evaluation metric Score Chart."
      ],
      "metadata": {
        "id": "TfvqoZmBfxKf"
      }
    },
    {
      "cell_type": "markdown",
      "source": [
        "Answer Here."
      ],
      "metadata": {
        "id": "OaLui8CcfxKf"
      }
    },
    {
      "cell_type": "markdown",
      "source": [
        "### ML Model - 2"
      ],
      "metadata": {
        "id": "dJ2tPlVmpsJ0"
      }
    },
    {
      "cell_type": "markdown",
      "source": [
        "#### 1. Explain the ML Model used and it's performance using Evaluation metric Score Chart."
      ],
      "metadata": {
        "id": "JWYfwnehpsJ1"
      }
    },
    {
      "cell_type": "code",
      "source": [
        "# Visualizing evaluation Metric Score chart"
      ],
      "metadata": {
        "id": "yEl-hgQWpsJ1"
      },
      "execution_count": 74,
      "outputs": []
    },
    {
      "cell_type": "markdown",
      "source": [
        "#### 2. Cross- Validation & Hyperparameter Tuning"
      ],
      "metadata": {
        "id": "-jK_YjpMpsJ2"
      }
    },
    {
      "cell_type": "code",
      "source": [
        "# ML Model - 1 Implementation with hyperparameter optimization techniques (i.e., GridSearch CV, RandomSearch CV, Bayesian Optimization etc.)\n",
        "\n",
        "# Fit the Algorithm\n",
        "\n",
        "# Predict on the model"
      ],
      "metadata": {
        "id": "Dn0EOfS6psJ2"
      },
      "execution_count": 75,
      "outputs": []
    },
    {
      "cell_type": "markdown",
      "source": [
        "##### Which hyperparameter optimization technique have you used and why?"
      ],
      "metadata": {
        "id": "HAih1iBOpsJ2"
      }
    },
    {
      "cell_type": "markdown",
      "source": [
        "Answer Here."
      ],
      "metadata": {
        "id": "9kBgjYcdpsJ2"
      }
    },
    {
      "cell_type": "markdown",
      "source": [
        "##### Have you seen any improvement? Note down the improvement with updates Evaluation metric Score Chart."
      ],
      "metadata": {
        "id": "zVGeBEFhpsJ2"
      }
    },
    {
      "cell_type": "markdown",
      "source": [
        "Answer Here."
      ],
      "metadata": {
        "id": "74yRdG6UpsJ3"
      }
    },
    {
      "cell_type": "markdown",
      "source": [
        "#### 3. Explain each evaluation metric's indication towards business and the business impact pf the ML model used."
      ],
      "metadata": {
        "id": "bmKjuQ-FpsJ3"
      }
    },
    {
      "cell_type": "markdown",
      "source": [
        "Answer Here."
      ],
      "metadata": {
        "id": "BDKtOrBQpsJ3"
      }
    },
    {
      "cell_type": "markdown",
      "source": [
        "### ML Model - 3"
      ],
      "metadata": {
        "id": "Fze-IPXLpx6K"
      }
    },
    {
      "cell_type": "code",
      "source": [
        "# ML Model - 3 Implementation\n",
        "\n",
        "# Fit the Algorithm\n",
        "\n",
        "# Predict on the model"
      ],
      "metadata": {
        "id": "FFrSXAtrpx6M"
      },
      "execution_count": 76,
      "outputs": []
    },
    {
      "cell_type": "markdown",
      "source": [
        "#### 1. Explain the ML Model used and it's performance using Evaluation metric Score Chart."
      ],
      "metadata": {
        "id": "7AN1z2sKpx6M"
      }
    },
    {
      "cell_type": "code",
      "source": [
        "# Visualizing evaluation Metric Score chart"
      ],
      "metadata": {
        "id": "xIY4lxxGpx6M"
      },
      "execution_count": 77,
      "outputs": []
    },
    {
      "cell_type": "markdown",
      "source": [
        "#### 2. Cross- Validation & Hyperparameter Tuning"
      ],
      "metadata": {
        "id": "9PIHJqyupx6M"
      }
    },
    {
      "cell_type": "code",
      "source": [
        "# ML Model - 3 Implementation with hyperparameter optimization techniques (i.e., GridSearch CV, RandomSearch CV, Bayesian Optimization etc.)\n",
        "\n",
        "# Fit the Algorithm\n",
        "\n",
        "# Predict on the model"
      ],
      "metadata": {
        "id": "eSVXuaSKpx6M"
      },
      "execution_count": 78,
      "outputs": []
    },
    {
      "cell_type": "markdown",
      "source": [
        "##### Which hyperparameter optimization technique have you used and why?"
      ],
      "metadata": {
        "id": "_-qAgymDpx6N"
      }
    },
    {
      "cell_type": "markdown",
      "source": [
        "Answer Here."
      ],
      "metadata": {
        "id": "lQMffxkwpx6N"
      }
    },
    {
      "cell_type": "markdown",
      "source": [
        "##### Have you seen any improvement? Note down the improvement with updates Evaluation metric Score Chart."
      ],
      "metadata": {
        "id": "Z-hykwinpx6N"
      }
    },
    {
      "cell_type": "markdown",
      "source": [
        "Answer Here."
      ],
      "metadata": {
        "id": "MzVzZC6opx6N"
      }
    },
    {
      "cell_type": "markdown",
      "source": [
        "### 1. Which Evaluation metrics did you consider for a positive business impact and why?"
      ],
      "metadata": {
        "id": "h_CCil-SKHpo"
      }
    },
    {
      "cell_type": "markdown",
      "source": [
        "Answer Here."
      ],
      "metadata": {
        "id": "jHVz9hHDKFms"
      }
    },
    {
      "cell_type": "markdown",
      "source": [
        "### 2. Which ML model did you choose from the above created models as your final prediction model and why?"
      ],
      "metadata": {
        "id": "cBFFvTBNJzUa"
      }
    },
    {
      "cell_type": "markdown",
      "source": [
        "Answer Here."
      ],
      "metadata": {
        "id": "6ksF5Q1LKTVm"
      }
    },
    {
      "cell_type": "markdown",
      "source": [
        "### 3. Explain the model which you have used and the feature importance using any model explainability tool?"
      ],
      "metadata": {
        "id": "HvGl1hHyA_VK"
      }
    },
    {
      "cell_type": "markdown",
      "source": [
        "Answer Here."
      ],
      "metadata": {
        "id": "YnvVTiIxBL-C"
      }
    },
    {
      "cell_type": "markdown",
      "source": [
        "## ***8.*** ***Future Work (Optional)***"
      ],
      "metadata": {
        "id": "EyNgTHvd2WFk"
      }
    },
    {
      "cell_type": "markdown",
      "source": [
        "### 1. Save the best performing ml model in a pickle file or joblib file format for deployment process.\n"
      ],
      "metadata": {
        "id": "KH5McJBi2d8v"
      }
    },
    {
      "cell_type": "code",
      "source": [
        "# Save the File"
      ],
      "metadata": {
        "id": "bQIANRl32f4J"
      },
      "execution_count": 79,
      "outputs": []
    },
    {
      "cell_type": "markdown",
      "source": [
        "### 2. Again Load the saved model file and try to predict unseen data for a sanity check.\n"
      ],
      "metadata": {
        "id": "iW_Lq9qf2h6X"
      }
    },
    {
      "cell_type": "code",
      "source": [
        "# Load the File and predict unseen data."
      ],
      "metadata": {
        "id": "oEXk9ydD2nVC"
      },
      "execution_count": 80,
      "outputs": []
    },
    {
      "cell_type": "markdown",
      "source": [
        "### ***Congrats! Your model is successfully created and ready for deployment on a live server for a real user interaction !!!***"
      ],
      "metadata": {
        "id": "-Kee-DAl2viO"
      }
    },
    {
      "cell_type": "markdown",
      "source": [
        "# **Conclusion**"
      ],
      "metadata": {
        "id": "gCX9965dhzqZ"
      }
    },
    {
      "cell_type": "markdown",
      "source": [
        "Write the conclusion here."
      ],
      "metadata": {
        "id": "Fjb1IsQkh3yE"
      }
    },
    {
      "cell_type": "markdown",
      "source": [
        "### ***Hurrah! You have successfully completed your Machine Learning Capstone Project !!!***"
      ],
      "metadata": {
        "id": "gIfDvo9L0UH2"
      }
    }
  ]
}